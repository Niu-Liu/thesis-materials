{
 "cells": [
  {
   "cell_type": "markdown",
   "metadata": {},
   "source": [
    "I give a simple statistics of the defining sources in ICRF1 to ICRF3."
   ]
  },
  {
   "cell_type": "code",
   "execution_count": 1,
   "metadata": {},
   "outputs": [],
   "source": [
    "import numpy as np\n",
    "\n",
    "# My modules\n",
    "from my_progs.catalog.read_icrfn import read_icrf1, read_icrf2, read_icrf3"
   ]
  },
  {
   "cell_type": "code",
   "execution_count": 2,
   "metadata": {},
   "outputs": [],
   "source": [
    "# ICRF1 catalog\n",
    "icrf1 = read_icrf1()\n",
    "\n",
    "# ICRF2 catalog\n",
    "icrf2 = read_icrf2()\n",
    "\n",
    "# ICRF3 S/X catalog\n",
    "icrf3sx = read_icrf3(wv=\"sx\")\n",
    "\n",
    "# ICRF3 K catalog\n",
    "icrf3k = read_icrf3(wv=\"k\")\n",
    "\n",
    "# ICRF3 X/Ka catalog\n",
    "icrf3xka = read_icrf3(wv=\"xka\")"
   ]
  },
  {
   "cell_type": "code",
   "execution_count": 3,
   "metadata": {},
   "outputs": [],
   "source": [
    "from astropy.table import join\n",
    "\n",
    "icrf1_icrf3sx = join(icrf3sx, icrf1, keys=\"iers_name\", table_names=[\"icrf3sx\", \"icrf1\"])\n",
    "icrf2_icrf3sx = join(icrf3sx, icrf2, keys=\"iers_name\", table_names=[\"icrf3sx\", \"icrf2\"])\n",
    "\n",
    "\n",
    "mask1 = (icrf1_icrf3sx[\"type_icrf3sx\"] == \"D\") & (icrf1_icrf3sx[\"type_icrf1\"] == \"D\")\n",
    "N1 = len(icrf1_icrf3sx[mask1])\n",
    "\n",
    "mask2 = (icrf2_icrf3sx[\"type_icrf3sx\"] == \"D\") & (icrf2_icrf3sx[\"type_icrf2\"] == \"D\")\n",
    "N2 = len(icrf2_icrf3sx[mask2])\n",
    "\n",
    "# print(N1, N2)"
   ]
  },
  {
   "cell_type": "code",
   "execution_count": 6,
   "metadata": {},
   "outputs": [],
   "source": [
    "num_all = []\n",
    "num_def = []\n",
    "\n",
    "#  Subset of Defining source\n",
    "mask = icrf1[\"type\"] == \"D\"\n",
    "icrf1_def = icrf1[mask]\n",
    "num_all.append(len(icrf1))\n",
    "num_def.append(len(icrf1[mask]))\n",
    "\n",
    "mask = icrf2[\"type\"] == \"D\"\n",
    "icrf2_def = icrf2[mask]\n",
    "num_all.append(len(icrf2))\n",
    "num_def.append(len(icrf2[mask]))\n",
    "\n",
    "mask = icrf3sx[\"type\"] == \"D\"\n",
    "icrf3sx_def = icrf3sx[mask]\n",
    "num_all.append(len(icrf3sx))\n",
    "num_def.append(len(icrf3sx[mask]))\n",
    "\n",
    "mask = icrf3k[\"type\"] == \"D\"\n",
    "icrf3k_def = icrf3k[mask]\n",
    "num_all.append(len(icrf3k))\n",
    "num_def.append(len(icrf3k[mask]))\n",
    "\n",
    "mask = icrf3xka[\"type\"] == \"D\"\n",
    "icrf3xka_def = icrf3xka[mask]\n",
    "num_all.append(len(icrf3xka))\n",
    "num_def.append(len(icrf3xka[mask]))"
   ]
  },
  {
   "cell_type": "code",
   "execution_count": 8,
   "metadata": {},
   "outputs": [],
   "source": [
    "num_all_sou = []\n",
    "num_all_nor = []\n",
    "num_def_sou = []\n",
    "num_def_nor = []\n",
    "\n",
    "# Number of sources in the south/north\n",
    "mask = icrf1[\"dec\"] < 0 \n",
    "numsth = len(icrf1[mask])\n",
    "num_all_sou.append(numsth)\n",
    "num_all_nor.append(len(icrf1) - numsth)\n",
    "\n",
    "mask = icrf1_def[\"dec\"] < 0 \n",
    "numsth = len(icrf1_def[mask])\n",
    "num_def_sou.append(numsth)\n",
    "num_def_nor.append(len(icrf1_def) - numsth)\n",
    "\n",
    "mask = icrf2[\"dec\"] < 0 \n",
    "numsth = len(icrf2[mask])\n",
    "num_all_sou.append(numsth)\n",
    "num_all_nor.append(len(icrf2) - numsth)\n",
    "\n",
    "mask = icrf2_def[\"dec\"] < 0 \n",
    "numsth = len(icrf2_def[mask])\n",
    "num_def_sou.append(numsth)\n",
    "num_def_nor.append(len(icrf2_def) - numsth)\n",
    "\n",
    "mask = icrf3sx[\"dec\"] < 0 \n",
    "numsth = len(icrf3sx[mask])\n",
    "num_all_sou.append(numsth)\n",
    "num_all_nor.append(len(icrf3sx) - numsth)\n",
    "\n",
    "mask = icrf3sx_def[\"dec\"] < 0 \n",
    "numsth = len(icrf3sx_def[mask])\n",
    "num_def_sou.append(numsth)\n",
    "num_def_nor.append(len(icrf3sx_def) - numsth)\n",
    "\n",
    "mask = icrf3k[\"dec\"] < 0 \n",
    "numsth = len(icrf3k[mask])\n",
    "num_all_sou.append(numsth)\n",
    "num_all_nor.append(len(icrf3k) - numsth)\n",
    "\n",
    "mask = icrf3k_def[\"dec\"] < 0 \n",
    "numsth = len(icrf3k_def[mask])\n",
    "num_def_sou.append(numsth)\n",
    "num_def_nor.append(len(icrf3k_def) - numsth)\n",
    "\n",
    "mask = icrf3xka[\"dec\"] < 0 \n",
    "numsth = len(icrf3xka[mask])\n",
    "num_all_sou.append(numsth)\n",
    "num_all_nor.append(len(icrf3xka) - numsth)\n",
    "\n",
    "mask = icrf3xka_def[\"dec\"] < 0 \n",
    "numsth = len(icrf3xka_def[mask])\n",
    "num_def_sou.append(numsth)\n",
    "num_def_nor.append(len(icrf3xka_def) - numsth)"
   ]
  },
  {
   "cell_type": "code",
   "execution_count": 14,
   "metadata": {},
   "outputs": [
    {
     "data": {
      "text/plain": [
       "([266, 1383, 1921, 373, 361],\n",
       " [342, 2031, 2615, 451, 317],\n",
       " [58, 133, 154, 99, 89],\n",
       " [154, 162, 149, 94, 87])"
      ]
     },
     "execution_count": 14,
     "metadata": {},
     "output_type": "execute_result"
    }
   ],
   "source": [
    "num_all_sou, num_all_nor, num_def_sou, num_def_nor"
   ]
  },
  {
   "cell_type": "code",
   "execution_count": 16,
   "metadata": {},
   "outputs": [
    {
     "name": "stdout",
     "output_type": "stream",
     "text": [
      "For catalog ICRF1 there are 608 sources, 266 south and 342 north, 212 defining sources with 58 in the south and 154 in the north\n",
      "For catalog ICRF2 there are 3414 sources, 1383 south and 2031 north, 295 defining sources with 133 in the south and 162 in the north\n",
      "For catalog ICRF3 S/X there are 4536 sources, 1921 south and 2615 north, 303 defining sources with 154 in the south and 149 in the north\n",
      "For catalog ICRF3 K there are 824 sources, 373 south and 451 north, 193 defining sources with 99 in the south and 94 in the north\n",
      "For catalog ICRF3 X/Ka there are 678 sources, 361 south and 317 north, 176 defining sources with 89 in the south and 87 in the north\n"
     ]
    }
   ],
   "source": [
    "names = [\"ICRF1\", \"ICRF2\", \"ICRF3 S/X\", \"ICRF3 K\", \"ICRF3 X/Ka\"]\n",
    "\n",
    "for i in range(len(names)):\n",
    "    print(\"For catalog {} there are {} sources, {} south and {} north, \"\n",
    "          \"{} defining sources with {} in the south and {} in the north\".format(\n",
    "          names[i], num_all[i], num_all_sou[i], num_all_nor[i],\n",
    "          num_def[i], num_def_sou[i], num_def_nor[i]))\n"
   ]
  }
 ],
 "metadata": {
  "hide_input": false,
  "kernelspec": {
   "display_name": "Python 3",
   "language": "python",
   "name": "python3"
  },
  "language_info": {
   "codemirror_mode": {
    "name": "ipython",
    "version": 3
   },
   "file_extension": ".py",
   "mimetype": "text/x-python",
   "name": "python",
   "nbconvert_exporter": "python",
   "pygments_lexer": "ipython3",
   "version": "3.7.3"
  },
  "latex_envs": {
   "LaTeX_envs_menu_present": true,
   "autoclose": false,
   "autocomplete": true,
   "bibliofile": "biblio.bib",
   "cite_by": "apalike",
   "current_citInitial": 1,
   "eqLabelWithNumbers": true,
   "eqNumInitial": 1,
   "hotkeys": {
    "equation": "Ctrl-E",
    "itemize": "Ctrl-I"
   },
   "labels_anchors": false,
   "latex_user_defs": false,
   "report_style_numbering": false,
   "user_envs_cfg": false
  }
 },
 "nbformat": 4,
 "nbformat_minor": 2
}
