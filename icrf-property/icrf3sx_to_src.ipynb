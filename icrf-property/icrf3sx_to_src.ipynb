{
 "cells": [
  {
   "cell_type": "code",
   "execution_count": 2,
   "metadata": {},
   "outputs": [],
   "source": [
    "from astropy.table import Table, join, Column\n",
    "from astropy import units as u\n",
    "import astropy.coordinates as coord\n",
    "from astropy.coordinates import SkyCoord\n",
    "import numpy as np\n",
    "\n",
    "import solve_src \n",
    "from my_progs.catalog.read_icrfn import read_icrf3"
   ]
  },
  {
   "cell_type": "code",
   "execution_count": 4,
   "metadata": {},
   "outputs": [
    {
     "data": {
      "text/html": [
       "<i>Table masked=True length=4536</i>\n",
       "<table id=\"table4676360512\" class=\"table-striped table-bordered table-condensed\">\n",
       "<thead><tr><th>icrf_name</th><th>iers_name</th><th>type</th><th>ra</th><th>dec</th><th>ra_error</th><th>dec_error</th><th>ra_dec_corr</th><th>mean_obs</th><th>pos_error</th><th>beg_obs</th><th>end_obs</th><th>nb_sess</th><th>nb_del</th></tr></thead>\n",
       "<thead><tr><th></th><th></th><th></th><th>deg</th><th>deg</th><th>mas</th><th>mas</th><th></th><th></th><th></th><th></th><th></th><th></th><th></th></tr></thead>\n",
       "<thead><tr><th>str16</th><th>str8</th><th>str1</th><th>float64</th><th>float64</th><th>float64</th><th>float64</th><th>float64</th><th>float64</th><th>float64</th><th>float64</th><th>float64</th><th>int64</th><th>int64</th></tr></thead>\n",
       "<tr><td>J000020.3-322101</td><td>2357-326</td><td>--</td><td>0.08499990025</td><td>-32.350342705972224</td><td>0.1018819152558419</td><td>0.26239999999999997</td><td>-0.0602</td><td>56559.8</td><td>0.26248432591237514</td><td>52306.7</td><td>57776.0</td><td>4</td><td>237</td></tr>\n",
       "<tr><td>J000027.0+030715</td><td>2357+028</td><td>--</td><td>0.11259380737499998</td><td>3.1210128779444446</td><td>0.8883304445189708</td><td>0.34209999999999996</td><td>-0.0119</td><td>57974.7</td><td>0.8883413965937612</td><td>57974.7</td><td>57974.7</td><td>1</td><td>28</td></tr>\n",
       "<tr><td>J000053.0+405401</td><td>2358+406</td><td>--</td><td>0.22117109666666665</td><td>40.900502681055556</td><td>0.170519246717052</td><td>0.26699999999999996</td><td>-0.1654</td><td>56460.2</td><td>0.26942932367783917</td><td>50242.8</td><td>57809.9</td><td>3</td><td>152</td></tr>\n",
       "<tr><td>J000105.3-155107</td><td>2358-161</td><td>--</td><td>0.27220306162499996</td><td>-15.851965341722222</td><td>0.10129550931840807</td><td>0.22609999999999997</td><td>-0.2106</td><td>56338.4</td><td>0.22733864770189094</td><td>50632.3</td><td>58137.6</td><td>4</td><td>316</td></tr>\n",
       "<tr><td>J000107.0+605122</td><td>2358+605</td><td>--</td><td>0.2795825644583333</td><td>60.85633280208334</td><td>0.24676349421345134</td><td>0.19479999999999997</td><td>0.1619</td><td>57160.2</td><td>0.2515606941056636</td><td>52306.7</td><td>57836.8</td><td>3</td><td>172</td></tr>\n",
       "<tr><td>J000108.6+191433</td><td>2358+189</td><td>--</td><td>0.2859231923333333</td><td>19.242722698222224</td><td>0.03682110462165689</td><td>0.0472</td><td>-0.0314</td><td>55771.9</td><td>0.04723602208620724</td><td>50085.5</td><td>58205.8</td><td>168</td><td>3584</td></tr>\n",
       "<tr><td>J000211.9-215309</td><td>2359-221</td><td>--</td><td>0.5499226089166666</td><td>-21.886073762777777</td><td>0.1855389805384662</td><td>0.46729999999999994</td><td>-0.3427</td><td>57436.5</td><td>0.47228145572921587</td><td>54818.7</td><td>57901.9</td><td>3</td><td>103</td></tr>\n",
       "<tr><td>J000315.9-194150</td><td>0000-199</td><td>--</td><td>0.8164558497083333</td><td>-19.697333834694444</td><td>0.1321846666876117</td><td>0.29719999999999996</td><td>-0.1961</td><td>57450.5</td><td>0.29858965139408694</td><td>54088.1</td><td>58137.6</td><td>4</td><td>251</td></tr>\n",
       "<tr><td>J000318.6-192722</td><td>0000-197</td><td>--</td><td>0.8278126181249998</td><td>-19.456209925444444</td><td>0.2043727812594762</td><td>0.4265</td><td>-0.043</td><td>55829.0</td><td>0.4266174244028753</td><td>50632.3</td><td>58137.6</td><td>5</td><td>296</td></tr>\n",
       "<tr><td>...</td><td>...</td><td>...</td><td>...</td><td>...</td><td>...</td><td>...</td><td>...</td><td>...</td><td>...</td><td>...</td><td>...</td><td>...</td><td>...</td></tr>\n",
       "<tr><td>J235753.2-531113</td><td>2355-534</td><td>D</td><td>359.47194187566663</td><td>-53.18713597280555</td><td>0.03496351625011808</td><td>0.0385</td><td>0.1286</td><td>56739.8</td><td>0.03960777440453161</td><td>47626.5</td><td>58101.7</td><td>165</td><td>4895</td></tr>\n",
       "<tr><td>J235809.8+492143</td><td>2355+490</td><td>--</td><td>359.5408896171249</td><td>49.362177540972226</td><td>0.19040033117842323</td><td>0.22849999999999998</td><td>-0.0461</td><td>57665.5</td><td>0.22904243144092734</td><td>57219.8</td><td>57840.3</td><td>2</td><td>174</td></tr>\n",
       "<tr><td>J235810.8-102008</td><td>2355-106</td><td>D</td><td>359.5453433192499</td><td>-10.335725393722223</td><td>0.030988860805238674</td><td>0.0314</td><td>-0.0457</td><td>56571.8</td><td>0.03192828974375789</td><td>47394.1</td><td>58204.3</td><td>768</td><td>24542</td></tr>\n",
       "<tr><td>J235816.9-285334</td><td>2355-291</td><td>--</td><td>359.5707148113749</td><td>-28.892806447555554</td><td>0.18215301718819626</td><td>0.46609999999999996</td><td>-0.0635</td><td>57120.0</td><td>0.46626921411265854</td><td>53560.8</td><td>57771.0</td><td>3</td><td>137</td></tr>\n",
       "<tr><td>J235828.8+043024</td><td>2355+042</td><td>--</td><td>359.62019570283326</td><td>4.506898970444444</td><td>0.11334842587256704</td><td>0.22979999999999998</td><td>0.2369</td><td>56710.1</td><td>0.23181719448916602</td><td>53573.0</td><td>57840.3</td><td>4</td><td>260</td></tr>\n",
       "<tr><td>J235846.0+195520</td><td>2356+196</td><td>--</td><td>359.6920212854583</td><td>19.92230606986111</td><td>0.07417827219346457</td><td>0.08529999999999999</td><td>0.0466</td><td>54412.3</td><td>0.08557933596147392</td><td>50085.5</td><td>57875.7</td><td>5</td><td>388</td></tr>\n",
       "<tr><td>J235859.8+392228</td><td>2356+390</td><td>--</td><td>359.7493965439166</td><td>39.37452936997222</td><td>0.09577664080314209</td><td>0.14239999999999997</td><td>0.0364</td><td>55316.3</td><td>0.14247775266342302</td><td>50242.8</td><td>57809.9</td><td>3</td><td>230</td></tr>\n",
       "<tr><td>J235931.8-063943</td><td>2356-069</td><td>--</td><td>359.88256707925</td><td>-6.662039797916667</td><td>0.12842693142195</td><td>0.19739999999999996</td><td>-0.3782</td><td>57990.9</td><td>0.20615865405683867</td><td>57674.7</td><td>58048.6</td><td>5</td><td>195</td></tr>\n",
       "<tr><td>J235933.1+385042</td><td>2356+385</td><td>D</td><td>359.8882533119583</td><td>38.84508841011111</td><td>0.030842247082975484</td><td>0.031599999999999996</td><td>-0.0546</td><td>55153.7</td><td>0.03214246465445381</td><td>49519.8</td><td>58204.3</td><td>1272</td><td>26649</td></tr>\n",
       "<tr><td>J235935.4-313343</td><td>2357-318</td><td>--</td><td>359.897881414125</td><td>-31.562173523166667</td><td>0.03847108160117668</td><td>0.04939999999999999</td><td>-0.1838</td><td>56655.5</td><td>0.05053685278249677</td><td>52409.7</td><td>58204.3</td><td>235</td><td>4692</td></tr>\n",
       "</table>"
      ],
      "text/plain": [
       "<Table masked=True length=4536>\n",
       "   icrf_name     iers_name type          ra         ... end_obs nb_sess nb_del\n",
       "                                        deg         ...                       \n",
       "     str16          str8   str1       float64       ... float64  int64  int64 \n",
       "---------------- --------- ---- ------------------- ... ------- ------- ------\n",
       "J000020.3-322101  2357-326   --       0.08499990025 ... 57776.0       4    237\n",
       "J000027.0+030715  2357+028   -- 0.11259380737499998 ... 57974.7       1     28\n",
       "J000053.0+405401  2358+406   -- 0.22117109666666665 ... 57809.9       3    152\n",
       "J000105.3-155107  2358-161   -- 0.27220306162499996 ... 58137.6       4    316\n",
       "J000107.0+605122  2358+605   --  0.2795825644583333 ... 57836.8       3    172\n",
       "J000108.6+191433  2358+189   --  0.2859231923333333 ... 58205.8     168   3584\n",
       "J000211.9-215309  2359-221   --  0.5499226089166666 ... 57901.9       3    103\n",
       "J000315.9-194150  0000-199   --  0.8164558497083333 ... 58137.6       4    251\n",
       "J000318.6-192722  0000-197   --  0.8278126181249998 ... 58137.6       5    296\n",
       "             ...       ...  ...                 ... ...     ...     ...    ...\n",
       "J235753.2-531113  2355-534    D  359.47194187566663 ... 58101.7     165   4895\n",
       "J235809.8+492143  2355+490   --   359.5408896171249 ... 57840.3       2    174\n",
       "J235810.8-102008  2355-106    D   359.5453433192499 ... 58204.3     768  24542\n",
       "J235816.9-285334  2355-291   --   359.5707148113749 ... 57771.0       3    137\n",
       "J235828.8+043024  2355+042   --  359.62019570283326 ... 57840.3       4    260\n",
       "J235846.0+195520  2356+196   --   359.6920212854583 ... 57875.7       5    388\n",
       "J235859.8+392228  2356+390   --   359.7493965439166 ... 57809.9       3    230\n",
       "J235931.8-063943  2356-069   --     359.88256707925 ... 58048.6       5    195\n",
       "J235933.1+385042  2356+385    D   359.8882533119583 ... 58204.3    1272  26649\n",
       "J235935.4-313343  2357-318   --    359.897881414125 ... 58204.3     235   4692"
      ]
     },
     "execution_count": 4,
     "metadata": {},
     "output_type": "execute_result"
    }
   ],
   "source": [
    "icrf3_table = read_icrf3(wv=\"sx\")\n",
    "\n",
    "icrf3_table"
   ]
  },
  {
   "cell_type": "code",
   "execution_count": 9,
   "metadata": {},
   "outputs": [],
   "source": [
    "mask = (icrf3_table['type'] == 'D')\n",
    "def_sou_name = np.array(icrf3_table[mask][\"iers_name\"])\n",
    "\n",
    "write_nnrs(soun, list_file)"
   ]
  },
  {
   "cell_type": "code",
   "execution_count": 11,
   "metadata": {},
   "outputs": [],
   "source": [
    "solve_src.write_nnrs(def_sou_name, \"icrf3_def_sou.list\")"
   ]
  },
  {
   "cell_type": "code",
   "execution_count": 17,
   "metadata": {},
   "outputs": [
    {
     "name": "stdout",
     "output_type": "stream",
     "text": [
      "2007.5822496007302\n",
      "2007.5822496007302\n"
     ]
    }
   ],
   "source": [
    "from astropy.time import Time\n",
    "\n",
    "from time import strptime, mktime\n",
    "timestr = '2007.08.02-06:00'\n",
    "\n",
    "ts = mktime(strptime(timestr, \"%Y.%m.%d-%H:%M\"))\n",
    "print(ts / 365.25 / 86400 + 1970.0)\n",
    "\n",
    "t = Time(ts, format='unix', scale='utc')\n",
    "print(t.jyear)"
   ]
  }
 ],
 "metadata": {
  "hide_input": false,
  "kernelspec": {
   "display_name": "Python 3",
   "language": "python",
   "name": "python3"
  },
  "language_info": {
   "codemirror_mode": {
    "name": "ipython",
    "version": 3
   },
   "file_extension": ".py",
   "mimetype": "text/x-python",
   "name": "python",
   "nbconvert_exporter": "python",
   "pygments_lexer": "ipython3",
   "version": "3.7.1"
  }
 },
 "nbformat": 4,
 "nbformat_minor": 2
}
