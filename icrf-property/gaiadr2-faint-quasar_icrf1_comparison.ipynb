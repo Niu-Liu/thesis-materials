{
 "cells": [
  {
   "cell_type": "markdown",
   "metadata": {},
   "source": [
    "This notebook is actually a copy of `gaiadr2_icrf1_comparison.ipynb`, but I limit the Gaia sample to $G<18.7$."
   ]
  },
  {
   "cell_type": "code",
   "execution_count": 1,
   "metadata": {},
   "outputs": [],
   "source": [
    "from astropy.table import Table, join, Column\n",
    "from astropy import units as u\n",
    "import astropy.coordinates as coord\n",
    "from astropy.coordinates import SkyCoord\n",
    "import numpy as np\n",
    "import matplotlib.pyplot as plt\n",
    "%matplotlib inline\n",
    "# %config InlineBackend.figure_format = \"svg\"\n",
    "\n",
    "# My modules\n",
    "from my_progs.catalog.vsh_deg1_cor import vsh_deg01_fitting\n",
    "from my_progs.catalog.vsh_deg2_cor import vsh_deg02_fitting, residual_calc02\n",
    "from my_progs.catalog.pos_diff import nor_sep_calc, pos_diff_calc\n",
    "from my_progs.catalog.pos_err import pos_err_calc\n",
    "from my_progs.catalog.write_output import print_vsh1_corr, print_vsh2_corr\n",
    "from my_progs.stat_func.rms_calc import rms_calc"
   ]
  },
  {
   "cell_type": "code",
   "execution_count": 2,
   "metadata": {},
   "outputs": [],
   "source": [
    "# Read Gaia DR2 IERS quasar data\n",
    "from my_progs.catalog.read_gaia import read_dr2_iers\n",
    "gaiadr2 = read_dr2_iers()\n",
    "\n",
    "# A selection on the G magnitude\n",
    "bgt_mask = (gaiadr2[\"phot_g_mean_mag\"] >= 18.7)\n",
    "gaiadr2 = gaiadr2[bgt_mask]\n",
    "\n",
    "# Read ICRF1 catalog\n",
    "from my_progs.catalog.read_icrf import read_icrf1\n",
    "icrf1 = read_icrf1()\n",
    "\n",
    "# Crossmatch among these three catalogs\n",
    "common_source = join(icrf1, gaiadr2, keys=\"iers_name\", table_names=[\"icrf1\", \"gaiadr2\"]) "
   ]
  },
  {
   "cell_type": "code",
   "execution_count": 3,
   "metadata": {},
   "outputs": [],
   "source": [
    "# The positonal offset for common sources between GaiaDR2 and ICRF2.\n",
    "[dRA, dDC, dRA_err, dDC_err, dRA_dDC_cov,\n",
    " ang_sep, X_a, X_d, X] = pos_diff_calc(\n",
    "    common_source[\"ra_icrf1\"], common_source[\"ra_err_icrf1\"],\n",
    "    common_source[\"dec_icrf1\"], common_source[\"dec_err_icrf1\"],\n",
    "    common_source[\"ra_dec_corr_icrf1\"],\n",
    "    common_source[\"ra_gaiadr2\"], common_source[\"ra_err_gaiadr2\"],\n",
    "    common_source[\"dec_gaiadr2\"], common_source[\"dec_err_gaiadr2\"],\n",
    "    common_source[\"ra_dec_corr_gaiadr2\"])\n",
    "\n",
    "common_source.add_columns(\n",
    "    [dRA, dDC, dRA_err, dDC_err, dRA_dDC_cov, ang_sep, X_a, X_d, X],\n",
    "    names=[\"dra\", \"ddec\", \"dra_err\", \"ddec_err\", \"dra_ddec_cov\",\n",
    "           \"ang_sep\", \"nor_dra\",  \"nor_ddec\", \"nor_sep\"])\n",
    "\n",
    "common_source[\"dra\"].unit = u.mas\n",
    "common_source[\"ddec\"].unit = u.mas\n",
    "common_source[\"dra_err\"].unit = u.mas"
   ]
  },
  {
   "cell_type": "code",
   "execution_count": 4,
   "metadata": {},
   "outputs": [
    {
     "data": {
      "text/html": [
       "<i>Table masked=True length=164</i>\n",
       "<table id=\"table4656677136\" class=\"table-striped table-bordered table-condensed\">\n",
       "<thead><tr><th>icrf_name</th><th>iers_name</th><th>type</th><th>ra_icrf1</th><th>dec_icrf1</th><th>si_s</th><th>si_x</th><th>ra_err_icrf1</th><th>dec_err_icrf1</th><th>pos_err_icrf1</th><th>ra_dec_corr_icrf1</th><th>mean_obs</th><th>beg_obs</th><th>end_obs</th><th>nb_sess</th><th>nb_del</th><th>source_id</th><th>ra_gaiadr2</th><th>ra_err_gaiadr2</th><th>dec_gaiadr2</th><th>dec_err_gaiadr2</th><th>pos_err_gaiadr2</th><th>parallax</th><th>parallax_err</th><th>pmra</th><th>pmra_err</th><th>pmdec</th><th>pmdec_err</th><th>ra_dec_corr_gaiadr2</th><th>ra_parallax_corr</th><th>ra_pmra_corr</th><th>ra_pmdec_corr</th><th>dec_parallax_corr</th><th>dec_pmra_corr</th><th>dec_pmdec_corr</th><th>parallax_pmra_corr</th><th>parallax_pmdec_corr</th><th>pmra_pmdec_corr</th><th>phot_g_mean_mag</th><th>phot_bp_mean_mag</th><th>phot_rp_mean_mag</th><th>dra</th><th>ddec</th><th>dra_err</th><th>ddec_err</th><th>dra_ddec_cov</th><th>ang_sep</th><th>nor_dra</th><th>nor_ddec</th><th>nor_sep</th></tr></thead>\n",
       "<thead><tr><th></th><th></th><th></th><th>deg</th><th>deg</th><th></th><th></th><th>mas</th><th>mas</th><th>mas</th><th></th><th></th><th></th><th></th><th></th><th></th><th></th><th>deg</th><th>mas</th><th>deg</th><th>mas</th><th>mas</th><th>mas</th><th>mas</th><th>mas / yr</th><th>mas / yr</th><th>mas / yr</th><th>mas / yr</th><th></th><th></th><th></th><th></th><th></th><th></th><th></th><th></th><th></th><th></th><th>mag</th><th>mag</th><th>mag</th><th>mas</th><th>mas</th><th>mas</th><th>mas</th><th></th><th>deg</th><th>deg</th><th>deg</th><th>deg</th></tr></thead>\n",
       "<thead><tr><th>str16</th><th>str8</th><th>str1</th><th>float64</th><th>float64</th><th>int64</th><th>int64</th><th>float64</th><th>float64</th><th>float64</th><th>float64</th><th>float64</th><th>float64</th><th>float64</th><th>int64</th><th>int64</th><th>int64</th><th>float64</th><th>float64</th><th>float64</th><th>float64</th><th>float64</th><th>float64</th><th>float64</th><th>float64</th><th>float64</th><th>float64</th><th>float64</th><th>float32</th><th>float32</th><th>float32</th><th>float32</th><th>float32</th><th>float32</th><th>float32</th><th>float32</th><th>float32</th><th>float32</th><th>float32</th><th>float32</th><th>float32</th><th>float64</th><th>float64</th><th>float64</th><th>float64</th><th>float64</th><th>float64</th><th>float64</th><th>float64</th><th>float64</th></tr></thead>\n",
       "<tr><td>J000435.6-473619</td><td>0002-478</td><td>C</td><td>1.1485649833333333</td><td>-47.60544543333334</td><td>--</td><td>--</td><td>0.7989651584169764</td><td>0.97</td><td>0.970368462441557</td><td>0.019</td><td>2449436.0</td><td>2449331.0</td><td>2449525.2</td><td>3</td><td>7</td><td>4978016560925910400</td><td>1.1485644787260738</td><td>0.32535001967377664</td><td>-47.60544549244506</td><td>0.38175267275937685</td><td>0.4046925099699907</td><td>-0.394507921304075</td><td>0.5551341682993441</td><td>0.10766725569112054</td><td>0.5623357858130931</td><td>-0.2990603581366252</td><td>0.6935629455335646</td><td>-0.2602696</td><td>0.38209838</td><td>-0.3261622</td><td>-0.043664124</td><td>-0.36382514</td><td>0.12289763</td><td>-0.07530141</td><td>-0.16826801</td><td>-0.2654429</td><td>-0.06584475</td><td>19.847563</td><td>19.998808</td><td>19.225542</td><td>1.2248008680027802</td><td>0.21280219186792237</td><td>0.8626690904779137</td><td>1.0424179119522687</td><td>-0.01760140111750944</td><td>1.2431500066863033</td><td>1.4197806337587076</td><td>0.20414287727402977</td><td>1.4386070836147198</td></tr>\n",
       "<tr><td>J001101.2-261233</td><td>0008-264</td><td>C</td><td>2.7551947999999995</td><td>-26.209271349999998</td><td>--</td><td>--</td><td>0.47102313058519535</td><td>0.39999999999999997</td><td>0.5264251833925705</td><td>-0.427</td><td>2448892.9</td><td>2447686.6</td><td>2449791.2</td><td>7</td><td>38</td><td>2335249516418438272</td><td>2.7551948192602023</td><td>0.26474200864756736</td><td>-26.209271412091674</td><td>0.19152239774407323</td><td>0.2648242736959451</td><td>0.48838471517326665</td><td>0.33995235834184195</td><td>-0.3814735727827663</td><td>0.4874481854801042</td><td>-0.7575069949813538</td><td>0.39611172288816077</td><td>0.02380841</td><td>0.26370704</td><td>0.4832799</td><td>-0.14790614</td><td>-0.008249272</td><td>-0.09487959</td><td>0.23874593</td><td>-0.05463864</td><td>-0.37078896</td><td>0.17084321</td><td>18.927097</td><td>18.99775</td><td>18.506237</td><td>-0.06220800687458062</td><td>0.22353003288344553</td><td>0.5403250139397829</td><td>0.4434871236435608</td><td>-0.07924356848541278</td><td>0.23202480841535483</td><td>-0.11513071812276574</td><td>0.5040282365967877</td><td>0.5069793361418949</td></tr>\n",
       "<tr><td>J001331.1+405137</td><td>0010+405</td><td>D</td><td>3.379709220833333</td><td>40.86031779722222</td><td>2</td><td>1</td><td>0.29495963311504103</td><td>0.33999999999999997</td><td>0.34073318132559427</td><td>-0.038</td><td>2449550.1</td><td>2448435.2</td><td>2449821.0</td><td>7</td><td>219</td><td>383084664461521536</td><td>3.379709059533647</td><td>0.30642273194190933</td><td>40.86031817758646</td><td>0.18262136689914535</td><td>0.308104947689734</td><td>0.015450318433697707</td><td>0.35624755363875243</td><td>0.7872298627334215</td><td>0.5711080651114665</td><td>-0.2178478450070414</td><td>0.2812835079111348</td><td>-0.14257787</td><td>0.3022634</td><td>-0.31667477</td><td>0.19280086</td><td>-0.09837172</td><td>0.18864177</td><td>-0.4105155</td><td>-0.2648572</td><td>0.19643839</td><td>-0.21485445</td><td>19.07663</td><td>19.004562</td><td>17.54357</td><td>0.439171349718924</td><td>-1.3693112435930743</td><td>0.4253187931635549</td><td>0.38594114013423375</td><td>-0.011789441794793543</td><td>1.4380141710860688</td><td>1.032569820045648</td><td>-3.5479794745820974</td><td>3.6326553443164165</td></tr>\n",
       "<tr><td>J001611.0-001512</td><td>0013-005</td><td>C</td><td>4.046202312499999</td><td>-0.2534570388888889</td><td>--</td><td>--</td><td>0.29999706468982845</td><td>0.36999999999999994</td><td>0.438129719663334</td><td>-0.675</td><td>2448920.8</td><td>2447394.6</td><td>2449612.4</td><td>27</td><td>116</td><td>2545226894107313280</td><td>4.04620223886711</td><td>0.5199497615091785</td><td>-0.2534567177719667</td><td>0.40458852429884573</td><td>0.5693752180307423</td><td>-0.2668020919110768</td><td>0.5850124781518719</td><td>0.7958618246788018</td><td>1.2942813415451033</td><td>0.4021532440687492</td><td>0.9046718137399743</td><td>0.44188738</td><td>0.2626055</td><td>0.031097455</td><td>-0.2671943</td><td>0.13440219</td><td>-0.21924527</td><td>-0.4057419</td><td>0.058564566</td><td>-0.038882617</td><td>0.3014373</td><td>19.783754</td><td>20.087801</td><td>19.018677</td><td>0.2650758072051452</td><td>-1.1560209197902793</td><td>0.600288258519159</td><td>0.5482625958373575</td><td>0.018033683802390857</td><td>1.1860225759057974</td><td>0.44158086293251214</td><td>-2.108516846794367</td><td>2.1810905344130735</td></tr>\n",
       "<tr><td>J002232.4+060804</td><td>0019+058</td><td>O</td><td>5.635171929166666</td><td>6.134519286111112</td><td>--</td><td>--</td><td>2.565226254899402</td><td>3.51</td><td>3.51</td><td>0.0</td><td>2449128.4</td><td>2447394.6</td><td>2449791.2</td><td>18</td><td>51</td><td>2747621627293362304</td><td>5.6351718325254945</td><td>0.2820406941995518</td><td>6.134519066344285</td><td>0.15141127714993433</td><td>0.28888701503047226</td><td>0.315223327002875</td><td>0.32396885791974783</td><td>-0.3261346661441481</td><td>0.6080280650155655</td><td>-0.1411610437900288</td><td>0.3718208608123674</td><td>0.36019337</td><td>0.44707683</td><td>0.3062329</td><td>-0.072414495</td><td>0.22008646</td><td>0.018504597</td><td>0.022160355</td><td>-0.37049526</td><td>-0.3237797</td><td>0.35177323</td><td>18.874916</td><td>19.10336</td><td>18.059752</td><td>0.345916005294517</td><td>0.7911605770516417</td><td>2.5806845394216196</td><td>3.513264205101599</td><td>0.01538174879371123</td><td>0.8634772384953775</td><td>0.13404040672559048</td><td>0.2251924509129715</td><td>0.2618706726456979</td></tr>\n",
       "<tr><td>J003824.8+413706</td><td>0035+413</td><td>C</td><td>9.603515054166666</td><td>41.618333525</td><td>--</td><td>--</td><td>0.5943305590447039</td><td>0.6599999999999999</td><td>0.7117509396019434</td><td>-0.266</td><td>2449423.4</td><td>2449423.4</td><td>2449423.4</td><td>1</td><td>19</td><td>381436904551687680</td><td>9.603515302171324</td><td>0.8356790749583627</td><td>41.618333398433116</td><td>0.6220811301819872</td><td>0.8591491703115967</td><td>-0.08589610947377818</td><td>1.2344283860506582</td><td>1.3521801261735673</td><td>1.4919835380073574</td><td>-0.7499308646511711</td><td>1.2300306919787904</td><td>-0.22734296</td><td>0.487159</td><td>-0.21443358</td><td>0.047137566</td><td>-0.58255243</td><td>-0.287323</td><td>-0.45499066</td><td>0.15185484</td><td>0.52080286</td><td>0.3224024</td><td>20.437433</td><td>20.656157</td><td>19.7407</td><td>-0.6674569692855514</td><td>0.45564077311155415</td><td>1.025469809276536</td><td>0.9069646809708184</td><td>-0.22252722750389664</td><td>0.808150555261548</td><td>-0.6508792001945324</td><td>0.5023798419844029</td><td>0.7423658218579907</td></tr>\n",
       "<tr><td>J004204.5+232001</td><td>0039+230</td><td>D</td><td>10.518938262499999</td><td>23.33362813611111</td><td>--</td><td>--</td><td>0.4958355972206724</td><td>0.5999999999999999</td><td>0.6049532872572495</td><td>0.09</td><td>2448898.6</td><td>2448329.0</td><td>2449534.3</td><td>3</td><td>44</td><td>2803291653354633600</td><td>10.518937945495258</td><td>1.0481302221576416</td><td>23.33362878440215</td><td>0.9045227387177295</td><td>1.1038364412475916</td><td>-2.471091165892228</td><td>1.0847284187871418</td><td>0.3707137678127458</td><td>2.7092333546968885</td><td>-2.5363465399380916</td><td>2.3561104008686784</td><td>0.23105967</td><td>-0.34946403</td><td>-0.729227</td><td>-0.24778171</td><td>-0.33705726</td><td>-0.33830467</td><td>-0.8834398</td><td>0.53348124</td><td>0.44254777</td><td>0.4554779</td><td>20.503805</td><td>20.737585</td><td>19.950558</td><td>1.0478815661115193</td><td>-2.3338477518564105</td><td>1.1594955377539873</td><td>1.085431427984938</td><td>0.24583300328027888</td><td>2.5583004329909245</td><td>0.9037391969108644</td><td>-2.150156787139571</td><td>2.5386886683327248</td></tr>\n",
       "<tr><td>J010645.1-403419</td><td>0104-408</td><td>O</td><td>16.687949870833336</td><td>-40.57221121111112</td><td>--</td><td>--</td><td>1.7090704064931284</td><td>2.5899999999999994</td><td>2.5899999999999994</td><td>0.0</td><td>2449400.2</td><td>2447511.6</td><td>2449918.3</td><td>116</td><td>719</td><td>4987866638923004416</td><td>16.687949763947</td><td>0.2709181045704574</td><td>-40.572211253286284</td><td>0.27128092665007886</td><td>0.2846307039810249</td><td>-0.33481771548013944</td><td>0.4088170512867226</td><td>0.4727894898486125</td><td>0.40340322838707066</td><td>-0.09754443448233399</td><td>0.6477255927330358</td><td>0.10230659</td><td>0.23952742</td><td>-0.7745958</td><td>-0.2730874</td><td>0.19404083</td><td>-0.14247815</td><td>-0.6288922</td><td>-0.17743154</td><td>-0.33255738</td><td>0.1790857</td><td>19.441048</td><td>19.710012</td><td>18.370268</td><td>0.2922820385646943</td><td>0.15183059929313458</td><td>1.7304098571536848</td><td>2.604168454836231</td><td>0.007519014042238888</td><td>0.32936502690669184</td><td>0.1689091386970385</td><td>0.058302910094455776</td><td>0.17859661694153764</td></tr>\n",
       "<tr><td>J012156.8+042224</td><td>0119+041</td><td>C</td><td>20.486923741666665</td><td>4.373537327777777</td><td>2</td><td>1</td><td>0.2542574602446797</td><td>0.25999999999999995</td><td>0.30561329021122835</td><td>0.412</td><td>2448823.4</td><td>2446978.4</td><td>2449912.3</td><td>1050</td><td>23707</td><td>2563396667354026496</td><td>20.48692356758665</td><td>0.5830917397433599</td><td>4.373537387960153</td><td>0.3646527090414317</td><td>0.5831531708725336</td><td>-1.3201029104896043</td><td>0.6780685377940919</td><td>0.5470339979391455</td><td>0.9183891428947322</td><td>0.777338573589167</td><td>0.6263683359943203</td><td>0.018115848</td><td>0.6559615</td><td>-0.013191511</td><td>0.08799478</td><td>-0.2422049</td><td>0.18181647</td><td>0.35059756</td><td>-0.06600229</td><td>0.0055828043</td><td>0.39515153</td><td>19.627077</td><td>19.678913</td><td>19.028763</td><td>0.6248631859987324</td><td>-0.21665655189906374</td><td>0.6361154243115105</td><td>0.44785220576799106</td><td>0.031087959185932386</td><td>0.661357741844214</td><td>0.9823110116769189</td><td>-0.4837679687823224</td><td>1.14820724039235</td></tr>\n",
       "<tr><td>...</td><td>...</td><td>...</td><td>...</td><td>...</td><td>...</td><td>...</td><td>...</td><td>...</td><td>...</td><td>...</td><td>...</td><td>...</td><td>...</td><td>...</td><td>...</td><td>...</td><td>...</td><td>...</td><td>...</td><td>...</td><td>...</td><td>...</td><td>...</td><td>...</td><td>...</td><td>...</td><td>...</td><td>...</td><td>...</td><td>...</td><td>...</td><td>...</td><td>...</td><td>...</td><td>...</td><td>...</td><td>...</td><td>...</td><td>...</td><td>...</td><td>...</td><td>...</td><td>...</td><td>...</td><td>...</td><td>...</td><td>...</td><td>...</td><td>...</td></tr>\n",
       "<tr><td>J223036.4+694628</td><td>2229+695</td><td>D</td><td>337.65195718749993</td><td>69.77446582777777</td><td>--</td><td>--</td><td>0.3681879757521953</td><td>0.33999999999999997</td><td>0.38480113455230264</td><td>0.161</td><td>2448418.5</td><td>2447460.3</td><td>2449600.8</td><td>16</td><td>95</td><td>2226346600541409536</td><td>337.65195685902034</td><td>0.47822508176295514</td><td>69.7744657297371</td><td>0.4019372842474273</td><td>0.5150075475965197</td><td>0.4271913330536855</td><td>0.4925917995772941</td><td>-0.39670467609904186</td><td>1.0455672262466278</td><td>0.8299580305898235</td><td>0.8638852284250464</td><td>0.32018507</td><td>0.31343758</td><td>0.18361928</td><td>0.31139094</td><td>0.16252202</td><td>0.18209405</td><td>0.055717282</td><td>-0.254493</td><td>0.06586519</td><td>0.5356776</td><td>20.103077</td><td>20.698704</td><td>19.230934</td><td>0.40881881943095744</td><td>0.35294642088956607</td><td>0.6035408969702751</td><td>0.5264537780928134</td><td>0.08169945938860684</td><td>0.5400962906183271</td><td>0.6773672198241971</td><td>0.670422429426163</td><td>0.8500154761684591</td></tr>\n",
       "<tr><td>J225536.7+420252</td><td>2253+417</td><td>C</td><td>343.9029493416666</td><td>42.04792571111111</td><td>--</td><td>--</td><td>0.3007468697598997</td><td>0.30999999999999994</td><td>0.3273779737826465</td><td>-0.146</td><td>2448127.8</td><td>2447006.3</td><td>2449663.3</td><td>46</td><td>266</td><td>1931311553081290240</td><td>343.90294933318694</td><td>0.17349440543346553</td><td>42.047925754289956</td><td>0.18303040740490267</td><td>0.1839017454651484</td><td>0.2552232405578279</td><td>0.25087758062572957</td><td>-0.22897032876330672</td><td>0.34056474557757593</td><td>0.6560773938090596</td><td>0.3378080715052093</td><td>0.03434174</td><td>0.10810929</td><td>-0.4282339</td><td>-0.03572443</td><td>0.19058616</td><td>-0.11942693</td><td>-0.038835406</td><td>-0.19734001</td><td>0.043078903</td><td>-0.10386404</td><td>18.86867</td><td>19.16494</td><td>18.30851</td><td>0.022668758822825114</td><td>-0.15544383700216713</td><td>0.34720165377931284</td><td>0.36000018060385</td><td>-0.012521289855406587</td><td>0.1570880615722395</td><td>0.0652898929946738</td><td>-0.43178821949875645</td><td>0.43235579000899615</td></tr>\n",
       "<tr><td>J231409.3-445549</td><td>2311-452</td><td>C</td><td>348.5390950958333</td><td>-44.93034383888889</td><td>--</td><td>--</td><td>3.3982363626969114</td><td>2.5899999999999994</td><td>3.4260434814712974</td><td>0.111</td><td>2448863.8</td><td>2448162.9</td><td>2449331.0</td><td>2</td><td>10</td><td>6529461037182762752</td><td>348.53909493029767</td><td>0.32807277726739764</td><td>-44.93034411324883</td><td>0.528674779132845</td><td>0.552797487118662</td><td>-0.2560324944397004</td><td>1.075637293583926</td><td>0.11883287234041051</td><td>0.8749810602938831</td><td>0.07261729375584686</td><td>1.3368470436272097</td><td>0.41432709</td><td>-0.45902857</td><td>0.62367976</td><td>0.44456193</td><td>-0.3485871</td><td>0.34944397</td><td>0.30521467</td><td>-0.61819786</td><td>-0.7883432</td><td>0.61398315</td><td>19.827448</td><td>19.972023</td><td>19.319675</td><td>0.42189695584991704</td><td>0.9876957875576409</td><td>3.4140360460808665</td><td>2.6434063293582315</td><td>1.0488214372486035</td><td>1.0740297994536907</td><td>0.12357718259425893</td><td>0.37364508686692693</td><td>0.38226059233325144</td></tr>\n",
       "<tr><td>J232225.9+505751</td><td>2320+506</td><td>D</td><td>350.6082589958333</td><td>50.96443436388889</td><td>3</td><td>1</td><td>0.3873286441277864</td><td>0.43999999999999995</td><td>0.4400914677596287</td><td>-0.011</td><td>2449022.0</td><td>2448721.4</td><td>2449499.3</td><td>2</td><td>44</td><td>1991471950271651840</td><td>350.60825930282425</td><td>0.2465585265002708</td><td>50.96443443925327</td><td>0.19694650105068817</td><td>0.24742767504833496</td><td>0.17242291213286143</td><td>0.3242012615030586</td><td>0.1488811787408857</td><td>0.45567992381825345</td><td>-0.061912391221831564</td><td>0.3973617410671917</td><td>-0.063910946</td><td>0.46453962</td><td>-0.45077446</td><td>-0.06580194</td><td>0.02062418</td><td>-0.08301153</td><td>-0.08821346</td><td>-0.27305603</td><td>-0.06979796</td><td>-0.1946404</td><td>19.258871</td><td>19.568802</td><td>18.622131</td><td>-0.6960374077162347</td><td>-0.2713117538633014</td><td>0.4591454949706619</td><td>0.48206630692894176</td><td>-0.00497811199315954</td><td>0.7470462774987346</td><td>-1.5159408408454698</td><td>-0.5628100324864516</td><td>1.6292797452892591</td></tr>\n",
       "<tr><td>J232747.9-144755</td><td>2325-150</td><td>C</td><td>351.94985106249993</td><td>-14.798819502777778</td><td>--</td><td>--</td><td>0.739623918391457</td><td>1.02</td><td>1.0627873247012765</td><td>0.302</td><td>2448034.7</td><td>2447177.0</td><td>2449535.5</td><td>2</td><td>11</td><td>2408041584223442816</td><td>351.94985148441685</td><td>0.37993536885668333</td><td>-14.798819371625788</td><td>0.3875210828039827</td><td>0.42353198658680813</td><td>-0.03128072678651649</td><td>0.4656403259218331</td><td>0.19986860121269018</td><td>0.7730447806135445</td><td>0.24365708203567243</td><td>0.7962853987130439</td><td>0.21724366</td><td>0.41936272</td><td>-0.01703123</td><td>-0.2068048</td><td>-0.20562515</td><td>-0.20403461</td><td>-0.23194227</td><td>0.0052975407</td><td>-0.088981345</td><td>0.38192564</td><td>19.32091</td><td>19.483383</td><td>18.83551</td><td>-1.468516930010244</td><td>-0.4721471661639498</td><td>0.8315013079755177</td><td>1.091133625921945</td><td>0.2598191796138054</td><td>1.5425514319604907</td><td>-1.7661029705241094</td><td>-0.43271250646776893</td><td>1.7677479097444688</td></tr>\n",
       "<tr><td>J233040.8+110018</td><td>2328+107</td><td>C</td><td>352.6702177166666</td><td>11.005197141666667</td><td>--</td><td>--</td><td>0.29448296149596614</td><td>0.32</td><td>0.3770136191818914</td><td>-0.498</td><td>2448251.4</td><td>2446978.4</td><td>2449612.4</td><td>27</td><td>157</td><td>2762604878403989888</td><td>352.6702177824156</td><td>0.41429361819871174</td><td>11.005197107299557</td><td>0.270941403349985</td><td>0.4301725665842026</td><td>-0.03512512546216907</td><td>0.4558688213436298</td><td>1.0737840957591713</td><td>0.9702085796263299</td><td>0.552912841991051</td><td>0.4880251023240397</td><td>0.34468845</td><td>0.10406774</td><td>-0.4249739</td><td>-0.30749297</td><td>-0.35441834</td><td>-0.40669852</td><td>-0.15336418</td><td>0.29613975</td><td>-0.051643945</td><td>0.33589977</td><td>19.170654</td><td>19.45897</td><td>18.532022</td><td>-0.23234339421898048</td><td>0.12372159616802492</td><td>0.5082906812952748</td><td>0.4192961293039315</td><td>-0.008237769997655138</td><td>0.26323086102423554</td><td>-0.4571073261207561</td><td>0.2950697312026554</td><td>0.5348025787330969</td></tr>\n",
       "<tr><td>J233757.3-023057</td><td>2335-027</td><td>C</td><td>354.4889128458333</td><td>-2.5160081194444444</td><td>3</td><td>1</td><td>1.4386118336299696</td><td>7.839999999999999</td><td>7.908475540982136</td><td>-0.716</td><td>2448730.4</td><td>2447941.8</td><td>2449600.8</td><td>24</td><td>40</td><td>2639666765315416448</td><td>354.48891290974467</td><td>0.385075419617306</td><td>-2.5160080164182554</td><td>0.22498289077742264</td><td>0.3872788277155713</td><td>-0.4812487514357988</td><td>0.493112084948454</td><td>-0.30747221902732524</td><td>0.8068489235357064</td><td>0.15941923843269737</td><td>0.39007345876470273</td><td>0.15010074</td><td>0.26416644</td><td>-0.48207614</td><td>-0.25262552</td><td>-0.4253793</td><td>-0.29385114</td><td>-0.03441007</td><td>0.22288671</td><td>-0.54804194</td><td>-0.09450632</td><td>19.100044</td><td>19.240416</td><td>18.520231</td><td>-0.22985919196619217</td><td>-0.3708942800884074</td><td>1.4892572264903157</td><td>7.843227479879858</td><td>-8.062557176752321</td><td>0.4363459809986209</td><td>-0.1543448558634118</td><td>-0.047288476719546675</td><td>0.26271294042721133</td></tr>\n",
       "<tr><td>J235421.6+455304</td><td>2351+456</td><td>O</td><td>358.5903344791666</td><td>45.884510191666664</td><td>--</td><td>--</td><td>1.0023939580014523</td><td>1.27</td><td>1.27</td><td>0.0</td><td>2448370.6</td><td>2447011.9</td><td>2449663.3</td><td>29</td><td>172</td><td>1927119325700619520</td><td>358.5903342320278</td><td>1.39309475662538</td><td>45.88451064719807</td><td>1.1604676214052376</td><td>1.5303285133444786</td><td>0.07272744792622636</td><td>1.4664069126274226</td><td>1.9488855184992058</td><td>2.185899730571533</td><td>-0.6020301131758019</td><td>2.121042348461379</td><td>0.39086092</td><td>0.6067581</td><td>-0.20379017</td><td>-0.044012513</td><td>0.12231644</td><td>-0.23437402</td><td>-0.58012813</td><td>-0.25193134</td><td>0.13885045</td><td>0.4251534</td><td>20.839323</td><td>21.27384</td><td>19.82888</td><td>0.6193259931615746</td><td>-1.6399130629451975</td><td>1.7162478399039411</td><td>1.7203444714155156</td><td>0.63188192095188</td><td>1.752963074289892</td><td>0.3608604647661135</td><td>-0.9532469166456307</td><td>1.1149309668956011</td></tr>\n",
       "<tr><td>J235753.2-531113</td><td>2355-534</td><td>C</td><td>359.4719421791666</td><td>-53.187135925</td><td>--</td><td>--</td><td>0.3595220183968665</td><td>0.48</td><td>0.48905825187160545</td><td>0.18</td><td>2448517.3</td><td>2447627.0</td><td>2449791.2</td><td>18</td><td>81</td><td>6521373648123690752</td><td>359.4719416213655</td><td>0.12014592035167172</td><td>-53.18713599970871</td><td>0.12934814562092342</td><td>0.142284498229031</td><td>-0.43224461610391285</td><td>0.23119595273831342</td><td>0.04937268847244068</td><td>0.2390585622847201</td><td>0.15459976938193157</td><td>0.26938416963154255</td><td>-0.29074323</td><td>0.26899406</td><td>0.08389334</td><td>-0.10656354</td><td>-0.04506682</td><td>0.015091062</td><td>-0.0119688045</td><td>0.18137583</td><td>-0.47678226</td><td>-0.28519723</td><td>18.812849</td><td>18.973099</td><td>18.330183</td><td>1.203250697493342</td><td>0.26895135079030297</td><td>0.3790661207352974</td><td>0.4971226637114542</td><td>0.026544363002734536</td><td>1.23294244395679</td><td>3.1742501681746815</td><td>0.5410160719335276</td><td>3.1756663781454435</td></tr>\n",
       "<tr><td>J235933.1+385042</td><td>2356+385</td><td>C</td><td>359.88825323749995</td><td>38.845088322222225</td><td>--</td><td>--</td><td>0.9930268959437162</td><td>1.44</td><td>1.4855332719114824</td><td>-0.282</td><td>2449520.3</td><td>2449520.3</td><td>2449520.3</td><td>1</td><td>4</td><td>2881745587567781760</td><td>359.88825312006725</td><td>0.3122550702098679</td><td>38.845088418055596</td><td>0.14957294662511464</td><td>0.3125311707784482</td><td>-0.3226471676095256</td><td>0.3998854411416378</td><td>0.07389660333602562</td><td>0.409974227884268</td><td>-0.32793487771015584</td><td>0.2512880415967207</td><td>-0.07716936</td><td>0.7154714</td><td>-0.5760371</td><td>0.13291238</td><td>-0.12518246</td><td>0.07583458</td><td>-0.20194124</td><td>-0.43976322</td><td>0.11922228</td><td>-0.20147415</td><td>18.92799</td><td>19.181053</td><td>18.476099</td><td>0.3292625925565406</td><td>-0.34500013725846657</td><td>1.0409638057777906</td><td>1.4477472384232404</td><td>-0.4068525499323862</td><td>0.47690559816950695</td><td>0.3163055148786092</td><td>-0.23830136097113921</td><td>0.35393302357756995</td></tr>\n",
       "</table>"
      ],
      "text/plain": [
       "<Table masked=True length=164>\n",
       "   icrf_name     iers_name type ...        nor_ddec             nor_sep      \n",
       "                                ...          deg                  deg        \n",
       "     str16          str8   str1 ...        float64              float64      \n",
       "---------------- --------- ---- ... --------------------- -------------------\n",
       "J000435.6-473619  0002-478    C ...   0.20414287727402977  1.4386070836147198\n",
       "J001101.2-261233  0008-264    C ...    0.5040282365967877  0.5069793361418949\n",
       "J001331.1+405137  0010+405    D ...   -3.5479794745820974  3.6326553443164165\n",
       "J001611.0-001512  0013-005    C ...    -2.108516846794367  2.1810905344130735\n",
       "J002232.4+060804  0019+058    O ...    0.2251924509129715  0.2618706726456979\n",
       "J003824.8+413706  0035+413    C ...    0.5023798419844029  0.7423658218579907\n",
       "J004204.5+232001  0039+230    D ...    -2.150156787139571  2.5386886683327248\n",
       "J010645.1-403419  0104-408    O ...  0.058302910094455776 0.17859661694153764\n",
       "J012156.8+042224  0119+041    C ...   -0.4837679687823224    1.14820724039235\n",
       "             ...       ...  ... ...                   ...                 ...\n",
       "J223036.4+694628  2229+695    D ...     0.670422429426163  0.8500154761684591\n",
       "J225536.7+420252  2253+417    C ...  -0.43178821949875645 0.43235579000899615\n",
       "J231409.3-445549  2311-452    C ...   0.37364508686692693 0.38226059233325144\n",
       "J232225.9+505751  2320+506    D ...   -0.5628100324864516  1.6292797452892591\n",
       "J232747.9-144755  2325-150    C ...  -0.43271250646776893  1.7677479097444688\n",
       "J233040.8+110018  2328+107    C ...    0.2950697312026554  0.5348025787330969\n",
       "J233757.3-023057  2335-027    C ... -0.047288476719546675 0.26271294042721133\n",
       "J235421.6+455304  2351+456    O ...   -0.9532469166456307  1.1149309668956011\n",
       "J235753.2-531113  2355-534    C ...    0.5410160719335276  3.1756663781454435\n",
       "J235933.1+385042  2356+385    C ...  -0.23830136097113921 0.35393302357756995"
      ]
     },
     "execution_count": 4,
     "metadata": {},
     "output_type": "execute_result"
    }
   ],
   "source": [
    "common_source"
   ]
  },
  {
   "cell_type": "code",
   "execution_count": 5,
   "metadata": {},
   "outputs": [],
   "source": [
    "# Seperate the sources into the \"defining \",\"Candidates\", and \"Others\".\n",
    "# Defining sources\n",
    "mask_def = (common_source[\"type\"] == \"D\")\n",
    "com_def = common_source[mask_def]\n",
    "\n",
    "# Candidate sources\n",
    "mask_can = (common_source[\"type\"] == \"C\")\n",
    "com_can = common_source[mask_can]\n",
    "\n",
    "# Other sources\n",
    "mask_oth =  (common_source[\"type\"] == \"O\")\n",
    "com_oth = common_source[mask_oth]"
   ]
  },
  {
   "cell_type": "code",
   "execution_count": 6,
   "metadata": {},
   "outputs": [
    {
     "data": {
      "image/png": "[encoded data removed]",
      "text/plain": [
       "<Figure size 576x288 with 2 Axes>"
      ]
     },
     "metadata": {
      "needs_background": "light"
     },
     "output_type": "display_data"
    }
   ],
   "source": [
    "# Difference in RA and decl.\n",
    "bins_array = np.linspace(-5, 5, 100)\n",
    "weights = np.ones_like(dRA) * 100. / dRA.size\n",
    "\n",
    "fig, (ax0, ax1) = plt.subplots(figsize=(8, 4), ncols=2)\n",
    "ax0.hist(dRA, bins_array, weights=weights, facecolor=\"g\", alpha=0.75)\n",
    "ax1.hist(dDC, bins_array, weights=weights, facecolor=\"g\", alpha=0.75)\n",
    "\n",
    "ax0.set_yticks(np.arange(0, 11, 2))\n",
    "ax1.set_yticks(np.arange(0, 11, 2))\n",
    "\n",
    "ax0.set_ylim([0, 11])\n",
    "ax1.set_ylim([0, 11])\n",
    "\n",
    "ax0.set_xlabel(\"$\\Delta\\\\alpha*$ (mas)\")\n",
    "ax1.set_xlabel(\"$\\Delta\\\\delta$ (mas)\")\n",
    "\n",
    "ax0.set_ylabel(\"% in bin\")\n",
    "ax1.set_ylabel(\"% in bin\")\n",
    "\n",
    "fig.tight_layout()\n",
    "plt.show()"
   ]
  },
  {
   "cell_type": "code",
   "execution_count": 7,
   "metadata": {},
   "outputs": [
    {
     "data": {
      "text/plain": [
       "(12.973459702927004, 5.5804640313850715, 3.0228652190243017, 2.487304801924325)"
      ]
     },
     "execution_count": 7,
     "metadata": {},
     "output_type": "execute_result"
    }
   ],
   "source": [
    "std_ra = np.std(dRA)\n",
    "std_dec = np.std(dDC)\n",
    "_, wrms_ra, _ = rms_calc(dRA, dRA_err)\n",
    "_, wrms_dec, _ = rms_calc(dDC, dDC_err)\n",
    "\n",
    "std_ra, std_dec, wrms_ra, wrms_dec"
   ]
  },
  {
   "cell_type": "code",
   "execution_count": 8,
   "metadata": {},
   "outputs": [
    {
     "data": {
      "image/png": "[encoded data removed]",
      "text/plain": [
       "<Figure size 576x288 with 2 Axes>"
      ]
     },
     "metadata": {
      "needs_background": "light"
     },
     "output_type": "display_data"
    }
   ],
   "source": [
    "# Normalized difference in RA and decl.\n",
    "from scipy import stats\n",
    "bins_array = np.linspace(-10, 10, 100)\n",
    "weights = np.ones_like(dRA) * 100. / dRA.size\n",
    "\n",
    "# Plot the \n",
    "fig, (ax0, ax1) = plt.subplots(figsize=(8, 4), ncols=2)\n",
    "ax0.hist(X_a, bins_array, weights=weights, facecolor=\"g\", alpha=0.75)\n",
    "ax1.hist(X_d, bins_array, weights=weights, facecolor=\"g\", alpha=0.75)\n",
    "\n",
    "ax0.set_xlabel(\"$X_{\\\\alpha*}$\")\n",
    "ax1.set_xlabel(\"$X_{\\\\delta}$\")\n",
    "\n",
    "ax0.set_ylim([0, 13])\n",
    "ax1.set_ylim([0, 13])\n",
    "\n",
    "ax0.set_ylabel(\"% in bin\")\n",
    "ax1.set_ylabel(\"% in bin\")\n",
    "\n",
    "# add a '(standard) Gaussian distribution' line\n",
    "Gaussian_dist = stats.norm.pdf(bins_array, 0, 1) * 10. / 50\n",
    "ax0.plot(bins_array, Gaussian_dist * 100, \"r--\", linewidth=1)\n",
    "ax1.plot(bins_array, Gaussian_dist * 100, \"r--\", linewidth=1)\n",
    "\n",
    "ax0.set_yticks(np.arange(0, 15, 2))\n",
    "ax1.set_yticks(np.arange(0, 15, 2))\n",
    "\n",
    "fig.tight_layout()\n",
    "plt.show()"
   ]
  },
  {
   "cell_type": "code",
   "execution_count": 9,
   "metadata": {},
   "outputs": [
    {
     "data": {
      "image/png": "[encoded data removed]",
      "text/plain": [
       "<Figure size 288x288 with 1 Axes>"
      ]
     },
     "metadata": {
      "needs_background": "light"
     },
     "output_type": "display_data"
    }
   ],
   "source": [
    "# Distribution of normalized separation\n",
    "from scipy import stats\n",
    "\n",
    "bins_array = np.linspace(0, 10, 50)\n",
    "weights = np.ones_like(X) * 100. / X.size\n",
    "\n",
    "fig, ax = plt.subplots(figsize=(4, 4))\n",
    "ax.hist(X, bins_array, weights=weights, facecolor=\"g\", alpha=0.75)\n",
    "\n",
    "# add a '(standard) Rqyleigh distribution' line\n",
    "rayleigh_dist = stats.rayleigh.pdf(bins_array) * 10. / 50  * 100\n",
    "ax.plot(bins_array, rayleigh_dist, \"r--\", linewidth=1)\n",
    "\n",
    "ax.set_xlabel(\"$X$\")\n",
    "ax.set_ylabel(\"% in bin\")\n",
    "\n",
    "plt.show()"
   ]
  },
  {
   "cell_type": "code",
   "execution_count": 10,
   "metadata": {},
   "outputs": [
    {
     "data": {
      "image/png": "[encoded data removed]",
      "text/plain": [
       "<Figure size 360x360 with 1 Axes>"
      ]
     },
     "metadata": {
      "needs_background": "light"
     },
     "output_type": "display_data"
    }
   ],
   "source": [
    "from matplotlib import colors\n",
    "\n",
    "fig, ax = plt.subplots(figsize=(5, 5))\n",
    "\n",
    "bins = np.linspace(-5, 5, 100)\n",
    "\n",
    "# We can increase the number of bins on each axis\n",
    "ax.hist2d(dRA, dDC, bins, norm=colors.LogNorm())\n",
    "\n",
    "ax.set_xlabel(\"$\\Delta\\\\alpha*$ (mas)\")\n",
    "ax.set_ylabel(\"$\\Delta\\\\delta$ (mas)\")\n",
    "\n",
    "ax.grid(True)\n",
    "\n",
    "plt.show()"
   ]
  },
  {
   "cell_type": "code",
   "execution_count": 11,
   "metadata": {},
   "outputs": [
    {
     "data": {
      "image/png": "[encoded data removed]",
      "text/plain": [
       "<Figure size 288x288 with 1 Axes>"
      ]
     },
     "metadata": {
      "needs_background": "light"
     },
     "output_type": "display_data"
    }
   ],
   "source": [
    "# Distribution of angular separation\n",
    "bins_array = np.linspace(0, 10, 100)\n",
    "\n",
    "fig, ax = plt.subplots(figsize=(4, 4))\n",
    "ax.hist(ang_sep, bins_array, facecolor=\"g\", alpha=0.75)\n",
    "\n",
    "ax.set_xlabel(\"$\\\\rho$ (mas)\")\n",
    "ax.set_ylabel(\"Count in bin\")\n",
    "\n",
    "plt.show()"
   ]
  },
  {
   "cell_type": "code",
   "execution_count": 12,
   "metadata": {},
   "outputs": [
    {
     "data": {
      "image/png": "[encoded data removed]",
      "text/plain": [
       "<Figure size 432x576 with 2 Axes>"
      ]
     },
     "metadata": {
      "needs_background": "light"
     },
     "output_type": "display_data"
    }
   ],
   "source": [
    "# Angular position difference vs. positional uncertainty\n",
    "fig, (ax0, ax1) = plt.subplots(figsize=(6, 8), nrows=2, sharex=True)\n",
    "\n",
    "ax0.plot(com_def[\"pos_err_icrf1\"],\n",
    "         com_def[\"ang_sep\"], \"rx\", ms=2, label=\"Defining\")\n",
    "ax1.plot(com_def[\"pos_err_gaiadr2\"],\n",
    "         com_def[\"ang_sep\"], \"rx\", ms=2, label=\"Defining\")\n",
    "\n",
    "ax0.plot(com_can[\"pos_err_icrf1\"],\n",
    "         com_can[\"ang_sep\"], \"b.\", ms=2, label=\"Candiate\")\n",
    "ax1.plot(com_can[\"pos_err_gaiadr2\"],\n",
    "         com_can[\"ang_sep\"], \"b.\", ms=2, label=\"Candiate\")\n",
    "\n",
    "ax0.plot(com_oth[\"pos_err_icrf1\"],\n",
    "         com_oth[\"ang_sep\"], \"gs\", ms=2, label=\"Others\")\n",
    "ax1.plot(com_oth[\"pos_err_gaiadr2\"],\n",
    "         com_oth[\"ang_sep\"], \"gs\", ms=2, label=\"Others\")\n",
    "\n",
    "ax0.set_xscale(\"log\")\n",
    "ax0.set_yscale(\"log\")\n",
    "ax1.set_xscale(\"log\")\n",
    "ax1.set_yscale(\"log\")\n",
    "\n",
    "ax0.set_xlabel(\"$\\sigma_{pos,max}$ (ICRF1 S/X, mas)\")\n",
    "ax0.set_ylabel(\"$\\\\rho$ (mas)\")\n",
    "ax1.set_xlabel(\"$\\sigma_{pos,max}$ (Gaia DR2, mas)\")\n",
    "ax1.set_ylabel(\"$\\\\rho$ (mas)\")\n",
    "\n",
    "\n",
    "ax0.legend()\n",
    "ax1.legend()\n",
    "\n",
    "fig.tight_layout()\n",
    "plt.show()"
   ]
  },
  {
   "cell_type": "markdown",
   "metadata": {},
   "source": [
    "Then I investigate the systematics through the 16-parameters transformation."
   ]
  },
  {
   "cell_type": "code",
   "execution_count": 13,
   "metadata": {},
   "outputs": [
    {
     "name": "stdout",
     "output_type": "stream",
     "text": [
      "Estimates (   164 sources)\n",
      "--------------------------------------------------------------------------------------------\n",
      "               Rotation [uas]                                   Glide [uas]               \n",
      "               x             y             z               x             y             z\n",
      "--------------------------------------------------------------------------------------------\n",
      "l_max=1  +134 +/- 263  +665 +/- 264  -133 +/- 269    -154 +/- 252  +306 +/- 269  +309 +/- 274\n",
      "l_max=2  +204 +/- 279  +722 +/- 286  -223 +/- 301    -211 +/- 264  +372 +/- 293  +266 +/- 311\n",
      "--------------------------------------------------------------------------------------------\n",
      "\n",
      "Quadrupolar term Estimate Error\n",
      "---------------- -------- -----\n",
      "            ER22      -50   193\n",
      "            EI22      -74   188\n",
      "            ER21      227   340\n",
      "            EI21     -369   345\n",
      "             E20      139   331\n",
      "            MR22      -33   198\n",
      "            MI22       25   189\n",
      "            MR21      232   348\n",
      "            MI21     -220   326\n",
      "             M20      453   326\n",
      "Correlation coefficient between parameters in 'l_max=1' fit\n",
      "          R1    R2    R3    D1    D2\n",
      "    R2  +0.1\n",
      "    R3  +0.1  +0.0\n",
      "    D1  +0.1  +0.2  +0.1\n",
      "    D2  -0.2  +0.0  -0.0  +0.1\n",
      "    D3  -0.0  +0.0  -0.1  -0.0  -0.1\n",
      "Correlation coefficient between parameters in 'l_max=2' fit\n",
      "          R1    R2    R3    D1    D2    D3  E22R  E22I  E21R  E21I   E20  M22R  M22I  M21R  M21I\n",
      "    R2  +0.1\n",
      "    R3  +0.1  +0.0\n",
      "    D1  +0.1  +0.2  +0.0\n",
      "    D2  -0.1  +0.1  -0.0  +0.2\n",
      "    D3  -0.0  -0.0  -0.2  +0.0  -0.1\n",
      "  E22R  -0.0  -0.2  -0.0  +0.0  -0.1  +0.3\n",
      "  E22I  +0.1  +0.0  +0.1  -0.1  +0.0  -0.2  -0.0\n",
      "  E21R  +0.1  +0.1  +0.0  +0.2  +0.3  -0.0  -0.0  +0.1\n",
      "  E21I  +0.0  -0.1  +0.0  +0.2  +0.2  -0.0  -0.0  -0.0  +0.2\n",
      "   E20  -0.0  -0.0  -0.3  +0.1  +0.1  +0.1  -0.0  -0.1  +0.1  +0.1\n",
      "  M22R  -0.1  -0.0  -0.4  +0.0  -0.2  +0.1  +0.1  -0.2  -0.2  +0.0  +0.1\n",
      "  M22I  +0.0  +0.1  +0.1  +0.1  +0.0  +0.1  +0.2  +0.0  +0.0  +0.1  -0.1  +0.1\n",
      "  M21R  -0.1  -0.2  -0.1  +0.1  -0.1  +0.0  +0.2  -0.0  -0.1  -0.0  -0.0  +0.1  +0.0\n",
      "  M21I  -0.1  -0.2  -0.0  -0.1  -0.2  +0.1  +0.0  -0.2  -0.1  -0.1  -0.1  +0.1  -0.0  +0.1\n",
      "   M20  -0.1  -0.1  +0.1  -0.0  +0.0  -0.3  -0.2  +0.1  +0.0  -0.0  -0.1  -0.1  -0.1  +0.1  +0.0\n"
     ]
    }
   ],
   "source": [
    "# Try with all the sources\n",
    "# Transform columns into np.array\n",
    "dra = np.array(common_source[\"dra\"])\n",
    "ddec = np.array(common_source[\"ddec\"])\n",
    "dra_err = np.array(common_source[\"dra_err\"])\n",
    "ddec_err = np.array(common_source[\"ddec_err\"])\n",
    "ra_rad = np.array(common_source[\"ra_icrf1\"].to(u.radian))\n",
    "dec_rad = np.array(common_source[\"dec_icrf1\"].to(u.radian))\n",
    "dra_ddec_cov = np.array(common_source[\"dra_ddec_cov\"])\n",
    "\n",
    "# Transformation parameters\n",
    "# l_max = 1\n",
    "w1_all, sig1_all, corrcoef1_all = vsh_deg01_fitting(\n",
    "    dra, ddec, ra_rad, dec_rad, dra_err, ddec_err,\n",
    "    cov=dra_ddec_cov, elim_flag=\"None\")\n",
    "\n",
    "# l_max = 2\n",
    "w2_all, sig2_all, corrcoef2_all = vsh_deg02_fitting(\n",
    "    dra, ddec, ra_rad, dec_rad, dra_err, ddec_err,\n",
    "    cov=dra_ddec_cov, elim_flag=\"None\")\n",
    "\n",
    "# mas -> uas\n",
    "w1 = w1_all * 1.e3\n",
    "sig1 = sig1_all * 1.e3\n",
    "w2 = w2_all * 1.e3\n",
    "sig2 = sig2_all * 1.e3\n",
    "\n",
    "# Print results\n",
    "print(\"Estimates (%6d sources)\\n\"\n",
    "      \"----------------------------------------------\"\n",
    "      \"----------------------------------------------\\n\"\n",
    "      \"               Rotation [uas]                 \"\n",
    "      \"                  Glide [uas]               \\n\"\n",
    "      \"               x             y             z\"\n",
    "      \"               x             y             z\\n\"\n",
    "      \"----------------------------------------------\"\n",
    "      \"----------------------------------------------\\n\"\n",
    "      \"l_max=1  %+4.0f +/- %3.0f  %+4.0f +/- %3.0f  %+4.0f +/- %3.0f  \"\n",
    "      \"  %+4.0f +/- %3.0f  %+4.0f +/- %3.0f  %+4.0f +/- %3.0f\\n\"\n",
    "      \"l_max=2  %+4.0f +/- %3.0f  %+4.0f +/- %3.0f  %+4.0f +/- %3.0f  \"\n",
    "      \"  %+4.0f +/- %3.0f  %+4.0f +/- %3.0f  %+4.0f +/- %3.0f\\n\"\n",
    "      \"----------------------------------------------\"\n",
    "      \"----------------------------------------------\\n\" %\n",
    "      (dra.size, w1[3], sig1[3], w1[4], sig1[4], w1[5], sig1[5],\n",
    "       w1[0], sig1[0], w1[1], sig1[1], w1[2], sig1[2],\n",
    "       w2[3], sig2[3], w2[4], sig2[4], w2[5], sig2[5],\n",
    "       w2[0], sig2[0], w2[1], sig2[1], w2[2], sig2[2]))\n",
    "\n",
    "quad_names = Column([\"ER22\", \"EI22\", \"ER21\", \"EI21\", \"E20\",\n",
    "                     \"MR22\", \"MI22\", \"MR21\", \"MI21\", \"M20\"])\n",
    "t_quad = Table([quad_names, w2[6:], sig2[6:]], names=[\"Quadrupolar term\", \"Estimate\", \"Error\"])\n",
    "t_quad[\"Estimate\"].format = \"%5.0f\"\n",
    "t_quad[\"Error\"].format = \"%5.0f\"\n",
    "print(t_quad)\n",
    "\n",
    "print(\"Correlation coefficient between parameters in 'l_max=1' fit\")\n",
    "print_vsh1_corr(corrcoef1_all, deci_digit=1, included_one=False)\n",
    "\n",
    "print(\"Correlation coefficient between parameters in 'l_max=2' fit\")\n",
    "print_vsh2_corr(corrcoef2_all, deci_digit=1, included_one=False)"
   ]
  },
  {
   "cell_type": "code",
   "execution_count": 14,
   "metadata": {},
   "outputs": [],
   "source": [
    "# The last step is to save the 16 transformation parameters for further use.\n",
    "\n",
    "vsh2_names = Column([\"D1\", \"D2\", \"D3\",\n",
    "                     \"R1\", \"R2\", \"R3\",\n",
    "                     \"ER22\", \"EI22\", \"ER21\", \"EI21\", \"E20\",\n",
    "                     \"MR22\", \"MI22\", \"MR21\", \"MI21\", \"M20\"])\n",
    "t_vsh2 = Table([vsh2_names, w2, sig2], names=[\n",
    "               \"Names\", \"Estimate\", \"Error\"])\n",
    "t_vsh2[\"Estimate\"].format = \"%5.0f\"\n",
    "t_vsh2[\"Error\"].format = \"%5.0f\"\n",
    "t_vsh2[\"Estimate\"].unit = u.uas\n",
    "t_vsh2[\"Error\"].unit = u.uas\n",
    "t_vsh2.write(\"../logs/icrf1_gaiadr2_fnt_vsh02_all.log\",\n",
    "             format=\"ascii\", overwrite=True)"
   ]
  },
  {
   "cell_type": "markdown",
   "metadata": {},
   "source": [
    "For a `clean` sample, I re-estimate the parameters."
   ]
  },
  {
   "cell_type": "code",
   "execution_count": 15,
   "metadata": {},
   "outputs": [
    {
     "name": "stdout",
     "output_type": "stream",
     "text": [
      "There are 164 sources.\n",
      "When X >= 3.19, the number of the outlier is smaller than 1.\n",
      "After elimination, there are 147 sources in the clean sample.\n",
      "The outlier rate is %10\n"
     ]
    }
   ],
   "source": [
    "# Remove the outlier (consider the normalized separation)\n",
    "N = len(common_source)\n",
    "X0 = np.sqrt(np.log(N) * 2)\n",
    "# X0 = 3.41\n",
    "\n",
    "print(\"There are %d sources.\\n\"\n",
    "      \"When X >= %.2f, the number of the outlier is smaller than 1.\" % (N, X0))\n",
    "\n",
    "mask = ((common_source[\"nor_sep\"] <= X0)\n",
    "        & (common_source[\"ang_sep\"] < 10))\n",
    "\n",
    "# Table of a clean sample\n",
    "com_clean = common_source[mask]\n",
    "N1 = len(com_clean)\n",
    "print(\"After elimination, there are %d sources in the clean sample.\" % N1)\n",
    "print(\"The outlier rate is %.0f%%.\" % ((N-N1)/N*100))"
   ]
  },
  {
   "cell_type": "code",
   "execution_count": 16,
   "metadata": {},
   "outputs": [],
   "source": [
    "# Transform columns into np.array\n",
    "dra = np.array(com_clean[\"dra\"])\n",
    "ddec = np.array(com_clean[\"ddec\"])\n",
    "dra_err = np.array(com_clean[\"dra_err\"])\n",
    "ddec_err = np.array(com_clean[\"ddec_err\"])\n",
    "ra_rad = np.array(com_clean[\"ra_icrf1\"].to(u.radian))\n",
    "dec_rad = np.array(com_clean[\"dec_icrf1\"].to(u.radian))\n",
    "dra_ddec_cov = np.array(com_clean[\"dra_ddec_cov\"])"
   ]
  },
  {
   "cell_type": "code",
   "execution_count": 17,
   "metadata": {},
   "outputs": [
    {
     "name": "stdout",
     "output_type": "stream",
     "text": [
      "Estimates (   147 sources)\n",
      "--------------------------------------------------------------------------------------------\n",
      "               Rotation [uas]                                   Glide [uas]               \n",
      "               x             y             z               x             y             z\n",
      "--------------------------------------------------------------------------------------------\n",
      "l_max=1   +51 +/-  54   +58 +/-  56    -7 +/-  56      +2 +/-  52  +155 +/-  57  +189 +/-  57\n",
      "l_max=2   +61 +/-  58   +58 +/-  60   -22 +/-  63     -29 +/-  54  +145 +/-  62  +150 +/-  65\n",
      "--------------------------------------------------------------------------------------------\n",
      "\n",
      "Quadrupolar term Estimate Error\n",
      "---------------- -------- -----\n",
      "            ER22      -38    41\n",
      "            EI22      -57    39\n",
      "            ER21       12    72\n",
      "            EI21      -81    71\n",
      "             E20       15    68\n",
      "            MR22       10    42\n",
      "            MI22      -69    39\n",
      "            MR21      132    74\n",
      "            MI21       -1    67\n",
      "             M20       78    67\n",
      "Correlation coefficient between parameters in 'l_max=1' fit\n",
      "          R1    R2    R3    D1    D2\n",
      "    R2  +0.1\n",
      "    R3  +0.1  +0.0\n",
      "    D1  +0.1  +0.2  +0.1\n",
      "    D2  -0.2  +0.0  -0.0  +0.1\n",
      "    D3  -0.1  +0.0  -0.1  +0.0  -0.1\n",
      "Correlation coefficient between parameters in 'l_max=2' fit\n",
      "          R1    R2    R3    D1    D2    D3  E22R  E22I  E21R  E21I   E20  M22R  M22I  M21R  M21I\n",
      "    R2  +0.2\n",
      "    R3  +0.1  +0.0\n",
      "    D1  +0.1  +0.2  +0.0\n",
      "    D2  -0.1  +0.1  +0.0  +0.2\n",
      "    D3  -0.1  -0.0  -0.2  +0.0  -0.1\n",
      "  E22R  -0.0  -0.2  -0.0  +0.0  -0.1  +0.4\n",
      "  E22I  +0.1  +0.0  +0.1  -0.1  -0.0  -0.2  -0.0\n",
      "  E21R  +0.1  +0.1  +0.0  +0.3  +0.3  -0.0  -0.0  +0.1\n",
      "  E21I  +0.0  -0.1  +0.0  +0.1  +0.2  -0.0  -0.0  -0.0  +0.2\n",
      "   E20  -0.0  +0.0  -0.3  +0.1  +0.1  +0.1  -0.1  -0.1  +0.1  +0.0\n",
      "  M22R  -0.1  +0.0  -0.4  -0.0  -0.2  +0.1  +0.1  -0.2  -0.2  -0.0  +0.1\n",
      "  M22I  +0.0  +0.1  +0.1  +0.1  -0.0  +0.1  +0.2  +0.0  +0.0  +0.1  -0.0  +0.1\n",
      "  M21R  -0.2  -0.3  -0.1  +0.1  -0.1  +0.1  +0.3  -0.0  -0.1  -0.0  -0.0  +0.1  +0.0\n",
      "  M21I  -0.1  -0.2  +0.0  -0.1  -0.1  +0.1  +0.0  -0.1  -0.1  -0.1  -0.1  +0.0  -0.0  +0.1\n",
      "   M20  -0.2  -0.1  +0.1  -0.0  +0.0  -0.3  -0.2  +0.0  +0.0  -0.1  -0.1  -0.2  -0.2  +0.0  +0.0\n"
     ]
    }
   ],
   "source": [
    "# Transformation parameters\n",
    "# l_max = 1\n",
    "w1_cln, sig1_cln, corrcoef1_cln = vsh_deg01_fitting(\n",
    "    dra, ddec, ra_rad, dec_rad, dra_err, ddec_err,\n",
    "    cov=dra_ddec_cov, elim_flag=\"None\")\n",
    "\n",
    "# l_max = 2\n",
    "w2_cln, sig2_cln, corrcoef2_cln = vsh_deg02_fitting(\n",
    "    dra, ddec, ra_rad, dec_rad, dra_err, ddec_err,\n",
    "    cov=dra_ddec_cov, elim_flag=\"None\")\n",
    "\n",
    "# mas -> uas\n",
    "w1 = w1_cln * 1.e3\n",
    "sig1 = sig1_cln * 1.e3\n",
    "w2 = w2_cln * 1.e3\n",
    "sig2 = sig2_cln * 1.e3\n",
    "\n",
    "# Print results\n",
    "print(\"Estimates (%6d sources)\\n\"\n",
    "      \"----------------------------------------------\"\n",
    "      \"----------------------------------------------\\n\"\n",
    "      \"               Rotation [uas]                 \"\n",
    "      \"                  Glide [uas]               \\n\"\n",
    "      \"               x             y             z\"\n",
    "      \"               x             y             z\\n\"\n",
    "      \"----------------------------------------------\"\n",
    "      \"----------------------------------------------\\n\"\n",
    "      \"l_max=1  %+4.0f +/- %3.0f  %+4.0f +/- %3.0f  %+4.0f +/- %3.0f  \"\n",
    "      \"  %+4.0f +/- %3.0f  %+4.0f +/- %3.0f  %+4.0f +/- %3.0f\\n\"\n",
    "      \"l_max=2  %+4.0f +/- %3.0f  %+4.0f +/- %3.0f  %+4.0f +/- %3.0f  \"\n",
    "      \"  %+4.0f +/- %3.0f  %+4.0f +/- %3.0f  %+4.0f +/- %3.0f\\n\"\n",
    "      \"----------------------------------------------\"\n",
    "      \"----------------------------------------------\\n\" %\n",
    "      (dra.size, w1[3], sig1[3], w1[4], sig1[4], w1[5], sig1[5],\n",
    "       w1[0], sig1[0], w1[1], sig1[1], w1[2], sig1[2],\n",
    "       w2[3], sig2[3], w2[4], sig2[4], w2[5], sig2[5],\n",
    "       w2[0], sig2[0], w2[1], sig2[1], w2[2], sig2[2]))\n",
    "\n",
    "quad_names = Column([\"ER22\", \"EI22\", \"ER21\", \"EI21\", \"E20\",\n",
    "                     \"MR22\", \"MI22\", \"MR21\", \"MI21\", \"M20\"])\n",
    "t_quad = Table([quad_names, w2[6:], sig2[6:]], names=[\"Quadrupolar term\", \"Estimate\", \"Error\"])\n",
    "t_quad[\"Estimate\"].format = \"%5.0f\"\n",
    "t_quad[\"Error\"].format = \"%5.0f\"\n",
    "print(t_quad)\n",
    "\n",
    "print(\"Correlation coefficient between parameters in 'l_max=1' fit\")\n",
    "print_vsh1_corr(corrcoef1_cln, deci_digit=1, included_one=False)\n",
    "\n",
    "print(\"Correlation coefficient between parameters in 'l_max=2' fit\")\n",
    "print_vsh2_corr(corrcoef2_cln, deci_digit=1, included_one=False)"
   ]
  },
  {
   "cell_type": "markdown",
   "metadata": {},
   "source": [
    "Save the results for future use."
   ]
  },
  {
   "cell_type": "code",
   "execution_count": 18,
   "metadata": {},
   "outputs": [],
   "source": [
    "# The last step is to save the 16 transformation parameters for further use.\n",
    "\n",
    "vsh2_names = Column([\"D1\", \"D2\", \"D3\",\n",
    "                     \"R1\", \"R2\", \"R3\",\n",
    "                     \"ER22\", \"EI22\", \"ER21\", \"EI21\", \"E20\",\n",
    "                     \"MR22\", \"MI22\", \"MR21\", \"MI21\", \"M20\"])\n",
    "t_vsh2 = Table([vsh2_names, w2, sig2], names=[\n",
    "               \"Names\", \"Estimate\", \"Error\"])\n",
    "t_vsh2[\"Estimate\"].format = \"%5.0f\"\n",
    "t_vsh2[\"Error\"].format = \"%5.0f\"\n",
    "t_vsh2[\"Estimate\"].unit = u.uas\n",
    "t_vsh2[\"Error\"].unit = u.uas\n",
    "t_vsh2.write(\"../logs/icrf1_gaiadr2_fnt_vsh02.log\",\n",
    "             format=\"ascii\", overwrite=True)"
   ]
  },
  {
   "cell_type": "markdown",
   "metadata": {},
   "source": [
    "Then I check the residuals of positional offsets."
   ]
  },
  {
   "cell_type": "code",
   "execution_count": 19,
   "metadata": {},
   "outputs": [],
   "source": [
    "# Remove the systematics\n",
    "RA = np.array(common_source[\"ra_icrf1\"].to(u.radian))\n",
    "DE = np.array(common_source[\"dec_icrf1\"].to(u.radian))\n",
    "\n",
    "dra_ns, ddec_ns = residual_calc02(dRA, dDC, RA, DE, w2_cln)\n",
    "# dra_ns, ddec_ns = residual_calc02(dRA, dDC, RA, DE, w2_all)\n",
    "\n",
    "# Now re-calculate the normalized difference\n",
    "ang_sep_ns, Xa_ns, Xd_ns, X_ns = nor_sep_calc(\n",
    "    dra_ns, dRA_err, ddec_ns, dDC_err, dRA_dDC_cov/dRA_err/dDC_err)"
   ]
  },
  {
   "cell_type": "code",
   "execution_count": 20,
   "metadata": {},
   "outputs": [
    {
     "data": {
      "image/png": "[encoded data removed]",
      "text/plain": [
       "<Figure size 576x288 with 2 Axes>"
      ]
     },
     "metadata": {
      "needs_background": "light"
     },
     "output_type": "display_data"
    }
   ],
   "source": [
    "# Difference in RA and decl.\n",
    "bins_array = np.linspace(-5, 5, 50)\n",
    "weights = np.ones_like(dra_ns) * 100. / dra_ns.size\n",
    "\n",
    "fig, (ax0, ax1) = plt.subplots(figsize=(8, 4), ncols=2)\n",
    "ax0.hist(dra_ns, bins_array, weights=weights, facecolor=\"g\", alpha=0.75)\n",
    "ax1.hist(ddec_ns, bins_array, weights=weights, facecolor=\"g\", alpha=0.75)\n",
    "\n",
    "ax0.set_yticks(np.arange(0, 23, 2))\n",
    "ax1.set_yticks(np.arange(0, 23, 2))\n",
    "\n",
    "ax0.set_ylim([0, 21])\n",
    "ax1.set_ylim([0, 21])\n",
    "\n",
    "ax0.set_xlabel(\"$\\Delta\\\\alpha*$ (mas)\")\n",
    "ax1.set_xlabel(\"$\\Delta\\\\delta$ (mas)\")\n",
    "\n",
    "ax0.set_ylabel(\"% in bin\")\n",
    "ax1.set_ylabel(\"% in bin\")\n",
    "\n",
    "fig.tight_layout()\n",
    "plt.show()"
   ]
  },
  {
   "cell_type": "code",
   "execution_count": 21,
   "metadata": {},
   "outputs": [
    {
     "data": {
      "image/png": "[encoded data removed]",
      "text/plain": [
       "<Figure size 576x288 with 2 Axes>"
      ]
     },
     "metadata": {
      "needs_background": "light"
     },
     "output_type": "display_data"
    }
   ],
   "source": [
    "# Normalized difference in RA and decl.\n",
    "from scipy import stats\n",
    "bins_array = np.linspace(-10, 10, 100)\n",
    "weights = np.ones_like(Xa_ns) * 100. / Xa_ns.size\n",
    "\n",
    "# Plot the \n",
    "fig, (ax0, ax1) = plt.subplots(figsize=(8, 4), ncols=2)\n",
    "ax0.hist(Xa_ns, bins_array, weights=weights, facecolor=\"g\", alpha=0.75)\n",
    "ax1.hist(Xd_ns, bins_array, weights=weights, facecolor=\"g\", alpha=0.75)\n",
    "\n",
    "ax0.set_xlabel(\"$X_{\\\\alpha*}$\")\n",
    "ax1.set_xlabel(\"$X_{\\\\delta}$\")\n",
    "\n",
    "ax0.set_ylabel(\"% in bin\")\n",
    "ax1.set_ylabel(\"% in bin\")\n",
    "\n",
    "# add a '(standard) Gaussian distribution' line\n",
    "Gaussian_dist = stats.norm.pdf(bins_array, 0, 1) * 10. / 50\n",
    "ax0.plot(bins_array, Gaussian_dist * 100, \"r--\", linewidth=1)\n",
    "ax1.plot(bins_array, Gaussian_dist * 100, \"r--\", linewidth=1)\n",
    "\n",
    "ax0.set_yticks(np.arange(0, 15, 2))\n",
    "ax1.set_yticks(np.arange(0, 15, 2))\n",
    "\n",
    "fig.tight_layout()\n",
    "plt.show()"
   ]
  },
  {
   "cell_type": "code",
   "execution_count": 22,
   "metadata": {},
   "outputs": [
    {
     "name": "stderr",
     "output_type": "stream",
     "text": [
      "The PostScript backend does not support transparency; partially transparent artists will be rendered opaque.\n",
      "The PostScript backend does not support transparency; partially transparent artists will be rendered opaque.\n",
      "The PostScript backend does not support transparency; partially transparent artists will be rendered opaque.\n",
      "The PostScript backend does not support transparency; partially transparent artists will be rendered opaque.\n",
      "The PostScript backend does not support transparency; partially transparent artists will be rendered opaque.\n",
      "The PostScript backend does not support transparency; partially transparent artists will be rendered opaque.\n",
      "The PostScript backend does not support transparency; partially transparent artists will be rendered opaque.\n",
      "The PostScript backend does not support transparency; partially transparent artists will be rendered opaque.\n",
      "The PostScript backend does not support transparency; partially transparent artists will be rendered opaque.\n",
      "The PostScript backend does not support transparency; partially transparent artists will be rendered opaque.\n",
      "The PostScript backend does not support transparency; partially transparent artists will be rendered opaque.\n",
      "The PostScript backend does not support transparency; partially transparent artists will be rendered opaque.\n",
      "The PostScript backend does not support transparency; partially transparent artists will be rendered opaque.\n",
      "The PostScript backend does not support transparency; partially transparent artists will be rendered opaque.\n",
      "The PostScript backend does not support transparency; partially transparent artists will be rendered opaque.\n",
      "The PostScript backend does not support transparency; partially transparent artists will be rendered opaque.\n",
      "The PostScript backend does not support transparency; partially transparent artists will be rendered opaque.\n",
      "The PostScript backend does not support transparency; partially transparent artists will be rendered opaque.\n",
      "The PostScript backend does not support transparency; partially transparent artists will be rendered opaque.\n",
      "The PostScript backend does not support transparency; partially transparent artists will be rendered opaque.\n",
      "The PostScript backend does not support transparency; partially transparent artists will be rendered opaque.\n",
      "The PostScript backend does not support transparency; partially transparent artists will be rendered opaque.\n",
      "The PostScript backend does not support transparency; partially transparent artists will be rendered opaque.\n",
      "The PostScript backend does not support transparency; partially transparent artists will be rendered opaque.\n",
      "The PostScript backend does not support transparency; partially transparent artists will be rendered opaque.\n",
      "The PostScript backend does not support transparency; partially transparent artists will be rendered opaque.\n",
      "The PostScript backend does not support transparency; partially transparent artists will be rendered opaque.\n",
      "The PostScript backend does not support transparency; partially transparent artists will be rendered opaque.\n",
      "The PostScript backend does not support transparency; partially transparent artists will be rendered opaque.\n",
      "The PostScript backend does not support transparency; partially transparent artists will be rendered opaque.\n",
      "The PostScript backend does not support transparency; partially transparent artists will be rendered opaque.\n",
      "The PostScript backend does not support transparency; partially transparent artists will be rendered opaque.\n",
      "The PostScript backend does not support transparency; partially transparent artists will be rendered opaque.\n",
      "The PostScript backend does not support transparency; partially transparent artists will be rendered opaque.\n",
      "The PostScript backend does not support transparency; partially transparent artists will be rendered opaque.\n",
      "The PostScript backend does not support transparency; partially transparent artists will be rendered opaque.\n",
      "The PostScript backend does not support transparency; partially transparent artists will be rendered opaque.\n",
      "The PostScript backend does not support transparency; partially transparent artists will be rendered opaque.\n",
      "The PostScript backend does not support transparency; partially transparent artists will be rendered opaque.\n",
      "The PostScript backend does not support transparency; partially transparent artists will be rendered opaque.\n",
      "The PostScript backend does not support transparency; partially transparent artists will be rendered opaque.\n",
      "The PostScript backend does not support transparency; partially transparent artists will be rendered opaque.\n",
      "The PostScript backend does not support transparency; partially transparent artists will be rendered opaque.\n",
      "The PostScript backend does not support transparency; partially transparent artists will be rendered opaque.\n",
      "The PostScript backend does not support transparency; partially transparent artists will be rendered opaque.\n",
      "The PostScript backend does not support transparency; partially transparent artists will be rendered opaque.\n",
      "The PostScript backend does not support transparency; partially transparent artists will be rendered opaque.\n",
      "The PostScript backend does not support transparency; partially transparent artists will be rendered opaque.\n",
      "The PostScript backend does not support transparency; partially transparent artists will be rendered opaque.\n"
     ]
    },
    {
     "data": {
      "image/png": "[encoded data removed]",
      "text/plain": [
       "<Figure size 432x216 with 1 Axes>"
      ]
     },
     "metadata": {
      "needs_background": "light"
     },
     "output_type": "display_data"
    }
   ],
   "source": [
    "# Distribution of normalized separation\n",
    "from scipy import stats\n",
    "\n",
    "bins_array = np.linspace(0, 10, 50)\n",
    "weights = np.ones_like(X_ns) * 100. / X_ns.size\n",
    "\n",
    "fig, ax = plt.subplots(figsize=(6, 3))\n",
    "ax.hist(X_ns, bins_array, weights=weights, facecolor=\"g\", alpha=0.75)\n",
    "\n",
    "# add a '(standard) Rqyleigh distribution' line\n",
    "rayleigh_dist = stats.rayleigh.pdf(bins_array) * 10. / 50  * 100\n",
    "ax.plot(bins_array, rayleigh_dist, \"r--\", linewidth=1)\n",
    "\n",
    "ax.text(6.5, 10.5, \"ICRF1\", fontsize=15)\n",
    "\n",
    "ax.set_xlim([0, 10])\n",
    "ax.set_xlabel(\"Normalized separation $X$\")\n",
    "ax.set_ylabel(\"% in bin\")\n",
    "ax.grid()\n",
    "\n",
    "plt.savefig(\"../plots/x_icrf1_gaiadr2_fnt.eps\")"
   ]
  },
  {
   "cell_type": "code",
   "execution_count": 23,
   "metadata": {},
   "outputs": [
    {
     "name": "stderr",
     "output_type": "stream",
     "text": [
      "The PostScript backend does not support transparency; partially transparent artists will be rendered opaque.\n",
      "The PostScript backend does not support transparency; partially transparent artists will be rendered opaque.\n"
     ]
    },
    {
     "data": {
      "image/png": "[encoded data removed]",
      "text/plain": [
       "<Figure size 432x288 with 1 Axes>"
      ]
     },
     "metadata": {
      "needs_background": "light"
     },
     "output_type": "display_data"
    }
   ],
   "source": [
    "# Angular separation vs. normalized separation\n",
    "fig, ax = plt.subplots()\n",
    "\n",
    "ax.plot(com_can[\"nor_sep\"], com_can[\"ang_sep\"],\n",
    "         \"b*\", ms=3, label=\"Candiate\")\n",
    "ax.plot(com_oth[\"nor_sep\"], com_oth[\"ang_sep\"],\n",
    "         \"g^\", ms=3, label=\"Other\")\n",
    "ax.plot(com_def[\"nor_sep\"], com_def[\"ang_sep\"],\n",
    "         \"rx\", ms=3, label=\"Defining\")\n",
    "\n",
    "ax.vlines(10, 0.01, 500, colors=\"k\", linestyles=\"dashed\", lw=0.1)\n",
    "ax.hlines(X0, 0.02, 150, colors=\"k\", linestyles=\"dashed\", lw=0.1)\n",
    "\n",
    "ax.set_xscale(\"log\")\n",
    "ax.set_yscale(\"log\")\n",
    "\n",
    "ax.set_ylabel(\"Normalized separation $X$\")\n",
    "ax.set_xlabel(\"Angular separation $\\\\rho$ (mas)\")\n",
    "\n",
    "ax.set_xlim([0.02, 150])\n",
    "ax.set_ylim([0.01, 500])\n",
    "ax.xaxis.set_ticks_position(\"both\")\n",
    "ax.yaxis.set_ticks_position(\"both\")\n",
    "\n",
    "ax.legend(loc=\"upper left\")\n",
    "fig.tight_layout()\n",
    "\n",
    "plt.savefig(\"../plots/separation_icrf1_gaiadr2_fnt.eps\")"
   ]
  }
 ],
 "metadata": {
  "hide_input": false,
  "kernel_info": {
   "name": "python3"
  },
  "kernelspec": {
   "display_name": "Python 3",
   "language": "python",
   "name": "python3"
  },
  "language_info": {
   "codemirror_mode": {
    "name": "ipython",
    "version": 3
   },
   "file_extension": ".py",
   "mimetype": "text/x-python",
   "name": "python",
   "nbconvert_exporter": "python",
   "pygments_lexer": "ipython3",
   "version": "3.7.4"
  },
  "latex_envs": {
   "LaTeX_envs_menu_present": true,
   "autoclose": false,
   "autocomplete": true,
   "bibliofile": "biblio.bib",
   "cite_by": "apalike",
   "current_citInitial": 1,
   "eqLabelWithNumbers": true,
   "eqNumInitial": 1,
   "hotkeys": {
    "equation": "Ctrl-E",
    "itemize": "Ctrl-I"
   },
   "labels_anchors": false,
   "latex_user_defs": false,
   "report_style_numbering": false,
   "user_envs_cfg": false
  },
  "nteract": {
   "version": "0.11.9"
  }
 },
 "nbformat": 4,
 "nbformat_minor": 2
}
