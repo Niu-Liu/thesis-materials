{
 "cells": [
  {
   "cell_type": "code",
   "execution_count": 1,
   "metadata": {},
   "outputs": [],
   "source": [
    "import numpy as np\n",
    "from astropy.table import Table, join, unique, Column\n",
    "import astropy.units as u\n",
    "from astropy.units import cds\n",
    "from astropy.coordinates import Angle\n",
    "import numpy as np\n",
    "import os\n",
    "import sys\n",
    "import time"
   ]
  },
  {
   "cell_type": "code",
   "execution_count": 7,
   "metadata": {},
   "outputs": [
    {
     "data": {
      "text/plain": [
       "(<Table length=5217>\n",
       " ivs_name iers_name       ra            dec       ... num_del num_delrate flag\n",
       "   str8      str8      float64        float64     ...  int64     int64    str3\n",
       " -------- --------- -------------- -------------- ... ------- ----------- ----\n",
       " 2357-326  2357-326   0.0849999055 -32.3503427261 ...     237           0  GLO\n",
       " 2357+811  2357+811   0.1024166667  81.3968888889 ...       0           0  GLO\n",
       " 2358+406  2358+406    0.221171088  40.9005026846 ...     152           0  GLO\n",
       " 2358-161  2358-161   0.2722030487 -15.8519653224 ...     245           0  GLO\n",
       " 2358+605  2358+605   0.2795825626  60.8563328028 ...     172           0  GLO\n",
       " 2358+189  2358+189   0.2859231928  19.2427226956 ...    3600           0  GLO\n",
       " 2359-221  2359-221   0.5499227122 -21.8860740337 ...      19           0  GLO\n",
       " 0000-199  0000-199     0.81645584  -19.697333768 ...     182           0  GLO\n",
       " 0000-197  0000-197   0.8278126314 -19.4562098666 ...     233           0  GLO\n",
       " 0000+212  0000+212   0.8306250617  21.4956965978 ...      66           0  GLO\n",
       "      ...       ...            ...            ... ...     ...         ...  ...\n",
       " 2355+814  2355+814 359.5298333333  81.7009166667 ...       0           0  GLO\n",
       " 2355+490  2355+490 359.5408896149  49.3621775372 ...     174           0  GLO\n",
       " 2355-106  2355-106 359.5453433225 -10.3357253921 ...   23183           0  GLO\n",
       " 2355-291  2355-291 359.5707148158 -28.8928064669 ...     137           0  GLO\n",
       " 2355+042  2355+042 359.6201957039   4.5068989683 ...     260           0  GLO\n",
       " 2356+196  2356+196 359.6920213024  19.9223060796 ...     262           0  GLO\n",
       " 2356+390  2356+390 359.7493965419    39.37452936 ...     230           0  GLO\n",
       " 2356-069  2356-069 359.8825674245  -6.6620421332 ...       5           0  GLO\n",
       " 2356+385  2356+385 359.8882533093  38.8450884097 ...   26439           0  GLO\n",
       " 2357-318  2357-318 359.8978814067 -31.5621735113 ...    3669           0  GLO,\n",
       " <Table length=4401>\n",
       " ivs_name iers_name       ra            dec       ... num_del num_delrate flag\n",
       "                         deg            deg       ...                         \n",
       "   str8      str8      float64        float64     ...  int64     int64    str3\n",
       " -------- --------- -------------- -------------- ... ------- ----------- ----\n",
       " 2357-326  2357-326   0.0849999055 -32.3503427261 ...     237           0  GLO\n",
       " 2358+406  2358+406    0.221171088  40.9005026846 ...     152           0  GLO\n",
       " 2358-161  2358-161   0.2722030487 -15.8519653224 ...     245           0  GLO\n",
       " 2358+605  2358+605   0.2795825626  60.8563328028 ...     172           0  GLO\n",
       " 2358+189  2358+189   0.2859231928  19.2427226956 ...    3600           0  GLO\n",
       " 2359-221  2359-221   0.5499227122 -21.8860740337 ...      19           0  GLO\n",
       " 0000-199  0000-199     0.81645584  -19.697333768 ...     182           0  GLO\n",
       " 0000-197  0000-197   0.8278126314 -19.4562098666 ...     233           0  GLO\n",
       " 0000+212  0000+212   0.8306250617  21.4956965978 ...      66           0  GLO\n",
       "      ...       ...            ...            ... ...     ...         ...  ...\n",
       " 2355-534  2355-534 359.4719418847 -53.1871359708 ...    4695           0  GLO\n",
       " 2355+490  2355+490 359.5408896149  49.3621775372 ...     174           0  GLO\n",
       " 2355-106  2355-106 359.5453433225 -10.3357253921 ...   23183           0  GLO\n",
       " 2355-291  2355-291 359.5707148158 -28.8928064669 ...     137           0  GLO\n",
       " 2355+042  2355+042 359.6201957039   4.5068989683 ...     260           0  GLO\n",
       " 2356+196  2356+196 359.6920213024  19.9223060796 ...     262           0  GLO\n",
       " 2356+390  2356+390 359.7493965419    39.37452936 ...     230           0  GLO\n",
       " 2356-069  2356-069 359.8825674245  -6.6620421332 ...       5           0  GLO\n",
       " 2356+385  2356+385 359.8882533093  38.8450884097 ...   26439           0  GLO\n",
       " 2357-318  2357-318 359.8978814067 -31.5621735113 ...    3669           0  GLO)"
      ]
     },
     "execution_count": 7,
     "metadata": {},
     "output_type": "execute_result"
    }
   ],
   "source": [
    "cat_file = (\"/Users/Neo/Astronomy/Data/VLBISolutions/vlbi2_server/GalacticAberration/GA5.0_15.5/GA5.0_15.5.cat\")\n",
    "t_sou0 = Table.read(cat_file, format=\"ascii\",\n",
    "                    names=[\"ivs_name\", \"iers_name\", \"ra\", \n",
    "                           \"dec\", \"ra_err\", \"dec_err\", \"ra_dec_corr\",\n",
    "                           \"mean_epo\", \"beg_epo\", \"end_epo\",\n",
    "                           \"num_sess\", \"num_del\", \"num_delrate\", \"flag\"])\n",
    "\n",
    "mask = (t_sou0[\"num_del\"] != 0)\n",
    "t_sou = Table(t_sou0[mask], masked=False)\n",
    "\n",
    "# convert string into float for RA, Decl. and observing epoch\n",
    "Nsize = len(t_sou)\n",
    "\n",
    "# unit\n",
    "t_sou[\"ra\"].unit = u.deg\n",
    "t_sou[\"dec\"].unit = u.deg\n",
    "t_sou[\"ra_err\"].unit = u.mas\n",
    "t_sou[\"dec_err\"].unit = u.mas\n",
    "t_sou[\"mean_epo\"].unit = cds.MJD\n",
    "t_sou[\"beg_epo\"].unit = cds.MJD\n",
    "t_sou[\"end_epo\"].unit = cds.MJD\n",
    "\n",
    "# return t_sou\n",
    "t_sou0, t_sou"
   ]
  }
 ],
 "metadata": {
  "hide_input": false,
  "kernelspec": {
   "display_name": "Python 3",
   "language": "python",
   "name": "python3"
  },
  "language_info": {
   "codemirror_mode": {
    "name": "ipython",
    "version": 3
   },
   "file_extension": ".py",
   "mimetype": "text/x-python",
   "name": "python",
   "nbconvert_exporter": "python",
   "pygments_lexer": "ipython3",
   "version": "3.7.1"
  }
 },
 "nbformat": 4,
 "nbformat_minor": 2
}
