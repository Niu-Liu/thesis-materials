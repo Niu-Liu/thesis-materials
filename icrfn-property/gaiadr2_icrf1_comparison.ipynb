{
 "cells": [
  {
   "cell_type": "markdown",
   "metadata": {},
   "source": [
    "This notebook compare the Gaia DR2 IERS sample with the ICRF1 catalog.\n",
    "ICRF1 is a very old realization of the ICRS and outdated now, while the Gaia DR2 is latest version of Gaia data.\n",
    "So this comparison is supposed to not give us much valuable information.\n",
    "In fact, it just serves as an auxiliary comparison for comparison between Gaia DR2 and ICRF3."
   ]
  },
  {
   "cell_type": "code",
   "execution_count": 1,
   "metadata": {},
   "outputs": [],
   "source": [
    "from astropy.table import Table, join, Column\n",
    "from astropy import units as u\n",
    "import astropy.coordinates as coord\n",
    "from astropy.coordinates import SkyCoord\n",
    "import numpy as np\n",
    "import matplotlib.pyplot as plt\n",
    "%matplotlib inline\n",
    "# %config InlineBackend.figure_format = \"svg\"\n",
    "\n",
    "# My modules\n",
    "from my_progs.catalog.vsh_deg1_cor import vsh_deg01_fitting\n",
    "from my_progs.catalog.vsh_deg2_cor import vsh_deg02_fitting, residual_calc02\n",
    "from my_progs.catalog.pos_diff import nor_sep_calc, pos_diff_calc\n",
    "from my_progs.catalog.pos_err import pos_err_calc\n",
    "from my_progs.catalog.write_output import print_vsh1_corr, print_vsh2_corr\n",
    "from my_progs.stat_func.rms_calc import rms_calc"
   ]
  },
  {
   "cell_type": "markdown",
   "metadata": {},
   "source": [
    "Read the two catalogs and cross-match them to get the list of common sources as well as their position information from each catalog."
   ]
  },
  {
   "cell_type": "code",
   "execution_count": 2,
   "metadata": {},
   "outputs": [],
   "source": [
    "# Read Gaia DR2 IERS quasar data\n",
    "from my_progs.catalog.read_gaia import read_dr2_iers\n",
    "\n",
    "gaiadr2 = read_dr2_iers()\n",
    "\n",
    "# Read ICRF1 catalog\n",
    "from my_progs.catalog.read_icrf import read_icrf1\n",
    "icrf1 = read_icrf1()\n",
    "\n",
    "# Crossmatch among these three catalogs\n",
    "common_source = join(icrf1, gaiadr2, keys=\"iers_name\", table_names=[\"icrf1\", \"gaiadr2\"]) "
   ]
  },
  {
   "cell_type": "markdown",
   "metadata": {},
   "source": [
    "Calculate the position difference, based on which I also calculate the angular separation and normalized separation."
   ]
  },
  {
   "cell_type": "code",
   "execution_count": 3,
   "metadata": {},
   "outputs": [],
   "source": [
    "# The positonal offset for common sources between GaiaDR2 and ICRF1.\n",
    "[dRA, dDC, dRA_err, dDC_err, dRA_dDC_cov,\n",
    " ang_sep, X_a, X_d, X] = pos_diff_calc(\n",
    "    common_source[\"ra_icrf1\"], common_source[\"ra_err_icrf1\"],\n",
    "    common_source[\"dec_icrf1\"], common_source[\"dec_err_icrf1\"],\n",
    "    common_source[\"ra_dec_corr_icrf1\"],\n",
    "    common_source[\"ra_gaiadr2\"], common_source[\"ra_err_gaiadr2\"],\n",
    "    common_source[\"dec_gaiadr2\"], common_source[\"dec_err_gaiadr2\"],\n",
    "    common_source[\"ra_dec_corr_gaiadr2\"])\n",
    "\n",
    "common_source.add_columns(\n",
    "    [dRA, dDC, dRA_err, dDC_err, dRA_dDC_cov, ang_sep, X_a, X_d, X],\n",
    "    names=[\"dra\", \"ddec\", \"dra_err\", \"ddec_err\", \"dra_ddec_cov\",\n",
    "           \"ang_sep\", \"nor_dra\",  \"nor_ddec\", \"nor_sep\"])\n",
    "\n",
    "common_source[\"dra\"].unit = u.mas\n",
    "common_source[\"ddec\"].unit = u.mas\n",
    "common_source[\"dra_err\"].unit = u.mas"
   ]
  },
  {
   "cell_type": "code",
   "execution_count": 4,
   "metadata": {},
   "outputs": [
    {
     "data": {
      "text/html": [
       "<i>Table masked=True length=490</i>\n",
       "<table id=\"table4775406096\" class=\"table-striped table-bordered table-condensed\">\n",
       "<thead><tr><th>icrf_name</th><th>iers_name</th><th>type</th><th>ra_icrf1</th><th>dec_icrf1</th><th>si_s</th><th>si_x</th><th>ra_err_icrf1</th><th>dec_err_icrf1</th><th>pos_err_icrf1</th><th>ra_dec_corr_icrf1</th><th>mean_obs</th><th>beg_obs</th><th>end_obs</th><th>nb_sess</th><th>nb_del</th><th>source_id</th><th>ra_gaiadr2</th><th>ra_err_gaiadr2</th><th>dec_gaiadr2</th><th>dec_err_gaiadr2</th><th>pos_err_gaiadr2</th><th>parallax</th><th>parallax_err</th><th>pmra</th><th>pmra_err</th><th>pmdec</th><th>pmdec_err</th><th>ra_dec_corr_gaiadr2</th><th>ra_parallax_corr</th><th>ra_pmra_corr</th><th>ra_pmdec_corr</th><th>dec_parallax_corr</th><th>dec_pmra_corr</th><th>dec_pmdec_corr</th><th>parallax_pmra_corr</th><th>parallax_pmdec_corr</th><th>pmra_pmdec_corr</th><th>phot_g_mean_mag</th><th>phot_bp_mean_mag</th><th>phot_rp_mean_mag</th><th>dra</th><th>ddec</th><th>dra_err</th><th>ddec_err</th><th>dra_ddec_cov</th><th>ang_sep</th><th>nor_dra</th><th>nor_ddec</th><th>nor_sep</th></tr></thead>\n",
       "<thead><tr><th></th><th></th><th></th><th>deg</th><th>deg</th><th></th><th></th><th>mas</th><th>mas</th><th>mas</th><th></th><th></th><th></th><th></th><th></th><th></th><th></th><th>deg</th><th>mas</th><th>deg</th><th>mas</th><th>mas</th><th>mas</th><th>mas</th><th>mas / yr</th><th>mas / yr</th><th>mas / yr</th><th>mas / yr</th><th></th><th></th><th></th><th></th><th></th><th></th><th></th><th></th><th></th><th></th><th>mag</th><th>mag</th><th>mag</th><th>mas</th><th>mas</th><th>mas</th><th>mas</th><th></th><th>deg</th><th>deg</th><th>deg</th><th>deg</th></tr></thead>\n",
       "<thead><tr><th>str16</th><th>str8</th><th>str1</th><th>float64</th><th>float64</th><th>int64</th><th>int64</th><th>float64</th><th>float64</th><th>float64</th><th>float64</th><th>float64</th><th>float64</th><th>float64</th><th>int64</th><th>int64</th><th>int64</th><th>float64</th><th>float64</th><th>float64</th><th>float64</th><th>float64</th><th>float64</th><th>float64</th><th>float64</th><th>float64</th><th>float64</th><th>float64</th><th>float32</th><th>float32</th><th>float32</th><th>float32</th><th>float32</th><th>float32</th><th>float32</th><th>float32</th><th>float32</th><th>float32</th><th>float32</th><th>float32</th><th>float32</th><th>float64</th><th>float64</th><th>float64</th><th>float64</th><th>float64</th><th>float64</th><th>float64</th><th>float64</th><th>float64</th></tr></thead>\n",
       "<tr><td>J000435.6-473619</td><td>0002-478</td><td>C</td><td>1.1485649833333333</td><td>-47.60544543333334</td><td>--</td><td>--</td><td>0.7989651584169764</td><td>0.97</td><td>0.970368462441557</td><td>0.019</td><td>2449436.0</td><td>2449331.0</td><td>2449525.2</td><td>3</td><td>7</td><td>4978016560925910400</td><td>1.1485644787260738</td><td>0.32535001967377664</td><td>-47.60544549244506</td><td>0.38175267275937685</td><td>0.4046925099699907</td><td>-0.394507921304075</td><td>0.5551341682993441</td><td>0.10766725569112054</td><td>0.5623357858130931</td><td>-0.2990603581366252</td><td>0.6935629455335646</td><td>-0.2602696</td><td>0.38209838</td><td>-0.3261622</td><td>-0.043664124</td><td>-0.36382514</td><td>0.12289763</td><td>-0.07530141</td><td>-0.16826801</td><td>-0.2654429</td><td>-0.06584475</td><td>19.847563</td><td>19.998808</td><td>19.225542</td><td>1.2248008680027802</td><td>0.21280219186792237</td><td>0.8626690904779137</td><td>1.0424179119522687</td><td>-0.01760140111750944</td><td>1.2431500066863033</td><td>1.4197806337587076</td><td>0.20414287727402977</td><td>1.4386070836147198</td></tr>\n",
       "<tr><td>J000557.1+382015</td><td>0003+380</td><td>D</td><td>1.488230870833333</td><td>38.33754126944444</td><td>--</td><td>--</td><td>0.482387618423914</td><td>0.51</td><td>0.5132372638901311</td><td>-0.041</td><td>2449087.5</td><td>2448721.4</td><td>2449555.3</td><td>2</td><td>41</td><td>2880735415555982976</td><td>1.4882330572178368</td><td>0.2284371807502203</td><td>38.337539859379994</td><td>0.17763597364941844</td><td>0.22845829198943232</td><td>0.1593562094722022</td><td>0.3646175286281955</td><td>0.28592281784064194</td><td>0.43330939124983037</td><td>-0.26680058654512034</td><td>0.2873635197110239</td><td>-0.010995329</td><td>0.39091006</td><td>-0.22830355</td><td>0.044289686</td><td>0.058109067</td><td>-0.05278489</td><td>0.06332331</td><td>-0.313217</td><td>0.13932036</td><td>-0.18161543</td><td>18.399437</td><td>18.87687</td><td>17.15951</td><td>-6.173764763646617</td><td>5.076232017131588</td><td>0.5337427844550261</td><td>0.5400504968374503</td><td>-0.010532900844055969</td><td>7.992715611642666</td><td>-11.566928759421621</td><td>9.399550684349212</td><td>14.645340650304684</td></tr>\n",
       "<tr><td>J000613.8-062335</td><td>0003-066</td><td>C</td><td>1.5578870291666664</td><td>-6.3931485694444445</td><td>3</td><td>1</td><td>0.2832276538311365</td><td>0.33999999999999997</td><td>0.39501575086843943</td><td>-0.575</td><td>2448728.6</td><td>2447177.0</td><td>2449566.4</td><td>41</td><td>114</td><td>2442050857556048000</td><td>1.5578870064695536</td><td>0.09430468606721869</td><td>-6.39314865050367</td><td>0.062095265856561006</td><td>0.09842497204589487</td><td>0.21968984080969833</td><td>0.1202299976697474</td><td>-0.2807910312361741</td><td>0.21287585729116837</td><td>-0.1650042495297552</td><td>0.12258446418311031</td><td>0.36748704</td><td>0.21541953</td><td>0.022390373</td><td>-0.16457231</td><td>-0.22921939</td><td>-0.14024962</td><td>0.367701</td><td>-0.062028516</td><td>-0.44003168</td><td>0.44253242</td><td>17.154104</td><td>17.64587</td><td>16.27626</td><td>0.08120147397351682</td><td>0.2918132103957305</td><td>0.2985151214074871</td><td>0.345623815790806</td><td>-0.053219048299543034</td><td>0.30290036173127066</td><td>0.27201795872401724</td><td>0.844308745703898</td><td>1.1810726041473145</td></tr>\n",
       "<tr><td>J001031.0+105829</td><td>0007+106</td><td>D</td><td>2.6291911999999997</td><td>10.974862255555555</td><td>--</td><td>--</td><td>0.47122118583433</td><td>0.6799999999999999</td><td>0.7435696480712186</td><td>0.54</td><td>2447939.4</td><td>2447289.2</td><td>2449690.5</td><td>10</td><td>74</td><td>2753828099849995776</td><td>2.6291913864114305</td><td>0.07220077482853457</td><td>10.974862370062839</td><td>0.06707566002756404</td><td>0.0875928007083494</td><td>0.018340715809109804</td><td>0.08860360711177596</td><td>0.07580367036677091</td><td>0.18396191345882698</td><td>-0.09401610870812523</td><td>0.1295897760761274</td><td>0.57687277</td><td>-0.1823899</td><td>0.18857054</td><td>-0.47303343</td><td>-0.3376961</td><td>-0.09783556</td><td>-0.7220726</td><td>-0.3267124</td><td>0.20573594</td><td>0.17586473</td><td>15.943655</td><td>16.163437</td><td>15.158809</td><td>-0.6588076158334932</td><td>-0.41222622115810736</td><td>0.47672041897211925</td><td>0.6833001859857301</td><td>0.1758261649943276</td><td>0.7771473039845821</td><td>-1.3819580400058828</td><td>-0.6032871490638175</td><td>1.3923088132573538</td></tr>\n",
       "<tr><td>J001033.9+172418</td><td>0007+171</td><td>D</td><td>2.6416275791666664</td><td>17.40521148611111</td><td>--</td><td>--</td><td>0.30057713422969745</td><td>0.35</td><td>0.38944467653748166</td><td>-0.402</td><td>2448731.3</td><td>2447932.1</td><td>2449663.3</td><td>19</td><td>57</td><td>2796761658092712320</td><td>2.641627872611432</td><td>0.0880838397806315</td><td>17.40521140333286</td><td>0.06745247810418324</td><td>0.09503344441519031</td><td>-0.07931939107123928</td><td>0.10921427493985546</td><td>-0.3146559480625118</td><td>0.23769506043140406</td><td>0.17536376298239104</td><td>0.13300485119183805</td><td>0.4019418</td><td>0.12268598</td><td>-0.36085337</td><td>-0.23849624</td><td>0.05591233</td><td>-0.12041949</td><td>-0.57465863</td><td>0.2500915</td><td>-0.24287839</td><td>0.081157915</td><td>16.985485</td><td>17.106474</td><td>16.682125</td><td>-1.0080318487408981</td><td>0.2980017001164015</td><td>0.31321777799517947</td><td>0.3564405094856578</td><td>-0.03990307628754852</td><td>1.0511580382360488</td><td>-3.2183098136798995</td><td>0.8360489119107609</td><td>3.2358484167440724</td></tr>\n",
       "<tr><td>J001101.2-261233</td><td>0008-264</td><td>C</td><td>2.7551947999999995</td><td>-26.209271349999998</td><td>--</td><td>--</td><td>0.47102313058519535</td><td>0.39999999999999997</td><td>0.5264251833925705</td><td>-0.427</td><td>2448892.9</td><td>2447686.6</td><td>2449791.2</td><td>7</td><td>38</td><td>2335249516418438272</td><td>2.7551948192602023</td><td>0.26474200864756736</td><td>-26.209271412091674</td><td>0.19152239774407323</td><td>0.2648242736959451</td><td>0.48838471517326665</td><td>0.33995235834184195</td><td>-0.3814735727827663</td><td>0.4874481854801042</td><td>-0.7575069949813538</td><td>0.39611172288816077</td><td>0.02380841</td><td>0.26370704</td><td>0.4832799</td><td>-0.14790614</td><td>-0.008249272</td><td>-0.09487959</td><td>0.23874593</td><td>-0.05463864</td><td>-0.37078896</td><td>0.17084321</td><td>18.927097</td><td>18.99775</td><td>18.506237</td><td>-0.06220800687458062</td><td>0.22353003288344553</td><td>0.5403250139397829</td><td>0.4434871236435608</td><td>-0.07924356848541278</td><td>0.23202480841535483</td><td>-0.11513071812276574</td><td>0.5040282365967877</td><td>0.5069793361418949</td></tr>\n",
       "<tr><td>J001331.1+405137</td><td>0010+405</td><td>D</td><td>3.379709220833333</td><td>40.86031779722222</td><td>2</td><td>1</td><td>0.29495963311504103</td><td>0.33999999999999997</td><td>0.34073318132559427</td><td>-0.038</td><td>2449550.1</td><td>2448435.2</td><td>2449821.0</td><td>7</td><td>219</td><td>383084664461521536</td><td>3.379709059533647</td><td>0.30642273194190933</td><td>40.86031817758646</td><td>0.18262136689914535</td><td>0.308104947689734</td><td>0.015450318433697707</td><td>0.35624755363875243</td><td>0.7872298627334215</td><td>0.5711080651114665</td><td>-0.2178478450070414</td><td>0.2812835079111348</td><td>-0.14257787</td><td>0.3022634</td><td>-0.31667477</td><td>0.19280086</td><td>-0.09837172</td><td>0.18864177</td><td>-0.4105155</td><td>-0.2648572</td><td>0.19643839</td><td>-0.21485445</td><td>19.07663</td><td>19.004562</td><td>17.54357</td><td>0.439171349718924</td><td>-1.3693112435930743</td><td>0.4253187931635549</td><td>0.38594114013423375</td><td>-0.011789441794793543</td><td>1.4380141710860688</td><td>1.032569820045648</td><td>-3.5479794745820974</td><td>3.6326553443164165</td></tr>\n",
       "<tr><td>J001611.0-001512</td><td>0013-005</td><td>C</td><td>4.046202312499999</td><td>-0.2534570388888889</td><td>--</td><td>--</td><td>0.29999706468982845</td><td>0.36999999999999994</td><td>0.438129719663334</td><td>-0.675</td><td>2448920.8</td><td>2447394.6</td><td>2449612.4</td><td>27</td><td>116</td><td>2545226894107313280</td><td>4.04620223886711</td><td>0.5199497615091785</td><td>-0.2534567177719667</td><td>0.40458852429884573</td><td>0.5693752180307423</td><td>-0.2668020919110768</td><td>0.5850124781518719</td><td>0.7958618246788018</td><td>1.2942813415451033</td><td>0.4021532440687492</td><td>0.9046718137399743</td><td>0.44188738</td><td>0.2626055</td><td>0.031097455</td><td>-0.2671943</td><td>0.13440219</td><td>-0.21924527</td><td>-0.4057419</td><td>0.058564566</td><td>-0.038882617</td><td>0.3014373</td><td>19.783754</td><td>20.087801</td><td>19.018677</td><td>0.2650758072051452</td><td>-1.1560209197902793</td><td>0.600288258519159</td><td>0.5482625958373575</td><td>0.018033683802390857</td><td>1.1860225759057974</td><td>0.44158086293251214</td><td>-2.108516846794367</td><td>2.1810905344130735</td></tr>\n",
       "<tr><td>J001708.4+813508</td><td>0014+813</td><td>D</td><td>4.285312304166666</td><td>81.585593425</td><td>--</td><td>--</td><td>0.26559216022989746</td><td>0.25999999999999995</td><td>0.2660013495052402</td><td>0.012</td><td>2449505.7</td><td>2447024.2</td><td>2449925.3</td><td>78</td><td>1453</td><td>566773097086885888</td><td>4.285312440548926</td><td>0.050040287037443475</td><td>81.58559353614801</td><td>0.04497410638739876</td><td>0.05222863526341198</td><td>0.04178755889367804</td><td>0.06456981229733462</td><td>-0.04152490147858247</td><td>0.0884946640386973</td><td>0.36187774386036964</td><td>0.0824546138258282</td><td>0.17651905</td><td>0.47988275</td><td>-0.3098118</td><td>0.2805213</td><td>0.2802447</td><td>-0.039190717</td><td>-0.06265387</td><td>-0.37087914</td><td>0.4873081</td><td>-0.15586254</td><td>16.335682</td><td>16.817646</td><td>15.715199</td><td>-0.07184540599315682</td><td>-0.4001328420599748</td><td>0.2702651030051295</td><td>0.26386108133892167</td><td>0.0012259066995003105</td><td>0.40653173757692557</td><td>-0.2658330846057962</td><td>-1.5164526728593828</td><td>1.5352956121539443</td></tr>\n",
       "<tr><td>...</td><td>...</td><td>...</td><td>...</td><td>...</td><td>...</td><td>...</td><td>...</td><td>...</td><td>...</td><td>...</td><td>...</td><td>...</td><td>...</td><td>...</td><td>...</td><td>...</td><td>...</td><td>...</td><td>...</td><td>...</td><td>...</td><td>...</td><td>...</td><td>...</td><td>...</td><td>...</td><td>...</td><td>...</td><td>...</td><td>...</td><td>...</td><td>...</td><td>...</td><td>...</td><td>...</td><td>...</td><td>...</td><td>...</td><td>...</td><td>...</td><td>...</td><td>...</td><td>...</td><td>...</td><td>...</td><td>...</td><td>...</td><td>...</td><td>...</td></tr>\n",
       "<tr><td>J233355.2-234340</td><td>2331-240</td><td>C</td><td>353.4801575083333</td><td>-23.727960505555554</td><td>--</td><td>--</td><td>1.0985595991712105</td><td>2.3299999999999996</td><td>2.492226547377036</td><td>-0.773</td><td>2448804.3</td><td>2446876.3</td><td>2449399.0</td><td>25</td><td>67</td><td>2387208145275074176</td><td>353.480157698859</td><td>0.09535352890122648</td><td>-23.727960804113035</td><td>0.10781438459948149</td><td>0.11323782073899248</td><td>-0.17023496798836535</td><td>0.11855322038290578</td><td>0.04783767014031355</td><td>0.18937905678220057</td><td>0.24994846410427338</td><td>0.18411132480394563</td><td>0.20570992</td><td>0.25075</td><td>0.21117699</td><td>-0.29232407</td><td>-0.24338967</td><td>-0.23770982</td><td>-0.29604524</td><td>-0.10514768</td><td>-0.24167125</td><td>0.28827444</td><td>16.85326</td><td>16.87638</td><td>15.600545</td><td>-0.6279114048419774</td><td>1.0748069314558961</td><td>1.1026901144043724</td><td>2.3324930742719396</td><td>-1.976489911340555</td><td>1.2447821786305688</td><td>-0.5694359608738754</td><td>0.4607974803060817</td><td>0.5705899034118063</td></tr>\n",
       "<tr><td>J233757.3-023057</td><td>2335-027</td><td>C</td><td>354.4889128458333</td><td>-2.5160081194444444</td><td>3</td><td>1</td><td>1.4386118336299696</td><td>7.839999999999999</td><td>7.908475540982136</td><td>-0.716</td><td>2448730.4</td><td>2447941.8</td><td>2449600.8</td><td>24</td><td>40</td><td>2639666765315416448</td><td>354.48891290974467</td><td>0.385075419617306</td><td>-2.5160080164182554</td><td>0.22498289077742264</td><td>0.3872788277155713</td><td>-0.4812487514357988</td><td>0.493112084948454</td><td>-0.30747221902732524</td><td>0.8068489235357064</td><td>0.15941923843269737</td><td>0.39007345876470273</td><td>0.15010074</td><td>0.26416644</td><td>-0.48207614</td><td>-0.25262552</td><td>-0.4253793</td><td>-0.29385114</td><td>-0.03441007</td><td>0.22288671</td><td>-0.54804194</td><td>-0.09450632</td><td>19.100044</td><td>19.240416</td><td>18.520231</td><td>-0.22985919196619217</td><td>-0.3708942800884074</td><td>1.4892572264903157</td><td>7.843227479879858</td><td>-8.062557176752321</td><td>0.4363459809986209</td><td>-0.1543448558634118</td><td>-0.047288476719546675</td><td>0.26271294042721133</td></tr>\n",
       "<tr><td>J234636.8+093045</td><td>2344+092</td><td>C</td><td>356.65349399999997</td><td>9.512643036111111</td><td>--</td><td>--</td><td>0.29587474730710184</td><td>0.32</td><td>0.37278158724492827</td><td>-0.458</td><td>2448574.1</td><td>2447289.2</td><td>2449668.4</td><td>25</td><td>122</td><td>2759774705410731264</td><td>356.6534938899708</td><td>0.0426526775710515</td><td>9.512642899082913</td><td>0.03125192614768349</td><td>0.048447923483197236</td><td>-0.03430700925679258</td><td>0.0617342619291734</td><td>0.12331279699307326</td><td>0.10977617229799654</td><td>0.008095570866687963</td><td>0.05817221775718438</td><td>0.6381399</td><td>0.06602873</td><td>-0.18331477</td><td>0.044902626</td><td>0.096517965</td><td>-0.19064519</td><td>0.25037062</td><td>-0.045145713</td><td>-0.28893563</td><td>0.25370923</td><td>15.999603</td><td>16.125044</td><td>15.685866</td><td>0.39065830932757817</td><td>0.49330151483673035</td><td>0.29893329857682543</td><td>0.32152244538747254</td><td>-0.04251277630274461</td><td>0.6292537637447191</td><td>1.3068410618269732</td><td>1.5342677374895048</td><td>2.6934976639287203</td></tr>\n",
       "<tr><td>J234802.6-163112</td><td>2345-167</td><td>O</td><td>357.0108688208333</td><td>-16.520006019444445</td><td>--</td><td>--</td><td>1.9989322561029017</td><td>2.8699999999999997</td><td>2.8699999999999997</td><td>0.0</td><td>2447713.4</td><td>2446441.4</td><td>2449663.3</td><td>153</td><td>849</td><td>2418459250738154752</td><td>357.01086885913185</td><td>0.1215845646653529</td><td>-16.520006189273268</td><td>0.11318014944698651</td><td>0.13721083232512152</td><td>-0.14485797669751643</td><td>0.1764094687421438</td><td>-0.128025009303783</td><td>0.3160233886256911</td><td>0.12716948098057462</td><td>0.142134097459014</td><td>0.35846734</td><td>-0.33160758</td><td>-0.02319935</td><td>-0.11670056</td><td>-0.6700219</td><td>-0.26054284</td><td>-0.1429501</td><td>0.14742085</td><td>-0.28725424</td><td>-0.052098967</td><td>17.557684</td><td>17.774647</td><td>16.863018</td><td>-0.1321833363785743</td><td>0.611383762816331</td><td>2.0026265180640896</td><td>2.87223079612848</td><td>0.004932854446470211</td><td>0.6255098239449377</td><td>-0.06600498654454752</td><td>0.21286024912775942</td><td>0.22291316339429748</td></tr>\n",
       "<tr><td>J235421.6+455304</td><td>2351+456</td><td>O</td><td>358.5903344791666</td><td>45.884510191666664</td><td>--</td><td>--</td><td>1.0023939580014523</td><td>1.27</td><td>1.27</td><td>0.0</td><td>2448370.6</td><td>2447011.9</td><td>2449663.3</td><td>29</td><td>172</td><td>1927119325700619520</td><td>358.5903342320278</td><td>1.39309475662538</td><td>45.88451064719807</td><td>1.1604676214052376</td><td>1.5303285133444786</td><td>0.07272744792622636</td><td>1.4664069126274226</td><td>1.9488855184992058</td><td>2.185899730571533</td><td>-0.6020301131758019</td><td>2.121042348461379</td><td>0.39086092</td><td>0.6067581</td><td>-0.20379017</td><td>-0.044012513</td><td>0.12231644</td><td>-0.23437402</td><td>-0.58012813</td><td>-0.25193134</td><td>0.13885045</td><td>0.4251534</td><td>20.839323</td><td>21.27384</td><td>19.82888</td><td>0.6193259931615746</td><td>-1.6399130629451975</td><td>1.7162478399039411</td><td>1.7203444714155156</td><td>0.63188192095188</td><td>1.752963074289892</td><td>0.3608604647661135</td><td>-0.9532469166456307</td><td>1.1149309668956011</td></tr>\n",
       "<tr><td>J235430.1-151311</td><td>2351-154</td><td>C</td><td>358.6258132749999</td><td>-15.219781347222222</td><td>--</td><td>--</td><td>1.490810540592368</td><td>5.38</td><td>5.47718811407837</td><td>-0.675</td><td>2448664.7</td><td>2447394.6</td><td>2449695.3</td><td>31</td><td>62</td><td>2419029072639563520</td><td>358.625813243284</td><td>0.22064935989437928</td><td>-15.219781404437484</td><td>0.1953222385688152</td><td>0.22787521178356082</td><td>-0.18502662889415358</td><td>0.3289589655639355</td><td>0.192322059709724</td><td>0.4173993188931046</td><td>0.29679807502502265</td><td>0.38160330937517317</td><td>0.15504228</td><td>0.4002139</td><td>0.1276371</td><td>-0.27456176</td><td>-0.34689143</td><td>0.0049542096</td><td>0.32298347</td><td>-0.24692526</td><td>-0.6110662</td><td>0.4093742</td><td>18.602083</td><td>18.682795</td><td>18.203224</td><td>0.11017277274049335</td><td>0.2059749427019142</td><td>1.5070508312472768</td><td>5.383544443661585</td><td>-5.407196508499319</td><td>0.233588777286892</td><td>0.07310488170416345</td><td>0.03826009887304312</td><td>0.13768138168220337</td></tr>\n",
       "<tr><td>J235600.6-682003</td><td>2353-686</td><td>C</td><td>359.0028394083333</td><td>-68.33429766111111</td><td>--</td><td>--</td><td>0.5703993313001</td><td>0.5599999999999999</td><td>0.5713972446607176</td><td>-0.012</td><td>2448561.2</td><td>2448162.9</td><td>2448757.9</td><td>3</td><td>17</td><td>6388517703930661120</td><td>359.00283886006576</td><td>0.08000236668761242</td><td>-68.33429765869606</td><td>0.05857319353947646</td><td>0.08326915683315461</td><td>-0.0627691151135061</td><td>0.07653346205878558</td><td>0.0162300614961933</td><td>0.156510981166885</td><td>-0.028103803989977694</td><td>0.11011765859550571</td><td>-0.2916957</td><td>0.34050587</td><td>-0.62697864</td><td>0.17142604</td><td>-0.16964883</td><td>0.25796485</td><td>-0.20056066</td><td>-0.16177763</td><td>-0.25275314</td><td>-0.31008592</td><td>17.075771</td><td>17.292566</td><td>16.718956</td><td>0.7286945705115706</td><td>-0.008694178177393042</td><td>0.5759824440234446</td><td>0.5630548987455956</td><td>-0.005199967903341086</td><td>0.7287464345211045</td><td>1.2651333006287082</td><td>-0.015441084336114306</td><td>1.2651425764692585</td></tr>\n",
       "<tr><td>J235810.8-102008</td><td>2355-106</td><td>C</td><td>359.5453433916666</td><td>-10.335725366666667</td><td>--</td><td>--</td><td>0.2656188069249207</td><td>0.27999999999999997</td><td>0.30705147641036334</td><td>-0.261</td><td>2448849.3</td><td>2447394.6</td><td>2449884.3</td><td>134</td><td>616</td><td>2422872351110808192</td><td>359.54534323723965</td><td>0.1905380579442601</td><td>-10.335725403055726</td><td>0.15167895191516934</td><td>0.1911705200173323</td><td>-0.16464643453540598</td><td>0.332696850459842</td><td>0.290921418303612</td><td>0.40191852743395295</td><td>0.2090650082949943</td><td>0.4203019343849905</td><td>-0.0625576</td><td>0.34870195</td><td>-0.07759403</td><td>-0.26442373</td><td>-0.6888313</td><td>0.32645294</td><td>0.89081925</td><td>-0.24580489</td><td>-0.76916164</td><td>0.48794174</td><td>18.167616</td><td>18.325289</td><td>17.523247</td><td>0.5469161030937261</td><td>0.13100061195814305</td><td>0.32689157547631675</td><td>0.31844387959903425</td><td>-0.021219375406112143</td><td>0.5623863299873453</td><td>1.6730810584421134</td><td>0.4113773897086397</td><td>1.8411641188791823</td></tr>\n",
       "<tr><td>J235753.2-531113</td><td>2355-534</td><td>C</td><td>359.4719421791666</td><td>-53.187135925</td><td>--</td><td>--</td><td>0.3595220183968665</td><td>0.48</td><td>0.48905825187160545</td><td>0.18</td><td>2448517.3</td><td>2447627.0</td><td>2449791.2</td><td>18</td><td>81</td><td>6521373648123690752</td><td>359.4719416213655</td><td>0.12014592035167172</td><td>-53.18713599970871</td><td>0.12934814562092342</td><td>0.142284498229031</td><td>-0.43224461610391285</td><td>0.23119595273831342</td><td>0.04937268847244068</td><td>0.2390585622847201</td><td>0.15459976938193157</td><td>0.26938416963154255</td><td>-0.29074323</td><td>0.26899406</td><td>0.08389334</td><td>-0.10656354</td><td>-0.04506682</td><td>0.015091062</td><td>-0.0119688045</td><td>0.18137583</td><td>-0.47678226</td><td>-0.28519723</td><td>18.812849</td><td>18.973099</td><td>18.330183</td><td>1.203250697493342</td><td>0.26895135079030297</td><td>0.3790661207352974</td><td>0.4971226637114542</td><td>0.026544363002734536</td><td>1.23294244395679</td><td>3.1742501681746815</td><td>0.5410160719335276</td><td>3.1756663781454435</td></tr>\n",
       "<tr><td>J235933.1+385042</td><td>2356+385</td><td>C</td><td>359.88825323749995</td><td>38.845088322222225</td><td>--</td><td>--</td><td>0.9930268959437162</td><td>1.44</td><td>1.4855332719114824</td><td>-0.282</td><td>2449520.3</td><td>2449520.3</td><td>2449520.3</td><td>1</td><td>4</td><td>2881745587567781760</td><td>359.88825312006725</td><td>0.3122550702098679</td><td>38.845088418055596</td><td>0.14957294662511464</td><td>0.3125311707784482</td><td>-0.3226471676095256</td><td>0.3998854411416378</td><td>0.07389660333602562</td><td>0.409974227884268</td><td>-0.32793487771015584</td><td>0.2512880415967207</td><td>-0.07716936</td><td>0.7154714</td><td>-0.5760371</td><td>0.13291238</td><td>-0.12518246</td><td>0.07583458</td><td>-0.20194124</td><td>-0.43976322</td><td>0.11922228</td><td>-0.20147415</td><td>18.92799</td><td>19.181053</td><td>18.476099</td><td>0.3292625925565406</td><td>-0.34500013725846657</td><td>1.0409638057777906</td><td>1.4477472384232404</td><td>-0.4068525499323862</td><td>0.47690559816950695</td><td>0.3163055148786092</td><td>-0.23830136097113921</td><td>0.35393302357756995</td></tr>\n",
       "</table>"
      ],
      "text/plain": [
       "<Table masked=True length=490>\n",
       "   icrf_name     iers_name type ...        nor_ddec             nor_sep      \n",
       "                                ...          deg                  deg        \n",
       "     str16          str8   str1 ...        float64              float64      \n",
       "---------------- --------- ---- ... --------------------- -------------------\n",
       "J000435.6-473619  0002-478    C ...   0.20414287727402977  1.4386070836147198\n",
       "J000557.1+382015  0003+380    D ...     9.399550684349212  14.645340650304684\n",
       "J000613.8-062335  0003-066    C ...     0.844308745703898  1.1810726041473145\n",
       "J001031.0+105829  0007+106    D ...   -0.6032871490638175  1.3923088132573538\n",
       "J001033.9+172418  0007+171    D ...    0.8360489119107609  3.2358484167440724\n",
       "J001101.2-261233  0008-264    C ...    0.5040282365967877  0.5069793361418949\n",
       "J001331.1+405137  0010+405    D ...   -3.5479794745820974  3.6326553443164165\n",
       "J001611.0-001512  0013-005    C ...    -2.108516846794367  2.1810905344130735\n",
       "J001708.4+813508  0014+813    D ...   -1.5164526728593828  1.5352956121539443\n",
       "             ...       ...  ... ...                   ...                 ...\n",
       "J233355.2-234340  2331-240    C ...    0.4607974803060817  0.5705899034118063\n",
       "J233757.3-023057  2335-027    C ... -0.047288476719546675 0.26271294042721133\n",
       "J234636.8+093045  2344+092    C ...    1.5342677374895048  2.6934976639287203\n",
       "J234802.6-163112  2345-167    O ...   0.21286024912775942 0.22291316339429748\n",
       "J235421.6+455304  2351+456    O ...   -0.9532469166456307  1.1149309668956011\n",
       "J235430.1-151311  2351-154    C ...   0.03826009887304312 0.13768138168220337\n",
       "J235600.6-682003  2353-686    C ... -0.015441084336114306  1.2651425764692585\n",
       "J235810.8-102008  2355-106    C ...    0.4113773897086397  1.8411641188791823\n",
       "J235753.2-531113  2355-534    C ...    0.5410160719335276  3.1756663781454435\n",
       "J235933.1+385042  2356+385    C ...  -0.23830136097113921 0.35393302357756995"
      ]
     },
     "execution_count": 4,
     "metadata": {},
     "output_type": "execute_result"
    }
   ],
   "source": [
    "common_source"
   ]
  },
  {
   "cell_type": "code",
   "execution_count": 5,
   "metadata": {},
   "outputs": [
    {
     "name": "stderr",
     "output_type": "stream",
     "text": [
      "The PostScript backend does not support transparency; partially transparent artists will be rendered opaque.\n"
     ]
    },
    {
     "data": {
      "image/png": "[encoded data removed]",
      "text/plain": [
       "<Figure size 432x288 with 1 Axes>"
      ]
     },
     "metadata": {
      "needs_background": "light"
     },
     "output_type": "display_data"
    }
   ],
   "source": [
    "fig, ax = plt.subplots()\n",
    "\n",
    "bins_array = np.arange(12.5, 21.1, 0.1)\n",
    "\n",
    "ax.hist(common_source[\"phot_g_mean_mag\"], bins_array, histtype=\"step\", alpha=0.75,\n",
    "       cumulative=True)\n",
    "ax.vlines(18.7, 0, 500, lw=0.5, color=\"r\")\n",
    "ax.axis([12.5, 21, 0, 500])\n",
    "\n",
    "ax.text(19, 150, \"$G$ = 18.7\", fontsize=12)\n",
    "\n",
    "ax.grid()\n",
    "ax.set_xlabel(\"$G$ (mag)\")\n",
    "ax.set_ylabel(\"NO. common sources\")\n",
    "\n",
    "ax.xaxis.set_ticks_position(\"both\")\n",
    "ax.yaxis.set_ticks_position(\"both\")\n",
    "\n",
    "fig.tight_layout()\n",
    "plt.savefig(\"../plots/comsou-g_icrf1_gaiadr2.eps\")"
   ]
  },
  {
   "cell_type": "code",
   "execution_count": 34,
   "metadata": {},
   "outputs": [
    {
     "name": "stdout",
     "output_type": "stream",
     "text": [
      "The 100th source corresponds to g=16.97 mag\n"
     ]
    }
   ],
   "source": [
    "tmp = Table(common_source)\n",
    "tmp.sort(\"phot_g_mean_mag\")\n",
    "print(\"The 100th source corresponds to g={:.2f} mag\".format(tmp[99][\"phot_g_mean_mag\"]))"
   ]
  },
  {
   "cell_type": "markdown",
   "metadata": {},
   "source": [
    "Here I divided radio sources into three catagories as done in the ICRF1 catalog, which are 'Defining', 'Candidates', and 'Others'."
   ]
  },
  {
   "cell_type": "code",
   "execution_count": 7,
   "metadata": {},
   "outputs": [],
   "source": [
    "# Seperate the sources into the \"defining \",\"Candidates\", and \"Others\".\n",
    "# Defining sources\n",
    "mask_def = (common_source[\"type\"] == \"D\")\n",
    "com_def = common_source[mask_def]\n",
    "\n",
    "# Candidate sources\n",
    "mask_can = (common_source[\"type\"] == \"C\")\n",
    "com_can = common_source[mask_can]\n",
    "\n",
    "# Other sources\n",
    "mask_oth =  (common_source[\"type\"] == \"O\")\n",
    "com_oth = common_source[mask_oth]"
   ]
  },
  {
   "cell_type": "markdown",
   "metadata": {},
   "source": [
    "The distribution of position offset does not show any bias. \n",
    "\n",
    "As for the normalized position offset, no tail at high value could be found but we see a high peak around 0.\n",
    "\n",
    "This is clearly due to the large formal uncertainty given in the ICRF1 catalog."
   ]
  },
  {
   "cell_type": "code",
   "execution_count": 8,
   "metadata": {},
   "outputs": [
    {
     "data": {
      "image/png": "[encoded data removed]",
      "text/plain": [
       "<Figure size 576x288 with 2 Axes>"
      ]
     },
     "metadata": {
      "needs_background": "light"
     },
     "output_type": "display_data"
    }
   ],
   "source": [
    "# Difference in RA and decl.\n",
    "bins_array = np.linspace(-5, 5, 100)\n",
    "weights = np.ones_like(dRA) * 100. / dRA.size\n",
    "\n",
    "fig, (ax0, ax1) = plt.subplots(figsize=(8, 4), ncols=2)\n",
    "ax0.hist(dRA, bins_array, weights=weights, facecolor=\"g\", alpha=0.75)\n",
    "ax1.hist(dDC, bins_array, weights=weights, facecolor=\"g\", alpha=0.75)\n",
    "\n",
    "ax0.set_yticks(np.arange(0, 11, 2))\n",
    "ax1.set_yticks(np.arange(0, 11, 2))\n",
    "\n",
    "ax0.set_ylim([0, 10])\n",
    "ax1.set_ylim([0, 10])\n",
    "\n",
    "ax0.set_xlabel(\"$\\Delta\\\\alpha*$ (mas)\")\n",
    "ax1.set_xlabel(\"$\\Delta\\\\delta$ (mas)\")\n",
    "\n",
    "ax0.set_ylabel(\"% in bin\")\n",
    "ax1.set_ylabel(\"% in bin\")\n",
    "\n",
    "ax0.grid()\n",
    "ax1.grid()\n",
    "\n",
    "fig.tight_layout()\n",
    "plt.show()"
   ]
  },
  {
   "cell_type": "code",
   "execution_count": 9,
   "metadata": {},
   "outputs": [
    {
     "name": "stderr",
     "output_type": "stream",
     "text": [
      "The PostScript backend does not support transparency; partially transparent artists will be rendered opaque.\n",
      "The PostScript backend does not support transparency; partially transparent artists will be rendered opaque.\n",
      "The PostScript backend does not support transparency; partially transparent artists will be rendered opaque.\n",
      "The PostScript backend does not support transparency; partially transparent artists will be rendered opaque.\n",
      "The PostScript backend does not support transparency; partially transparent artists will be rendered opaque.\n",
      "The PostScript backend does not support transparency; partially transparent artists will be rendered opaque.\n",
      "The PostScript backend does not support transparency; partially transparent artists will be rendered opaque.\n",
      "The PostScript backend does not support transparency; partially transparent artists will be rendered opaque.\n",
      "The PostScript backend does not support transparency; partially transparent artists will be rendered opaque.\n",
      "The PostScript backend does not support transparency; partially transparent artists will be rendered opaque.\n",
      "The PostScript backend does not support transparency; partially transparent artists will be rendered opaque.\n",
      "The PostScript backend does not support transparency; partially transparent artists will be rendered opaque.\n",
      "The PostScript backend does not support transparency; partially transparent artists will be rendered opaque.\n",
      "The PostScript backend does not support transparency; partially transparent artists will be rendered opaque.\n",
      "The PostScript backend does not support transparency; partially transparent artists will be rendered opaque.\n",
      "The PostScript backend does not support transparency; partially transparent artists will be rendered opaque.\n",
      "The PostScript backend does not support transparency; partially transparent artists will be rendered opaque.\n",
      "The PostScript backend does not support transparency; partially transparent artists will be rendered opaque.\n",
      "The PostScript backend does not support transparency; partially transparent artists will be rendered opaque.\n",
      "The PostScript backend does not support transparency; partially transparent artists will be rendered opaque.\n",
      "The PostScript backend does not support transparency; partially transparent artists will be rendered opaque.\n",
      "The PostScript backend does not support transparency; partially transparent artists will be rendered opaque.\n",
      "The PostScript backend does not support transparency; partially transparent artists will be rendered opaque.\n",
      "The PostScript backend does not support transparency; partially transparent artists will be rendered opaque.\n",
      "The PostScript backend does not support transparency; partially transparent artists will be rendered opaque.\n",
      "The PostScript backend does not support transparency; partially transparent artists will be rendered opaque.\n",
      "The PostScript backend does not support transparency; partially transparent artists will be rendered opaque.\n",
      "The PostScript backend does not support transparency; partially transparent artists will be rendered opaque.\n",
      "The PostScript backend does not support transparency; partially transparent artists will be rendered opaque.\n",
      "The PostScript backend does not support transparency; partially transparent artists will be rendered opaque.\n",
      "The PostScript backend does not support transparency; partially transparent artists will be rendered opaque.\n",
      "The PostScript backend does not support transparency; partially transparent artists will be rendered opaque.\n",
      "The PostScript backend does not support transparency; partially transparent artists will be rendered opaque.\n",
      "The PostScript backend does not support transparency; partially transparent artists will be rendered opaque.\n",
      "The PostScript backend does not support transparency; partially transparent artists will be rendered opaque.\n",
      "The PostScript backend does not support transparency; partially transparent artists will be rendered opaque.\n",
      "The PostScript backend does not support transparency; partially transparent artists will be rendered opaque.\n",
      "The PostScript backend does not support transparency; partially transparent artists will be rendered opaque.\n",
      "The PostScript backend does not support transparency; partially transparent artists will be rendered opaque.\n",
      "The PostScript backend does not support transparency; partially transparent artists will be rendered opaque.\n",
      "The PostScript backend does not support transparency; partially transparent artists will be rendered opaque.\n",
      "The PostScript backend does not support transparency; partially transparent artists will be rendered opaque.\n",
      "The PostScript backend does not support transparency; partially transparent artists will be rendered opaque.\n",
      "The PostScript backend does not support transparency; partially transparent artists will be rendered opaque.\n",
      "The PostScript backend does not support transparency; partially transparent artists will be rendered opaque.\n",
      "The PostScript backend does not support transparency; partially transparent artists will be rendered opaque.\n",
      "The PostScript backend does not support transparency; partially transparent artists will be rendered opaque.\n",
      "The PostScript backend does not support transparency; partially transparent artists will be rendered opaque.\n",
      "The PostScript backend does not support transparency; partially transparent artists will be rendered opaque.\n",
      "The PostScript backend does not support transparency; partially transparent artists will be rendered opaque.\n",
      "The PostScript backend does not support transparency; partially transparent artists will be rendered opaque.\n",
      "The PostScript backend does not support transparency; partially transparent artists will be rendered opaque.\n",
      "The PostScript backend does not support transparency; partially transparent artists will be rendered opaque.\n",
      "The PostScript backend does not support transparency; partially transparent artists will be rendered opaque.\n",
      "The PostScript backend does not support transparency; partially transparent artists will be rendered opaque.\n",
      "The PostScript backend does not support transparency; partially transparent artists will be rendered opaque.\n",
      "The PostScript backend does not support transparency; partially transparent artists will be rendered opaque.\n",
      "The PostScript backend does not support transparency; partially transparent artists will be rendered opaque.\n",
      "The PostScript backend does not support transparency; partially transparent artists will be rendered opaque.\n",
      "The PostScript backend does not support transparency; partially transparent artists will be rendered opaque.\n",
      "The PostScript backend does not support transparency; partially transparent artists will be rendered opaque.\n",
      "The PostScript backend does not support transparency; partially transparent artists will be rendered opaque.\n",
      "The PostScript backend does not support transparency; partially transparent artists will be rendered opaque.\n",
      "The PostScript backend does not support transparency; partially transparent artists will be rendered opaque.\n",
      "The PostScript backend does not support transparency; partially transparent artists will be rendered opaque.\n",
      "The PostScript backend does not support transparency; partially transparent artists will be rendered opaque.\n",
      "The PostScript backend does not support transparency; partially transparent artists will be rendered opaque.\n",
      "The PostScript backend does not support transparency; partially transparent artists will be rendered opaque.\n",
      "The PostScript backend does not support transparency; partially transparent artists will be rendered opaque.\n",
      "The PostScript backend does not support transparency; partially transparent artists will be rendered opaque.\n",
      "The PostScript backend does not support transparency; partially transparent artists will be rendered opaque.\n",
      "The PostScript backend does not support transparency; partially transparent artists will be rendered opaque.\n",
      "The PostScript backend does not support transparency; partially transparent artists will be rendered opaque.\n",
      "The PostScript backend does not support transparency; partially transparent artists will be rendered opaque.\n",
      "The PostScript backend does not support transparency; partially transparent artists will be rendered opaque.\n",
      "The PostScript backend does not support transparency; partially transparent artists will be rendered opaque.\n"
     ]
    },
    {
     "name": "stderr",
     "output_type": "stream",
     "text": [
      "The PostScript backend does not support transparency; partially transparent artists will be rendered opaque.\n",
      "The PostScript backend does not support transparency; partially transparent artists will be rendered opaque.\n",
      "The PostScript backend does not support transparency; partially transparent artists will be rendered opaque.\n",
      "The PostScript backend does not support transparency; partially transparent artists will be rendered opaque.\n",
      "The PostScript backend does not support transparency; partially transparent artists will be rendered opaque.\n",
      "The PostScript backend does not support transparency; partially transparent artists will be rendered opaque.\n",
      "The PostScript backend does not support transparency; partially transparent artists will be rendered opaque.\n",
      "The PostScript backend does not support transparency; partially transparent artists will be rendered opaque.\n",
      "The PostScript backend does not support transparency; partially transparent artists will be rendered opaque.\n",
      "The PostScript backend does not support transparency; partially transparent artists will be rendered opaque.\n",
      "The PostScript backend does not support transparency; partially transparent artists will be rendered opaque.\n",
      "The PostScript backend does not support transparency; partially transparent artists will be rendered opaque.\n",
      "The PostScript backend does not support transparency; partially transparent artists will be rendered opaque.\n",
      "The PostScript backend does not support transparency; partially transparent artists will be rendered opaque.\n",
      "The PostScript backend does not support transparency; partially transparent artists will be rendered opaque.\n",
      "The PostScript backend does not support transparency; partially transparent artists will be rendered opaque.\n",
      "The PostScript backend does not support transparency; partially transparent artists will be rendered opaque.\n",
      "The PostScript backend does not support transparency; partially transparent artists will be rendered opaque.\n",
      "The PostScript backend does not support transparency; partially transparent artists will be rendered opaque.\n",
      "The PostScript backend does not support transparency; partially transparent artists will be rendered opaque.\n",
      "The PostScript backend does not support transparency; partially transparent artists will be rendered opaque.\n",
      "The PostScript backend does not support transparency; partially transparent artists will be rendered opaque.\n",
      "The PostScript backend does not support transparency; partially transparent artists will be rendered opaque.\n",
      "The PostScript backend does not support transparency; partially transparent artists will be rendered opaque.\n",
      "The PostScript backend does not support transparency; partially transparent artists will be rendered opaque.\n",
      "The PostScript backend does not support transparency; partially transparent artists will be rendered opaque.\n",
      "The PostScript backend does not support transparency; partially transparent artists will be rendered opaque.\n",
      "The PostScript backend does not support transparency; partially transparent artists will be rendered opaque.\n",
      "The PostScript backend does not support transparency; partially transparent artists will be rendered opaque.\n",
      "The PostScript backend does not support transparency; partially transparent artists will be rendered opaque.\n",
      "The PostScript backend does not support transparency; partially transparent artists will be rendered opaque.\n",
      "The PostScript backend does not support transparency; partially transparent artists will be rendered opaque.\n",
      "The PostScript backend does not support transparency; partially transparent artists will be rendered opaque.\n",
      "The PostScript backend does not support transparency; partially transparent artists will be rendered opaque.\n",
      "The PostScript backend does not support transparency; partially transparent artists will be rendered opaque.\n",
      "The PostScript backend does not support transparency; partially transparent artists will be rendered opaque.\n",
      "The PostScript backend does not support transparency; partially transparent artists will be rendered opaque.\n",
      "The PostScript backend does not support transparency; partially transparent artists will be rendered opaque.\n",
      "The PostScript backend does not support transparency; partially transparent artists will be rendered opaque.\n",
      "The PostScript backend does not support transparency; partially transparent artists will be rendered opaque.\n",
      "The PostScript backend does not support transparency; partially transparent artists will be rendered opaque.\n",
      "The PostScript backend does not support transparency; partially transparent artists will be rendered opaque.\n",
      "The PostScript backend does not support transparency; partially transparent artists will be rendered opaque.\n",
      "The PostScript backend does not support transparency; partially transparent artists will be rendered opaque.\n",
      "The PostScript backend does not support transparency; partially transparent artists will be rendered opaque.\n",
      "The PostScript backend does not support transparency; partially transparent artists will be rendered opaque.\n",
      "The PostScript backend does not support transparency; partially transparent artists will be rendered opaque.\n",
      "The PostScript backend does not support transparency; partially transparent artists will be rendered opaque.\n",
      "The PostScript backend does not support transparency; partially transparent artists will be rendered opaque.\n",
      "The PostScript backend does not support transparency; partially transparent artists will be rendered opaque.\n",
      "The PostScript backend does not support transparency; partially transparent artists will be rendered opaque.\n",
      "The PostScript backend does not support transparency; partially transparent artists will be rendered opaque.\n",
      "The PostScript backend does not support transparency; partially transparent artists will be rendered opaque.\n",
      "The PostScript backend does not support transparency; partially transparent artists will be rendered opaque.\n",
      "The PostScript backend does not support transparency; partially transparent artists will be rendered opaque.\n",
      "The PostScript backend does not support transparency; partially transparent artists will be rendered opaque.\n",
      "The PostScript backend does not support transparency; partially transparent artists will be rendered opaque.\n",
      "The PostScript backend does not support transparency; partially transparent artists will be rendered opaque.\n",
      "The PostScript backend does not support transparency; partially transparent artists will be rendered opaque.\n",
      "The PostScript backend does not support transparency; partially transparent artists will be rendered opaque.\n",
      "The PostScript backend does not support transparency; partially transparent artists will be rendered opaque.\n",
      "The PostScript backend does not support transparency; partially transparent artists will be rendered opaque.\n",
      "The PostScript backend does not support transparency; partially transparent artists will be rendered opaque.\n",
      "The PostScript backend does not support transparency; partially transparent artists will be rendered opaque.\n",
      "The PostScript backend does not support transparency; partially transparent artists will be rendered opaque.\n",
      "The PostScript backend does not support transparency; partially transparent artists will be rendered opaque.\n",
      "The PostScript backend does not support transparency; partially transparent artists will be rendered opaque.\n",
      "The PostScript backend does not support transparency; partially transparent artists will be rendered opaque.\n",
      "The PostScript backend does not support transparency; partially transparent artists will be rendered opaque.\n",
      "The PostScript backend does not support transparency; partially transparent artists will be rendered opaque.\n",
      "The PostScript backend does not support transparency; partially transparent artists will be rendered opaque.\n",
      "The PostScript backend does not support transparency; partially transparent artists will be rendered opaque.\n",
      "The PostScript backend does not support transparency; partially transparent artists will be rendered opaque.\n",
      "The PostScript backend does not support transparency; partially transparent artists will be rendered opaque.\n",
      "The PostScript backend does not support transparency; partially transparent artists will be rendered opaque.\n",
      "The PostScript backend does not support transparency; partially transparent artists will be rendered opaque.\n"
     ]
    },
    {
     "name": "stderr",
     "output_type": "stream",
     "text": [
      "The PostScript backend does not support transparency; partially transparent artists will be rendered opaque.\n",
      "The PostScript backend does not support transparency; partially transparent artists will be rendered opaque.\n",
      "The PostScript backend does not support transparency; partially transparent artists will be rendered opaque.\n",
      "The PostScript backend does not support transparency; partially transparent artists will be rendered opaque.\n",
      "The PostScript backend does not support transparency; partially transparent artists will be rendered opaque.\n",
      "The PostScript backend does not support transparency; partially transparent artists will be rendered opaque.\n",
      "The PostScript backend does not support transparency; partially transparent artists will be rendered opaque.\n",
      "The PostScript backend does not support transparency; partially transparent artists will be rendered opaque.\n",
      "The PostScript backend does not support transparency; partially transparent artists will be rendered opaque.\n",
      "The PostScript backend does not support transparency; partially transparent artists will be rendered opaque.\n",
      "The PostScript backend does not support transparency; partially transparent artists will be rendered opaque.\n",
      "The PostScript backend does not support transparency; partially transparent artists will be rendered opaque.\n",
      "The PostScript backend does not support transparency; partially transparent artists will be rendered opaque.\n",
      "The PostScript backend does not support transparency; partially transparent artists will be rendered opaque.\n",
      "The PostScript backend does not support transparency; partially transparent artists will be rendered opaque.\n",
      "The PostScript backend does not support transparency; partially transparent artists will be rendered opaque.\n",
      "The PostScript backend does not support transparency; partially transparent artists will be rendered opaque.\n",
      "The PostScript backend does not support transparency; partially transparent artists will be rendered opaque.\n",
      "The PostScript backend does not support transparency; partially transparent artists will be rendered opaque.\n",
      "The PostScript backend does not support transparency; partially transparent artists will be rendered opaque.\n",
      "The PostScript backend does not support transparency; partially transparent artists will be rendered opaque.\n",
      "The PostScript backend does not support transparency; partially transparent artists will be rendered opaque.\n",
      "The PostScript backend does not support transparency; partially transparent artists will be rendered opaque.\n",
      "The PostScript backend does not support transparency; partially transparent artists will be rendered opaque.\n",
      "The PostScript backend does not support transparency; partially transparent artists will be rendered opaque.\n",
      "The PostScript backend does not support transparency; partially transparent artists will be rendered opaque.\n",
      "The PostScript backend does not support transparency; partially transparent artists will be rendered opaque.\n",
      "The PostScript backend does not support transparency; partially transparent artists will be rendered opaque.\n",
      "The PostScript backend does not support transparency; partially transparent artists will be rendered opaque.\n",
      "The PostScript backend does not support transparency; partially transparent artists will be rendered opaque.\n",
      "The PostScript backend does not support transparency; partially transparent artists will be rendered opaque.\n",
      "The PostScript backend does not support transparency; partially transparent artists will be rendered opaque.\n",
      "The PostScript backend does not support transparency; partially transparent artists will be rendered opaque.\n",
      "The PostScript backend does not support transparency; partially transparent artists will be rendered opaque.\n",
      "The PostScript backend does not support transparency; partially transparent artists will be rendered opaque.\n",
      "The PostScript backend does not support transparency; partially transparent artists will be rendered opaque.\n",
      "The PostScript backend does not support transparency; partially transparent artists will be rendered opaque.\n",
      "The PostScript backend does not support transparency; partially transparent artists will be rendered opaque.\n",
      "The PostScript backend does not support transparency; partially transparent artists will be rendered opaque.\n",
      "The PostScript backend does not support transparency; partially transparent artists will be rendered opaque.\n",
      "The PostScript backend does not support transparency; partially transparent artists will be rendered opaque.\n",
      "The PostScript backend does not support transparency; partially transparent artists will be rendered opaque.\n",
      "The PostScript backend does not support transparency; partially transparent artists will be rendered opaque.\n",
      "The PostScript backend does not support transparency; partially transparent artists will be rendered opaque.\n",
      "The PostScript backend does not support transparency; partially transparent artists will be rendered opaque.\n",
      "The PostScript backend does not support transparency; partially transparent artists will be rendered opaque.\n"
     ]
    },
    {
     "data": {
      "image/png": "[encoded data removed]",
      "text/plain": [
       "<Figure size 576x288 with 2 Axes>"
      ]
     },
     "metadata": {
      "needs_background": "light"
     },
     "output_type": "display_data"
    }
   ],
   "source": [
    "# Normalized difference in RA and decl.\n",
    "from scipy import stats\n",
    "bins_array = np.linspace(-10, 10, 100)\n",
    "weights = np.ones_like(dRA) * 100. / dRA.size\n",
    "\n",
    "# Plot the \n",
    "fig, (ax0, ax1) = plt.subplots(figsize=(8, 4), ncols=2)\n",
    "ax0.hist(X_a, bins_array, weights=weights, facecolor=\"g\", alpha=0.75)\n",
    "ax1.hist(X_d, bins_array, weights=weights, facecolor=\"g\", alpha=0.75)\n",
    "\n",
    "ax0.set_xlabel(\"$X_{\\\\alpha*}$\")\n",
    "ax1.set_xlabel(\"$X_{\\\\delta}$\")\n",
    "\n",
    "ax0.set_ylim([0, 13])\n",
    "ax1.set_ylim([0, 13])\n",
    "\n",
    "ax0.set_ylabel(\"% in bin\")\n",
    "ax1.set_ylabel(\"% in bin\")\n",
    "\n",
    "# add a '(standard) Gaussian distribution' line\n",
    "Gaussian_dist = stats.norm.pdf(bins_array, 0, 1) * 10. / 50\n",
    "ax0.plot(bins_array, Gaussian_dist * 100, \"r--\", linewidth=1)\n",
    "ax1.plot(bins_array, Gaussian_dist * 100, \"r--\", linewidth=1)\n",
    "\n",
    "ax0.set_yticks(np.arange(0, 15, 2))\n",
    "ax1.set_yticks(np.arange(0, 15, 2))\n",
    "ax0.grid()\n",
    "ax1.grid()\n",
    "\n",
    "fig.tight_layout()\n",
    "plt.savefig(\"../plots/no-dra-ddec_icrf1_gaiadr2.eps\")"
   ]
  },
  {
   "cell_type": "code",
   "execution_count": 10,
   "metadata": {},
   "outputs": [
    {
     "data": {
      "image/png": "[encoded data removed]",
      "text/plain": [
       "<Figure size 288x288 with 1 Axes>"
      ]
     },
     "metadata": {
      "needs_background": "light"
     },
     "output_type": "display_data"
    }
   ],
   "source": [
    "# Distribution of normalized separation\n",
    "from scipy import stats\n",
    "\n",
    "bins_array = np.linspace(0, 10, 50)\n",
    "weights = np.ones_like(X) * 100. / X.size\n",
    "\n",
    "fig, ax = plt.subplots(figsize=(4, 4))\n",
    "ax.hist(X, bins_array, weights=weights, facecolor=\"g\", alpha=0.75)\n",
    "\n",
    "# add a '(standard) Rqyleigh distribution' line\n",
    "rayleigh_dist = stats.rayleigh.pdf(bins_array) * 10. / 50  * 100\n",
    "ax.plot(bins_array, rayleigh_dist, \"r--\", linewidth=1)\n",
    "\n",
    "ax.set_xlabel(\"$X$\")\n",
    "ax.set_ylabel(\"% in bin\")\n",
    "\n",
    "plt.show()"
   ]
  },
  {
   "cell_type": "code",
   "execution_count": 11,
   "metadata": {},
   "outputs": [
    {
     "data": {
      "image/png": "[encoded data removed]",
      "text/plain": [
       "<Figure size 360x360 with 1 Axes>"
      ]
     },
     "metadata": {
      "needs_background": "light"
     },
     "output_type": "display_data"
    }
   ],
   "source": [
    "from matplotlib import colors\n",
    "\n",
    "fig, ax = plt.subplots(figsize=(5, 5))\n",
    "\n",
    "bins = np.linspace(-5, 5, 100)\n",
    "\n",
    "# We can increase the number of bins on each axis\n",
    "ax.hist2d(dRA, dDC, bins, norm=colors.LogNorm())\n",
    "\n",
    "ax.set_xlabel(\"$\\Delta\\\\alpha*$ (mas)\")\n",
    "ax.set_ylabel(\"$\\Delta\\\\delta$ (mas)\")\n",
    "\n",
    "ax.grid(True)\n",
    "\n",
    "plt.show()"
   ]
  },
  {
   "cell_type": "code",
   "execution_count": 12,
   "metadata": {},
   "outputs": [
    {
     "data": {
      "image/png": "[encoded data removed]",
      "text/plain": [
       "<Figure size 432x576 with 2 Axes>"
      ]
     },
     "metadata": {
      "needs_background": "light"
     },
     "output_type": "display_data"
    }
   ],
   "source": [
    "# Angular position difference vs. positional uncertainty\n",
    "fig, (ax0, ax1) = plt.subplots(figsize=(6, 8), nrows=2, sharex=True)\n",
    "\n",
    "ax0.plot(com_def[\"pos_err_icrf1\"],\n",
    "         com_def[\"ang_sep\"], \"rx\", ms=2, label=\"Defining\")\n",
    "ax1.plot(com_def[\"pos_err_gaiadr2\"],\n",
    "         com_def[\"ang_sep\"], \"rx\", ms=2, label=\"Defining\")\n",
    "\n",
    "ax0.plot(com_can[\"pos_err_icrf1\"],\n",
    "         com_can[\"ang_sep\"], \"b.\", ms=2, label=\"Candiate\")\n",
    "ax1.plot(com_can[\"pos_err_gaiadr2\"],\n",
    "         com_can[\"ang_sep\"], \"b.\", ms=2, label=\"Candiate\")\n",
    "\n",
    "ax0.plot(com_oth[\"pos_err_icrf1\"],\n",
    "         com_oth[\"ang_sep\"], \"gs\", ms=2, label=\"Others\")\n",
    "ax1.plot(com_oth[\"pos_err_gaiadr2\"],\n",
    "         com_oth[\"ang_sep\"], \"gs\", ms=2, label=\"Others\")\n",
    "\n",
    "ax0.set_xscale(\"log\")\n",
    "ax0.set_yscale(\"log\")\n",
    "ax1.set_xscale(\"log\")\n",
    "ax1.set_yscale(\"log\")\n",
    "\n",
    "ax0.set_xlabel(\"$\\sigma_{pos,max}$ (ICRF1 S/X, mas)\")\n",
    "ax0.set_ylabel(\"$\\\\rho$ (mas)\")\n",
    "ax1.set_xlabel(\"$\\sigma_{pos,max}$ (Gaia DR2, mas)\")\n",
    "ax1.set_ylabel(\"$\\\\rho$ (mas)\")\n",
    "\n",
    "\n",
    "ax0.legend()\n",
    "ax1.legend()\n",
    "\n",
    "fig.tight_layout()\n",
    "plt.show()"
   ]
  },
  {
   "cell_type": "markdown",
   "metadata": {},
   "source": [
    "Then I investigate the systematics through the 16-parameters transformation."
   ]
  },
  {
   "cell_type": "code",
   "execution_count": 13,
   "metadata": {},
   "outputs": [
    {
     "name": "stdout",
     "output_type": "stream",
     "text": [
      "Estimates (   490 sources)\n",
      "--------------------------------------------------------------------------------------------\n",
      "               Rotation [uas]                                   Glide [uas]               \n",
      "               x             y             z               x             y             z\n",
      "--------------------------------------------------------------------------------------------\n",
      "l_max=1  +738862 +/- 71872  +470127 +/- 71904  -343105 +/- 67832    -325842 +/- 72137  +731718 +/- 66592  +348703 +/- 73737\n",
      "l_max=2  +540532 +/- 62271  +396185 +/- 59769  -376079 +/- 57577    -175646 +/- 60393  +670632 +/- 55039  +597993 +/- 62757\n",
      "--------------------------------------------------------------------------------------------\n",
      "\n",
      "Quadrupolar term Estimate Error\n",
      "---------------- -------- -----\n",
      "            ER22   -49351 37528\n",
      "            EI22   260187 36432\n",
      "            ER21    33256 71516\n",
      "            EI21  -460413 73560\n",
      "             E20  -725928 69401\n",
      "            MR22  -344698 38278\n",
      "            MI22    48232 39981\n",
      "            MR21   355062 69331\n",
      "            MI21  -482392 71119\n",
      "             M20   577616 64542\n",
      "Correlation coefficient between parameters in 'l_max=1' fit\n",
      "          R1    R2    R3    D1    D2\n",
      "    R2  +0.1\n",
      "    R3  -0.0  -0.1\n",
      "    D1  +0.1  +0.3  -0.1\n",
      "    D2  -0.3  +0.0  -0.1  -0.0\n",
      "    D3  +0.1  +0.1  -0.1  +0.0  +0.0\n",
      "Correlation coefficient between parameters in 'l_max=2' fit\n",
      "          R1    R2    R3    D1    D2    D3  E22R  E22I  E21R  E21I   E20  M22R  M22I  M21R  M21I\n",
      "    R2  +0.1\n",
      "    R3  -0.0  -0.1\n",
      "    D1  +0.1  +0.3  -0.2\n",
      "    D2  -0.3  +0.0  -0.1  -0.0\n",
      "    D3  +0.1  +0.1  -0.1  +0.1  +0.0\n",
      "  E22R  +0.0  +0.0  -0.0  -0.0  +0.1  +0.1\n",
      "  E22I  +0.1  -0.1  -0.0  -0.0  -0.1  +0.2  +0.0\n",
      "  E21R  +0.3  +0.1  -0.1  +0.1  -0.0  +0.0  -0.1  +0.1\n",
      "  E21I  +0.0  -0.1  -0.0  +0.1  +0.1  +0.0  +0.0  +0.0  +0.1\n",
      "   E20  -0.1  +0.1  -0.3  +0.1  +0.0  +0.0  +0.0  +0.1  +0.1  -0.1\n",
      "  M22R  -0.1  +0.1  -0.1  +0.2  +0.1  -0.1  +0.1  -0.2  +0.0  +0.0  +0.0\n",
      "  M22I  -0.0  -0.0  -0.1  +0.0  -0.0  +0.1  +0.3  +0.1  +0.1  +0.0  +0.1  +0.0\n",
      "  M21R  +0.0  +0.1  -0.0  +0.2  -0.1  +0.0  -0.0  -0.1  -0.1  -0.1  +0.1  -0.0  +0.1\n",
      "  M21I  -0.0  +0.0  +0.0  -0.1  -0.2  -0.1  -0.1  -0.0  +0.1  -0.1  -0.1  +0.0  -0.0  +0.0\n",
      "   M20  -0.0  -0.0  -0.0  -0.1  +0.0  -0.3  -0.1  -0.1  -0.0  +0.1  +0.0  +0.1  -0.0  -0.0  -0.0\n"
     ]
    }
   ],
   "source": [
    "# Try with all the sources\n",
    "# Transform columns into np.array\n",
    "dra = np.array(common_source[\"dra\"])\n",
    "ddec = np.array(common_source[\"ddec\"])\n",
    "dra_err = np.array(common_source[\"dra_err\"])\n",
    "ddec_err = np.array(common_source[\"ddec_err\"])\n",
    "ra_rad = np.array(common_source[\"ra_icrf1\"].to(u.radian))\n",
    "dec_rad = np.array(common_source[\"dec_icrf1\"].to(u.radian))\n",
    "dra_ddec_cov = np.array(common_source[\"dra_ddec_cov\"])\n",
    "\n",
    "# Transformation parameters\n",
    "# l_max = 1\n",
    "w1_all, sig1_all, corrcoef1_all = vsh_deg01_fitting(\n",
    "    dra, ddec, ra_rad, dec_rad, dra_err, ddec_err,\n",
    "    cov=dra_ddec_cov, elim_flag=\"None\")\n",
    "\n",
    "# l_max = 2\n",
    "w2_all, sig2_all, corrcoef2_all = vsh_deg02_fitting(\n",
    "    dra, ddec, ra_rad, dec_rad, dra_err, ddec_err,\n",
    "    cov=dra_ddec_cov, elim_flag=\"None\")\n",
    "\n",
    "# mas -> uas\n",
    "w1 = w1_all * 1.e3\n",
    "sig1 = sig1_all * 1.e3\n",
    "w2 = w2_all * 1.e3\n",
    "sig2 = sig2_all * 1.e3\n",
    "\n",
    "# Print results\n",
    "print(\"Estimates (%6d sources)\\n\"\n",
    "      \"----------------------------------------------\"\n",
    "      \"----------------------------------------------\\n\"\n",
    "      \"               Rotation [uas]                 \"\n",
    "      \"                  Glide [uas]               \\n\"\n",
    "      \"               x             y             z\"\n",
    "      \"               x             y             z\\n\"\n",
    "      \"----------------------------------------------\"\n",
    "      \"----------------------------------------------\\n\"\n",
    "      \"l_max=1  %+4.0f +/- %3.0f  %+4.0f +/- %3.0f  %+4.0f +/- %3.0f  \"\n",
    "      \"  %+4.0f +/- %3.0f  %+4.0f +/- %3.0f  %+4.0f +/- %3.0f\\n\"\n",
    "      \"l_max=2  %+4.0f +/- %3.0f  %+4.0f +/- %3.0f  %+4.0f +/- %3.0f  \"\n",
    "      \"  %+4.0f +/- %3.0f  %+4.0f +/- %3.0f  %+4.0f +/- %3.0f\\n\"\n",
    "      \"----------------------------------------------\"\n",
    "      \"----------------------------------------------\\n\" %\n",
    "      (dra.size, w1[3], sig1[3], w1[4], sig1[4], w1[5], sig1[5],\n",
    "       w1[0], sig1[0], w1[1], sig1[1], w1[2], sig1[2],\n",
    "       w2[3], sig2[3], w2[4], sig2[4], w2[5], sig2[5],\n",
    "       w2[0], sig2[0], w2[1], sig2[1], w2[2], sig2[2]))\n",
    "\n",
    "quad_names = Column([\"ER22\", \"EI22\", \"ER21\", \"EI21\", \"E20\",\n",
    "                     \"MR22\", \"MI22\", \"MR21\", \"MI21\", \"M20\"])\n",
    "t_quad = Table([quad_names, w2[6:], sig2[6:]], names=[\"Quadrupolar term\", \"Estimate\", \"Error\"])\n",
    "t_quad[\"Estimate\"].format = \"%5.0f\"\n",
    "t_quad[\"Error\"].format = \"%5.0f\"\n",
    "print(t_quad)\n",
    "\n",
    "print(\"Correlation coefficient between parameters in 'l_max=1' fit\")\n",
    "print_vsh1_corr(corrcoef1_all, deci_digit=1, included_one=False)\n",
    "\n",
    "print(\"Correlation coefficient between parameters in 'l_max=2' fit\")\n",
    "print_vsh2_corr(corrcoef2_all, deci_digit=1, included_one=False)"
   ]
  },
  {
   "cell_type": "code",
   "execution_count": 14,
   "metadata": {
    "hidePrompt": true
   },
   "outputs": [],
   "source": [
    "# The last step is to save the 16 transformation parameters for further use.\n",
    "vsh2_names = Column([\"D1\", \"D2\", \"D3\",\n",
    "                     \"R1\", \"R2\", \"R3\",\n",
    "                     \"ER22\", \"EI22\", \"ER21\", \"EI21\", \"E20\",\n",
    "                     \"MR22\", \"MI22\", \"MR21\", \"MI21\", \"M20\"])\n",
    "t_vsh2 = Table([vsh2_names, w2, sig2], names=[\n",
    "               \"Names\", \"Estimate\", \"Error\"])\n",
    "t_vsh2[\"Estimate\"].format = \"%5.0f\"\n",
    "t_vsh2[\"Error\"].format = \"%5.0f\"\n",
    "t_vsh2[\"Estimate\"].unit = u.uas\n",
    "t_vsh2[\"Error\"].unit = u.uas\n",
    "t_vsh2.write(\"../logs/icrf1_gaiadr2_vsh02_all.log\",\n",
    "             format=\"ascii\", overwrite=True)"
   ]
  },
  {
   "cell_type": "markdown",
   "metadata": {},
   "source": [
    "For a `clean` sample, I re-estimate the parameters."
   ]
  },
  {
   "cell_type": "code",
   "execution_count": 15,
   "metadata": {},
   "outputs": [
    {
     "name": "stdout",
     "output_type": "stream",
     "text": [
      "There are 490 sources.\n",
      "When X >= 3.52, the number of the outlier is smaller than 1.\n",
      "After elimination, there are 447 sources in the clean sample.\n",
      "The outlier rate is 9%.\n",
      "There are 43 outliers, among which 23 are defining sources, 17 candidates, and 3 others.\n"
     ]
    }
   ],
   "source": [
    "# Remove the outlier (consider the normalized separation)\n",
    "N = len(common_source)\n",
    "X0 = np.sqrt(np.log(N) * 2)\n",
    "\n",
    "print(\"There are %d sources.\\n\"\n",
    "      \"When X >= %.2f, the number of the outlier is smaller than 1.\" % (N, X0))\n",
    "\n",
    "mask = ((common_source[\"nor_sep\"] <= X0)\n",
    "        & (common_source[\"ang_sep\"] < 10))\n",
    "\n",
    "# Table of a clean sample\n",
    "com_clean = common_source[mask]\n",
    "N1 = len(com_clean)\n",
    "print(\"After elimination, there are %d sources in the clean sample.\" % N1)\n",
    "print(\"The outlier rate is %.0f%%.\" % ((N-N1)/N*100))\n",
    "\n",
    "# Take a look at the outliers\n",
    "from astropy.table import setdiff\n",
    "com_out = setdiff(common_source, com_clean, keys=\"iers_name\")\n",
    "\n",
    "print(\"There are {:d} outliers, among which {:d} are defining sources, \"\n",
    "      \"{:d} candidates, and {:d} others.\".format(len(com_out), \n",
    "                                                 len(com_out[com_out[\"type\"]==\"D\"]),\n",
    "                                                 len(com_out[com_out[\"type\"]==\"C\"]),\n",
    "                                                 len(com_out[com_out[\"type\"]==\"O\"])))"
   ]
  },
  {
   "cell_type": "code",
   "execution_count": 16,
   "metadata": {},
   "outputs": [
    {
     "data": {
      "text/html": [
       "<i>Table masked=True length=43</i>\n",
       "<table id=\"table112198429392\" class=\"table-striped table-bordered table-condensed\">\n",
       "<thead><tr><th>icrf_name</th><th>iers_name</th><th>type</th><th>ra_icrf1</th><th>dec_icrf1</th><th>si_s</th><th>si_x</th><th>ra_err_icrf1</th><th>dec_err_icrf1</th><th>pos_err_icrf1</th><th>ra_dec_corr_icrf1</th><th>mean_obs</th><th>beg_obs</th><th>end_obs</th><th>nb_sess</th><th>nb_del</th><th>source_id</th><th>ra_gaiadr2</th><th>ra_err_gaiadr2</th><th>dec_gaiadr2</th><th>dec_err_gaiadr2</th><th>pos_err_gaiadr2</th><th>parallax</th><th>parallax_err</th><th>pmra</th><th>pmra_err</th><th>pmdec</th><th>pmdec_err</th><th>ra_dec_corr_gaiadr2</th><th>ra_parallax_corr</th><th>ra_pmra_corr</th><th>ra_pmdec_corr</th><th>dec_parallax_corr</th><th>dec_pmra_corr</th><th>dec_pmdec_corr</th><th>parallax_pmra_corr</th><th>parallax_pmdec_corr</th><th>pmra_pmdec_corr</th><th>phot_g_mean_mag</th><th>phot_bp_mean_mag</th><th>phot_rp_mean_mag</th><th>dra</th><th>ddec</th><th>dra_err</th><th>ddec_err</th><th>dra_ddec_cov</th><th>ang_sep</th><th>nor_dra</th><th>nor_ddec</th><th>nor_sep</th></tr></thead>\n",
       "<thead><tr><th></th><th></th><th></th><th>deg</th><th>deg</th><th></th><th></th><th>mas</th><th>mas</th><th>mas</th><th></th><th></th><th></th><th></th><th></th><th></th><th></th><th>deg</th><th>mas</th><th>deg</th><th>mas</th><th>mas</th><th>mas</th><th>mas</th><th>mas / yr</th><th>mas / yr</th><th>mas / yr</th><th>mas / yr</th><th></th><th></th><th></th><th></th><th></th><th></th><th></th><th></th><th></th><th></th><th>mag</th><th>mag</th><th>mag</th><th>mas</th><th>mas</th><th>mas</th><th>mas</th><th></th><th>deg</th><th>deg</th><th>deg</th><th>deg</th></tr></thead>\n",
       "<thead><tr><th>str16</th><th>str8</th><th>str1</th><th>float64</th><th>float64</th><th>int64</th><th>int64</th><th>float64</th><th>float64</th><th>float64</th><th>float64</th><th>float64</th><th>float64</th><th>float64</th><th>int64</th><th>int64</th><th>int64</th><th>float64</th><th>float64</th><th>float64</th><th>float64</th><th>float64</th><th>float64</th><th>float64</th><th>float64</th><th>float64</th><th>float64</th><th>float64</th><th>float32</th><th>float32</th><th>float32</th><th>float32</th><th>float32</th><th>float32</th><th>float32</th><th>float32</th><th>float32</th><th>float32</th><th>float32</th><th>float32</th><th>float32</th><th>float64</th><th>float64</th><th>float64</th><th>float64</th><th>float64</th><th>float64</th><th>float64</th><th>float64</th><th>float64</th></tr></thead>\n",
       "<tr><td>J000557.1+382015</td><td>0003+380</td><td>D</td><td>1.488230870833333</td><td>38.33754126944444</td><td>--</td><td>--</td><td>0.482387618423914</td><td>0.51</td><td>0.5132372638901311</td><td>-0.041</td><td>2449087.5</td><td>2448721.4</td><td>2449555.3</td><td>2</td><td>41</td><td>2880735415555982976</td><td>1.4882330572178368</td><td>0.2284371807502203</td><td>38.337539859379994</td><td>0.17763597364941844</td><td>0.22845829198943232</td><td>0.1593562094722022</td><td>0.3646175286281955</td><td>0.28592281784064194</td><td>0.43330939124983037</td><td>-0.26680058654512034</td><td>0.2873635197110239</td><td>-0.010995329</td><td>0.39091006</td><td>-0.22830355</td><td>0.044289686</td><td>0.058109067</td><td>-0.05278489</td><td>0.06332331</td><td>-0.313217</td><td>0.13932036</td><td>-0.18161543</td><td>18.399437</td><td>18.87687</td><td>17.15951</td><td>-6.173764763646617</td><td>5.076232017131588</td><td>0.5337427844550261</td><td>0.5400504968374503</td><td>-0.010532900844055969</td><td>7.992715611642666</td><td>-11.566928759421621</td><td>9.399550684349212</td><td>14.645340650304684</td></tr>\n",
       "<tr><td>J001331.1+405137</td><td>0010+405</td><td>D</td><td>3.379709220833333</td><td>40.86031779722222</td><td>2</td><td>1</td><td>0.29495963311504103</td><td>0.33999999999999997</td><td>0.34073318132559427</td><td>-0.038</td><td>2449550.1</td><td>2448435.2</td><td>2449821.0</td><td>7</td><td>219</td><td>383084664461521536</td><td>3.379709059533647</td><td>0.30642273194190933</td><td>40.86031817758646</td><td>0.18262136689914535</td><td>0.308104947689734</td><td>0.015450318433697707</td><td>0.35624755363875243</td><td>0.7872298627334215</td><td>0.5711080651114665</td><td>-0.2178478450070414</td><td>0.2812835079111348</td><td>-0.14257787</td><td>0.3022634</td><td>-0.31667477</td><td>0.19280086</td><td>-0.09837172</td><td>0.18864177</td><td>-0.4105155</td><td>-0.2648572</td><td>0.19643839</td><td>-0.21485445</td><td>19.07663</td><td>19.004562</td><td>17.54357</td><td>0.439171349718924</td><td>-1.3693112435930743</td><td>0.4253187931635549</td><td>0.38594114013423375</td><td>-0.011789441794793543</td><td>1.4380141710860688</td><td>1.032569820045648</td><td>-3.5479794745820974</td><td>3.6326553443164165</td></tr>\n",
       "<tr><td>J011343.1+022217</td><td>0111+021</td><td>C</td><td>18.429770641666668</td><td>2.371476752777778</td><td>--</td><td>--</td><td>0.34470452579247257</td><td>0.38</td><td>0.48993817969804354</td><td>-0.822</td><td>2448461.7</td><td>2447024.2</td><td>2449668.4</td><td>28</td><td>160</td><td>2538575024852905856</td><td>18.429771205611786</td><td>0.4948699153499713</td><td>2.371475919001008</td><td>0.30875120247517185</td><td>0.5057566809525936</td><td>-0.25884983338366757</td><td>0.5788476785430456</td><td>-0.33678429171618546</td><td>1.2496423054263561</td><td>0.44607996921804977</td><td>0.5479649777610852</td><td>0.27363557</td><td>0.14520483</td><td>0.0936516</td><td>-0.007285472</td><td>0.008847135</td><td>-0.06715713</td><td>0.16390347</td><td>-0.21203448</td><td>0.05263398</td><td>0.3871054</td><td>17.247536</td><td>16.693443</td><td>15.32465</td><td>-2.028463664641142</td><td>3.0015963714546956</td><td>0.6030899130480473</td><td>0.4896195513149618</td><td>-0.06586266741165822</td><td>3.6227400701539945</td><td>-3.363451486676643</td><td>6.130466733596251</td><td>6.463395791804131</td></tr>\n",
       "<tr><td>J012031.6-270124</td><td>0118-272</td><td>C</td><td>20.131930462499998</td><td>-27.023514258333332</td><td>--</td><td>--</td><td>1.6569254434717138</td><td>1.1199999999999999</td><td>1.8220605255603537</td><td>-0.587</td><td>2448170.6</td><td>2447512.5</td><td>2449651.3</td><td>2</td><td>13</td><td>5036556350991034368</td><td>20.131929573838484</td><td>0.04281276511100022</td><td>-27.02351265048754</td><td>0.03557267126387657</td><td>0.042815580363237314</td><td>-0.012184011504084782</td><td>0.052660955734931</td><td>-0.1489879822675089</td><td>0.11453280189358264</td><td>-0.1531431679823234</td><td>0.08302427898065758</td><td>0.0076817414</td><td>0.16410425</td><td>-0.2737212</td><td>0.061856538</td><td>0.13143075</td><td>0.082894646</td><td>-0.5305176</td><td>0.07186193</td><td>-0.18548349</td><td>0.15712096</td><td>15.9418335</td><td>16.24847</td><td>15.371997</td><td>2.84989523890637</td><td>-5.788244853022206</td><td>1.657478463836072</td><td>1.1205647749866348</td><td>-1.0893173645372454</td><td>6.451796753717468</td><td>1.7194161499453608</td><td>-5.165471003754552</td><td>5.412818910490222</td></tr>\n",
       "<tr><td>J012141.5+114950</td><td>0119+115</td><td>C</td><td>20.42331267083333</td><td>11.830670330555556</td><td>2</td><td>1</td><td>0.26426460117878836</td><td>0.29999999999999993</td><td>0.3396934539851039</td><td>-0.429</td><td>2448684.0</td><td>2447394.6</td><td>2449849.3</td><td>50</td><td>150</td><td>2586501770339617024</td><td>20.423313209592518</td><td>0.35998293535635023</td><td>11.830672188577447</td><td>0.33058412965325856</td><td>0.40430091710922383</td><td>-0.6287094406070205</td><td>0.4384813269370646</td><td>2.5454522637957147</td><td>0.9540811322700052</td><td>1.154035677054585</td><td>0.6231744661848195</td><td>0.35995343</td><td>0.09143069</td><td>0.20861237</td><td>0.15603548</td><td>-0.10872001</td><td>0.17061272</td><td>0.35028538</td><td>-0.32735747</td><td>-0.020831328</td><td>0.37352213</td><td>19.399063</td><td>19.52614</td><td>18.495747</td><td>-1.898333093958039</td><td>-6.688878807636911</td><td>0.4465685761268456</td><td>0.4464144562831746</td><td>0.008825276506651103</td><td>6.953040215536689</td><td>-4.250932993141969</td><td>-14.98356227826535</td><td>15.407902068140036</td></tr>\n",
       "<tr><td>J013741.2+330935</td><td>0134+329</td><td>O</td><td>24.42208105833333</td><td>33.15975938333333</td><td>--</td><td>--</td><td>2.4361026524493705</td><td>6.499999999999999</td><td>6.499999999999999</td><td>0.0</td><td>2448598.0</td><td>2448195.2</td><td>2449668.4</td><td>10</td><td>64</td><td>316083930556737152</td><td>24.422081768796943</td><td>0.06412161715153014</td><td>33.159744439930684</td><td>0.050125325250795855</td><td>0.06459913592282332</td><td>-0.3405460803795907</td><td>0.08158359526634894</td><td>0.032335127204751096</td><td>0.09821156765946301</td><td>0.055336294259317395</td><td>0.10633828294444515</td><td>-0.09939792</td><td>0.66190094</td><td>-0.10239941</td><td>0.109195136</td><td>-0.35026953</td><td>0.012545344</td><td>0.027263153</td><td>0.023852963</td><td>0.19365121</td><td>0.36487687</td><td>15.82746</td><td>16.004131</td><td>15.288962</td><td>-2.1411492281628486</td><td>53.796249528659246</td><td>2.436946391502486</td><td>6.500193270067552</td><td>-0.00031947653625203487</td><td>53.838842700851515</td><td>-0.8786197495476028</td><td>8.276100000962</td><td>8.32259037864596</td></tr>\n",
       "<tr><td>J015002.6-072548</td><td>0147-076</td><td>C</td><td>27.51123979583333</td><td>-7.430136297222223</td><td>--</td><td>--</td><td>9.340902912784188</td><td>5.799999999999999</td><td>9.486005661808866</td><td>-0.229</td><td>2449688.2</td><td>2449535.5</td><td>2449896.1</td><td>3</td><td>7</td><td>2467002693400034560</td><td>27.511237730831464</td><td>0.39417306854686923</td><td>-7.430130785336317</td><td>0.3169866909949164</td><td>0.39443788701843696</td><td>0.07947202376809333</td><td>0.5420119475728389</td><td>0.09441484360852821</td><td>0.7545142388102917</td><td>0.22995339332614534</td><td>0.5016598060866191</td><td>-0.027149139</td><td>0.42364374</td><td>-0.100823246</td><td>0.20090748</td><td>-0.4265926</td><td>0.087031715</td><td>0.12320711</td><td>0.12222852</td><td>0.16446596</td><td>0.15696661</td><td>17.091087</td><td>16.690783</td><td>15.411365</td><td>7.371585454924002</td><td>-19.842789261304006</td><td>9.349215990339927</td><td>5.808655658779223</td><td>-12.409979468969388</td><td>21.167818919004592</td><td>0.7884709758059595</td><td>-3.4160725694444536</td><td>3.416082054922986</td></tr>\n",
       "<tr><td>J015734.9+744243</td><td>0153+744</td><td>D</td><td>29.39568711666666</td><td>74.71200832777778</td><td>4</td><td>3</td><td>0.3599107614954451</td><td>0.30999999999999994</td><td>0.3616421964689112</td><td>0.059</td><td>2449496.2</td><td>2447020.4</td><td>2449821.0</td><td>11</td><td>400</td><td>558920831719864704</td><td>29.395687567937717</td><td>0.07601359095570061</td><td>74.7120080218681</td><td>0.07378465048970208</td><td>0.07604183783968</td><td>-0.055334637800854056</td><td>0.08974294732038388</td><td>-0.31588222609249783</td><td>0.1460544052672695</td><td>0.5963224777174749</td><td>0.15712430445283143</td><td>0.0067952755</td><td>0.22652538</td><td>-0.3833209</td><td>0.0148602715</td><td>-0.015655339</td><td>-0.05816747</td><td>-0.30071002</td><td>-0.023472026</td><td>0.29459435</td><td>-0.05741675</td><td>17.428078</td><td>17.857227</td><td>16.72487</td><td>-0.4283533435627481</td><td>1.1012748473149259</td><td>0.367850271510314</td><td>0.31865996712465694</td><td>0.00662088005613749</td><td>1.1816483725160793</td><td>-1.164477442966187</td><td>3.4559560689470508</td><td>3.714603448160623</td></tr>\n",
       "<tr><td>J025134.5+431515</td><td>0248+430</td><td>D</td><td>42.89390324583333</td><td>43.254396827777775</td><td>--</td><td>--</td><td>0.29496894689584596</td><td>0.32999999999999996</td><td>0.333252655368906</td><td>-0.074</td><td>2449109.9</td><td>2447932.1</td><td>2449690.5</td><td>10</td><td>169</td><td>337378344051896448</td><td>42.89390289902023</td><td>0.09045521299759507</td><td>43.254397156105874</td><td>0.07974305664183928</td><td>0.09672980788498571</td><td>0.2510743945061093</td><td>0.12174267459216426</td><td>-0.1374906074908517</td><td>0.226681928677419</td><td>0.18854207018753966</td><td>0.1739294565759887</td><td>0.26013336</td><td>0.0804543</td><td>-0.45724952</td><td>0.33064863</td><td>-0.15321794</td><td>0.24380687</td><td>0.119875744</td><td>0.13326576</td><td>0.26408747</td><td>0.13805348</td><td>17.327906</td><td>17.616253</td><td>16.646894</td><td>0.9093252761913436</td><td>-1.1819811561508686</td><td>0.3085268629978347</td><td>0.33949809289977395</td><td>-0.005326754218906838</td><td>1.4912920275439707</td><td>2.947313136223491</td><td>-3.481554626876243</td><td>4.451455681648359</td></tr>\n",
       "<tr><td>...</td><td>...</td><td>...</td><td>...</td><td>...</td><td>...</td><td>...</td><td>...</td><td>...</td><td>...</td><td>...</td><td>...</td><td>...</td><td>...</td><td>...</td><td>...</td><td>...</td><td>...</td><td>...</td><td>...</td><td>...</td><td>...</td><td>...</td><td>...</td><td>...</td><td>...</td><td>...</td><td>...</td><td>...</td><td>...</td><td>...</td><td>...</td><td>...</td><td>...</td><td>...</td><td>...</td><td>...</td><td>...</td><td>...</td><td>...</td><td>...</td><td>...</td><td>...</td><td>...</td><td>...</td><td>...</td><td>...</td><td>...</td><td>...</td><td>...</td></tr>\n",
       "<tr><td>J182407.0+565101</td><td>1823+568</td><td>D</td><td>276.02945155</td><td>56.85041413333334</td><td>1</td><td>1</td><td>0.27067924069654575</td><td>0.27999999999999997</td><td>0.2832383598523687</td><td>-0.047</td><td>2448233.3</td><td>2445139.3</td><td>2449751.3</td><td>92</td><td>703</td><td>2151322077453975936</td><td>276.02945106333345</td><td>0.09503281911192535</td><td>56.85041351290286</td><td>0.10055309738014755</td><td>0.10703172230866007</td><td>0.42126606718120047</td><td>0.09317988181995512</td><td>-0.31437282023251045</td><td>0.2274416245231458</td><td>-0.5229204650532172</td><td>0.22539728872880332</td><td>-0.188967</td><td>-0.12476768</td><td>0.39493814</td><td>-0.0018229372</td><td>0.038030766</td><td>-0.023059355</td><td>-0.15645115</td><td>0.0068040052</td><td>-0.14721629</td><td>-0.17618863</td><td>17.736681</td><td>18.050907</td><td>16.90174</td><td>0.9580401796327581</td><td>2.233549716379457</td><td>0.28687713058453873</td><td>0.2975078576991563</td><td>-0.005367878082360541</td><td>2.4303467491964024</td><td>3.339548808511374</td><td>7.507531846900162</td><td>8.423181941379847</td></tr>\n",
       "<tr><td>J193925.0-634245</td><td>1934-638</td><td>C</td><td>294.85427775416656</td><td>-63.71267376111111</td><td>--</td><td>--</td><td>2.8565300644537874</td><td>1.8699999999999997</td><td>2.9025727163352077</td><td>-0.214</td><td>2448963.8</td><td>2448767.4</td><td>2449651.3</td><td>2</td><td>9</td><td>6440702651792523136</td><td>294.854276260691</td><td>0.6549084902970246</td><td>-63.71267581257089</td><td>0.7145584686801032</td><td>0.7158137323256312</td><td>0.48858480109858876</td><td>0.9591660926360176</td><td>2.5646723294714384</td><td>1.2081850854968696</td><td>1.440204467275988</td><td>1.3337324500838466</td><td>0.026162285</td><td>0.22319151</td><td>-0.3974958</td><td>-0.18317507</td><td>-0.26910082</td><td>-0.07093841</td><td>-0.30740288</td><td>-0.34863573</td><td>0.037879925</td><td>0.097388044</td><td>19.558935</td><td>19.230173</td><td>17.656391</td><td>2.3811113599283042</td><td>7.385255210579089</td><td>2.9306431273342524</td><td>2.001872574656652</td><td>-1.1308830258413043</td><td>7.759618923231038</td><td>0.8124876542351955</td><td>3.6891734789092454</td><td>4.002622631664864</td></tr>\n",
       "<tr><td>J203147.9+545503</td><td>2030+547</td><td>D</td><td>307.9498273416666</td><td>54.91753905555555</td><td>--</td><td>--</td><td>0.3620955100173574</td><td>0.51</td><td>0.511635073073198</td><td>0.08</td><td>2448616.9</td><td>2447024.2</td><td>2449660.3</td><td>7</td><td>86</td><td>2186536273796890752</td><td>307.9498272218461</td><td>0.055704613087267915</td><td>54.91753840418543</td><td>0.05768995463162973</td><td>0.05857667067515974</td><td>-0.08882435413067656</td><td>0.058785625026012284</td><td>-0.28661435498644394</td><td>0.1274719485525747</td><td>-0.08596309511424874</td><td>0.12051205078068121</td><td>0.057241708</td><td>-0.043478977</td><td>-0.1761499</td><td>-0.11251275</td><td>0.047250055</td><td>-0.12671757</td><td>-0.3562158</td><td>-0.14646253</td><td>0.03582232</td><td>0.0679245</td><td>17.073978</td><td>17.45995</td><td>16.441769</td><td>0.247922712996744</td><td>2.3449324402236016</td><td>0.3663552405711325</td><td>0.51325250205469</td><td>0.0149574485671462</td><td>2.3580020824487584</td><td>0.6767276281082888</td><td>4.568769622819561</td><td>4.579567118909182</td></tr>\n",
       "<tr><td>J210933.1-411020</td><td>2106-413</td><td>D</td><td>317.38828575833327</td><td>-41.172390361111106</td><td>--</td><td>--</td><td>0.3613114705017837</td><td>0.42</td><td>0.44056529487274904</td><td>-0.221</td><td>2448704.2</td><td>2447627.0</td><td>2449663.3</td><td>17</td><td>72</td><td>6581524458946044544</td><td>317.3882874112437</td><td>0.5578885921703083</td><td>-41.17239122375928</td><td>0.4503569860742336</td><td>0.6221983167599916</td><td>0.2871255025572206</td><td>0.8149514599532719</td><td>-0.2961925048947752</td><td>1.2094464183495095</td><td>-0.6815409526671397</td><td>0.9081154259119296</td><td>0.4707221</td><td>0.020716285</td><td>-0.1046253</td><td>-0.1584999</td><td>0.116349556</td><td>-0.14286706</td><td>-0.37887162</td><td>-0.40406725</td><td>-0.24994321</td><td>0.3680415</td><td>20.15574</td><td>20.531885</td><td>19.38531</td><td>-4.479116266445451</td><td>3.1055334176244287</td><td>0.664669587080626</td><td>0.6158095605833571</td><td>0.08473154022956875</td><td>5.450396346718127</td><td>-6.738861463661529</td><td>5.043009424346308</td><td>9.418925364589166</td></tr>\n",
       "<tr><td>J213410.3-015317</td><td>2131-021</td><td>C</td><td>323.54295672499995</td><td>-1.8881218972222222</td><td>2</td><td>1</td><td>0.2698534083413186</td><td>0.29999999999999993</td><td>0.35457617555307036</td><td>-0.537</td><td>2448519.5</td><td>2447177.0</td><td>2449737.4</td><td>56</td><td>195</td><td>2686427654815559808</td><td>323.5429571157455</td><td>0.20603090301025334</td><td>-1.888121664708784</td><td>0.294309422638317</td><td>0.30378252503854186</td><td>-0.7223819861246531</td><td>0.3207431831259825</td><td>-1.0697323908308616</td><td>0.4174636157272511</td><td>-1.2834229206986434</td><td>0.5559948095601795</td><td>0.27711573</td><td>0.2855676</td><td>-0.16967852</td><td>-0.1796247</td><td>-0.50065976</td><td>-0.29658195</td><td>-0.5647429</td><td>0.11453232</td><td>0.2702524</td><td>0.5150153</td><td>18.328453</td><td>18.785242</td><td>17.677094</td><td>-1.4059201619678114</td><td>-0.8370483778108451</td><td>0.3395137625909248</td><td>0.42025948680987496</td><td>-0.026669962832674372</td><td>1.6362339345653985</td><td>-4.140981358866987</td><td>-1.9917417787870784</td><td>5.007402516749869</td></tr>\n",
       "<tr><td>J215203.1-780706</td><td>2146-783</td><td>D</td><td>328.01314376666664</td><td>-78.11851100555555</td><td>--</td><td>--</td><td>0.6825188523334612</td><td>0.63</td><td>0.7560059470400177</td><td>0.316</td><td>2448577.8</td><td>2447627.0</td><td>2449331.0</td><td>7</td><td>29</td><td>6355523108031919232</td><td>328.0131389957315</td><td>0.4007486221507333</td><td>-78.11850924525368</td><td>0.43073855897688024</td><td>0.44216167402560297</td><td>-0.21300770935327495</td><td>0.47601118516438357</td><td>0.3127475684600677</td><td>1.0234780191529695</td><td>-1.6701366104830877</td><td>0.8929843513022205</td><td>-0.108080685</td><td>0.18980706</td><td>-0.16108993</td><td>-0.15196316</td><td>-0.11523051</td><td>-0.1644116</td><td>-0.1467034</td><td>-0.1387647</td><td>-0.05305904</td><td>-0.006595569</td><td>20.253187</td><td>nan</td><td>nan</td><td>3.536202561737285</td><td>-6.337086733765318</td><td>0.7914742206454335</td><td>0.7631747546856351</td><td>0.1172191939507759</td><td>7.256955065928253</td><td>4.467868276055249</td><td>-8.30358537786758</td><td>10.36114455371922</td></tr>\n",
       "<tr><td>J215224.8+173437</td><td>2150+173</td><td>D</td><td>328.10341418749994</td><td>17.577165227777776</td><td>2</td><td>2</td><td>0.28599332975342306</td><td>0.38999999999999996</td><td>0.39017746213356225</td><td>-0.028</td><td>2448517.1</td><td>2447006.3</td><td>2449457.3</td><td>23</td><td>150</td><td>1773200891949498624</td><td>328.10341306540806</td><td>0.4047563838569036</td><td>17.577165197755864</td><td>0.47706020186725456</td><td>0.5116790196709252</td><td>-1.5067308674013344</td><td>0.4810072370062896</td><td>2.5070453839852616</td><td>0.9334332090607257</td><td>0.8389681870410899</td><td>0.9372214525132404</td><td>0.2999272</td><td>0.22881307</td><td>0.07306405</td><td>-0.18081592</td><td>0.12126461</td><td>-0.014408111</td><td>-0.21845897</td><td>0.0011447547</td><td>-0.36995026</td><td>-0.12309951</td><td>19.746525</td><td>20.39057</td><td>18.903635</td><td>3.850929494778298</td><td>0.10807888344288585</td><td>0.49560055986284685</td><td>0.6161870139865215</td><td>0.054790845249822924</td><td>3.8524458489120517</td><td>7.770228298055211</td><td>0.17539948260780772</td><td>7.868361185304841</td></tr>\n",
       "<tr><td>J222547.2-045701</td><td>2223-052</td><td>C</td><td>336.44691372499994</td><td>-4.950386244444444</td><td>--</td><td>--</td><td>0.28393689151613005</td><td>0.6099999999999999</td><td>0.6403878052334929</td><td>-0.646</td><td>2448183.5</td><td>2444774.3</td><td>2449737.4</td><td>34</td><td>111</td><td>2626374700527307136</td><td>336.4469147973835</td><td>0.22640780641064265</td><td>-4.950386557570048</td><td>0.26103930480914717</td><td>0.2888955677916882</td><td>-0.5673312857437255</td><td>0.25768858977164955</td><td>-0.21474608830772285</td><td>0.46151969587840647</td><td>0.5659735988248066</td><td>0.40466553518644466</td><td>0.37579304</td><td>-0.062955104</td><td>-0.24935481</td><td>-0.35697627</td><td>-0.28573844</td><td>-0.337793</td><td>-0.48688626</td><td>0.05578619</td><td>-0.19172269</td><td>0.11552787</td><td>18.392075</td><td>18.699045</td><td>17.825874</td><td>-3.846180037259715</td><td>1.1272521732053065</td><td>0.3631537596769744</td><td>0.6635069846318445</td><td>-0.08967830061313205</td><td>4.007966858771568</td><td>-10.591051131291868</td><td>1.6989303795057666</td><td>10.863216485833743</td></tr>\n",
       "<tr><td>J225717.3+074312</td><td>2254+074</td><td>D</td><td>344.3220963333333</td><td>7.7200841222222225</td><td>--</td><td>--</td><td>0.3418729793783371</td><td>0.5199999999999999</td><td>0.5600533618305329</td><td>-0.519</td><td>2448052.5</td><td>2447011.9</td><td>2449737.4</td><td>26</td><td>139</td><td>2712232853416646912</td><td>344.3220959631898</td><td>0.1690527108999229</td><td>7.720083837031975</td><td>0.15393752724183263</td><td>0.1749769402726025</td><td>-0.12970094256990125</td><td>0.21201147472951765</td><td>-0.10068235486455127</td><td>0.3276599386105328</td><td>-0.3408532886820261</td><td>0.3089217763536383</td><td>0.14431302</td><td>0.4034689</td><td>-0.0050495295</td><td>-0.15380405</td><td>-0.16320895</td><td>-0.07466445</td><td>0.09085737</td><td>-0.045950405</td><td>-0.21881296</td><td>0.1531555</td><td>17.627584</td><td>17.787567</td><td>16.528748</td><td>1.3204390377572441</td><td>1.0266848907036774</td><td>0.38138688112156377</td><td>0.5423068894024212</td><td>-0.0885091416104423</td><td>1.6726150535112672</td><td>3.46220361296687</td><td>1.8931806155643753</td><td>5.092072886435291</td></tr>\n",
       "<tr><td>J230343.5-680737</td><td>2300-683</td><td>C</td><td>345.9315236375</td><td>-68.12707140555555</td><td>--</td><td>--</td><td>197.77341180142588</td><td>450.60999999999996</td><td>492.0346699300296</td><td>-0.999</td><td>2449651.3</td><td>2449651.3</td><td>2449651.3</td><td>1</td><td>1</td><td>6390824032648969856</td><td>345.9315194343033</td><td>0.06068373672917138</td><td>-68.12706789855437</td><td>0.0670358851232441</td><td>0.07084514347075817</td><td>-0.04353985904923771</td><td>0.08118706341182506</td><td>-0.13082492237910076</td><td>0.12272202751624063</td><td>-0.0870895185946838</td><td>0.12823155231642644</td><td>-0.20595877</td><td>0.31664172</td><td>-0.16885117</td><td>0.0014344269</td><td>-0.22606005</td><td>0.11748455</td><td>-0.22064264</td><td>-0.18272384</td><td>-0.21774735</td><td>-0.108094476</td><td>16.964478</td><td>17.017605</td><td>16.63674</td><td>5.637233521388349</td><td>-12.625204254845812</td><td>197.7734211113624</td><td>450.6100049863627</td><td>-89029.55925258646</td><td>13.826575290043492</td><td>0.028503493996870948</td><td>-0.028018029149681004</td><td>0.030280398314692477</td></tr>\n",
       "</table>"
      ],
      "text/plain": [
       "<Table masked=True length=43>\n",
       "   icrf_name     iers_name type ...        nor_ddec             nor_sep       \n",
       "                                ...          deg                  deg         \n",
       "     str16          str8   str1 ...        float64              float64       \n",
       "---------------- --------- ---- ... --------------------- --------------------\n",
       "J000557.1+382015  0003+380    D ...     9.399550684349212   14.645340650304684\n",
       "J001331.1+405137  0010+405    D ...   -3.5479794745820974   3.6326553443164165\n",
       "J011343.1+022217  0111+021    C ...     6.130466733596251    6.463395791804131\n",
       "J012031.6-270124  0118-272    C ...    -5.165471003754552    5.412818910490222\n",
       "J012141.5+114950  0119+115    C ...    -14.98356227826535   15.407902068140036\n",
       "J013741.2+330935  0134+329    O ...        8.276100000962     8.32259037864596\n",
       "J015002.6-072548  0147-076    C ...   -3.4160725694444536    3.416082054922986\n",
       "J015734.9+744243  0153+744    D ...    3.4559560689470508    3.714603448160623\n",
       "J025134.5+431515  0248+430    D ...    -3.481554626876243    4.451455681648359\n",
       "             ...       ...  ... ...                   ...                  ...\n",
       "J182407.0+565101  1823+568    D ...     7.507531846900162    8.423181941379847\n",
       "J193925.0-634245  1934-638    C ...    3.6891734789092454    4.002622631664864\n",
       "J203147.9+545503  2030+547    D ...     4.568769622819561    4.579567118909182\n",
       "J210933.1-411020  2106-413    D ...     5.043009424346308    9.418925364589166\n",
       "J213410.3-015317  2131-021    C ...   -1.9917417787870784    5.007402516749869\n",
       "J215203.1-780706  2146-783    D ...     -8.30358537786758    10.36114455371922\n",
       "J215224.8+173437  2150+173    D ...   0.17539948260780772    7.868361185304841\n",
       "J222547.2-045701  2223-052    C ...    1.6989303795057666   10.863216485833743\n",
       "J225717.3+074312  2254+074    D ...    1.8931806155643753    5.092072886435291\n",
       "J230343.5-680737  2300-683    C ... -0.028018029149681004 0.030280398314692477"
      ]
     },
     "execution_count": 16,
     "metadata": {},
     "output_type": "execute_result"
    }
   ],
   "source": [
    "com_out"
   ]
  },
  {
   "cell_type": "code",
   "execution_count": 17,
   "metadata": {},
   "outputs": [],
   "source": [
    "# Transform columns into np.array\n",
    "dra = np.array(com_clean[\"dra\"])\n",
    "ddec = np.array(com_clean[\"ddec\"])\n",
    "dra_err = np.array(com_clean[\"dra_err\"])\n",
    "ddec_err = np.array(com_clean[\"ddec_err\"])\n",
    "ra_rad = np.array(com_clean[\"ra_icrf1\"].to(u.radian))\n",
    "dec_rad = np.array(com_clean[\"dec_icrf1\"].to(u.radian))\n",
    "dra_ddec_cov = np.array(com_clean[\"dra_ddec_cov\"])"
   ]
  },
  {
   "cell_type": "code",
   "execution_count": 18,
   "metadata": {},
   "outputs": [
    {
     "name": "stdout",
     "output_type": "stream",
     "text": [
      "Estimates (   447 sources)\n",
      "--------------------------------------------------------------------------------------------\n",
      "               Rotation [uas]                                   Glide [uas]               \n",
      "               x             y             z               x             y             z\n",
      "--------------------------------------------------------------------------------------------\n",
      "l_max=1   +25 +/-  25    -7 +/-  25   +16 +/-  23     -19 +/-  24  +149 +/-  24  +191 +/-  25\n",
      "l_max=2   +41 +/-  27    +4 +/-  26    +2 +/-  24     -29 +/-  25  +158 +/-  25  +213 +/-  27\n",
      "--------------------------------------------------------------------------------------------\n",
      "\n",
      "Quadrupolar term Estimate Error\n",
      "---------------- -------- -----\n",
      "            ER22      -14    16\n",
      "            EI22       -2    15\n",
      "            ER21      -45    30\n",
      "            EI21      -38    31\n",
      "             E20      -54    31\n",
      "            MR22       24    17\n",
      "            MI22      -21    17\n",
      "            MR21       52    29\n",
      "            MI21      -26    30\n",
      "             M20       23    28\n",
      "Correlation coefficient between parameters in 'l_max=1' fit\n",
      "          R1    R2    R3    D1    D2\n",
      "    R2  +0.0\n",
      "    R3  -0.0  -0.0\n",
      "    D1  +0.1  +0.3  -0.1\n",
      "    D2  -0.3  +0.1  -0.1  +0.0\n",
      "    D3  +0.1  +0.1  -0.1  -0.0  -0.0\n",
      "Correlation coefficient between parameters in 'l_max=2' fit\n",
      "          R1    R2    R3    D1    D2    D3  E22R  E22I  E21R  E21I   E20  M22R  M22I  M21R  M21I\n",
      "    R2  +0.0\n",
      "    R3  -0.0  +0.0\n",
      "    D1  +0.1  +0.3  -0.1\n",
      "    D2  -0.3  +0.1  -0.1  +0.1\n",
      "    D3  +0.1  +0.0  -0.2  -0.0  -0.0\n",
      "  E22R  +0.1  +0.0  -0.0  -0.0  +0.1  +0.1\n",
      "  E22I  +0.1  -0.0  +0.1  +0.0  -0.0  +0.1  +0.0\n",
      "  E21R  +0.2  +0.1  -0.1  +0.1  -0.0  +0.0  -0.1  +0.1\n",
      "  E21I  +0.0  -0.2  -0.1  +0.1  +0.0  +0.1  +0.0  -0.0  +0.1\n",
      "   E20  -0.0  -0.0  -0.4  -0.0  -0.1  +0.1  +0.0  -0.0  +0.1  -0.0\n",
      "  M22R  -0.0  -0.0  -0.2  +0.1  +0.1  -0.0  +0.1  -0.2  +0.0  +0.1  +0.1\n",
      "  M22I  -0.0  -0.0  -0.1  +0.1  -0.0  +0.1  +0.2  +0.1  +0.0  +0.0  +0.1  +0.0\n",
      "  M21R  -0.0  +0.1  +0.0  +0.3  -0.1  -0.0  -0.1  -0.0  -0.1  -0.1  +0.0  -0.1  +0.1\n",
      "  M21I  +0.0  -0.1  -0.0  -0.1  -0.2  -0.0  -0.1  -0.0  +0.1  -0.1  -0.1  +0.1  -0.0  +0.0\n",
      "   M20  -0.1  +0.1  +0.1  -0.0  +0.1  -0.3  -0.1  -0.1  -0.0  +0.1  -0.1  -0.0  -0.0  +0.0  -0.1\n"
     ]
    }
   ],
   "source": [
    "# Transformation parameters\n",
    "# l_max = 1\n",
    "w1_cln, sig1_cln, corrcoef1_cln = vsh_deg01_fitting(\n",
    "    dra, ddec, ra_rad, dec_rad, dra_err, ddec_err,\n",
    "    cov=dra_ddec_cov, elim_flag=\"None\")\n",
    "\n",
    "# l_max = 2\n",
    "w2_cln, sig2_cln, corrcoef2_cln = vsh_deg02_fitting(\n",
    "    dra, ddec, ra_rad, dec_rad, dra_err, ddec_err,\n",
    "    cov=dra_ddec_cov, elim_flag=\"None\")\n",
    "\n",
    "# mas -> uas\n",
    "w1 = w1_cln * 1.e3\n",
    "sig1 = sig1_cln * 1.e3\n",
    "w2 = w2_cln * 1.e3\n",
    "sig2 = sig2_cln * 1.e3\n",
    "\n",
    "# Print results\n",
    "print(\"Estimates (%6d sources)\\n\"\n",
    "      \"----------------------------------------------\"\n",
    "      \"----------------------------------------------\\n\"\n",
    "      \"               Rotation [uas]                 \"\n",
    "      \"                  Glide [uas]               \\n\"\n",
    "      \"               x             y             z\"\n",
    "      \"               x             y             z\\n\"\n",
    "      \"----------------------------------------------\"\n",
    "      \"----------------------------------------------\\n\"\n",
    "      \"l_max=1  %+4.0f +/- %3.0f  %+4.0f +/- %3.0f  %+4.0f +/- %3.0f  \"\n",
    "      \"  %+4.0f +/- %3.0f  %+4.0f +/- %3.0f  %+4.0f +/- %3.0f\\n\"\n",
    "      \"l_max=2  %+4.0f +/- %3.0f  %+4.0f +/- %3.0f  %+4.0f +/- %3.0f  \"\n",
    "      \"  %+4.0f +/- %3.0f  %+4.0f +/- %3.0f  %+4.0f +/- %3.0f\\n\"\n",
    "      \"----------------------------------------------\"\n",
    "      \"----------------------------------------------\\n\" %\n",
    "      (dra.size, w1[3], sig1[3], w1[4], sig1[4], w1[5], sig1[5],\n",
    "       w1[0], sig1[0], w1[1], sig1[1], w1[2], sig1[2],\n",
    "       w2[3], sig2[3], w2[4], sig2[4], w2[5], sig2[5],\n",
    "       w2[0], sig2[0], w2[1], sig2[1], w2[2], sig2[2]))\n",
    "\n",
    "quad_names = Column([\"ER22\", \"EI22\", \"ER21\", \"EI21\", \"E20\",\n",
    "                     \"MR22\", \"MI22\", \"MR21\", \"MI21\", \"M20\"])\n",
    "t_quad = Table([quad_names, w2[6:], sig2[6:]], names=[\"Quadrupolar term\", \"Estimate\", \"Error\"])\n",
    "t_quad[\"Estimate\"].format = \"%5.0f\"\n",
    "t_quad[\"Error\"].format = \"%5.0f\"\n",
    "print(t_quad)\n",
    "\n",
    "print(\"Correlation coefficient between parameters in 'l_max=1' fit\")\n",
    "print_vsh1_corr(corrcoef1_cln, deci_digit=1, included_one=False)\n",
    "\n",
    "print(\"Correlation coefficient between parameters in 'l_max=2' fit\")\n",
    "print_vsh2_corr(corrcoef2_cln, deci_digit=1, included_one=False)"
   ]
  },
  {
   "cell_type": "markdown",
   "metadata": {},
   "source": [
    "Save the results for future use."
   ]
  },
  {
   "cell_type": "code",
   "execution_count": 19,
   "metadata": {},
   "outputs": [],
   "source": [
    "# The last step is to save the 16 transformation parameters for further use.\n",
    "vsh2_names = Column([\"D1\", \"D2\", \"D3\",\n",
    "                     \"R1\", \"R2\", \"R3\",\n",
    "                     \"ER22\", \"EI22\", \"ER21\", \"EI21\", \"E20\",\n",
    "                     \"MR22\", \"MI22\", \"MR21\", \"MI21\", \"M20\"])\n",
    "t_vsh2 = Table([vsh2_names, w2, sig2], names=[\n",
    "               \"Names\", \"Estimate\", \"Error\"])\n",
    "t_vsh2[\"Estimate\"].format = \"%5.0f\"\n",
    "t_vsh2[\"Error\"].format = \"%5.0f\"\n",
    "t_vsh2[\"Estimate\"].unit = u.uas\n",
    "t_vsh2[\"Error\"].unit = u.uas\n",
    "t_vsh2.write(\"../logs/icrf1_gaiadr2_vsh02.log\",\n",
    "             format=\"ascii\", overwrite=True)"
   ]
  },
  {
   "cell_type": "markdown",
   "metadata": {},
   "source": [
    "Then I check the residuals of positional offsets."
   ]
  },
  {
   "cell_type": "code",
   "execution_count": 20,
   "metadata": {},
   "outputs": [],
   "source": [
    "# Remove the systematics\n",
    "RA = np.array(common_source[\"ra_icrf1\"].to(u.radian))\n",
    "DE = np.array(common_source[\"dec_icrf1\"].to(u.radian))\n",
    "\n",
    "dra_ns, ddec_ns = residual_calc02(dRA, dDC, RA, DE, w2_cln)\n",
    "# dra_ns, ddec_ns = residual_calc02(dRA, dDC, RA, DE, w2_all)\n",
    "\n",
    "# Now re-calculate the normalized difference\n",
    "ang_sep_ns, Xa_ns, Xd_ns, X_ns = nor_sep_calc(\n",
    "    dra_ns, dRA_err, ddec_ns, dDC_err, dRA_dDC_cov/dRA_err/dDC_err)"
   ]
  },
  {
   "cell_type": "code",
   "execution_count": 21,
   "metadata": {},
   "outputs": [
    {
     "name": "stdout",
     "output_type": "stream",
     "text": [
      "After removing the global systematics,\n",
      "After removing the global systematics, 446 sources will stay in the clean sample with the criteria of.\n",
      "The outlier rate is 9%.\n",
      "There are 44 outliers, among which 24 are defining sources, 17 candidates, and 3 others.\n"
     ]
    }
   ],
   "source": [
    "# Check if the outlier number is changed.\n",
    "# Remove the outlier (consider the normalized separation)\n",
    "\n",
    "print(\"After removing the global systematics,\")\n",
    "mask_ns = ((X_ns <= X0)& (ang_sep_ns < 10))\n",
    "\n",
    "# Table of a clean sample\n",
    "com_clean_ns = common_source[mask_ns]\n",
    "N1_ns = len(com_clean_ns)\n",
    "print(\"After removing the global systematics, \"\n",
    "      \"%d sources will stay in the clean sample with the criteria of.\" % N1_ns)\n",
    "print(\"The outlier rate is %.0f%%.\" % ((N-N1_ns)/N*100))\n",
    "\n",
    "# Take a look at the outliers\n",
    "com_out_ns = setdiff(common_source, com_clean_ns, keys=\"iers_name\")\n",
    "\n",
    "print(\"There are {:d} outliers, among which {:d} are defining sources, \"\n",
    "      \"{:d} candidates, and {:d} others.\".format(len(com_out_ns), \n",
    "                                                 len(com_out_ns[com_out_ns[\"type\"]==\"D\"]),\n",
    "                                                 len(com_out_ns[com_out_ns[\"type\"]==\"C\"]),\n",
    "                                                 len(com_out_ns[com_out_ns[\"type\"]==\"O\"])))"
   ]
  },
  {
   "cell_type": "code",
   "execution_count": 22,
   "metadata": {},
   "outputs": [
    {
     "data": {
      "image/png": "[encoded data removed]",
      "text/plain": [
       "<Figure size 576x288 with 2 Axes>"
      ]
     },
     "metadata": {
      "needs_background": "light"
     },
     "output_type": "display_data"
    }
   ],
   "source": [
    "# Difference in RA and decl.\n",
    "bins_array = np.linspace(-5, 5, 50)\n",
    "weights = np.ones_like(dra_ns) * 100. / dra_ns.size\n",
    "\n",
    "fig, (ax0, ax1) = plt.subplots(figsize=(8, 4), ncols=2)\n",
    "ax0.hist(dra_ns, bins_array, weights=weights, facecolor=\"g\", alpha=0.75)\n",
    "ax1.hist(ddec_ns, bins_array, weights=weights, facecolor=\"g\", alpha=0.75)\n",
    "\n",
    "ax0.set_yticks(np.arange(0, 23, 2))\n",
    "ax1.set_yticks(np.arange(0, 23, 2))\n",
    "\n",
    "ax0.set_ylim([0, 21])\n",
    "ax1.set_ylim([0, 21])\n",
    "\n",
    "ax0.set_xlabel(\"$\\Delta\\\\alpha*$ (mas)\")\n",
    "ax1.set_xlabel(\"$\\Delta\\\\delta$ (mas)\")\n",
    "\n",
    "ax0.set_ylabel(\"% in bin\")\n",
    "ax1.set_ylabel(\"% in bin\")\n",
    "\n",
    "fig.tight_layout()\n",
    "plt.show()"
   ]
  },
  {
   "cell_type": "code",
   "execution_count": 23,
   "metadata": {},
   "outputs": [
    {
     "data": {
      "image/png": "[encoded data removed]",
      "text/plain": [
       "<Figure size 576x288 with 2 Axes>"
      ]
     },
     "metadata": {
      "needs_background": "light"
     },
     "output_type": "display_data"
    }
   ],
   "source": [
    "# Normalized difference in RA and decl.\n",
    "from scipy import stats\n",
    "bins_array = np.linspace(-10, 10, 100)\n",
    "weights = np.ones_like(Xa_ns) * 100. / Xa_ns.size\n",
    "\n",
    "# Plot the \n",
    "fig, (ax0, ax1) = plt.subplots(figsize=(8, 4), ncols=2)\n",
    "ax0.hist(Xa_ns, bins_array, weights=weights, facecolor=\"g\", alpha=0.75)\n",
    "ax1.hist(Xd_ns, bins_array, weights=weights, facecolor=\"g\", alpha=0.75)\n",
    "\n",
    "ax0.set_xlabel(\"$X_{\\\\alpha*}$\")\n",
    "ax1.set_xlabel(\"$X_{\\\\delta}$\")\n",
    "\n",
    "ax0.set_ylabel(\"% in bin\")\n",
    "ax1.set_ylabel(\"% in bin\")\n",
    "\n",
    "# add a '(standard) Gaussian distribution' line\n",
    "Gaussian_dist = stats.norm.pdf(bins_array, 0, 1) * 10. / 50\n",
    "ax0.plot(bins_array, Gaussian_dist * 100, \"r--\", linewidth=1)\n",
    "ax1.plot(bins_array, Gaussian_dist * 100, \"r--\", linewidth=1)\n",
    "\n",
    "ax0.set_yticks(np.arange(0, 15, 2))\n",
    "ax1.set_yticks(np.arange(0, 15, 2))\n",
    "\n",
    "fig.tight_layout()\n",
    "plt.show()"
   ]
  },
  {
   "cell_type": "code",
   "execution_count": 24,
   "metadata": {},
   "outputs": [
    {
     "name": "stderr",
     "output_type": "stream",
     "text": [
      "The PostScript backend does not support transparency; partially transparent artists will be rendered opaque.\n",
      "The PostScript backend does not support transparency; partially transparent artists will be rendered opaque.\n",
      "The PostScript backend does not support transparency; partially transparent artists will be rendered opaque.\n",
      "The PostScript backend does not support transparency; partially transparent artists will be rendered opaque.\n",
      "The PostScript backend does not support transparency; partially transparent artists will be rendered opaque.\n",
      "The PostScript backend does not support transparency; partially transparent artists will be rendered opaque.\n",
      "The PostScript backend does not support transparency; partially transparent artists will be rendered opaque.\n",
      "The PostScript backend does not support transparency; partially transparent artists will be rendered opaque.\n",
      "The PostScript backend does not support transparency; partially transparent artists will be rendered opaque.\n",
      "The PostScript backend does not support transparency; partially transparent artists will be rendered opaque.\n",
      "The PostScript backend does not support transparency; partially transparent artists will be rendered opaque.\n",
      "The PostScript backend does not support transparency; partially transparent artists will be rendered opaque.\n",
      "The PostScript backend does not support transparency; partially transparent artists will be rendered opaque.\n",
      "The PostScript backend does not support transparency; partially transparent artists will be rendered opaque.\n",
      "The PostScript backend does not support transparency; partially transparent artists will be rendered opaque.\n",
      "The PostScript backend does not support transparency; partially transparent artists will be rendered opaque.\n",
      "The PostScript backend does not support transparency; partially transparent artists will be rendered opaque.\n",
      "The PostScript backend does not support transparency; partially transparent artists will be rendered opaque.\n",
      "The PostScript backend does not support transparency; partially transparent artists will be rendered opaque.\n",
      "The PostScript backend does not support transparency; partially transparent artists will be rendered opaque.\n",
      "The PostScript backend does not support transparency; partially transparent artists will be rendered opaque.\n",
      "The PostScript backend does not support transparency; partially transparent artists will be rendered opaque.\n",
      "The PostScript backend does not support transparency; partially transparent artists will be rendered opaque.\n",
      "The PostScript backend does not support transparency; partially transparent artists will be rendered opaque.\n",
      "The PostScript backend does not support transparency; partially transparent artists will be rendered opaque.\n",
      "The PostScript backend does not support transparency; partially transparent artists will be rendered opaque.\n",
      "The PostScript backend does not support transparency; partially transparent artists will be rendered opaque.\n",
      "The PostScript backend does not support transparency; partially transparent artists will be rendered opaque.\n",
      "The PostScript backend does not support transparency; partially transparent artists will be rendered opaque.\n",
      "The PostScript backend does not support transparency; partially transparent artists will be rendered opaque.\n",
      "The PostScript backend does not support transparency; partially transparent artists will be rendered opaque.\n",
      "The PostScript backend does not support transparency; partially transparent artists will be rendered opaque.\n",
      "The PostScript backend does not support transparency; partially transparent artists will be rendered opaque.\n",
      "The PostScript backend does not support transparency; partially transparent artists will be rendered opaque.\n",
      "The PostScript backend does not support transparency; partially transparent artists will be rendered opaque.\n",
      "The PostScript backend does not support transparency; partially transparent artists will be rendered opaque.\n",
      "The PostScript backend does not support transparency; partially transparent artists will be rendered opaque.\n",
      "The PostScript backend does not support transparency; partially transparent artists will be rendered opaque.\n",
      "The PostScript backend does not support transparency; partially transparent artists will be rendered opaque.\n",
      "The PostScript backend does not support transparency; partially transparent artists will be rendered opaque.\n",
      "The PostScript backend does not support transparency; partially transparent artists will be rendered opaque.\n",
      "The PostScript backend does not support transparency; partially transparent artists will be rendered opaque.\n",
      "The PostScript backend does not support transparency; partially transparent artists will be rendered opaque.\n",
      "The PostScript backend does not support transparency; partially transparent artists will be rendered opaque.\n",
      "The PostScript backend does not support transparency; partially transparent artists will be rendered opaque.\n",
      "The PostScript backend does not support transparency; partially transparent artists will be rendered opaque.\n",
      "The PostScript backend does not support transparency; partially transparent artists will be rendered opaque.\n",
      "The PostScript backend does not support transparency; partially transparent artists will be rendered opaque.\n",
      "The PostScript backend does not support transparency; partially transparent artists will be rendered opaque.\n"
     ]
    },
    {
     "data": {
      "image/png": "[encoded data removed]",
      "text/plain": [
       "<Figure size 432x216 with 1 Axes>"
      ]
     },
     "metadata": {
      "needs_background": "light"
     },
     "output_type": "display_data"
    }
   ],
   "source": [
    "# Distribution of normalized separation\n",
    "from scipy import stats\n",
    "\n",
    "bins_array = np.linspace(0, 10, 50)\n",
    "weights = np.ones_like(X_ns) * 100. / X_ns.size\n",
    "\n",
    "fig, ax = plt.subplots(figsize=(6, 3))\n",
    "ax.hist(X_ns, bins_array, weights=weights, facecolor=\"g\", alpha=0.75)\n",
    "\n",
    "# add a '(standard) Rqyleigh distribution' line\n",
    "rayleigh_dist = stats.rayleigh.pdf(bins_array) * 10. / 50  * 100\n",
    "ax.plot(bins_array, rayleigh_dist, \"r--\", linewidth=1)\n",
    "\n",
    "ax.text(6.5, 10.5, \"ICRF1\", fontsize=15)\n",
    "\n",
    "ax.set_xlim([0, 10])\n",
    "ax.set_xlabel(\"Normalized separation $X$\")\n",
    "ax.set_ylabel(\"% in bin\")\n",
    "ax.grid()\n",
    "\n",
    "plt.savefig(\"../plots/x_icrf1_gaiadr2.eps\")"
   ]
  },
  {
   "cell_type": "code",
   "execution_count": 25,
   "metadata": {
    "scrolled": true
   },
   "outputs": [
    {
     "data": {
      "image/png": "[encoded data removed]",
      "text/plain": [
       "<Figure size 432x288 with 1 Axes>"
      ]
     },
     "metadata": {
      "needs_background": "light"
     },
     "output_type": "display_data"
    }
   ],
   "source": [
    "# Distribution of angular separation\n",
    "fig, ax = plt.subplots()\n",
    "ax.plot(common_source[\"phot_g_mean_mag\"], common_source[\"ang_sep\"], \".\", ms=3)\n",
    "ax.hlines(10, 12.5, 21.5, \"r\", lw=1)\n",
    "\n",
    "ax.text(14, 10+100, \"$\\\\rho$ = 10 mas\", fontsize=12)\n",
    "\n",
    "ax.set_xlim([12.5, 21.5])\n",
    "\n",
    "ax.set_ylabel(\"$\\\\rho$ (mas)\")\n",
    "ax.set_xlabel(\"$G$ (mag)\")\n",
    "\n",
    "ax.set_yscale(\"log\")\n",
    "\n",
    "ax.xaxis.set_ticks_position(\"both\")\n",
    "ax.yaxis.set_ticks_position(\"both\")\n",
    "\n",
    "ax.grid()\n",
    "plt.savefig(\"../plots/angsep-g_icrf1_gaiadr2.eps\")"
   ]
  },
  {
   "cell_type": "code",
   "execution_count": 26,
   "metadata": {
    "scrolled": true
   },
   "outputs": [
    {
     "data": {
      "image/png": "[encoded data removed]",
      "text/plain": [
       "<Figure size 432x288 with 1 Axes>"
      ]
     },
     "metadata": {
      "needs_background": "light"
     },
     "output_type": "display_data"
    }
   ],
   "source": [
    "# Distribution of angular separation\n",
    "fig, ax = plt.subplots()\n",
    "ax.plot(common_source[\"phot_g_mean_mag\"], common_source[\"nor_sep\"], \".\", ms=3)\n",
    "ax.hlines(X0, 12.5, 21.5, \"r\", lw=1)\n",
    "\n",
    "ax.text(14, X0+100, \"$X_0$ = {:.2f}\".format(X0), fontsize=12)\n",
    "\n",
    "ax.set_xlim([12.5, 21.5])\n",
    "ax.set_ylabel(\"$X$\")\n",
    "ax.set_xlabel(\"$G$ (mag)\")\n",
    "\n",
    "ax.set_yscale(\"log\")\n",
    "\n",
    "ax.xaxis.set_ticks_position(\"both\")\n",
    "ax.yaxis.set_ticks_position(\"both\")\n",
    "\n",
    "ax.grid()\n",
    "plt.savefig(\"../plots/norsep-g_icrf1_gaiadr2.eps\")"
   ]
  },
  {
   "cell_type": "code",
   "execution_count": 27,
   "metadata": {},
   "outputs": [
    {
     "name": "stderr",
     "output_type": "stream",
     "text": [
      "The PostScript backend does not support transparency; partially transparent artists will be rendered opaque.\n",
      "The PostScript backend does not support transparency; partially transparent artists will be rendered opaque.\n"
     ]
    },
    {
     "data": {
      "image/png": "[encoded data removed]",
      "text/plain": [
       "<Figure size 432x288 with 1 Axes>"
      ]
     },
     "metadata": {
      "needs_background": "light"
     },
     "output_type": "display_data"
    }
   ],
   "source": [
    "# Angular separation vs. normalized separation\n",
    "fig, ax = plt.subplots()\n",
    "\n",
    "ax.plot(com_can[\"nor_sep\"], com_can[\"ang_sep\"],\n",
    "         \"b*\", ms=3, label=\"Candiate\")\n",
    "ax.plot(com_oth[\"nor_sep\"], com_oth[\"ang_sep\"],\n",
    "         \"g^\", ms=3, label=\"Other\")\n",
    "ax.plot(com_def[\"nor_sep\"], com_def[\"ang_sep\"],\n",
    "         \"rx\", ms=3, label=\"Defining\")\n",
    "\n",
    "ax.vlines(10, 0.01, 500, colors=\"k\", lw=0.5)\n",
    "ax.hlines(X0, 0.02, 150, colors=\"k\", lw=0.5)\n",
    "\n",
    "ax.set_xscale(\"log\")\n",
    "ax.set_yscale(\"log\")\n",
    "\n",
    "ax.set_ylabel(\"Normalized separation $X$\")\n",
    "ax.set_xlabel(\"Angular separation $\\\\rho$ (mas)\")\n",
    "\n",
    "ax.set_xlim([0.02, 150])\n",
    "ax.set_ylim([0.01, 500])\n",
    "ax.xaxis.set_ticks_position(\"both\")\n",
    "ax.yaxis.set_ticks_position(\"both\")\n",
    "\n",
    "ax.legend(loc=\"upper left\")\n",
    "fig.tight_layout()\n",
    "\n",
    "plt.savefig(\"../plots/separation_icrf1_gaiadr2.eps\")"
   ]
  },
  {
   "cell_type": "code",
   "execution_count": 35,
   "metadata": {},
   "outputs": [
    {
     "name": "stdout",
     "output_type": "stream",
     "text": [
      "After elimination, there are 447 sources in the clean sample.\n",
      "The outlier rate is 9%.\n",
      "There are 44 outliers, among which 24 are defining sources, 17 candidates, and 3 others.\n"
     ]
    }
   ],
   "source": [
    "# Remove the outlier (consider the normalized separation) \n",
    "mask = ((X_ns <= X0)\n",
    "        & (ang_sep_ns < 10))\n",
    "\n",
    "# Table of a clean sample\n",
    "com_clean = common_source[mask]\n",
    "N2 = len(com_clean)\n",
    "print(\"After elimination, there are %d sources in the clean sample.\" % N1)\n",
    "print(\"The outlier rate is %.0f%%.\" % ((N-N2)/N*100))\n",
    "\n",
    "# Take a look at the outliers\n",
    "com_out = setdiff(common_source, com_clean, keys=\"iers_name\")\n",
    "\n",
    "print(\"There are {:d} outliers, among which {:d} are defining sources, \"\n",
    "      \"{:d} candidates, and {:d} others.\".format(len(com_out), \n",
    "                                                 len(com_out[com_out[\"type\"]==\"D\"]),\n",
    "                                                 len(com_out[com_out[\"type\"]==\"C\"]),\n",
    "                                                 len(com_out[com_out[\"type\"]==\"O\"])))"
   ]
  }
 ],
 "metadata": {
  "hide_input": false,
  "kernel_info": {
   "name": "python3"
  },
  "kernelspec": {
   "display_name": "Python 3",
   "language": "python",
   "name": "python3"
  },
  "language_info": {
   "codemirror_mode": {
    "name": "ipython",
    "version": 3
   },
   "file_extension": ".py",
   "mimetype": "text/x-python",
   "name": "python",
   "nbconvert_exporter": "python",
   "pygments_lexer": "ipython3",
   "version": "3.7.4"
  },
  "latex_envs": {
   "LaTeX_envs_menu_present": true,
   "autoclose": false,
   "autocomplete": true,
   "bibliofile": "biblio.bib",
   "cite_by": "apalike",
   "current_citInitial": 1,
   "eqLabelWithNumbers": true,
   "eqNumInitial": 1,
   "hotkeys": {
    "equation": "Ctrl-E",
    "itemize": "Ctrl-I"
   },
   "labels_anchors": false,
   "latex_user_defs": false,
   "report_style_numbering": false,
   "user_envs_cfg": false
  },
  "nteract": {
   "version": "0.11.9"
  }
 },
 "nbformat": 4,
 "nbformat_minor": 2
}
