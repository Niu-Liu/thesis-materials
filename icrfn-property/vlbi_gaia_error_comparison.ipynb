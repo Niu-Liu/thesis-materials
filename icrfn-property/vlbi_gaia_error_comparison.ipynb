{
 "cells": [
  {
   "cell_type": "code",
   "execution_count": 2,
   "metadata": {},
   "outputs": [],
   "source": [
    "#!/usr/bin/env python3\n",
    "# -*- coding: utf-8 -*-\n",
    "# File name: vlbi_gaia_error_comparison.py\n",
    "\"\"\"\n",
    "Created on Sun May 27 15:28:04 2018\n",
    "\n",
    "@author: Neo(liuniu@smail.nju.edu.cn)\n",
    "\n",
    "Plot the formal error of opa2018b solution, using Gaia DR2 as a reference.\n",
    "\n",
    "\"\"\"\n",
    "\n",
    "%matplotlib inline\n",
    "%config InlineBackend.figure_format = 'svg'\n",
    "\n",
    "from astropy import units as u\n",
    "from astropy.coordinates import SkyCoord\n",
    "from matplotlib import pyplot as plt, cm as cm\n",
    "import numpy as np\n",
    "from numpy import cos, deg2rad, sqrt\n",
    "# My modules\n",
    "from read_sou import read_cat\n",
    "from read_GaiaDR2 import read_gaiadr2_iers_position\n",
    "from cross_match import list_crossmatch, pos_max_calc, \\\n",
    "    overall_err_calc, postional_difference_calc"
   ]
  },
  {
   "cell_type": "code",
   "execution_count": 9,
   "metadata": {},
   "outputs": [],
   "source": [
    "# VLBI solution OPAA\n",
    "vlbi_cat_v1 = \"../data/opa-sx-180425-noGA.cat\"\n",
    "[ivs_name_v1, iers_name_v1, ra_v1, dec_v1, ra_error_v1, dec_error_v1,\n",
    " ra_dec_corr_v1, num_ses_v1, num_obs_v1] = read_cat(vlbi_cat_v1)\n",
    "\n",
    "# ellipe semi-major axis\n",
    "sig_pos_max_v1 = pos_max_calc(ra_error_v1, dec_error_v1, ra_dec_corr_v1)\n",
    "\n",
    "# overall formal uncertainty\n",
    "overall_err_v1 = overall_err_calc(ra_error_v1, dec_error_v1, ra_dec_corr_v1)\n",
    "\n",
    "# Median error\n",
    "me_ra_v1 = np.median(ra_error_v1)\n",
    "me_dec_v1 = np.median(dec_error_v1)\n",
    "me_posmax_v1 = np.median(sig_pos_max_v1)\n",
    "me_all_v1 = np.median(overall_err_v1)"
   ]
  },
  {
   "cell_type": "code",
   "execution_count": 10,
   "metadata": {},
   "outputs": [],
   "source": [
    "# VLBI solution OPAB\n",
    "vlbi_cat_v2 = \"../data/opa-sx-180425-GA00.cat\"\n",
    "[ivs_name_v2, iers_name_v2, ra_v2, dec_v2, ra_error_v2, dec_error_v2,\n",
    " ra_dec_corr_v2, num_ses_v2, num_obs_v2] = read_cat(vlbi_cat_v2)\n",
    "\n",
    "# ellipe semi-major axis\n",
    "sig_pos_max_v2 = pos_max_calc(ra_error_v2, dec_error_v2, ra_dec_corr_v2)\n",
    "\n",
    "# overall formal uncertainty\n",
    "overall_err_v2 = overall_err_calc(ra_error_v2, dec_error_v2, ra_dec_corr_v2)\n",
    "\n",
    "# Median error\n",
    "me_ra_v2 = np.median(ra_error_v2)\n",
    "me_dec_v2 = np.median(dec_error_v2)\n",
    "me_posmax_v2 = np.median(sig_pos_max_v2)\n",
    "me_all_v2 = np.median(overall_err_v2)"
   ]
  },
  {
   "cell_type": "code",
   "execution_count": 11,
   "metadata": {},
   "outputs": [],
   "source": [
    "# VLBI solution OPAC\n",
    "vlbi_cat_v3 = \"../data/opa-sx-180425-GA15.cat\"\n",
    "[ivs_name_v3, iers_name_v3, ra_v3, dec_v3, ra_error_v3, dec_error_v3,\n",
    " ra_dec_corr_v3, num_ses_v3, num_obs_v3] = read_cat(vlbi_cat_v3)\n",
    "\n",
    "# ellipe semi-major axis\n",
    "sig_pos_max_v3 = pos_max_calc(ra_error_v3, dec_error_v3, ra_dec_corr_v3)\n",
    "\n",
    "# overall formal uncertainty\n",
    "overall_err_v3 = overall_err_calc(ra_error_v3, dec_error_v3, ra_dec_corr_v3)\n",
    "\n",
    "# Median error\n",
    "me_ra_v3 = np.median(ra_error_v3)\n",
    "me_dec_v3 = np.median(dec_error_v3)\n",
    "me_posmax_v3 = np.median(sig_pos_max_v3)\n",
    "me_all_v3 = np.median(overall_err_v3)"
   ]
  },
  {
   "cell_type": "code",
   "execution_count": null,
   "metadata": {},
   "outputs": [],
   "source": [
    "# Load Gaia DR1 data\n",
    "gaia_cat2 = \"../data/gaiadr2_iers.fits\"\n",
    "[iers_name_g2, ra_g2, ra_error_g2,\n",
    " dec_g2, dec_error_g2, ra_dec_corr_g2] = read_gaiadr2_iers_position(gaia_cat2)\n",
    "\n",
    "# ellipe semi-major axis\n",
    "sig_pos_max_g2 = pos_max_calc(ra_error_g2, dec_error_g2, ra_dec_corr_g2)\n",
    "\n",
    "# overall formal uncertainty\n",
    "overall_err_g2 = overall_err_calc(ra_error_g2, dec_error_g2, ra_dec_corr_g2)"
   ]
  },
  {
   "cell_type": "code",
   "execution_count": null,
   "metadata": {},
   "outputs": [],
   "source": [
    "# Load Gaia DR2 data\n",
    "gaia_cat2 = \"../data/gaiadr2_iers.fits\"\n",
    "[iers_name_g2, ra_g2, ra_error_g2,\n",
    " dec_g2, dec_error_g2, ra_dec_corr_g2] = read_gaiadr2_iers_position(gaia_cat2)\n",
    "\n",
    "# ellipe semi-major axis\n",
    "sig_pos_max_g2 = pos_max_calc(ra_error_g2, dec_error_g2, ra_dec_corr_g2)\n",
    "\n",
    "# overall formal uncertainty\n",
    "overall_err_g2 = overall_err_calc(ra_error_g2, dec_error_g2, ra_dec_corr_g2)\n",
    "\n",
    "# Median error\n",
    "me_ra_g2 = np.median(ra_error_g2)\n",
    "me_dec_g2 = np.median(dec_error_g2)\n",
    "me_posmax_g2 = np.median(sig_pos_max_g2)\n",
    "me_all_g2 = np.median(overall_err_g2)"
   ]
  },
  {
   "cell_type": "code",
   "execution_count": 7,
   "metadata": {},
   "outputs": [
    {
     "name": "stdout",
     "output_type": "stream",
     "text": [
      "There are 2782 common source between opa solution and Gaia DR2\n"
     ]
    }
   ],
   "source": [
    "# Cross-match between between two catalogs\n",
    "comsou_iers, ind_v, ind_g = list_crossmatch(iers_name_v, iers_name_g)\n",
    "print(\"There are %d common source between opa solution and Gaia DR2\" %comsou_iers.size)\n",
    "\n",
    "# Verify the result of cross-match\n",
    "soucom_v = np.take(iers_name_v, ind_v)\n",
    "soucom_g = np.take(iers_name_g, ind_g)\n",
    "for i, (comsoui, soucom_vi, soucom_gi) in enumerate(\n",
    "        zip(comsou_iers, soucom_v, soucom_g)):\n",
    "\n",
    "    if comsoui != soucom_vi:\n",
    "        print(\"%dth source %s are not consistented in list1 %s.\" %\n",
    "              (i, comsoui, soucom_vi))\n",
    "\n",
    "    if comsoui != soucom_gi:\n",
    "        print(\"%dth source %s are not consistented in list2 %s.\" %\n",
    "              (i, comsoui, soucom_gi))\n",
    "\n",
    "\n",
    "# Extract data for common source\n",
    "# VLBI data\n",
    "comsou_ivs = np.take(ivs_name_v, ind_v)\n",
    "ra_com_v = np.take(ra_v, ind_v)\n",
    "dec_com_v = np.take(dec_v, ind_v)\n",
    "ra_error_com_v = np.take(ra_error_v, ind_v)\n",
    "dec_error_com_v = np.take(dec_error_v, ind_v)\n",
    "ra_dec_corr_com_v = np.take(ra_dec_corr_v, ind_v)\n",
    "num_ses_com = np.take(num_ses, ind_v)\n",
    "num_obs_com = np.take(num_obs, ind_v)\n",
    "sig_pos_max_com_v = np.take(sig_pos_max_v, ind_v)\n",
    "overall_err_com_v = np.take(overall_err_v, ind_v)\n",
    "\n",
    "# Gaia data\n",
    "ra_com_g = np.take(ra_g, ind_g)\n",
    "dec_com_g = np.take(dec_g, ind_g)\n",
    "ra_error_com_g = np.take(ra_error_g, ind_g)\n",
    "dec_error_com_g = np.take(dec_error_g, ind_g)\n",
    "ra_dec_corr_com_g = np.take(ra_dec_corr_g, ind_g)\n",
    "sig_pos_max_com_g = np.take(sig_pos_max_g, ind_g)\n",
    "overall_err_com_g = np.take(overall_err_g, ind_g)\n",
    "\n",
    "\n",
    "# compute the gaia-vlbi seperation\n",
    "# positional difference\n",
    "[dra, ddec, dra_err, ddec_err, dra_ddec_cov,\n",
    " ang_sep, Xa, Xd, X, X2] = postional_difference_calc(\n",
    "    ra_com_v, dec_com_v, ra_error_com_v, dec_error_com_v, ra_dec_corr_com_v,\n",
    "    ra_com_g, dec_com_g, ra_error_com_g, dec_error_com_g, ra_dec_corr_com_g)"
   ]
  },
  {
   "cell_type": "code",
   "execution_count": 5,
   "metadata": {},
   "outputs": [],
   "source": [
    "# Transform the coordinate into an astropy.coordinate.SkyCoord object\n",
    "## opa solution\n",
    "coord_v = SkyCoord(ra=ra_com_v*u.deg, dec=dec_com_v*u.deg)\n",
    "# The mid-point of skyplot will be 0\n",
    "ra_rad_v = coord_v.ra.wrap_at(180 * u.deg).radian\n",
    "dec_rad_v = coord_v.dec.radian\n",
    "\n",
    "## Gaia DR2\n",
    "coord_g = SkyCoord(ra=ra_com_g*u.deg, dec=dec_com_g*u.deg)\n",
    "ra_rad_g = coord_g.ra.wrap_at(180 * u.deg).radian\n",
    "dec_rad_g = coord_g.dec.radian"
   ]
  }
 ],
 "metadata": {
  "hide_input": false,
  "kernelspec": {
   "display_name": "Python 3",
   "language": "python",
   "name": "python3"
  },
  "language_info": {
   "codemirror_mode": {
    "name": "ipython",
    "version": 3
   },
   "file_extension": ".py",
   "mimetype": "text/x-python",
   "name": "python",
   "nbconvert_exporter": "python",
   "pygments_lexer": "ipython3",
   "version": "3.7.4"
  },
  "latex_envs": {
   "LaTeX_envs_menu_present": true,
   "autoclose": false,
   "autocomplete": true,
   "bibliofile": "biblio.bib",
   "cite_by": "apalike",
   "current_citInitial": 1,
   "eqLabelWithNumbers": true,
   "eqNumInitial": 1,
   "hotkeys": {
    "equation": "Ctrl-E",
    "itemize": "Ctrl-I"
   },
   "labels_anchors": false,
   "latex_user_defs": false,
   "report_style_numbering": false,
   "user_envs_cfg": false
  }
 },
 "nbformat": 4,
 "nbformat_minor": 2
}
