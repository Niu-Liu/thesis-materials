{
 "cells": [
  {
   "cell_type": "markdown",
   "metadata": {},
   "source": [
    "In this notebook, I estimated the stability of the ICRF axes in the frame of ICRF3."
   ]
  },
  {
   "cell_type": "code",
   "execution_count": 1,
   "metadata": {},
   "outputs": [],
   "source": [
    "from astropy.table import Table, join, Column\n",
    "from astropy import units as u\n",
    "import numpy as np\n",
    "# My modules\n",
    "from my_progs.catalog.vsh_deg1_cor import vsh_deg01_fitting\n",
    "from my_progs.catalog.vsh_deg2_cor import vsh_deg02_fitting, residual_calc02\n",
    "from my_progs.catalog.write_output import print_vsh1_corr, print_vsh2_corr\n",
    "from my_progs.catalog.read_icrf import read_icrf1, read_icrf2, read_icrf3\n",
    "from my_progs.catalog.pos_diff import radio_cat_diff_calc"
   ]
  },
  {
   "cell_type": "code",
   "execution_count": 2,
   "metadata": {},
   "outputs": [],
   "source": [
    "# Read ICRF1 data\n",
    "icrf1 = read_icrf1()\n",
    "\n",
    "# Read ICRF2 data\n",
    "icrf2 = read_icrf2()\n",
    "\n",
    "# Read ICRF3 S/X catalog\n",
    "icrf3sx = read_icrf3(wv=\"sx\")\n",
    "\n",
    "# Read ICRF3 K catalog\n",
    "icrf3k = read_icrf3(wv=\"k\")\n",
    "\n",
    "# Read ICRF3 X/Ka catalog\n",
    "icrf3xka = read_icrf3(wv=\"xka\")\n",
    "\n",
    "# ICRF3 defining source list\n",
    "alllist = Table(icrf3sx)\n",
    "alllist.keep_columns([\"iers_name\", \"type\"])\n",
    "deflist = alllist[alllist[\"type\"] == \"D\"]"
   ]
  },
  {
   "cell_type": "code",
   "execution_count": 3,
   "metadata": {},
   "outputs": [],
   "source": [
    "icrf13sx = radio_cat_diff_calc(icrf1, icrf3sx, \"iers_name\", label=[\"1\", \"3sx\"])\n",
    "icrf23sx = radio_cat_diff_calc(icrf2, icrf3sx, \"iers_name\", label=[\"2\", \"3sx\"])\n",
    "icrf3k3sx = radio_cat_diff_calc(icrf3k, icrf3sx, \"iers_name\", label=[\"3k\", \"3sx\"])\n",
    "icrf3xka3sx = radio_cat_diff_calc(icrf3xka, icrf3sx, \"iers_name\", label=[\"3xka\", \"3sx\"])"
   ]
  },
  {
   "cell_type": "code",
   "execution_count": 4,
   "metadata": {},
   "outputs": [],
   "source": [
    "# Use only defining sources\n",
    "icrf13sxdef = join(icrf13sx, deflist, keys=\"iers_name\")\n",
    "icrf23sxdef = join(icrf23sx, deflist, keys=\"iers_name\")\n",
    "icrf3k3sxdef = join(icrf3k3sx, deflist, keys=\"iers_name\")\n",
    "icrf3xka3sxdef = join(icrf3xka3sx, deflist, keys=\"iers_name\")"
   ]
  },
  {
   "cell_type": "code",
   "execution_count": 5,
   "metadata": {},
   "outputs": [
    {
     "name": "stdout",
     "output_type": "stream",
     "text": [
      "Estimates (   173 sources)\n",
      "--------------------------------------------------------------------------------------------\n",
      "               Rotation [uas]               \n",
      "               x             y             z\n",
      "--------------------------------------------------------------------------------------------\n",
      "     +11 +/-  22    +2 +/-  22   +34 +/-  20\n",
      "--------------------------------------------------------------------------------------------\n",
      "\n",
      "Correlation coefficient between parameters in fit\n",
      "[[1.         0.05403537 0.04380303]\n",
      " [0.05403537 1.         0.03850518]\n",
      " [0.04380303 0.03850518 1.        ]]\n"
     ]
    }
   ],
   "source": [
    "# ICRF1 - ICRF3 SX\n",
    "# Transform columns into np.array\n",
    "dra = np.array(icrf13sxdef[\"dra\"])\n",
    "ddec = np.array(icrf13sxdef[\"ddec\"])\n",
    "dra_err = np.array(icrf13sxdef[\"dra_err\"])\n",
    "ddec_err = np.array(icrf13sxdef[\"ddec_err\"])\n",
    "ra_rad = np.array(icrf13sxdef[\"ra\"].to(u.radian))\n",
    "dec_rad = np.array(icrf13sxdef[\"dec\"].to(u.radian))\n",
    "dra_ddec_cov = np.array(icrf13sxdef[\"dra_ddec_cov\"])\n",
    "\n",
    "# Transformation parameters\n",
    "w1_all, sig1_all, corrcoef1_all = vsh_deg01_fitting(\n",
    "    dra, ddec, ra_rad, dec_rad, dra_err, ddec_err,\n",
    "    cov=dra_ddec_cov, elim_flag=\"None\", fit_type=\"rotation\")\n",
    "\n",
    "# mas -> uas\n",
    "w1 = w1_all * 1.e3\n",
    "sig1 = sig1_all * 1.e3\n",
    "\n",
    "\n",
    "# Print results\n",
    "print(\"Estimates (%6d sources)\\n\"\n",
    "      \"----------------------------------------------\"\n",
    "      \"----------------------------------------------\\n\"\n",
    "      \"               Rotation [uas]               \\n\"\n",
    "      \"               x             y             z\\n\"\n",
    "      \"----------------------------------------------\"\n",
    "      \"----------------------------------------------\\n\"\n",
    "      \"    %+4.0f +/- %3.0f  %+4.0f +/- %3.0f  %+4.0f +/- %3.0f\\n\"\n",
    "      \"----------------------------------------------\"\n",
    "      \"----------------------------------------------\\n\" %\n",
    "      (dra.size,\n",
    "       w1[0], sig1[0], w1[1], sig1[1], w1[2], sig1[2]))\n",
    "\n",
    "print(\"Correlation coefficient between parameters in fit\")\n",
    "print(corrcoef1_all)"
   ]
  },
  {
   "cell_type": "code",
   "execution_count": 6,
   "metadata": {},
   "outputs": [
    {
     "name": "stdout",
     "output_type": "stream",
     "text": [
      "Estimates (   296 sources)\n",
      "--------------------------------------------------------------------------------------------\n",
      "               Rotation [uas]               \n",
      "               x             y             z\n",
      "--------------------------------------------------------------------------------------------\n",
      "     -10 +/-   7   +20 +/-   8    -1 +/-   7\n",
      "--------------------------------------------------------------------------------------------\n",
      "\n",
      "Correlation coefficient between parameters in fit\n",
      "[[ 1.          0.00952247 -0.01532758]\n",
      " [ 0.00952247  1.          0.03275348]\n",
      " [-0.01532758  0.03275348  1.        ]]\n"
     ]
    }
   ],
   "source": [
    "# ICRF2 - ICRF3 SX\n",
    "# Transform columns into np.array\n",
    "dra = np.array(icrf23sxdef[\"dra\"])\n",
    "ddec = np.array(icrf23sxdef[\"ddec\"])\n",
    "dra_err = np.array(icrf23sxdef[\"dra_err\"])\n",
    "ddec_err = np.array(icrf23sxdef[\"ddec_err\"])\n",
    "ra_rad = np.array(icrf23sxdef[\"ra\"].to(u.radian))\n",
    "dec_rad = np.array(icrf23sxdef[\"dec\"].to(u.radian))\n",
    "dra_ddec_cov = np.array(icrf23sxdef[\"dra_ddec_cov\"])\n",
    "\n",
    "# Transformation parameters\n",
    "w1_all, sig1_all, corrcoef1_all = vsh_deg01_fitting(\n",
    "    dra, ddec, ra_rad, dec_rad, dra_err, ddec_err,\n",
    "    cov=dra_ddec_cov, elim_flag=\"None\", fit_type=\"rotation\")\n",
    "\n",
    "# mas -> uas\n",
    "w1 = w1_all * 1.e3\n",
    "sig1 = sig1_all * 1.e3\n",
    "\n",
    "\n",
    "# Print results\n",
    "print(\"Estimates (%6d sources)\\n\"\n",
    "      \"----------------------------------------------\"\n",
    "      \"----------------------------------------------\\n\"\n",
    "      \"               Rotation [uas]               \\n\"\n",
    "      \"               x             y             z\\n\"\n",
    "      \"----------------------------------------------\"\n",
    "      \"----------------------------------------------\\n\"\n",
    "      \"    %+4.0f +/- %3.0f  %+4.0f +/- %3.0f  %+4.0f +/- %3.0f\\n\"\n",
    "      \"----------------------------------------------\"\n",
    "      \"----------------------------------------------\\n\" %\n",
    "      (dra.size,\n",
    "       w1[0], sig1[0], w1[1], sig1[1], w1[2], sig1[2]))\n",
    "\n",
    "print(\"Correlation coefficient between parameters in fit\")\n",
    "print(corrcoef1_all)"
   ]
  },
  {
   "cell_type": "code",
   "execution_count": 7,
   "metadata": {},
   "outputs": [
    {
     "name": "stdout",
     "output_type": "stream",
     "text": [
      "Estimates (   193 sources)\n",
      "--------------------------------------------------------------------------------------------\n",
      "               Rotation [uas]               \n",
      "               x             y             z\n",
      "--------------------------------------------------------------------------------------------\n",
      "     -10 +/-  10    -9 +/-  11    -5 +/-   7\n",
      "--------------------------------------------------------------------------------------------\n",
      "\n",
      "Correlation coefficient between parameters in fit\n",
      "[[1.         0.0145123  0.00328077]\n",
      " [0.0145123  1.         0.04192732]\n",
      " [0.00328077 0.04192732 1.        ]]\n"
     ]
    }
   ],
   "source": [
    "# ICRF3 K - ICRF3 SX\n",
    "# Transform columns into np.array\n",
    "dra = np.array(icrf3k3sxdef[\"dra\"])\n",
    "ddec = np.array(icrf3k3sxdef[\"ddec\"])\n",
    "dra_err = np.array(icrf3k3sxdef[\"dra_err\"])\n",
    "ddec_err = np.array(icrf3k3sxdef[\"ddec_err\"])\n",
    "ra_rad = np.array(icrf3k3sxdef[\"ra\"].to(u.radian))\n",
    "dec_rad = np.array(icrf3k3sxdef[\"dec\"].to(u.radian))\n",
    "dra_ddec_cov = np.array(icrf3k3sxdef[\"dra_ddec_cov\"])\n",
    "\n",
    "# Transformation parameters\n",
    "w1_all, sig1_all, corrcoef1_all = vsh_deg01_fitting(\n",
    "    dra, ddec, ra_rad, dec_rad, dra_err, ddec_err,\n",
    "    cov=dra_ddec_cov, elim_flag=\"None\", fit_type=\"rotation\")\n",
    "\n",
    "# mas -> uas\n",
    "w1 = w1_all * 1.e3\n",
    "sig1 = sig1_all * 1.e3\n",
    "\n",
    "\n",
    "# Print results\n",
    "print(\"Estimates (%6d sources)\\n\"\n",
    "      \"----------------------------------------------\"\n",
    "      \"----------------------------------------------\\n\"\n",
    "      \"               Rotation [uas]               \\n\"\n",
    "      \"               x             y             z\\n\"\n",
    "      \"----------------------------------------------\"\n",
    "      \"----------------------------------------------\\n\"\n",
    "      \"    %+4.0f +/- %3.0f  %+4.0f +/- %3.0f  %+4.0f +/- %3.0f\\n\"\n",
    "      \"----------------------------------------------\"\n",
    "      \"----------------------------------------------\\n\" %\n",
    "      (dra.size,\n",
    "       w1[0], sig1[0], w1[1], sig1[1], w1[2], sig1[2]))\n",
    "\n",
    "print(\"Correlation coefficient between parameters in fit\")\n",
    "print(corrcoef1_all)"
   ]
  },
  {
   "cell_type": "code",
   "execution_count": 8,
   "metadata": {},
   "outputs": [
    {
     "name": "stdout",
     "output_type": "stream",
     "text": [
      "Estimates (   176 sources)\n",
      "--------------------------------------------------------------------------------------------\n",
      "               Rotation [uas]               \n",
      "               x             y             z\n",
      "--------------------------------------------------------------------------------------------\n",
      "     -28 +/-  26   -25 +/-  27   -52 +/-  19\n",
      "--------------------------------------------------------------------------------------------\n",
      "\n",
      "Correlation coefficient between parameters in fit\n",
      "[[1.         0.0389664  0.00169324]\n",
      " [0.0389664  1.         0.03830745]\n",
      " [0.00169324 0.03830745 1.        ]]\n"
     ]
    }
   ],
   "source": [
    "# ICRF3 XKa - ICRF3 SX\n",
    "# Transform columns into np.array\n",
    "dra = np.array(icrf3xka3sxdef[\"dra\"])\n",
    "ddec = np.array(icrf3xka3sxdef[\"ddec\"])\n",
    "dra_err = np.array(icrf3xka3sxdef[\"dra_err\"])\n",
    "ddec_err = np.array(icrf3xka3sxdef[\"ddec_err\"])\n",
    "ra_rad = np.array(icrf3xka3sxdef[\"ra\"].to(u.radian))\n",
    "dec_rad = np.array(icrf3xka3sxdef[\"dec\"].to(u.radian))\n",
    "dra_ddec_cov = np.array(icrf3xka3sxdef[\"dra_ddec_cov\"])\n",
    "\n",
    "# Transformation parameters\n",
    "w1_all, sig1_all, corrcoef1_all = vsh_deg01_fitting(\n",
    "    dra, ddec, ra_rad, dec_rad, dra_err, ddec_err,\n",
    "    cov=dra_ddec_cov, elim_flag=\"None\", fit_type=\"rotation\")\n",
    "\n",
    "# mas -> uas\n",
    "w1 = w1_all * 1.e3\n",
    "sig1 = sig1_all * 1.e3\n",
    "\n",
    "\n",
    "# Print results\n",
    "print(\"Estimates (%6d sources)\\n\"\n",
    "      \"----------------------------------------------\"\n",
    "      \"----------------------------------------------\\n\"\n",
    "      \"               Rotation [uas]               \\n\"\n",
    "      \"               x             y             z\\n\"\n",
    "      \"----------------------------------------------\"\n",
    "      \"----------------------------------------------\\n\"\n",
    "      \"    %+4.0f +/- %3.0f  %+4.0f +/- %3.0f  %+4.0f +/- %3.0f\\n\"\n",
    "      \"----------------------------------------------\"\n",
    "      \"----------------------------------------------\\n\" %\n",
    "      (dra.size,\n",
    "       w1[0], sig1[0], w1[1], sig1[1], w1[2], sig1[2]))\n",
    "\n",
    "print(\"Correlation coefficient between parameters in fit\")\n",
    "print(corrcoef1_all)"
   ]
  }
 ],
 "metadata": {
  "hide_input": false,
  "kernelspec": {
   "display_name": "Python 3",
   "language": "python",
   "name": "python3"
  },
  "language_info": {
   "codemirror_mode": {
    "name": "ipython",
    "version": 3
   },
   "file_extension": ".py",
   "mimetype": "text/x-python",
   "name": "python",
   "nbconvert_exporter": "python",
   "pygments_lexer": "ipython3",
   "version": "3.7.6"
  },
  "latex_envs": {
   "LaTeX_envs_menu_present": true,
   "autoclose": false,
   "autocomplete": true,
   "bibliofile": "biblio.bib",
   "cite_by": "apalike",
   "current_citInitial": 1,
   "eqLabelWithNumbers": true,
   "eqNumInitial": 1,
   "hotkeys": {
    "equation": "Ctrl-E",
    "itemize": "Ctrl-I"
   },
   "labels_anchors": false,
   "latex_user_defs": false,
   "report_style_numbering": false,
   "user_envs_cfg": false
  }
 },
 "nbformat": 4,
 "nbformat_minor": 2
}
