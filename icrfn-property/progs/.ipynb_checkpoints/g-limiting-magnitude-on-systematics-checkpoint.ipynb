{
 "cells": [
  {
   "cell_type": "code",
   "execution_count": 1,
   "metadata": {},
   "outputs": [],
   "source": [
    "from astropy.table import Table, join, Column\n",
    "from astropy import units as u\n",
    "import astropy.coordinates as coord\n",
    "from astropy.coordinates import SkyCoord\n",
    "import numpy as np\n",
    "import matplotlib.pyplot as plt\n",
    "%matplotlib inline\n",
    "# %config InlineBackend.figure_format = \"svg\"\n",
    "\n",
    "# My modules\n",
    "from my_progs.catalog.vsh_deg1_cor import vsh_deg01_fitting\n",
    "from my_progs.catalog.vsh_deg2_cor import vsh_deg02_fitting, residual_calc02\n",
    "from my_progs.catalog.pos_diff import nor_sep_calc, pos_diff_calc\n",
    "from my_progs.catalog.pos_err import pos_err_calc\n",
    "from my_progs.catalog.write_output import print_vsh1_corr, print_vsh2_corr\n",
    "from my_progs.stat_func.rms_calc import rms_calc"
   ]
  },
  {
   "cell_type": "code",
   "execution_count": null,
   "metadata": {},
   "outputs": [],
   "source": [
    "# Read Gaia DR2 IERS quasar data\n",
    "from my_progs.catalog.read_gaia import read_dr2_iers\n",
    "\n",
    "gaiadr2 = read_dr2_iers()\n",
    "\n",
    "# Read ICRF catalog\n",
    "from my_progs.catalog.read_icrf import read_icrf1, read_icrf2, read_icrf3\n",
    "icrf1 = read_icrf1()\n",
    "icrf2 = read_icrf2()\n",
    "icrf3sx = read_icrf3(wv=\"sx\")\n",
    "icrf3k = read_icrf3(wv=\"k\")\n",
    "icrf3xka = read_icrf3(wv=\"xka\")\n",
    "\n",
    "# Crossmatch among these three catalogs\n",
    "com_sou1 = join(icrf1, gaiadr2, keys=\"iers_name\", table_names=[\"icrf1\", \"gaiadr2\"]) \n",
    "com_sou1 = join(icrf1, gaiadr2, keys=\"iers_name\", table_names=[\"icrf1\", \"gaiadr2\"])"
   ]
  }
 ],
 "metadata": {
  "hide_input": false,
  "kernelspec": {
   "display_name": "Python 3",
   "language": "python",
   "name": "python3"
  },
  "language_info": {
   "codemirror_mode": {
    "name": "ipython",
    "version": 3
   },
   "file_extension": ".py",
   "mimetype": "text/x-python",
   "name": "python",
   "nbconvert_exporter": "python",
   "pygments_lexer": "ipython3",
   "version": "3.7.4"
  },
  "latex_envs": {
   "LaTeX_envs_menu_present": true,
   "autoclose": false,
   "autocomplete": true,
   "bibliofile": "biblio.bib",
   "cite_by": "apalike",
   "current_citInitial": 1,
   "eqLabelWithNumbers": true,
   "eqNumInitial": 1,
   "hotkeys": {
    "equation": "Ctrl-E",
    "itemize": "Ctrl-I"
   },
   "labels_anchors": false,
   "latex_user_defs": false,
   "report_style_numbering": false,
   "user_envs_cfg": false
  }
 },
 "nbformat": 4,
 "nbformat_minor": 2
}
