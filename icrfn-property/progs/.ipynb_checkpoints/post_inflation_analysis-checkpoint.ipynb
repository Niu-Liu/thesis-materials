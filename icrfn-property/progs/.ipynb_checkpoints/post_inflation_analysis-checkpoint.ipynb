{
 "cells": [
  {
   "cell_type": "code",
   "execution_count": 6,
   "metadata": {},
   "outputs": [],
   "source": [
    "#!/usr/bin/env python3\n",
    "# -*- coding: utf-8 -*-\n",
    "# File name: post_inflation_analysis.py\n",
    "\"\"\"\n",
    "Created on Wed Jun 27 22:21:44 2018\n",
    "\n",
    "@author: Neo(liuniu@smail.nju.edu.cn)\n",
    "\"\"\"\n",
    "\n",
    "import numpy as np\n",
    "import numpy as np\n",
    "from numpy import cos, deg2rad, sqrt"
   ]
  },
  {
   "cell_type": "code",
   "execution_count": 7,
   "metadata": {},
   "outputs": [],
   "source": [
    "def error_inflation(dx_err, s, f):\n",
    "    \"\"\"dx_wrms^2 ~ (s * dx_err)^2 + f^2\n",
    "\n",
    "    Parameters\n",
    "    ----------\n",
    "    dx_err : array_like of float type\n",
    "        combined formal error\n",
    "    s : float\n",
    "        scaling fator\n",
    "    f : float\n",
    "        noise floor\n",
    "\n",
    "    Returns\n",
    "    ----------\n",
    "    dx_wrms : scatter of positonal offset\n",
    "    \"\"\"\n",
    "\n",
    "    return sqrt((s * dx_err)**2 + f**2)"
   ]
  },
  {
   "cell_type": "code",
   "execution_count": 8,
   "metadata": {},
   "outputs": [
    {
     "name": "stdout",
     "output_type": "stream",
     "text": [
      "The decimation solutions have 2704 common sources, 1805 remain after removing outliers.\n"
     ]
    }
   ],
   "source": [
    "# Load data\n",
    "datfile = (\"../data/odd-even.cat_diff\")\n",
    "soulist = np.genfromtxt(datfile, usecols=(0,), dtype=str)\n",
    "RA, Dec, dRAc, dDec, dRAc_err, dDec_err = np.genfromtxt(\n",
    "    datfile, usecols=range(1, 7), unpack=True)\n",
    "\n",
    "# Calculate the offset and normalized seperation\n",
    "rho = sqrt(dRAc**2 + dDec**2)\n",
    "rho_err = sqrt(dRAc_err**2 + dDec_err**2)\n",
    "\n",
    "# use a criteria \"offset <= 1. mas\" and \"normalized seperation < 5\" to remove outliers\n",
    "con = (rho <= 1.) & (rho/rho_err <= 5.)\n",
    "\n",
    "dRAcn = dRAc[con]\n",
    "dDecn = dDec[con]\n",
    "dRAc_errn = dRAc_err[con]\n",
    "dDec_errn = dDec_err[con]\n",
    "\n",
    "print(\"The decimation solutions have %d common sources, %d remain after removing outliers.\" \n",
    "      % (dRAc.size, dRAcn.size))"
   ]
  },
  {
   "cell_type": "code",
   "execution_count": 12,
   "metadata": {},
   "outputs": [
    {
     "name": "stdout",
     "output_type": "stream",
     "text": [
      "For DSM result\n",
      "    Scale factors of RA and Dec. are 1.482 and 1.283.\n",
      "    Noise floors of RA and Dec. are 0.031 and 0.033 mas.\n",
      "The post-inflation scale factor are 0.912 for RA and 0.883 for Dec.\n"
     ]
    }
   ],
   "source": [
    "# Result of DSM1\n",
    "sf_RA, nf_RA = 1.482, 0.031\n",
    "sf_Dec, nf_Dec = 1.283, 0.033\n",
    "\n",
    "# Inflate the formal error\n",
    "dRAc_err_inf = error_inflation(dRAc_errn, sf_RA, nf_RA)\n",
    "dDec_err_inf = error_inflation(dDec_errn, sf_Dec, nf_Dec)\n",
    "\n",
    "# scale the position offset by their uncertainty\n",
    "nor_dRAc = dRAcn / dRAc_err_inf\n",
    "nor_dDec = dDecn / dDec_err_inf\n",
    "\n",
    "# Calculate their standard deviation (scale factor)\n",
    "post_sf_RA = np.std(nor_dRAc)\n",
    "post_sf_Dec = np.std(nor_dDec)\n",
    "\n",
    "print(\"For DSM1 result\")\n",
    "print(\"    Scale factors of RA and Dec. are %.3f and %.3f.\" % (sf_RA, sf_Dec))\n",
    "print(\"    Noise floors of RA and Dec. are %.3f and %.3f mas.\" % (nf_RA, nf_Dec))\n",
    "print(\"The post-inflation scale factor are %.3f for RA and %.3f for Dec.\" % (post_sf_RA, post_sf_Dec))"
   ]
  },
  {
   "cell_type": "code",
   "execution_count": 15,
   "metadata": {},
   "outputs": [
    {
     "name": "stdout",
     "output_type": "stream",
     "text": [
      "For DSM1 result\n",
      "    Scale factors of RA and Dec. are 1.382 and 1.234.\n",
      "    Noise floors of RA and Dec. are 0.024 and 0.027 mas.\n",
      "The post-inflation scale factor are 0.993 for RA and 0.934 for Dec.\n"
     ]
    }
   ],
   "source": [
    "# Result of DSM2\n",
    "sf_RA, nf_RA = 1.382, 0.024\n",
    "sf_Dec, nf_Dec = 1.234, 0.027\n",
    "\n",
    "# Inflate the formal error\n",
    "dRAc_err_inf = error_inflation(dRAc_errn, sf_RA, nf_RA)\n",
    "dDec_err_inf = error_inflation(dDec_errn, sf_Dec, nf_Dec)\n",
    "\n",
    "# scale the position offset by their uncertainty\n",
    "nor_dRAc = dRAcn / dRAc_err_inf\n",
    "nor_dDec = dDecn / dDec_err_inf\n",
    "\n",
    "# Calculate their standard deviation (scale factor)\n",
    "post_sf_RA = np.std(nor_dRAc)\n",
    "post_sf_Dec = np.std(nor_dDec)\n",
    "\n",
    "print(\"For DSM2 result\")\n",
    "print(\"    Scale factors of RA and Dec. are %.3f and %.3f.\" % (sf_RA, sf_Dec))\n",
    "print(\"    Noise floors of RA and Dec. are %.3f and %.3f mas.\" % (nf_RA, nf_Dec))\n",
    "print(\"The post-inflation scale factor are %.3f for RA and %.3f for Dec.\" % (post_sf_RA, post_sf_Dec))"
   ]
  },
  {
   "cell_type": "code",
   "execution_count": 16,
   "metadata": {},
   "outputs": [
    {
     "name": "stdout",
     "output_type": "stream",
     "text": [
      "For DSM3 result\n",
      "    Scale factors of RA and Dec. are 1.356 and 1.308.\n",
      "    Noise floors of RA and Dec. are 0.014 and 0.017 mas.\n",
      "The post-inflation scale factor are 1.047 for RA and 0.923 for Dec.\n"
     ]
    }
   ],
   "source": [
    "# Result of DSM3\n",
    "sf_RA, nf_RA = 1.356, 0.014\n",
    "sf_Dec, nf_Dec = 1.308, 0.017\n",
    "\n",
    "# Inflate the formal error\n",
    "dRAc_err_inf = error_inflation(dRAc_errn, sf_RA, nf_RA)\n",
    "dDec_err_inf = error_inflation(dDec_errn, sf_Dec, nf_Dec)\n",
    "\n",
    "# scale the position offset by their uncertainty\n",
    "nor_dRAc = dRAcn / dRAc_err_inf\n",
    "nor_dDec = dDecn / dDec_err_inf\n",
    "\n",
    "# Calculate their standard deviation (scale factor)\n",
    "post_sf_RA = np.std(nor_dRAc)\n",
    "post_sf_Dec = np.std(nor_dDec)\n",
    "\n",
    "print(\"For DSM3 result\")\n",
    "print(\"    Scale factors of RA and Dec. are %.3f and %.3f.\" % (sf_RA, sf_Dec))\n",
    "print(\"    Noise floors of RA and Dec. are %.3f and %.3f mas.\" % (nf_RA, nf_Dec))\n",
    "print(\"The post-inflation scale factor are %.3f for RA and %.3f for Dec.\" % (post_sf_RA, post_sf_Dec))"
   ]
  },
  {
   "cell_type": "code",
   "execution_count": 13,
   "metadata": {},
   "outputs": [
    {
     "name": "stdout",
     "output_type": "stream",
     "text": [
      "For my result\n",
      "    Scale factors of RA and Dec. are 1.364 and 1.376.\n",
      "    Noise floors of RA and Dec. are 0.006 and 0.012 mas.\n",
      "The post-inflation scale factor are 1.073 for RA and 0.899 for Dec.\n"
     ]
    }
   ],
   "source": [
    "# Result of Mine\n",
    "sf_RA, nf_RA = 1.364, 0.006\n",
    "sf_Dec, nf_Dec = 1.376, 0.012\n",
    "\n",
    "# Inflate the formal error\n",
    "dRAc_err_inf = error_inflation(dRAc_errn, sf_RA, nf_RA)\n",
    "dDec_err_inf = error_inflation(dDec_errn, sf_Dec, nf_Dec)\n",
    "\n",
    "# scale the position offset by their uncertainty\n",
    "nor_dRAc = dRAcn / dRAc_err_inf\n",
    "nor_dDec = dDecn / dDec_err_inf\n",
    "\n",
    "# Calculate their standard deviation (scale factor)\n",
    "post_sf_RA = np.std(nor_dRAc)\n",
    "post_sf_Dec = np.std(nor_dDec)\n",
    "\n",
    "print(\"For my result\")\n",
    "print(\"    Scale factors of RA and Dec. are %.3f and %.3f.\" % (sf_RA, sf_Dec))\n",
    "print(\"    Noise floors of RA and Dec. are %.3f and %.3f mas.\" % (nf_RA, nf_Dec))\n",
    "print(\"The post-inflation scale factor are %.3f for RA and %.3f for Dec.\" % (post_sf_RA, post_sf_Dec))"
   ]
  },
  {
   "cell_type": "code",
   "execution_count": 14,
   "metadata": {},
   "outputs": [
    {
     "name": "stdout",
     "output_type": "stream",
     "text": [
      "For SBL result\n",
      "    Scale factors of RA and Dec. are 1.518 and 1.282.\n",
      "    Noise floors of RA and Dec. are 0.019 and 0.026 mas.\n",
      "The post-inflation scale factor are 0.925 for RA and 0.906 for Dec.\n"
     ]
    }
   ],
   "source": [
    "# Result of SBL\n",
    "sf_RA, nf_RA = 1.518, 0.019\n",
    "sf_Dec, nf_Dec = 1.282, 0.026\n",
    "\n",
    "# Inflate the formal error\n",
    "dRAc_err_inf = error_inflation(dRAc_errn, sf_RA, nf_RA)\n",
    "dDec_err_inf = error_inflation(dDec_errn, sf_Dec, nf_Dec)\n",
    "\n",
    "# scale the position offset by their uncertainty\n",
    "nor_dRAc = dRAcn / dRAc_err_inf\n",
    "nor_dDec = dDecn / dDec_err_inf\n",
    "\n",
    "# Calculate their standard deviation (scale factor)\n",
    "post_sf_RA = np.std(nor_dRAc)\n",
    "post_sf_Dec = np.std(nor_dDec)\n",
    "\n",
    "print(\"For SBL result\")\n",
    "print(\"    Scale factors of RA and Dec. are %.3f and %.3f.\" % (sf_RA, sf_Dec))\n",
    "print(\"    Noise floors of RA and Dec. are %.3f and %.3f mas.\" % (nf_RA, nf_Dec))\n",
    "print(\"The post-inflation scale factor are %.3f for RA and %.3f for Dec.\" % (post_sf_RA, post_sf_Dec))"
   ]
  }
 ],
 "metadata": {
  "kernelspec": {
   "display_name": "Python 3",
   "language": "python",
   "name": "python3"
  },
  "language_info": {
   "codemirror_mode": {
    "name": "ipython",
    "version": 3
   },
   "file_extension": ".py",
   "mimetype": "text/x-python",
   "name": "python",
   "nbconvert_exporter": "python",
   "pygments_lexer": "ipython3",
   "version": "3.5.5"
  }
 },
 "nbformat": 4,
 "nbformat_minor": 2
}
