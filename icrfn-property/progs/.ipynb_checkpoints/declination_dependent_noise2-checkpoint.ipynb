{
 "cells": [
  {
   "cell_type": "code",
   "execution_count": 1,
   "metadata": {},
   "outputs": [],
   "source": [
    "#!/usr/bin/env python3\n",
    "# -*- coding: utf-8 -*-\n",
    "# File name: declination_dependent_noise2.py\n",
    "\"\"\"\n",
    "Created on Tue Jun 26 16:55:05 2018\n",
    "\n",
    "@author: Neo(liuniu@smail.nju.edu.cn)\n",
    "\"\"\"\n",
    "\n",
    "import matplotlib.pyplot as plt\n",
    "import numpy as np\n",
    "from numpy import cos, deg2rad, sqrt\n",
    "from scipy.optimize import curve_fit\n",
    "%matplotlib inline\n",
    "%config InlineBackend.figure_format = 'svg'\n",
    "# My module\n",
    "# from read_icrf2 import read_icrf2"
   ]
  },
  {
   "cell_type": "code",
   "execution_count": 2,
   "metadata": {},
   "outputs": [],
   "source": [
    "def error_inflation(dx_err, s, f):\n",
    "    \"\"\"dx_wrms^2 ~ (s * dx_err)^2 + f^2\n",
    "\n",
    "    Parameters\n",
    "    ----------\n",
    "    dx_err : array_like of float type\n",
    "        combined formal error\n",
    "    s : float\n",
    "        scaling fator\n",
    "    f : float\n",
    "        noise floor\n",
    "\n",
    "    Returns\n",
    "    ----------\n",
    "    dx_wrms : scatter of positonal offset\n",
    "    \"\"\"\n",
    "\n",
    "    return sqrt((s * dx_err)**2 + f**2)"
   ]
  },
  {
   "cell_type": "code",
   "execution_count": null,
   "metadata": {},
   "outputs": [],
   "source": [
    "def wrms_calc(x, x_err):\n",
    "    \"\"\"Calculate the wrms of a set of data.\n",
    "\n",
    "    Parameters\n",
    "    ----------\n",
    "    x : array_like of float\n",
    "        data\n",
    "    x_err : array_like of float\n",
    "        formal error of x\n",
    "\n",
    "    Returns\n",
    "    ----------\n",
    "    wrms : float\n",
    "        wrms\n",
    "    \"\"\"\n",
    "\n",
    "    # return sqrt(np.dot(x/x_err, x/x_err) / np.dot(1./x_err, 1./x_err))\n",
    "    return sqrt(np.sum(x**2/x_err**2) / np.sum(1./x_err**2))"
   ]
  }
 ],
 "metadata": {
  "kernelspec": {
   "display_name": "Python 3",
   "language": "python",
   "name": "python3"
  },
  "language_info": {
   "codemirror_mode": {
    "name": "ipython",
    "version": 3
   },
   "file_extension": ".py",
   "mimetype": "text/x-python",
   "name": "python",
   "nbconvert_exporter": "python",
   "pygments_lexer": "ipython3",
   "version": "3.5.5"
  }
 },
 "nbformat": 4,
 "nbformat_minor": 2
}
