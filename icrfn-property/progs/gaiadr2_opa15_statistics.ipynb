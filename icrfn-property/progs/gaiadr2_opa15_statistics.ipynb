{
 "cells": [
  {
   "cell_type": "raw",
   "metadata": {},
   "source": [
    "In this notebook, I tried to verify the results of VSH parameters between Gaia DR2 and VLBI positions."
   ]
  },
  {
   "cell_type": "code",
   "execution_count": 1,
   "metadata": {},
   "outputs": [],
   "source": [
    "from astropy.table import Table, join, Column\n",
    "import matplotlib.pyplot as plt\n",
    "import numpy as np\n",
    "# My modules\n",
    "from my_progs.catalog.vsh_deg1_cor import vsh_deg01_fitting\n",
    "from my_progs.catalog.vsh_deg2_cor import vsh_deg02_fitting\n",
    "from my_progs.catalog.pos_diff import pos_diff_calc"
   ]
  },
  {
   "cell_type": "markdown",
   "metadata": {},
   "source": [
    "Read these two catalogs."
   ]
  },
  {
   "cell_type": "code",
   "execution_count": 2,
   "metadata": {},
   "outputs": [],
   "source": [
    "# read source position from VLBI and Gaia catalogs.\n",
    "from my_progs.vlbi.read_sou import read_cat\n",
    "tv = read_cat(\"/Users/Neo/Astronomy/Data/VLBISolutions/\"\n",
    "                \"vlbi2_server/GalacticAberration/GaiaDR2-timespan-solutions/\"\n",
    "                \"gaiadr2-timespan-noGAb.cat\")\n",
    "\n",
    "# Read Gaia DR2 IERS quasar\n",
    "# tg = Table.read(\"/Users/Neo/Astronomy/Data/catalogs/Gaia_DR2/\"\n",
    "#                 \"gaiadr2_iers.fits\")\n",
    "from my_progs.catalog.read_gaia import read_gaiadr2_qso\n",
    "\n",
    "tg = read_gaiadr2_qso()"
   ]
  },
  {
   "cell_type": "markdown",
   "metadata": {},
   "source": [
    "Then I obtained a sample of common sources by the cross-match."
   ]
  },
  {
   "cell_type": "code",
   "execution_count": 3,
   "metadata": {},
   "outputs": [],
   "source": [
    "# Cross-match\n",
    "t_com = join(tv, tg, keys=\"iers_name\", table_names=[\"v\", \"g\"])\n",
    "\n",
    "# gaiadr2-vlbi positional offsets (VLBI - Gaia DR2).\n",
    "[dra, ddec, dra_err, ddec_err, dra_ddec_cor,\n",
    " ang_sep, X_a, X_d, X, X2] = pos_diff_calc(\n",
    "    t_com[\"ra_v\"], t_com[\"ra_err\"], t_com[\"dec_v\"], t_com[\"dec_err\"], t_com[\"ra_dec_corr_v\"],\n",
    "    t_com[\"ra_g\"],  t_com[\"ra_error\"], t_com[\"dec_g\"], t_com[\"dec_error\"], t_com[\"ra_dec_corr_g\"])\n",
    "\n",
    "dra_ddec_cov = dra_ddec_cor * dra_err * ddec_err\n",
    "\n",
    "t_com.add_columns([dra, ddec, dra_err, ddec_err, dra_ddec_cor,\n",
    "                   ang_sep, X_a, X_d, X, X2],\n",
    "                  names=[\"dra\", \"ddec\", \"dra_err\", \"ddec_err\", \"dra_ddec_cov\",\n",
    "                         \"ang_sep\", \"nor_dra\",  \"nor_ddec\", \"nor_sep_cov\", \"nor_sep\"])"
   ]
  },
  {
   "cell_type": "markdown",
   "metadata": {},
   "source": [
    "There are 1274 common sources. \n",
    "Before we investigate the systematcis, we should remove some outliers."
   ]
  },
  {
   "cell_type": "code",
   "execution_count": 4,
   "metadata": {},
   "outputs": [],
   "source": [
    "# First we remove sources with less than three observations.\n",
    "mask1 = (t_com[\"num_del\"] >=3)\n",
    "t_com1 = t_com[mask1]"
   ]
  },
  {
   "cell_type": "code",
   "execution_count": 5,
   "metadata": {},
   "outputs": [
    {
     "name": "stdout",
     "output_type": "stream",
     "text": [
      "There are 1263 sources.\n",
      "When X >= 3.78, the number of the outlier is smaller than 1.\n"
     ]
    }
   ],
   "source": [
    "# Consider X follow a Rayleigh distribution\n",
    "N = len(t_com1)\n",
    "X0 = np.sqrt(2 * np.log(N))\n",
    "\n",
    "print(\"There are %d sources.\\n\"\n",
    "      \"When X >= %.2f, the number of the outlier is smaller than 1.\" % (N, X0))\n",
    "\n",
    "# Then we remove these sources with X >= 3.8 or eema >= 10 mas\n",
    "mask2 = ((t_com1[\"nor_sep_cov\"] <= 3.8) & (t_com1[\"ang_sep\"] <= 10) & (\n",
    "    t_com1[\"pos_err_v\"] <= 10) & (t_com1[\"pos_err_g\"] <= 10))\n",
    "t_com2 = t_com1[mask2]"
   ]
  },
  {
   "cell_type": "markdown",
   "metadata": {},
   "source": [
    "This left 1024 common source. Actually, if we adopted the X0 to be 3.78 rather than 3.8, there would be 1023 sources left."
   ]
  },
  {
   "cell_type": "code",
   "execution_count": 6,
   "metadata": {},
   "outputs": [],
   "source": [
    "import astropy.units as u\n",
    "\n",
    "# Genearte some arrays for estimating the ststematics\n",
    "dra = np.array(t_com2[\"dra\"])\n",
    "ddec = np.array(t_com2[\"ddec\"])\n",
    "dra_err = np.array(t_com2[\"dra_err\"])\n",
    "ddec_err = np.array(t_com2[\"ddec_err\"])\n",
    "dra_ddec_cov = np.array(t_com2[\"dra_ddec_cov\"])\n",
    "ra_rad = np.array(t_com2[\"ra_v\"].to(u.radian))\n",
    "dec_rad = np.array(t_com2[\"dec_v\"].to(u.radian))"
   ]
  },
  {
   "cell_type": "code",
   "execution_count": 7,
   "metadata": {
    "scrolled": false
   },
   "outputs": [
    {
     "name": "stdout",
     "output_type": "stream",
     "text": [
      "# apriori statistics (weighted)\n",
      "#         mean for RA:      0.021 mas\n",
      "#         wrms for RA:      0.719 mas\n",
      "#          std for RA:      0.719 mas\n",
      "#        mean for Dec:      0.053 mas\n",
      "#        wrms for Dec:      0.948 mas\n",
      "#         std for Dec:      0.946 mas\n",
      "\n",
      "# apriori reduced Chi-square for:      1.797\n",
      "# posteriori statistics  of vsh01 fit (weighted)\n",
      "#         mean for RA:      0.014 mas\n",
      "#          rms for RA:      0.718 mas\n",
      "#          std for RA:      0.717 mas\n",
      "#        mean for Dec:      0.064 mas\n",
      "#         rms for Dec:      0.948 mas\n",
      "#         std for Dec:      0.946 mas\n",
      "\n",
      "# posteriori reduced Chi-square for:      1.783\n",
      "# goodness-of-fit is      0.000\n",
      "# apriori statistics (weighted)\n",
      "#         mean for RA:      0.021 mas\n",
      "#         wrms for RA:      0.719 mas\n",
      "#          std for RA:      0.719 mas\n",
      "#        mean for Dec:      0.053 mas\n",
      "#        wrms for Dec:      0.948 mas\n",
      "#         std for Dec:      0.946 mas\n",
      "\n",
      "# apriori reduced Chi-square for:      1.797\n",
      "# posteriori statistics of vsh02 fit (weighted)\n",
      "#         mean for RA:      0.014 mas\n",
      "#          rms for RA:      0.716 mas\n",
      "#          std for RA:      0.715 mas\n",
      "#        mean for Dec:      0.068 mas\n",
      "#         rms for Dec:      0.948 mas\n",
      "#         std for Dec:      0.945 mas\n",
      "\n",
      "# posteriori reduced Chi-square for:      1.767\n",
      "# goodness-of-fit is      0.000\n",
      "Estimates (  1024 sources)\n",
      "--------------------------------------------------------------------------------------------\n",
      "               Rotation [uas]                                   Glide [uas]               \n",
      "               x             y             z               x             y             z\n",
      "--------------------------------------------------------------------------------------------\n",
      "l_max=1   +29 +/-  10   -20 +/-  10    +6 +/-  10     -11 +/-  10   -14 +/-  10   -14 +/-  10\n",
      "l_max=2   +33 +/-  11   -32 +/-  11    +4 +/-  10     -11 +/-  11   -11 +/-  11   -26 +/-  10\n",
      "--------------------------------------------------------------------------------------------\n",
      "\n",
      "Quadrupolar term Estimate Error\n",
      "---------------- -------- -----\n",
      "            ER22      -12     7\n",
      "            EI22        2     7\n",
      "            ER21        5    13\n",
      "            EI21       19    14\n",
      "             E20       51    12\n",
      "            MR22        2     7\n",
      "            MI22       -7     7\n",
      "            MR21       21    14\n",
      "            MI21       22    14\n",
      "             M20       16    12\n"
     ]
    }
   ],
   "source": [
    "# l_max = 1\n",
    "w1, sig1, corrcoef1, _, _, _ = vsh_deg01_fitting(\n",
    "    dra, ddec, ra_rad, dec_rad, dra_err, ddec_err, \n",
    "    cov=dra_ddec_cov, elim_flag=\"None\")\n",
    "\n",
    "# l_max = 2\n",
    "w2, sig2, corrcoef2, _, _, _ = vsh_deg02_fitting(\n",
    "    dra, ddec, ra_rad, dec_rad, dra_err, ddec_err,  \n",
    "    cov=dra_ddec_cov, elim_flag=\"None\")\n",
    "\n",
    "# mas -> uas\n",
    "w1 = w1 * 1.e3\n",
    "sig1 = sig1 * 1.e3\n",
    "w2 = w2 * 1.e3\n",
    "sig2 = sig2 * 1.e3\n",
    "\n",
    "# Print results\n",
    "print(\"Estimates (%6d sources)\\n\"\n",
    "      \"----------------------------------------------\"\n",
    "      \"----------------------------------------------\\n\"\n",
    "      \"               Rotation [uas]                 \"\n",
    "      \"                  Glide [uas]               \\n\"\n",
    "      \"               x             y             z\"\n",
    "      \"               x             y             z\\n\"\n",
    "      \"----------------------------------------------\"\n",
    "      \"----------------------------------------------\\n\"\n",
    "      \"l_max=1  %+4.0f +/- %3.0f  %+4.0f +/- %3.0f  %+4.0f +/- %3.0f  \"\n",
    "      \"  %+4.0f +/- %3.0f  %+4.0f +/- %3.0f  %+4.0f +/- %3.0f\\n\"\n",
    "      \"l_max=2  %+4.0f +/- %3.0f  %+4.0f +/- %3.0f  %+4.0f +/- %3.0f  \"\n",
    "      \"  %+4.0f +/- %3.0f  %+4.0f +/- %3.0f  %+4.0f +/- %3.0f\\n\"\n",
    "      \"----------------------------------------------\"\n",
    "      \"----------------------------------------------\\n\" %\n",
    "      (dra.size, w1[3], sig1[3], w1[4], sig1[4], w1[5], sig1[5],\n",
    "       w1[0], sig1[0], w1[1], sig1[1], w1[2], sig1[2],\n",
    "       w2[3], sig2[3], w2[4], sig2[4], w2[5], sig2[5],\n",
    "       w2[0], sig2[0], w2[1], sig2[1], w2[2], sig2[2]))\n",
    "\n",
    "quad_names = Column([\"ER22\", \"EI22\", \"ER21\", \"EI21\", \"E20\",\n",
    "                     \"MR22\", \"MI22\", \"MR21\", \"MI21\", \"M20\"])\n",
    "t_quad = Table([quad_names, w2[6:], sig2[6:]], names=[\"Quadrupolar term\", \"Estimate\", \"Error\"])\n",
    "t_quad[\"Estimate\"].format = \"%5.0f\"\n",
    "t_quad[\"Error\"].format = \"%5.0f\"\n",
    "print(t_quad)"
   ]
  },
  {
   "cell_type": "markdown",
   "metadata": {},
   "source": [
    "First I removed the global systematics and investigate the radio-to-optical vector."
   ]
  },
  {
   "cell_type": "code",
   "execution_count": 8,
   "metadata": {},
   "outputs": [],
   "source": [
    "dRA = np.array(t_com[\"dra\"])\n",
    "dDC = np.array(t_com[\"ddec\"])\n",
    "RA = np.array(t_com[\"ra_v\"].to(u.radian))\n",
    "DE = np.array(t_com[\"dec_v\"].to(u.radian))\n",
    "\n",
    "# Remove the global systematics\n",
    "from my_progs.catalog.vsh_deg2_cor import residual_calc02\n",
    "dRA_ns, dDC_ns = residual_calc02(dRA, dDC, RA, DE, w2/1e3)\n",
    "\n",
    "t_com[\"dra\"] = dRA_ns\n",
    "t_com[\"ddec\"] = dDC_ns"
   ]
  },
  {
   "cell_type": "markdown",
   "metadata": {},
   "source": [
    "Then I re-calculated the positional offset."
   ]
  },
  {
   "cell_type": "code",
   "execution_count": 9,
   "metadata": {},
   "outputs": [],
   "source": [
    "from my_progs.catalog.pos_diff import nor_sep, pa_calc\n",
    "\n",
    "ang_sep_ns, Xa_ns, Xd_ns, X_ns, X2_ns = nor_sep(\n",
    "    t_com[\"dra\"], t_com[\"dra_err\"], t_com[\"ddec\"], t_com[\"ddec_err\"], \n",
    "    t_com[\"dra_ddec_cov\"] / t_com[\"dra_err\"]/t_com[\"ddec_err\"])\n",
    "\n",
    "pa = pa_calc(dRA_ns, dDC_ns) * u.degree\n",
    "\n",
    "# Renew these columns\n",
    "t_com[\"ang_sep\"] = ang_sep_ns\n",
    "t_com[\"nor_dra\"] = Xa_ns\n",
    "t_com[\"nor_ddec\"] = Xd_ns\n",
    "t_com[\"nor_sep_cov\"] = X_ns\n",
    "t_com[\"nor_sep\"] = X2_ns\n",
    "t_com[\"pa\"] = pa"
   ]
  },
  {
   "cell_type": "markdown",
   "metadata": {},
   "source": [
    "First I looked at the distribution of the angular separations."
   ]
  },
  {
   "cell_type": "code",
   "execution_count": 10,
   "metadata": {},
   "outputs": [
    {
     "data": {
      "image/png": "[encoded data removed]",
      "text/plain": [
       "<Figure size 432x288 with 1 Axes>"
      ]
     },
     "metadata": {
      "needs_background": "light"
     },
     "output_type": "display_data"
    }
   ],
   "source": [
    "# Distribution of angular separation\n",
    "bins_array = 10 ** np.linspace(-2.2, 2.2, 100)\n",
    "# bins_array = np.linspace(0, 100, 500)\n",
    "\n",
    "fig, ax = plt.subplots()\n",
    "ax.hist(ang_sep_ns, bins_array, facecolor=\"g\", alpha=0.75)\n",
    "\n",
    "ax.set_xlabel(\"$\\\\rho$ (mas)\")\n",
    "ax.set_ylabel(\"NO. Sources\")\n",
    "\n",
    "ax.set_xscale(\"log\")\n",
    "ax.set_yscale(\"log\")\n",
    "\n",
    "ax.grid()\n",
    "\n",
    "plt.show()"
   ]
  },
  {
   "cell_type": "markdown",
   "metadata": {},
   "source": [
    "Then I plotted the distribution of the position angle."
   ]
  },
  {
   "cell_type": "code",
   "execution_count": 16,
   "metadata": {},
   "outputs": [
    {
     "data": {
      "image/png": "[encoded data removed]",
      "text/plain": [
       "<Figure size 432x288 with 1 Axes>"
      ]
     },
     "metadata": {
      "needs_background": "light"
     },
     "output_type": "display_data"
    }
   ],
   "source": [
    "# Distribution of angular separation\n",
    "bins_array = np.arange(0, 361, 30)\n",
    "\n",
    "fig, ax = plt.subplots()\n",
    "ax.hist(pa, bins_array, facecolor=\"g\", alpha=0.75)\n",
    "\n",
    "ax.set_xlabel(\"Position Angle [$\\\\circ$]\")\n",
    "ax.set_ylabel(\"NO. Sources\")\n",
    "\n",
    "ax.set_xlim([0, 360])\n",
    "ax.set_xticks(np.arange(0, 361, 30))\n",
    "\n",
    "ax.grid()\n",
    "\n",
    "plt.show()"
   ]
  },
  {
   "cell_type": "code",
   "execution_count": 13,
   "metadata": {},
   "outputs": [
    {
     "data": {
      "text/html": [
       "<i>Table masked=True length=1</i>\n",
       "<table id=\"table4728357440\" class=\"table-striped table-bordered table-condensed\">\n",
       "<thead><tr><th>ivs_name</th><th>iers_name</th><th>ra_v</th><th>dec_v</th><th>ra_err</th><th>dec_err</th><th>ra_dec_corr_v</th><th>pos_err_v</th><th>mean_epo</th><th>beg_epo</th><th>end_epo</th><th>num_sess</th><th>num_del</th><th>num_delrate</th><th>flag</th><th>source_id</th><th>ra_g</th><th>ra_error</th><th>dec_g</th><th>dec_error</th><th>pos_err_g</th><th>parallax</th><th>parallax_error</th><th>pmra</th><th>pmra_error</th><th>pmdec</th><th>pmdec_error</th><th>ra_dec_corr_g</th><th>ra_parallax_corr</th><th>ra_pmra_corr</th><th>ra_pmdec_corr</th><th>dec_parallax_corr</th><th>dec_pmra_corr</th><th>dec_pmdec_corr</th><th>parallax_pmra_corr</th><th>parallax_pmdec_corr</th><th>pmra_pmdec_corr</th><th>phot_g_mean_mag</th><th>phot_bp_mean_mag</th><th>phot_rp_mean_mag</th><th>dra</th><th>ddec</th><th>dra_err</th><th>ddec_err</th><th>dra_ddec_cov</th><th>ang_sep</th><th>nor_dra</th><th>nor_ddec</th><th>nor_sep_cov</th><th>nor_sep</th><th>pa</th></tr></thead>\n",
       "<thead><tr><th></th><th></th><th>deg</th><th>deg</th><th>mas</th><th>mas</th><th></th><th>mas</th><th>MJD</th><th>MJD</th><th>MJD</th><th></th><th></th><th></th><th></th><th></th><th>deg</th><th>mas</th><th>deg</th><th>mas</th><th>mas</th><th>mas</th><th>mas</th><th>mas / yr</th><th>mas / yr</th><th>mas / yr</th><th>mas / yr</th><th></th><th></th><th></th><th></th><th></th><th></th><th></th><th></th><th></th><th></th><th>mag</th><th>mag</th><th>mag</th><th></th><th></th><th>mas</th><th>mas</th><th>mas</th><th></th><th></th><th></th><th></th><th></th><th>deg</th></tr></thead>\n",
       "<thead><tr><th>str8</th><th>str8</th><th>float64</th><th>float64</th><th>float64</th><th>float64</th><th>float64</th><th>float64</th><th>float64</th><th>float64</th><th>float64</th><th>int64</th><th>int64</th><th>int64</th><th>str3</th><th>int64</th><th>float64</th><th>float64</th><th>float64</th><th>float64</th><th>float64</th><th>float64</th><th>float64</th><th>float64</th><th>float64</th><th>float64</th><th>float64</th><th>float32</th><th>float32</th><th>float32</th><th>float32</th><th>float32</th><th>float32</th><th>float32</th><th>float32</th><th>float32</th><th>float32</th><th>float32</th><th>float32</th><th>float32</th><th>float64</th><th>float64</th><th>float64</th><th>float64</th><th>float64</th><th>float64</th><th>float64</th><th>float64</th><th>float64</th><th>float64</th><th>float64</th></tr></thead>\n",
       "<tr><td>3C395</td><td>1901+319</td><td>285.7330790155</td><td>31.9949170516</td><td>0.3356</td><td>0.4337</td><td>-0.792</td><td>0.5212060177851401</td><td>2015.52</td><td>2014.67</td><td>2016.36</td><td>25</td><td>340</td><td>0</td><td>GLO</td><td>2043550082305460480</td><td>285.7330786935693</td><td>0.06904680433030966</td><td>31.99491702666236</td><td>0.08330907420866653</td><td>0.08680309989117191</td><td>0.017637246380663777</td><td>0.0909468869696384</td><td>0.060674311174843454</td><td>0.14757848808091648</td><td>0.0043225467670227145</td><td>0.17550345091956257</td><td>0.22295864</td><td>0.2155784</td><td>-0.2109507</td><td>-0.09885033</td><td>0.20171407</td><td>-0.115573674</td><td>-0.16750138</td><td>-0.17251743</td><td>-0.08135733</td><td>0.19739453</td><td>17.42942</td><td>17.538975</td><td>17.081491</td><td>1.0146618988330025</td><td>0.09707373993218693</td><td>0.3426292766069883</td><td>0.44162890739341903</td><td>-0.11399286990415435</td><td>1.0192948935062003</td><td>2.9613987131545296</td><td>0.21980839185807674</td><td>4.760076001402409</td><td>2.969545094354443</td><td>84.53508711489822</td></tr>\n",
       "</table>"
      ],
      "text/plain": [
       "<Table masked=True length=1>\n",
       "ivs_name iers_name      ra_v      ...      nor_sep              pa       \n",
       "                        deg       ...                          deg       \n",
       "  str8      str8      float64     ...      float64           float64     \n",
       "-------- --------- -------------- ... ----------------- -----------------\n",
       "   3C395  1901+319 285.7330790155 ... 2.969545094354443 84.53508711489822"
      ]
     },
     "execution_count": 13,
     "metadata": {},
     "output_type": "execute_result"
    }
   ],
   "source": [
    "t_com[t_com[\"iers_name\"] == \"1901+319\"]"
   ]
  }
 ],
 "metadata": {
  "hide_input": false,
  "kernelspec": {
   "display_name": "Python 3",
   "language": "python",
   "name": "python3"
  },
  "language_info": {
   "codemirror_mode": {
    "name": "ipython",
    "version": 3
   },
   "file_extension": ".py",
   "mimetype": "text/x-python",
   "name": "python",
   "nbconvert_exporter": "python",
   "pygments_lexer": "ipython3",
   "version": "3.7.4"
  },
  "latex_envs": {
   "LaTeX_envs_menu_present": true,
   "autoclose": false,
   "autocomplete": true,
   "bibliofile": "biblio.bib",
   "cite_by": "apalike",
   "current_citInitial": 1,
   "eqLabelWithNumbers": true,
   "eqNumInitial": 1,
   "hotkeys": {
    "equation": "Ctrl-E",
    "itemize": "Ctrl-I"
   },
   "labels_anchors": false,
   "latex_user_defs": false,
   "report_style_numbering": false,
   "user_envs_cfg": false
  }
 },
 "nbformat": 4,
 "nbformat_minor": 2
}
