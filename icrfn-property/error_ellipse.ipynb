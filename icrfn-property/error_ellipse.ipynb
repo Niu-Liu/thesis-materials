{
 "cells": [
  {
   "cell_type": "markdown",
   "metadata": {},
   "source": [
    "I aim to calculate the error ellipse from an given 2D error matrix.\n",
    "I will use the radio source 1901+319 as an example to illustrate the calculation algrithm and also check my result with Sebastien's.\n",
    "For 1901+319, the major (M) and minor (m) axes, and positional angle (PA) in the opa15 solution are\n",
    "M = 0.521 mas\n",
    "m = 0.229 mas\n",
    "PA = 125 degree"
   ]
  },
  {
   "cell_type": "code",
   "execution_count": 1,
   "metadata": {},
   "outputs": [],
   "source": [
    "ra_err = 0.3356\n",
    "dec_err = 0.4337\n",
    "ra_dec_corr = -0.792"
   ]
  },
  {
   "cell_type": "markdown",
   "metadata": {},
   "source": [
    "The first method is to use the linear algebra tools."
   ]
  },
  {
   "cell_type": "code",
   "execution_count": 2,
   "metadata": {},
   "outputs": [],
   "source": [
    "import numpy as np\n",
    "\n",
    "cov = ra_dec_corr * ra_err * dec_err\n",
    "cov_mat = np.array([[ra_err**2, cov], [cov, dec_err**2]])"
   ]
  },
  {
   "cell_type": "code",
   "execution_count": 8,
   "metadata": {},
   "outputs": [
    {
     "data": {
      "text/plain": [
       "(array([0.02906734, 0.27165571]), array([[-0.80965926,  0.58690023],\n",
       "        [-0.58690023, -0.80965926]]))"
      ]
     },
     "execution_count": 8,
     "metadata": {},
     "output_type": "execute_result"
    }
   ],
   "source": [
    "from numpy.linalg import eig\n",
    "\n",
    "eig_val, eig_vec = eig(cov_mat)\n",
    "eig_vec"
   ]
  },
  {
   "cell_type": "code",
   "execution_count": 17,
   "metadata": {},
   "outputs": [
    {
     "name": "stdout",
     "output_type": "stream",
     "text": [
      "144.06265350727185\n",
      "M = 0.521 mas\n",
      "m = 0.170 mas\n",
      "PA = 144 degree\n"
     ]
    },
    {
     "data": {
      "text/plain": [
       "(array([-0.58690023, -0.80965926]), 144.06265350727185)"
      ]
     },
     "execution_count": 17,
     "metadata": {},
     "output_type": "execute_result"
    }
   ],
   "source": [
    "M2 = np.max(eig_val)\n",
    "m2 = np.min(eig_val)\n",
    "\n",
    "M, m = np.sqrt(M2), np.sqrt(m2)\n",
    "\n",
    "index = np.where(eig_val == M2)[0][0]\n",
    "\n",
    "vec_M = eig_vec[:,index]\n",
    "\n",
    "nor_vec = np.array([0, 1])\n",
    "# nor_vec = np.array([1, 0])\n",
    "pa0 = np.rad2deg(np.arccos(np.dot(vec_M, nor_vec)))\n",
    "\n",
    "print(pa0)\n",
    "\n",
    "if vec_M[0] > 0:\n",
    "    pa = 180 - pa0\n",
    "else:\n",
    "    pa = pa0\n",
    "\n",
    "print(\"M = %.3f mas\\n\"\n",
    "      \"m = %.3f mas\\n\"\n",
    "      \"PA = %.0f degree\" % (M, m, pa))\n",
    "\n",
    "vec_M, pa0"
   ]
  },
  {
   "cell_type": "markdown",
   "metadata": {},
   "source": [
    "Also, we can use some formulas, as in Mignard et. al 2018."
   ]
  },
  {
   "cell_type": "code",
   "execution_count": 21,
   "metadata": {},
   "outputs": [
    {
     "data": {
      "text/plain": [
       "(0.5212060177851401, 0.17049145733600912)"
      ]
     },
     "execution_count": 21,
     "metadata": {},
     "output_type": "execute_result"
    }
   ],
   "source": [
    "from numpy import sqrt\n",
    "\n",
    "M = sqrt(0.5 * (ra_err**2 + dec_err**2 +\n",
    "                              sqrt((ra_err**2 - dec_err**2)**2 +\n",
    "                                   (2*ra_err*dec_err*ra_dec_corr)**2)))\n",
    "\n",
    "m = sqrt(0.5 * (ra_err**2 + dec_err**2 -\n",
    "                              sqrt((ra_err**2 - dec_err**2)**2 +\n",
    "                                   (2*ra_err*dec_err*ra_dec_corr)**2)))\n",
    "\n",
    "M, m"
   ]
  },
  {
   "cell_type": "markdown",
   "metadata": {},
   "source": [
    "The program from Sebastien:"
   ]
  },
  {
   "cell_type": "code",
   "execution_count": 20,
   "metadata": {},
   "outputs": [
    {
     "name": "stdout",
     "output_type": "stream",
     "text": [
      "M = 0.521 mas\n",
      "m = 0.170 mas\n",
      "PA = 126 degree\n"
     ]
    }
   ],
   "source": [
    "def error_ellipse(dx3, dy3, cor3):\n",
    "    \"\"\"\n",
    "    \"\"\"\n",
    "\n",
    "    import numpy as np\n",
    "    a = dx3\n",
    "    b = dy3\n",
    "    r = cor3\n",
    "    rab = r*a*b\n",
    "    theta = 0.5*np.arctan2(2*rab, (a**2-b**2))\n",
    "    sx = a**2*np.cos(theta)**2+b**2*np.sin(theta)**2 + \\\n",
    "        2*rab*np.sin(theta)*np.cos(theta)\n",
    "#     sy=a**2*np.cos(theta)**2+b**2*np.sin(theta)**2-2*rab*np.sin(theta)*np.cos(theta)\n",
    "    sy = a**2*np.sin(theta)**2+b**2*np.cos(theta)**2 - \\\n",
    "        2*rab*np.sin(theta)*np.cos(theta)\n",
    "    eema3 = np.sqrt(np.maximum(sx, sy))\n",
    "    eena3 = np.sqrt(np.minimum(sx, sy))\n",
    "    \n",
    "    if theta < 0:\n",
    "        theta0 = 360 + np.rad2deg(theta)\n",
    "    else:\n",
    "        theta0 = np.rad2deg(theta)  \n",
    "        \n",
    "    if a >= b:\n",
    "        pa = 90 + np.rad2deg(theta)\n",
    "    else:\n",
    "        pa = (180 + np.rad2deg(theta)) % 180\n",
    "\n",
    "\n",
    "    return eema3, eena3, pa\n",
    "\n",
    "\n",
    "M, m, pa = error_ellipse(ra_err, dec_err, ra_dec_corr)\n",
    "\n",
    "print(\"M = %.3f mas\\n\"\n",
    "      \"m = %.3f mas\\n\"\n",
    "      \"PA = %.0f degree\" % (M, m, pa))"
   ]
  }
 ],
 "metadata": {
  "hide_input": false,
  "kernelspec": {
   "display_name": "Python 3",
   "language": "python",
   "name": "python3"
  },
  "language_info": {
   "codemirror_mode": {
    "name": "ipython",
    "version": 3
   },
   "file_extension": ".py",
   "mimetype": "text/x-python",
   "name": "python",
   "nbconvert_exporter": "python",
   "pygments_lexer": "ipython3",
   "version": "3.5.5"
  }
 },
 "nbformat": 4,
 "nbformat_minor": 2
}
