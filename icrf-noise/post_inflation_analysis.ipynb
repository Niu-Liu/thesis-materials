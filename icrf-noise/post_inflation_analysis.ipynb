{
 "cells": [
  {
   "cell_type": "code",
   "execution_count": 1,
   "metadata": {},
   "outputs": [],
   "source": [
    "#!/usr/bin/env python3\n",
    "# -*- coding: utf-8 -*-\n",
    "# File name: post_inflation_analysis.py\n",
    "\"\"\"\n",
    "Created on Wed Jun 27 22:21:44 2018\n",
    "\n",
    "@author: Neo(liuniu@smail.nju.edu.cn)\n",
    "\"\"\"\n",
    "\n",
    "import numpy as np\n",
    "import numpy as np\n",
    "from numpy import cos, deg2rad, sqrt\n",
    "from error_inflation_progs import error_inflation"
   ]
  },
  {
   "cell_type": "code",
   "execution_count": 2,
   "metadata": {},
   "outputs": [],
   "source": [
    "# Load data\n",
    "datfile = (\"../logs/pos_diff_cln.dat\")\n",
    "soulist = np.genfromtxt(datfile, usecols=(0,), dtype=str)\n",
    "RA, Dec, dRAc, dDec, dRAc_err, dDec_err = np.genfromtxt(\n",
    "    datfile, usecols=range(1, 7), unpack=True)\n",
    "\n",
    "# Load results of scale factor and noise floor\n",
    "lab = np.genfromtxt(\"../logs/nf_sf.dat\", usecols=(0,), dtype=str)\n",
    "sf_RA, nf_RA, sf_Dec, nf_Dec = np.genfromtxt(\n",
    "    \"../logs/nf_sf.dat\", usecols=(1, 3, 5, 7), unpack=True)"
   ]
  },
  {
   "cell_type": "code",
   "execution_count": 3,
   "metadata": {},
   "outputs": [],
   "source": [
    "# Result of DSM\n",
    "# Inflate the formal error\n",
    "dRAc_err_inf = error_inflation(dRAc_err, sf_RA[0], nf_RA[0])\n",
    "dDec_err_inf = error_inflation(dDec_err, sf_Dec[0], nf_Dec[0])\n",
    "\n",
    "# scale the position offset by their uncertainty\n",
    "nor_dRAc = dRAc / dRAc_err_inf\n",
    "nor_dDec = dDec / dDec_err_inf\n",
    "\n",
    "# Calculate their standard deviation (scale factor)\n",
    "post_sf_RA1 = np.std(nor_dRAc)\n",
    "post_sf_Dec1 = np.std(nor_dDec)"
   ]
  },
  {
   "cell_type": "code",
   "execution_count": 4,
   "metadata": {},
   "outputs": [],
   "source": [
    "# Result of SBL\n",
    "# Inflate the formal error\n",
    "dRAc_err_inf = error_inflation(dRAc_err, sf_RA[1], nf_RA[1])\n",
    "dDec_err_inf = error_inflation(dDec_err, sf_Dec[1], nf_Dec[1])\n",
    "\n",
    "# scale the position offset by their uncertainty\n",
    "nor_dRAc = dRAc / dRAc_err_inf\n",
    "nor_dDec = dDec / dDec_err_inf\n",
    "\n",
    "# Calculate their standard deviation (scale factor)\n",
    "post_sf_RA2 = np.std(nor_dRAc)\n",
    "post_sf_Dec2 = np.std(nor_dDec)"
   ]
  },
  {
   "cell_type": "code",
   "execution_count": 5,
   "metadata": {},
   "outputs": [
    {
     "name": "stdout",
     "output_type": "stream",
     "text": [
      "For DSM result\n",
      "    Scale factors of RA and Dec. are 1.43 and 1.34.\n",
      "    Noise floors of RA and Dec. are 0.020 and 0.023 mas.\n",
      "The post-inflation scale factor are 0.90 for RA and 0.88 for Dec.\n",
      "For SBL result\n",
      "    Scale factors of RA and Dec. are 1.29 and 1.18.\n",
      "    Noise floors of RA and Dec. are 0.009 and 0.012 mas.\n",
      "The post-inflation scale factor are 1.06 for RA and 1.06 for Dec.\n"
     ]
    }
   ],
   "source": [
    "print(\"For DSM result\")\n",
    "print(\"    Scale factors of RA and Dec. are %.2f and %.2f.\" % (sf_RA[0], sf_Dec[0]))\n",
    "print(\"    Noise floors of RA and Dec. are %.3f and %.3f mas.\" % (nf_RA[0], nf_Dec[0]))\n",
    "print(\"The post-inflation scale factor are %.2f for RA and %.2f for Dec.\" % (post_sf_RA1, post_sf_Dec1))\n",
    "\n",
    "print(\"For SBL result\")\n",
    "print(\"    Scale factors of RA and Dec. are %.2f and %.2f.\" % (sf_RA[1], sf_Dec[1]))\n",
    "print(\"    Noise floors of RA and Dec. are %.3f and %.3f mas.\" % (nf_RA[1], nf_Dec[1]))\n",
    "print(\"The post-inflation scale factor are %.2f for RA and %.2f for Dec.\" % (post_sf_RA2, post_sf_Dec2))"
   ]
  }
 ],
 "metadata": {
  "hide_input": false,
  "kernelspec": {
   "display_name": "Python 3",
   "language": "python",
   "name": "python3"
  },
  "language_info": {
   "codemirror_mode": {
    "name": "ipython",
    "version": 3
   },
   "file_extension": ".py",
   "mimetype": "text/x-python",
   "name": "python",
   "nbconvert_exporter": "python",
   "pygments_lexer": "ipython3",
   "version": "3.5.5"
  },
  "latex_envs": {
   "LaTeX_envs_menu_present": true,
   "autoclose": false,
   "autocomplete": true,
   "bibliofile": "biblio.bib",
   "cite_by": "apalike",
   "current_citInitial": 1,
   "eqLabelWithNumbers": true,
   "eqNumInitial": 1,
   "hotkeys": {
    "equation": "Ctrl-E",
    "itemize": "Ctrl-I"
   },
   "labels_anchors": false,
   "latex_user_defs": false,
   "report_style_numbering": false,
   "user_envs_cfg": false
  }
 },
 "nbformat": 4,
 "nbformat_minor": 2
}
