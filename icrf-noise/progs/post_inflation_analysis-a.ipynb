{
 "cells": [
  {
   "cell_type": "code",
   "execution_count": 6,
   "metadata": {},
   "outputs": [],
   "source": [
    "#!/usr/bin/env python3\n",
    "# -*- coding: utf-8 -*-\n",
    "# File name: post_inflation_analysis.py\n",
    "\"\"\"\n",
    "Created on Wed Jun 27 22:21:44 2018\n",
    "\n",
    "@author: Neo(liuniu@smail.nju.edu.cn)\n",
    "\"\"\"\n",
    "\n",
    "import numpy as np\n",
    "import numpy as np\n",
    "from numpy import cos, deg2rad, sqrt\n",
    "from error_inflation_progs import error_inflation"
   ]
  },
  {
   "cell_type": "code",
   "execution_count": 7,
   "metadata": {},
   "outputs": [
    {
     "name": "stdout",
     "output_type": "stream",
     "text": [
      "The decimation solutions have 2587 common sources, 1727 remain after removing outliers.\n"
     ]
    }
   ],
   "source": [
    "# Load data\n",
    "datfile = (\"../data/odd-even-a.cat_diff\")\n",
    "soulist = np.genfromtxt(datfile, usecols=(0,), dtype=str)\n",
    "RA, Dec, dRAc, dDec, dRAc_err, dDec_err = np.genfromtxt(\n",
    "    datfile, usecols=range(1, 7), unpack=True)\n",
    "\n",
    "# Load results of scale factor and noise floor\n",
    "lab = np.genfromtxt(\"../logs/nf_sf.dat_a\", usecols=(0,), dtype=str)\n",
    "sf_RA, nf_RA, sf_Dec, nf_Dec = np.genfromtxt(\n",
    "    \"../logs/nf_sf.dat_a\", usecols=(1, 3, 5, 7), unpack=True)\n",
    "\n",
    "# Calculate the offset and normalized seperation\n",
    "rho = sqrt(dRAc**2 + dDec**2)\n",
    "rho_err = sqrt(dRAc_err**2 + dDec_err**2)\n",
    "\n",
    "# use a criteria \"offset <= 1. mas\" and \"normalized seperation < 5\" to remove outliers\n",
    "con = (rho <= 1.) & (rho/rho_err <= 5.)\n",
    "\n",
    "dRAcn = dRAc[con]\n",
    "dDecn = dDec[con]\n",
    "dRAc_errn = dRAc_err[con]\n",
    "dDec_errn = dDec_err[con]\n",
    "\n",
    "print(\"The decimation solutions have %d common sources, %d remain after removing outliers.\" \n",
    "      % (dRAc.size, dRAcn.size))"
   ]
  },
  {
   "cell_type": "code",
   "execution_count": 8,
   "metadata": {},
   "outputs": [],
   "source": [
    "# Result of SBL1\n",
    "# Inflate the formal error\n",
    "dRAc_err_inf = error_inflation(dRAc_errn, sf_RA[0], nf_RA[0])\n",
    "dDec_err_inf = error_inflation(dDec_errn, sf_Dec[0], nf_Dec[0])\n",
    "\n",
    "# scale the position offset by their uncertainty\n",
    "nor_dRAc = dRAcn / dRAc_err_inf\n",
    "nor_dDec = dDecn / dDec_err_inf\n",
    "\n",
    "# Calculate their standard deviation (scale factor)\n",
    "post_sf_RA1 = np.std(nor_dRAc)\n",
    "post_sf_Dec1 = np.std(nor_dDec)"
   ]
  },
  {
   "cell_type": "code",
   "execution_count": 9,
   "metadata": {},
   "outputs": [],
   "source": [
    "# Result of DSBL2\n",
    "# Inflate the formal error\n",
    "dRAc_err_inf = error_inflation(dRAc_errn, sf_RA[1], nf_RA[1])\n",
    "dDec_err_inf = error_inflation(dDec_errn, sf_Dec[1], nf_Dec[1])\n",
    "\n",
    "# scale the position offset by their uncertainty\n",
    "nor_dRAc = dRAcn / dRAc_err_inf\n",
    "nor_dDec = dDecn / dDec_err_inf\n",
    "\n",
    "# Calculate their standard deviation (scale factor)\n",
    "post_sf_RA2 = np.std(nor_dRAc)\n",
    "post_sf_Dec2 = np.std(nor_dDec)"
   ]
  },
  {
   "cell_type": "code",
   "execution_count": 10,
   "metadata": {},
   "outputs": [
    {
     "name": "stdout",
     "output_type": "stream",
     "text": [
      "For SBL1 result\n",
      "    Scale factors of RA and Dec. are 1.48 and 1.20.\n",
      "    Noise floors of RA and Dec. are 0.019 and 0.027 mas.\n",
      "The post-inflation scale factor are 0.91 for RA and 0.96 for Dec.\n",
      "For SBL2 result\n",
      "    Scale factors of RA and Dec. are 1.50 and 1.40.\n",
      "    Noise floors of RA and Dec. are 0.026 and 0.028 mas.\n",
      "The post-inflation scale factor are 0.88 for RA and 0.83 for Dec.\n"
     ]
    }
   ],
   "source": [
    "print(\"For SBL1 result\")\n",
    "print(\"    Scale factors of RA and Dec. are %.2f and %.2f.\" % (sf_RA[0], sf_Dec[0]))\n",
    "print(\"    Noise floors of RA and Dec. are %.3f and %.3f mas.\" % (nf_RA[0], nf_Dec[0]))\n",
    "print(\"The post-inflation scale factor are %.2f for RA and %.2f for Dec.\" % (post_sf_RA1, post_sf_Dec1))\n",
    "\n",
    "print(\"For SBL2 result\")\n",
    "print(\"    Scale factors of RA and Dec. are %.2f and %.2f.\" % (sf_RA[1], sf_Dec[1]))\n",
    "print(\"    Noise floors of RA and Dec. are %.3f and %.3f mas.\" % (nf_RA[1], nf_Dec[1]))\n",
    "print(\"The post-inflation scale factor are %.2f for RA and %.2f for Dec.\" % (post_sf_RA2, post_sf_Dec2))"
   ]
  }
 ],
 "metadata": {
  "kernelspec": {
   "display_name": "Python 3",
   "language": "python",
   "name": "python3"
  },
  "language_info": {
   "codemirror_mode": {
    "name": "ipython",
    "version": 3
   },
   "file_extension": ".py",
   "mimetype": "text/x-python",
   "name": "python",
   "nbconvert_exporter": "python",
   "pygments_lexer": "ipython3",
   "version": "3.5.5"
  },
  "latex_envs": {
   "LaTeX_envs_menu_present": true,
   "autoclose": false,
   "autocomplete": true,
   "bibliofile": "biblio.bib",
   "cite_by": "apalike",
   "current_citInitial": 1,
   "eqLabelWithNumbers": true,
   "eqNumInitial": 1,
   "hotkeys": {
    "equation": "Ctrl-E",
    "itemize": "Ctrl-I"
   },
   "labels_anchors": false,
   "latex_user_defs": false,
   "report_style_numbering": false,
   "user_envs_cfg": false
  }
 },
 "nbformat": 4,
 "nbformat_minor": 2
}
