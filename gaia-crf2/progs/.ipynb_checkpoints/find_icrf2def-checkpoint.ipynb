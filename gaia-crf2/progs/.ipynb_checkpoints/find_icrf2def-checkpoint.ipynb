{
 "cells": [
  {
   "cell_type": "code",
   "execution_count": 2,
   "metadata": {},
   "outputs": [],
   "source": [
    "#!/usr/bin/env python3\n",
    "# -*- coding: utf-8 -*-\n",
    "# File name: find_icrf2def.py\n",
    "\"\"\"\n",
    "Created on Thu Jun 21 09:30:04 2018\n",
    "\n",
    "@author: Neo(liuniu@smail.nju.edu.cn)\n",
    "\"\"\"\n",
    "                                                                                                                                                                             \n",
    "import numpy as np\n",
    "# My module\n",
    "from read_icrf2 import read_icrf2"
   ]
  },
  {
   "cell_type": "code",
   "execution_count": 6,
   "metadata": {},
   "outputs": [],
   "source": [
    "def find_icrf2def(soulist, design=\"IVS\"):\n",
    "    \"\"\"Find the ICRF2 defining sources in a source list.\n",
    "    \n",
    "    Parameters\n",
    "    ----------\n",
    "    soulist : list or array\n",
    "        source name\n",
    "    design : str\n",
    "        source name designation type, 'ivs', 'iers', or 'icrf'\n",
    "    \n",
    "    Returns\n",
    "    -------\n",
    "    defsou : list or array\n",
    "        ICRF2 defining sources in the source list\n",
    "    \"\"\"\n",
    "\n",
    "    # ICRF2 data\n",
    "    icrfn, ivsn, iersn, _, _, _, _, _, _, Flag = read_icrf2()\n",
    "    \n",
    "    if design is 'ivs' or design is 'IVS':\n",
    "        icrf2_list = ivsn\n",
    "    elif design is 'iers' or design is 'IERS':\n",
    "        icrf2_list = iersn\n",
    "    elif design is 'icrf' or design is 'ICRF':\n",
    "        icrf2_list = icrfn\n",
    "    \n",
    "    # ICRF2 295 defining sources\n",
    "    con = (Flag == \"D\")\n",
    "    icrf2_def = icrf2_list[con]\n",
    "    \n",
    "    # Find defining sources\n",
    "    defsou = []\n",
    "    for sou in soulist:\n",
    "        if sou in icrf2_def:\n",
    "            defsou.append(sou)\n",
    "            \n",
    "    defsou = np.asarray(defsou)\n",
    "    \n",
    "    return defsou    "
   ]
  }
 ],
 "metadata": {
  "kernelspec": {
   "display_name": "Python 3",
   "language": "python",
   "name": "python3"
  },
  "language_info": {
   "codemirror_mode": {
    "name": "ipython",
    "version": 3
   },
   "file_extension": ".py",
   "mimetype": "text/x-python",
   "name": "python",
   "nbconvert_exporter": "python",
   "pygments_lexer": "ipython3",
   "version": "3.5.5"
  }
 },
 "nbformat": 4,
 "nbformat_minor": 2
}
