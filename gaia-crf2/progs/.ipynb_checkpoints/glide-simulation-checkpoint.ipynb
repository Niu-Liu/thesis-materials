{
 "cells": [
  {
   "cell_type": "markdown",
   "metadata": {},
   "source": [
    "This notebook estimate the rotation (spin) of the celestial frame imposed by the Galactic Aberration (GA).\n",
    "\n",
    "In principle, there should be no rotation for ideally distributed catalog.\n",
    "\n",
    "However, it is the pratical case."
   ]
  },
  {
   "cell_type": "code",
   "execution_count": 1,
   "metadata": {},
   "outputs": [],
   "source": [
    "import numpy as np\n",
    "\n",
    "# My modules\n",
    "from my_progs.catalog.read_icrfn import read_icrf1, read_icrf2, read_icrf3\n",
    "from my_progs.catalog.glide_calc import rotation_from_ga"
   ]
  },
  {
   "cell_type": "markdown",
   "metadata": {},
   "source": [
    "Get all the catalogs and I extracted all the defining sources"
   ]
  },
  {
   "cell_type": "code",
   "execution_count": 2,
   "metadata": {},
   "outputs": [],
   "source": [
    "icrf1 = read_icrf1()\n",
    "icrf2 = read_icrf2()\n",
    "icrf3sx = read_icrf3(wv=\"sx\")\n",
    "icrf3k = read_icrf3(wv=\"k\")\n",
    "icrf3xka = read_icrf3(wv=\"xka\")\n",
    "\n",
    "# Defining sources\n",
    "icrf1def = icrf1[icrf1[\"type\"] == \"D\"]\n",
    "icrf2def = icrf2[icrf2[\"type\"] == \"D\"]\n",
    "icrf3sxdef = icrf3sx[icrf3sx[\"type\"] == \"D\"]\n",
    "icrf3kdef = icrf3k[icrf3k[\"type\"] == \"D\"]\n",
    "icrf3xkadef = icrf3xka[icrf3xka[\"type\"] == \"D\"]\n",
    "\n",
    "cats = [icrf1, icrf1def, icrf2, icrf2def, \n",
    "        icrf3sx, icrf3sxdef, icrf3k, icrf3kdef, \n",
    "        icrf3xka, icrf3xkadef]\n",
    "names = [\"icrf1\", \"icrf1-def\", \"icrf2\", \"icrf2-def\", \n",
    "         \"icrf3sx\", \"icrf3sx-def\", \"icrf3k\", \"icrf3k-def\", \n",
    "         \"icrf3xka\", \"icrf3xka-def\"]"
   ]
  },
  {
   "cell_type": "markdown",
   "metadata": {},
   "source": [
    "I define a function to do the iteration."
   ]
  },
  {
   "cell_type": "code",
   "execution_count": 3,
   "metadata": {},
   "outputs": [],
   "source": [
    "def calc_rot(cats, names):\n",
    "    \n",
    "    rotlist = []\n",
    "    \n",
    "    for (cati, namei) in zip(cats, names):\n",
    "        \n",
    "        num = len(cati)\n",
    "        rot, err, cov = rotation_from_ga(cati)\n",
    "        \n",
    "        rotdata = {}\n",
    "        rotdata[\"name\"] = namei\n",
    "        rotdata[\"num\"] = num\n",
    "        rotdata[\"rot\"] = rot\n",
    "        rotdata[\"err\"] = err\n",
    "        rotdata[\"cov\"] = cov\n",
    "        rotlist.append(rotdata)\n",
    "        \n",
    "    return rotlist\n",
    "        "
   ]
  },
  {
   "cell_type": "markdown",
   "metadata": {},
   "source": [
    "Then we do the calculation."
   ]
  },
  {
   "cell_type": "code",
   "execution_count": 4,
   "metadata": {},
   "outputs": [],
   "source": [
    "rotlist = calc_rot(cats, names)"
   ]
  },
  {
   "cell_type": "markdown",
   "metadata": {},
   "source": [
    "Tabulate the result."
   ]
  },
  {
   "cell_type": "code",
   "execution_count": 5,
   "metadata": {},
   "outputs": [
    {
     "name": "stdout",
     "output_type": "stream",
     "text": [
      "------------------------------------------------------------------------------------\n",
      "Catalog          No.        r1             r2            r3             r\n",
      "------------------------------------------------------------------------------------\n",
      "icrf1            608 +0.26 +/- 0.17 -0.04 +/- 0.17 +0.04 +/- 0.17 0.27 +/- 0.29\n",
      "icrf1-def        212 +1.26 +/- 0.27 -0.23 +/- 0.27 +0.21 +/- 0.30 1.30 +/- 0.49\n",
      "icrf2           3414 +1.04 +/- 0.07 -0.09 +/- 0.07 +0.05 +/- 0.07 1.04 +/- 0.12\n",
      "icrf2-def        295 +0.01 +/- 0.24 -0.16 +/- 0.24 +0.33 +/- 0.24 0.37 +/- 0.41\n",
      "icrf3sx         4536 +0.93 +/- 0.06 -0.13 +/- 0.06 +0.13 +/- 0.06 0.95 +/- 0.10\n",
      "icrf3sx-def      303 -0.14 +/- 0.24 -0.06 +/- 0.24 +0.13 +/- 0.24 0.20 +/- 0.41\n",
      "icrf3k           824 +0.19 +/- 0.14 -0.02 +/- 0.14 +0.04 +/- 0.14 0.19 +/- 0.24\n",
      "icrf3k-def       193 -0.28 +/- 0.28 -0.10 +/- 0.29 +0.20 +/- 0.29 0.36 +/- 0.50\n",
      "icrf3xka         678 -0.73 +/- 0.16 +0.01 +/- 0.15 +0.05 +/- 0.15 0.73 +/- 0.27\n",
      "icrf3xka-def     176 -0.23 +/- 0.30 -0.06 +/- 0.31 +0.13 +/- 0.30 0.27 +/- 0.52\n",
      "------------------------------------------------------------------------------------\n"
     ]
    }
   ],
   "source": [
    "print(\"------------------------------------------------------------------------------------\")\n",
    "print(\"Catalog          No.        r1             r2            r3             r\")\n",
    "print(\"------------------------------------------------------------------------------------\")\n",
    "\n",
    "for rotdata in rotlist:\n",
    "    name = rotdata[\"name\"]\n",
    "    num = rotdata[\"num\"]\n",
    "    rot = rotdata[\"rot\"]\n",
    "    err = rotdata[\"err\"]\n",
    "    \n",
    "    r = np.sqrt(rot[0]**2 + rot[1]**2 + rot[2]**2)\n",
    "    rerr = np.sqrt(err[0]**2 + err[1]**2 + err[2]**2)\n",
    "    \n",
    "    \n",
    "    print(\"{:15} {:4d} {:+.2f} +/- {:.2f} \"\n",
    "          \"{:+.2f} +/- {:.2f} {:+.2f} +/- \"\n",
    "          \"{:.2f} {:.2f} +/- {:.2f}\".format(\n",
    "        name, num, rot[0], err[0], rot[1], err[1], \n",
    "              rot[2], err[2], r, rerr))\n",
    "\n",
    "print(\"------------------------------------------------------------------------------------\")"
   ]
  }
 ],
 "metadata": {
  "hide_input": false,
  "kernelspec": {
   "display_name": "Python 3",
   "language": "python",
   "name": "python3"
  },
  "language_info": {
   "codemirror_mode": {
    "name": "ipython",
    "version": 3
   },
   "file_extension": ".py",
   "mimetype": "text/x-python",
   "name": "python",
   "nbconvert_exporter": "python",
   "pygments_lexer": "ipython3",
   "version": "3.7.3"
  },
  "latex_envs": {
   "LaTeX_envs_menu_present": true,
   "autoclose": false,
   "autocomplete": true,
   "bibliofile": "biblio.bib",
   "cite_by": "apalike",
   "current_citInitial": 1,
   "eqLabelWithNumbers": true,
   "eqNumInitial": 1,
   "hotkeys": {
    "equation": "Ctrl-E",
    "itemize": "Ctrl-I"
   },
   "labels_anchors": false,
   "latex_user_defs": false,
   "report_style_numbering": false,
   "user_envs_cfg": false
  }
 },
 "nbformat": 4,
 "nbformat_minor": 2
}
