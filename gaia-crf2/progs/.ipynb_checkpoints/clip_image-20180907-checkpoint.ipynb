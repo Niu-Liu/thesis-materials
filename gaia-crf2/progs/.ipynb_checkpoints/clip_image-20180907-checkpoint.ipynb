{
 "cells": [
  {
   "cell_type": "code",
   "execution_count": 4,
   "metadata": {},
   "outputs": [],
   "source": [
    "def clip_image(sou_name):\n",
    "    \"\"\"\n",
    "    \"\"\"\n",
    "\n",
    "    from PIL import Image\n",
    "\n",
    "#     x, y, w, h = 380, 230, 1660, 1950\n",
    "#     output_name = \"../plots/VLBA-images/%s_X_0.png\" % sou_name\n",
    "    \n",
    "    x, y, w, h = 290, 225, 1950, 1950\n",
    "#     output_name = \"../plots/VLBA-images/%s_X_1.png\" % sou_name\n",
    "    output_name = \"../plots/VLBA-images-20180907/%s_X.png\" % sou_name\n",
    "\n",
    "    image_file = \"../plots/VLBA-images-20180907/%s_X1.png\" % sou_name\n",
    "    im = Image.open(image_file)\n",
    "    im = im.crop((x, y, x + w, y + h))\n",
    "    im.save(output_name)"
   ]
  },
  {
   "cell_type": "code",
   "execution_count": 5,
   "metadata": {},
   "outputs": [],
   "source": [
    "clip_image(\"1213+350\")"
   ]
  },
  {
   "cell_type": "code",
   "execution_count": 6,
   "metadata": {},
   "outputs": [],
   "source": [
    "clip_image(\"0119+115\")"
   ]
  },
  {
   "cell_type": "code",
   "execution_count": 7,
   "metadata": {},
   "outputs": [],
   "source": [
    "clip_image(\"0923+392\")"
   ]
  },
  {
   "cell_type": "code",
   "execution_count": 8,
   "metadata": {},
   "outputs": [],
   "source": [
    "clip_image(\"1156-094\")"
   ]
  },
  {
   "cell_type": "code",
   "execution_count": 9,
   "metadata": {},
   "outputs": [],
   "source": [
    "clip_image(\"1652+398\")"
   ]
  },
  {
   "cell_type": "code",
   "execution_count": 10,
   "metadata": {},
   "outputs": [],
   "source": [
    "clip_image(\"2223-052\")"
   ]
  }
 ],
 "metadata": {
  "hide_input": false,
  "kernelspec": {
   "display_name": "Python 3",
   "language": "python",
   "name": "python3"
  },
  "language_info": {
   "codemirror_mode": {
    "name": "ipython",
    "version": 3
   },
   "file_extension": ".py",
   "mimetype": "text/x-python",
   "name": "python",
   "nbconvert_exporter": "python",
   "pygments_lexer": "ipython3",
   "version": "3.5.5"
  }
 },
 "nbformat": 4,
 "nbformat_minor": 2
}
