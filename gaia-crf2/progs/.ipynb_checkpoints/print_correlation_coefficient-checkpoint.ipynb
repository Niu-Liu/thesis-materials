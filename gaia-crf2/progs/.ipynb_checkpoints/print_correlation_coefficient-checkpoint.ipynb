{
 "cells": [
  {
   "cell_type": "code",
   "execution_count": 1,
   "metadata": {},
   "outputs": [],
   "source": [
    "import numpy as np\n",
    "import sys"
   ]
  },
  {
   "cell_type": "code",
   "execution_count": 2,
   "metadata": {},
   "outputs": [],
   "source": [
    "pmt_corr1 = np.mat([[1.,         0.00838852, -0.01506451,  0.11036423, - 0.38148773,  0.05206475],\n",
    "                [0.00838852,  1.,          0.0065144,\n",
    "                    0.39655507,  0.11376548,  0.0207744],\n",
    "                [-0.01506451,  0.0065144,   1., -\n",
    "                    0.06174916, - 0.00544792, - 0.20368561],\n",
    "                [0.11036423,  0.39655507, - 0.06174916,\n",
    "                    1.,          0.00597787,  0.01895738],\n",
    "                [-0.38148773,  0.11376548, - 0.00544792,\n",
    "                    0.00597787,  1.,          0.03193699],\n",
    "                [0.05206475,  0.0207744, - 0.20368561,  0.01895738,  0.03193699,  1.]])\n",
    "\n"
   ]
  },
  {
   "cell_type": "code",
   "execution_count": 4,
   "metadata": {},
   "outputs": [
    {
     "data": {
      "text/plain": [
       "(6, 6)"
      ]
     },
     "execution_count": 4,
     "metadata": {},
     "output_type": "execute_result"
    }
   ],
   "source": [
    "a, b = pmt_corr1.shape\n",
    "a, b"
   ]
  },
  {
   "cell_type": "code",
   "execution_count": 7,
   "metadata": {},
   "outputs": [
    {
     "name": "stdout",
     "output_type": "stream",
     "text": [
      "            R1     R2     R3     D1     D2     D3\n",
      "     R1  +1.00\n",
      "     R2  +0.01  +1.00\n",
      "     R3  -0.02  +0.01  +1.00\n",
      "     D1  +0.11  +0.40  -0.06  +1.00\n",
      "     D2  -0.38  +0.11  -0.01  +0.01  +1.00\n",
      "     D3  +0.05  +0.02  -0.20  +0.02  +0.03  +1.00\n",
      "          R1    R2    R3    D1    D2    D3\n",
      "    R1  +1.0\n",
      "    R2  +0.0  +1.0\n",
      "    R3  -0.0  +0.0  +1.0\n",
      "    D1  +0.1  +0.4  -0.1  +1.0\n",
      "    D2  -0.4  +0.1  -0.0  +0.0  +1.0\n",
      "    D3  +0.1  +0.0  -0.2  +0.0  +0.0  +1.0\n"
     ]
    }
   ],
   "source": [
    "pmt_name = np.array([\"R1\", \"R2\", \"R3\", \"D1\", \"D2\", \"D3\"])\n",
    "pmt_nb = pmt_name.size\n",
    "\n",
    "# Check the shape of the matrix\n",
    "a, b = pmt_corr1.shape\n",
    "if a != b or a != pmt_nb:\n",
    "    print(\"The shape of the correlation matrix should be (N, N)(N=6)!\")\n",
    "    sys.exit()\n",
    "\n",
    "# If the correlation matrix is an object of np.mat type, convert it to np.ndarray\n",
    "if type(pmt_corr1) is np.mat or type(pmt_corr1) is np.matrix:\n",
    "    pmt_corr1 = np.array(pmt_corr1)\n",
    "    \n",
    "# The first line\n",
    "print((\"  %5s\" * (pmt_nb+1)) % (\"    \", *pmt_name))\n",
    "\n",
    "# Now begin to print the correlation coefficient\n",
    "for i, pmt_namei in enumerate(pmt_name):\n",
    "    line_fmt = \"  %5s\" + \"  %+5.2f\" * (i + 1)\n",
    "    print(line_fmt % (pmt_namei, *pmt_corr1[i, :i+1]))\n",
    "    \n",
    "# The first line\n",
    "print((\"  %4s\" * (pmt_nb+1)) % (\"    \", *pmt_name))\n",
    "\n",
    "# Now begin to print the correlation coefficient\n",
    "for i, pmt_namei in enumerate(pmt_name):\n",
    "    line_fmt = \"  %4s\" + \"  %+4.1f\" * (i + 1)\n",
    "    print(line_fmt % (pmt_namei, *pmt_corr1[i, :i+1]))"
   ]
  },
  {
   "cell_type": "code",
   "execution_count": 9,
   "metadata": {},
   "outputs": [
    {
     "name": "stdout",
     "output_type": "stream",
     "text": [
      "            R1     R2     R3     D1     D2     D3\n",
      "     R2  +0.01\n",
      "     R3  -0.02  +0.01\n",
      "     D1  +0.11  +0.40  -0.06\n",
      "     D2  -0.38  +0.11  -0.01  +0.01\n",
      "     D3  +0.05  +0.02  -0.20  +0.02  +0.03\n",
      "          R1    R2    R3    D1    D2    D3\n",
      "    R2  +0.0\n",
      "    R3  -0.0  +0.0\n",
      "    D1  +0.1  +0.4  -0.1\n",
      "    D2  -0.4  +0.1  -0.0  +0.0\n",
      "    D3  +0.1  +0.0  -0.2  +0.0  +0.0\n"
     ]
    }
   ],
   "source": [
    "# The first line\n",
    "print((\"  %5s\" * (pmt_nb+1)) % (\"    \", *pmt_name))\n",
    "\n",
    "# Now begin to print the correlation coefficient\n",
    "for i in range(1, pmt_nb):\n",
    "    line_fmt = \"  %5s\" + \"  %+5.2f\" * i\n",
    "    print(line_fmt % (pmt_name[i], *pmt_corr1[i, :i]))\n",
    "\n",
    "# The first line\n",
    "print((\"  %4s\" * (pmt_nb+1)) % (\"    \", *pmt_name))\n",
    "\n",
    "# Now begin to print the correlation coefficient\n",
    "for i in range(1, pmt_nb):\n",
    "    line_fmt = \"  %4s\" + \"  %+4.1f\" * i\n",
    "    print(line_fmt % (pmt_name[i], *pmt_corr1[i, :i]))"
   ]
  },
  {
   "cell_type": "code",
   "execution_count": 10,
   "metadata": {},
   "outputs": [
    {
     "name": "stdout",
     "output_type": "stream",
     "text": [
      "            R1     R2     R3     D1     D2     D3\n",
      "     R1  +1.00\n",
      "     R2  +0.01  +1.00\n",
      "     R3  -0.02  +0.01  +1.00\n",
      "     D1  +0.11  +0.40  -0.06  +1.00\n",
      "     D2  -0.38  +0.11  -0.01  +0.01  +1.00\n",
      "     D3  +0.05  +0.02  -0.20  +0.02  +0.03  +1.00\n"
     ]
    }
   ],
   "source": [
    "pmt_corr1 = np.mat([[1.,         0.00838852, -0.01506451,  0.11036423, - 0.38148773,  0.05206475],\n",
    "                [0.00838852,  1.,          0.0065144,\n",
    "                    0.39655507,  0.11376548,  0.0207744],\n",
    "                [-0.01506451,  0.0065144,   1., -\n",
    "                    0.06174916, - 0.00544792, - 0.20368561],\n",
    "                [0.11036423,  0.39655507, - 0.06174916,\n",
    "                    1.,          0.00597787,  0.01895738],\n",
    "                [-0.38148773,  0.11376548, - 0.00544792,\n",
    "                    0.00597787,  1.,          0.03193699],\n",
    "                [0.05206475,  0.0207744, - 0.20368561,  0.01895738,  0.03193699,  1.]])\n",
    "\n",
    "from my_progs.catalog_comparison.write_output import print_vsh1_corr\n",
    "print_vsh1_corr(pmt_corr1)"
   ]
  }
 ],
 "metadata": {
  "hide_input": false,
  "kernelspec": {
   "display_name": "Python 3",
   "language": "python",
   "name": "python3"
  },
  "language_info": {
   "codemirror_mode": {
    "name": "ipython",
    "version": 3
   },
   "file_extension": ".py",
   "mimetype": "text/x-python",
   "name": "python",
   "nbconvert_exporter": "python",
   "pygments_lexer": "ipython3",
   "version": "3.5.5"
  }
 },
 "nbformat": 4,
 "nbformat_minor": 2
}
