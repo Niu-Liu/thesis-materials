{
 "cells": [
  {
   "cell_type": "markdown",
   "metadata": {},
   "source": [
    "In this notebook, I try to calculate the parameters of error ellipse from the formal error of right ascension and declination, and the correlation between them."
   ]
  },
  {
   "cell_type": "code",
   "execution_count": 28,
   "metadata": {},
   "outputs": [],
   "source": [
    "import numpy as np\n",
    "from astropy.table import Table\n",
    "from astropy.coordinates import Angle\n",
    "from astropy import units as u"
   ]
  },
  {
   "cell_type": "code",
   "execution_count": 2,
   "metadata": {},
   "outputs": [],
   "source": [
    "# Read Gaia DR2 IERS quasar data\n",
    "gaiadr2 = Table.read(\"../data/gaiadr2_iers.fits\")"
   ]
  },
  {
   "cell_type": "code",
   "execution_count": 53,
   "metadata": {},
   "outputs": [],
   "source": [
    "mask = gaiadr2[\"iers_name\"] == \"1213+350\"  # \"0134+329\"\n",
    "tmp = gaiadr2[mask].filled()\n",
    "# tmp = gaiadr2.filled()\n",
    "sigma_ra = tmp[\"ra_error\"][0]\n",
    "sigma_dec = tmp[\"dec_error\"][0]\n",
    "corr_ra_dec = tmp[\"ra_dec_corr\"][0]\n",
    "cov_ra_dec = corr_ra_dec * sigma_ra * sigma_dec"
   ]
  },
  {
   "cell_type": "code",
   "execution_count": 54,
   "metadata": {},
   "outputs": [
    {
     "data": {
      "text/plain": [
       "(0.6531380484349055, 0.39728484361243316, -0.009468797)"
      ]
     },
     "execution_count": 54,
     "metadata": {},
     "output_type": "execute_result"
    }
   ],
   "source": [
    "sigma_ra, sigma_dec, corr_ra_dec"
   ]
  },
  {
   "cell_type": "code",
   "execution_count": 55,
   "metadata": {},
   "outputs": [],
   "source": []
  },
  {
   "cell_type": "code",
   "execution_count": 66,
   "metadata": {},
   "outputs": [],
   "source": []
  },
  {
   "cell_type": "code",
   "execution_count": 67,
   "metadata": {},
   "outputs": [
    {
     "data": {
      "text/plain": [
       "(0.6531552422208253,\n",
       " 0.3972565755742345,\n",
       " 90.52374630879098,\n",
       " -0.00015954224920672235)"
      ]
     },
     "execution_count": 67,
     "metadata": {},
     "output_type": "execute_result"
    }
   ],
   "source": [
    "sigma_max, sigma_min, pa_deg"
   ]
  },
  {
   "cell_type": "code",
   "execution_count": 60,
   "metadata": {},
   "outputs": [
    {
     "data": {
      "text/plain": [
       "(2.246012718792878e-05, -0.002456980851048722)"
      ]
     },
     "execution_count": 60,
     "metadata": {},
     "output_type": "execute_result"
    }
   ],
   "source": [
    "sigma_max2 - sigma_ra2, cov_ra_dec"
   ]
  },
  {
   "cell_type": "code",
   "execution_count": 61,
   "metadata": {},
   "outputs": [
    {
     "data": {
      "text/plain": [
       "-0.009141097533569597"
      ]
     },
     "execution_count": 61,
     "metadata": {},
     "output_type": "execute_result"
    }
   ],
   "source": [
    "pa_rad = np.arctan((sigma_max2 - sigma_ra2)/cov_ra_dec)\n",
    "pa_rad"
   ]
  },
  {
   "cell_type": "code",
   "execution_count": 63,
   "metadata": {},
   "outputs": [],
   "source": [
    "def error_ellipse(ra_err, dec_err, ra_dec_corr):\n",
    "    \"\"\"Calculate the error ellipse.\n",
    "    \n",
    "    Parameters\n",
    "    ----------\n",
    "    ra_err : array of float\n",
    "        formal error in RA, unit: mas or uas\n",
    "    dec_err : array of float\n",
    "        formal error in declination, unit: mas or uas\n",
    "    ra_dec_corr : array of float\n",
    "        correlation coefficient between RA and declination. Unit-less.\n",
    "        \n",
    "    Returns\n",
    "    -------\n",
    "    err_max : array of float\n",
    "        semi-major axis of error ellipse\n",
    "    err_min : array of float\n",
    "        semi-minor axis of error ellipse\n",
    "    pa : array of float\n",
    "        position angle in degree\n",
    "    \"\"\"\n",
    "    \n",
    "    cov_ra_dec = corr_ra_dec * ra_err * dec_err\n",
    "    ra_err2 = ra_err**2\n",
    "    dec_err2 = dec_err**2\n",
    "\n",
    "    sqrt_delta = np.sqrt((ra_err2 - dec_err2)**2 + 4 * cov_ra_dec**2)\n",
    "    err_max2 = (ra_err2 + dec_err2 + sqrt_delta) / 2\n",
    "    err_min2 = (ra_err2 + dec_err2 - sqrt_delta) / 2\n",
    "\n",
    "    err_max = np.sqrt(err_max2)\n",
    "    err_min = np.sqrt(err_min2)\n",
    "    \n",
    "    # pa_rad = np.arctan2(err_max2 - ra_err2, cov_ra_dec)\n",
    "    pa_rad = np.arctan((err_max2 - ra_err2)/cov_ra_dec)\n",
    "    pa = Angle(0.5 * np.pi - pa_rad, unit=u.rad)\n",
    "    pa_deg = pa.degree\n",
    "    \n",
    "    return err_max, err_min, pa_deg"
   ]
  }
 ],
 "metadata": {
  "hide_input": false,
  "kernelspec": {
   "display_name": "Python 3",
   "language": "python",
   "name": "python3"
  },
  "language_info": {
   "codemirror_mode": {
    "name": "ipython",
    "version": 3
   },
   "file_extension": ".py",
   "mimetype": "text/x-python",
   "name": "python",
   "nbconvert_exporter": "python",
   "pygments_lexer": "ipython3",
   "version": "3.5.5"
  },
  "latex_envs": {
   "LaTeX_envs_menu_present": true,
   "autoclose": false,
   "autocomplete": true,
   "bibliofile": "biblio.bib",
   "cite_by": "apalike",
   "current_citInitial": 1,
   "eqLabelWithNumbers": true,
   "eqNumInitial": 1,
   "hotkeys": {
    "equation": "Ctrl-E",
    "itemize": "Ctrl-I"
   },
   "labels_anchors": false,
   "latex_user_defs": false,
   "report_style_numbering": false,
   "user_envs_cfg": false
  }
 },
 "nbformat": 4,
 "nbformat_minor": 2
}
