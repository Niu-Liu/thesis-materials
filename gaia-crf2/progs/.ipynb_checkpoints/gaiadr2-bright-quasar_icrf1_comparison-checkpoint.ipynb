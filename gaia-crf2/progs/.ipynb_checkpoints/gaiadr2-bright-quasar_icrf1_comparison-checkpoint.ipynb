{
 "cells": [
  {
   "cell_type": "markdown",
   "metadata": {},
   "source": [
    "This notebook is actually a copy of `gaiadr2_icrf1_comparison.ipynb`, but I limit the Gaia sample to $G<18.7$."
   ]
  },
  {
   "cell_type": "code",
   "execution_count": 29,
   "metadata": {},
   "outputs": [],
   "source": [
    "from astropy.table import Table, join, Column\n",
    "from astropy import units as u\n",
    "import astropy.coordinates as coord\n",
    "from astropy.coordinates import SkyCoord\n",
    "import numpy as np\n",
    "import matplotlib.pyplot as plt\n",
    "%matplotlib inline\n",
    "# %config InlineBackend.figure_format = \"svg\"\n",
    "import sys\n",
    "\n",
    "# My modules\n",
    "from my_progs.catalog.vsh_deg1_cor import vsh_deg01_fitting\n",
    "from my_progs.catalog.vsh_deg2_cor import vsh_deg02_fitting, residual_calc02\n",
    "from my_progs.catalog.pos_diff import nor_sep_calc, pos_diff_calc\n",
    "from my_progs.catalog.pos_err import pos_err_calc\n",
    "from my_progs.catalog.write_output import print_vsh1_corr, print_vsh2_corr\n",
    "from my_progs.stat_func.rms_calc import rms_calc"
   ]
  },
  {
   "cell_type": "code",
   "execution_count": 30,
   "metadata": {},
   "outputs": [],
   "source": [
    "# Read Gaia DR2 IERS quasar data\n",
    "from my_progs.catalog.read_gaia import read_dr2_iers\n",
    "gaiadr2 = read_dr2_iers()\n",
    "\n",
    "# A selection on the G magnitude\n",
    "bgt_mask = (gaiadr2[\"phot_g_mean_mag\"] < 18.7)\n",
    "gaiadr2 = gaiadr2[bgt_mask]\n",
    "\n",
    "# Read ICRF1 catalog\n",
    "from my_progs.catalog.read_icrf import read_icrf1\n",
    "icrf1 = read_icrf1()\n",
    "\n",
    "# Crossmatch among these three catalogs\n",
    "common_source = join(icrf1, gaiadr2, keys=\"iers_name\", table_names=[\"icrf1\", \"gaiadr2\"]) "
   ]
  },
  {
   "cell_type": "code",
   "execution_count": 31,
   "metadata": {},
   "outputs": [],
   "source": [
    "# The positonal offset for common sources between GaiaDR2 and ICRF2.\n",
    "[dRA, dDC, dRA_err, dDC_err, dRA_dDC_cov,\n",
    " ang_sep, X_a, X_d, X] = pos_diff_calc(\n",
    "    common_source[\"ra_icrf1\"], common_source[\"ra_err_icrf1\"],\n",
    "    common_source[\"dec_icrf1\"], common_source[\"dec_err_icrf1\"],\n",
    "    common_source[\"ra_dec_corr_icrf1\"],\n",
    "    common_source[\"ra_gaiadr2\"], common_source[\"ra_err_gaiadr2\"],\n",
    "    common_source[\"dec_gaiadr2\"], common_source[\"dec_err_gaiadr2\"],\n",
    "    common_source[\"ra_dec_corr_gaiadr2\"])\n",
    "\n",
    "common_source.add_columns(\n",
    "    [dRA, dDC, dRA_err, dDC_err, dRA_dDC_cov, ang_sep, X_a, X_d, X],\n",
    "    names=[\"dra\", \"ddec\", \"dra_err\", \"ddec_err\", \"dra_ddec_cov\",\n",
    "           \"ang_sep\", \"nor_dra\",  \"nor_ddec\", \"nor_sep\"])\n",
    "\n",
    "common_source[\"dra\"].unit = u.mas\n",
    "common_source[\"ddec\"].unit = u.mas\n",
    "common_source[\"dra_err\"].unit = u.mas\n",
    "\n",
    "common_source.sort(\"dec_icrf1\")"
   ]
  },
  {
   "cell_type": "code",
   "execution_count": 32,
   "metadata": {},
   "outputs": [
    {
     "data": {
      "text/html": [
       "<i>Table masked=True length=326</i>\n",
       "<table id=\"table4684665424\" class=\"table-striped table-bordered table-condensed\">\n",
       "<thead><tr><th>icrf_name</th><th>iers_name</th><th>type</th><th>ra_icrf1</th><th>dec_icrf1</th><th>si_s</th><th>si_x</th><th>ra_err_icrf1</th><th>dec_err_icrf1</th><th>pos_err_icrf1</th><th>ra_dec_corr_icrf1</th><th>mean_obs</th><th>beg_obs</th><th>end_obs</th><th>nb_sess</th><th>nb_del</th><th>source_id</th><th>ra_gaiadr2</th><th>ra_err_gaiadr2</th><th>dec_gaiadr2</th><th>dec_err_gaiadr2</th><th>pos_err_gaiadr2</th><th>parallax</th><th>parallax_err</th><th>pmra</th><th>pmra_err</th><th>pmdec</th><th>pmdec_err</th><th>ra_dec_corr_gaiadr2</th><th>ra_parallax_corr</th><th>ra_pmra_corr</th><th>ra_pmdec_corr</th><th>dec_parallax_corr</th><th>dec_pmra_corr</th><th>dec_pmdec_corr</th><th>parallax_pmra_corr</th><th>parallax_pmdec_corr</th><th>pmra_pmdec_corr</th><th>astrometric_n_obs_al</th><th>phot_g_mean_mag</th><th>phot_bp_mean_mag</th><th>phot_rp_mean_mag</th><th>dra</th><th>ddec</th><th>dra_err</th><th>ddec_err</th><th>dra_ddec_cov</th><th>ang_sep</th><th>nor_dra</th><th>nor_ddec</th><th>nor_sep</th></tr></thead>\n",
       "<thead><tr><th></th><th></th><th></th><th>deg</th><th>deg</th><th></th><th></th><th>mas</th><th>mas</th><th>mas</th><th></th><th></th><th></th><th></th><th></th><th></th><th></th><th>deg</th><th>mas</th><th>deg</th><th>mas</th><th>mas</th><th>mas</th><th>mas</th><th>mas / yr</th><th>mas / yr</th><th>mas / yr</th><th>mas / yr</th><th></th><th></th><th></th><th></th><th></th><th></th><th></th><th></th><th></th><th></th><th></th><th>mag</th><th>mag</th><th>mag</th><th>mas</th><th>mas</th><th>mas</th><th>mas</th><th></th><th>deg</th><th>deg</th><th>deg</th><th>deg</th></tr></thead>\n",
       "<thead><tr><th>str16</th><th>str8</th><th>str1</th><th>float64</th><th>float64</th><th>int64</th><th>int64</th><th>float64</th><th>float64</th><th>float64</th><th>float64</th><th>float64</th><th>float64</th><th>float64</th><th>int64</th><th>int64</th><th>int64</th><th>float64</th><th>float64</th><th>float64</th><th>float64</th><th>float64</th><th>float64</th><th>float64</th><th>float64</th><th>float64</th><th>float64</th><th>float64</th><th>float32</th><th>float32</th><th>float32</th><th>float32</th><th>float32</th><th>float32</th><th>float32</th><th>float32</th><th>float32</th><th>float32</th><th>int32</th><th>float32</th><th>float32</th><th>float32</th><th>float64</th><th>float64</th><th>float64</th><th>float64</th><th>float64</th><th>float64</th><th>float64</th><th>float64</th><th>float64</th></tr></thead>\n",
       "<tr><td>J161749.2-771718</td><td>1610-771</td><td>O</td><td>244.4553180875</td><td>-77.288463175</td><td>--</td><td>--</td><td>0.7888528257541545</td><td>0.9199999999999999</td><td>0.9199999999999999</td><td>0.0</td><td>2449185.5</td><td>2447627.0</td><td>2449912.3</td><td>144</td><td>1849</td><td>5780473991219814400</td><td>244.45531880826925</td><td>0.11609338103348579</td><td>-77.28846333115271</td><td>0.10601774050321344</td><td>0.11943908392921739</td><td>0.06822795354300881</td><td>0.135264039375935</td><td>-0.25152992826355175</td><td>0.21281172410075863</td><td>0.07561600762710302</td><td>0.2382647111065882</td><td>0.12546216</td><td>-0.16432452</td><td>-0.29263145</td><td>-0.120895825</td><td>-0.13841678</td><td>-0.059810136</td><td>-0.17181784</td><td>-0.2048508</td><td>0.043494932</td><td>0.18203403</td><td>264</td><td>18.073807</td><td>18.839888</td><td>17.136702</td><td>-0.570959870649863</td><td>0.5621497507490858</td><td>0.797349643393725</td><td>0.9260884198074213</td><td>0.00154418298293584</td><td>0.8012537152236909</td><td>-0.7160721464923606</td><td>0.6070152036519191</td><td>0.9397066543202065</td></tr>\n",
       "<tr><td>J031155.2-765150</td><td>0312-770</td><td>C</td><td>47.98020972916666</td><td>-76.86412456388888</td><td>--</td><td>--</td><td>0.7533705884121248</td><td>0.6699999999999999</td><td>0.8693195021200416</td><td>0.476</td><td>2448768.6</td><td>2448111.4</td><td>2449896.1</td><td>3</td><td>17</td><td>4638902749442043904</td><td>47.98020934782005</td><td>0.048803474404810344</td><td>-76.86412438994172</td><td>0.0430857559421685</td><td>0.049995365446954765</td><td>-0.1503783526142562</td><td>0.04858376473022581</td><td>0.03664213274736488</td><td>0.10323079018004093</td><td>-0.11542304592080613</td><td>0.0900893592383438</td><td>0.1308782</td><td>0.18527538</td><td>-0.24178655</td><td>-0.19408266</td><td>0.12238452</td><td>-0.12262027</td><td>-0.13964932</td><td>0.1772241</td><td>-0.19537102</td><td>0.17712782</td><td>229</td><td>16.409534</td><td>16.541353</td><td>15.860948</td><td>0.3119949171191067</td><td>-0.6262097656417609</td><td>0.7549496821632632</td><td>0.6713839306723896</td><td>0.24054015016409963</td><td>0.6996281147104277</td><td>0.41326584339383243</td><td>-0.9327148551419948</td><td>1.3473937939253715</td></tr>\n",
       "<tr><td>J020213.6-762003</td><td>0202-765</td><td>C</td><td>30.55705924166666</td><td>-76.334182375</td><td>--</td><td>--</td><td>9.685416494768821</td><td>5.919999999999999</td><td>9.744791837696775</td><td>0.145</td><td>2448780.7</td><td>2448111.4</td><td>2449896.1</td><td>2</td><td>8</td><td>4637046842533931776</td><td>30.55705734415762</td><td>0.06027591383612322</td><td>-76.3341839897547</td><td>0.04960481308839847</td><td>0.06049979400299211</td><td>0.0608745758564989</td><td>0.056032513682111866</td><td>-0.056412062101460624</td><td>0.11337788519537607</td><td>-0.0010447887314445914</td><td>0.10008014153723525</td><td>0.06023459</td><td>0.23434557</td><td>-0.39555797</td><td>-0.10975848</td><td>0.07054903</td><td>-0.05942733</td><td>-0.34338602</td><td>-0.01287006</td><td>-0.21806069</td><td>0.07997096</td><td>219</td><td>16.686905</td><td>16.698038</td><td>16.254648</td><td>1.613889384010251</td><td>5.813116951003394</td><td>9.685604052558041</td><td>5.920207820463866</td><td>8.314141619058349</td><td>6.032989941137312</td><td>0.16662764400161606</td><td>0.9819109611168885</td><td>0.9822169239394251</td></tr>\n",
       "<tr><td>J084127.0-754027</td><td>0842-754</td><td>C</td><td>130.36264536666664</td><td>-75.67440855000001</td><td>--</td><td>--</td><td>10.959991751647895</td><td>7.3999999999999995</td><td>11.849522121128794</td><td>-0.514</td><td>2448205.8</td><td>2448111.4</td><td>2448866.3</td><td>2</td><td>8</td><td>5216426317174691200</td><td>130.36264855728805</td><td>0.04608879190945817</td><td>-75.67440928549293</td><td>0.05163697420772348</td><td>0.05164790310908927</td><td>0.0025825035973819537</td><td>0.050646239269593996</td><td>0.10808844241499357</td><td>0.09803616294342181</td><td>0.07290322520789105</td><td>0.10821843300589691</td><td>0.010405957</td><td>-0.008580931</td><td>-0.32339633</td><td>7.02274e-05</td><td>0.13113391</td><td>0.029970845</td><td>-0.12241238</td><td>0.21687211</td><td>-0.19025072</td><td>-0.017303266</td><td>227</td><td>16.865795</td><td>16.929014</td><td>16.509924</td><td>-2.8420603621283993</td><td>2.64777450524889</td><td>10.960088657165578</td><td>7.40018015842218</td><td>-41.687399861579614</td><td>3.8843296632272875</td><td>-0.2593099792372841</td><td>0.3577986547037568</td><td>0.368439580316436</td></tr>\n",
       "<tr><td>J214712.7-753613</td><td>2142-758</td><td>C</td><td>326.8030428875</td><td>-75.60367364722222</td><td>--</td><td>--</td><td>0.7160480172723256</td><td>0.5999999999999999</td><td>0.7608210836314163</td><td>0.28</td><td>2448290.1</td><td>2447627.0</td><td>2448750.1</td><td>4</td><td>14</td><td>6358255119548684928</td><td>326.8030445501884</td><td>0.05261283166958171</td><td>-75.60367355726564</td><td>0.059720833720547234</td><td>0.06282236477219517</td><td>0.09279703439493384</td><td>0.07626982674621213</td><td>0.06063243387986364</td><td>0.11303869518616254</td><td>0.07723769155589502</td><td>0.1109702760567471</td><td>-0.21300372</td><td>0.031394977</td><td>0.0053565027</td><td>0.07191518</td><td>-0.10084816</td><td>0.11977473</td><td>-0.056833133</td><td>-0.4700161</td><td>-0.14655273</td><td>-0.14181022</td><td>246</td><td>17.164534</td><td>17.421026</td><td>16.689644</td><td>-1.4882059321602354</td><td>-0.3238437102481839</td><td>0.7179783235557466</td><td>0.6029648231698738</td><td>0.11962679169550729</td><td>1.5230336979805223</td><td>-2.07277278900285</td><td>-0.5370855774731442</td><td>2.073105239571965</td></tr>\n",
       "<tr><td>J063546.5-751616</td><td>0637-752</td><td>D</td><td>98.94378305833332</td><td>-75.27133759166666</td><td>--</td><td>--</td><td>0.2707675082582946</td><td>0.26999999999999996</td><td>0.2711602059379135</td><td>0.005</td><td>2449058.8</td><td>2447627.0</td><td>2449912.3</td><td>156</td><td>2417</td><td>5261519281893469568</td><td>98.94378350372547</td><td>0.026258103346110173</td><td>-75.27133768023639</td><td>0.030213103747643102</td><td>0.03025720559340246</td><td>-0.06630619602237847</td><td>0.030820341633987412</td><td>0.13174091032871105</td><td>0.04986819557979312</td><td>-0.07587622569787734</td><td>0.06397676853191946</td><td>0.03094604</td><td>-0.08169731</td><td>-0.23790708</td><td>0.011345097</td><td>0.38202414</td><td>0.1213525</td><td>0.0960281</td><td>0.3575748</td><td>-0.03861109</td><td>-0.02409039</td><td>234</td><td>15.728378</td><td>15.8673525</td><td>15.406848</td><td>-0.4076542703487067</td><td>0.31885099360806635</td><td>0.2720377391461351</td><td>0.2716851700738666</td><td>0.00039008683082332175</td><td>0.5175402981975293</td><td>-1.4985210200181829</td><td>1.1736047040086</td><td>1.9082921919684885</td></tr>\n",
       "<tr><td>J183728.7-710843</td><td>1831-711</td><td>C</td><td>279.3696456333333</td><td>-71.14543181388889</td><td>--</td><td>--</td><td>0.3102404472002782</td><td>0.32999999999999996</td><td>0.33002006379003485</td><td>-0.004</td><td>2448850.5</td><td>2447627.0</td><td>2449693.1</td><td>17</td><td>189</td><td>6419637349034013440</td><td>279.3696456446278</td><td>0.04725910562959501</td><td>-71.14543184833607</td><td>0.07249293413846035</td><td>0.07349774783040798</td><td>-0.029057737945303752</td><td>0.08407173924359676</td><td>0.05211861170062354</td><td>0.10568954911468278</td><td>-0.2658852656476052</td><td>0.1551978428535813</td><td>0.19899893</td><td>-0.018353801</td><td>-0.24199331</td><td>-0.20069365</td><td>-0.02575256</td><td>-0.18066631</td><td>-0.44119447</td><td>-0.2259909</td><td>-0.1425845</td><td>0.14784867</td><td>292</td><td>17.132864</td><td>17.336536</td><td>16.675018</td><td>-0.013140043859705334</td><td>0.12400985838212364</td><td>0.3138193081120692</td><td>0.33786865125371296</td><td>0.00027224323245386863</td><td>0.12470407262230589</td><td>-0.04187136839589501</td><td>0.3670357043246428</td><td>0.36952434233127995</td></tr>\n",
       "<tr><td>J215705.9-694123</td><td>2152-699</td><td>C</td><td>329.2749190249999</td><td>-69.68991264722223</td><td>--</td><td>--</td><td>1.103780444129785</td><td>1.3199999999999998</td><td>1.626848404912636</td><td>0.78</td><td>2448509.5</td><td>2448111.4</td><td>2449331.0</td><td>3</td><td>11</td><td>6395981017061683968</td><td>329.2749190550433</td><td>0.14162728458936874</td><td>-69.68991190584858</td><td>0.1989143779576423</td><td>0.21463676696320755</td><td>-0.804202003728573</td><td>0.23118212880910524</td><td>0.9049159756329986</td><td>0.24478326330053427</td><td>0.121665584787112</td><td>0.3051366467275036</td><td>-0.4616219</td><td>0.50294083</td><td>-0.2662687</td><td>0.019913401</td><td>-0.5702918</td><td>0.2397513</td><td>-0.23290896</td><td>-0.44508243</td><td>0.049434192</td><td>-0.16980922</td><td>277</td><td>16.40898</td><td>16.036608</td><td>14.654298</td><td>-0.037541108193164696</td><td>-2.6689451544825715</td><td>1.1128295271889146</td><td>1.3349033409795166</td><td>1.1234476698201394</td><td>2.6692091661090123</td><td>-0.03373482395636659</td><td>-1.999354614337972</td><td>3.017074999867903</td></tr>\n",
       "<tr><td>J194025.5-690756</td><td>1935-692</td><td>O</td><td>295.10636723333334</td><td>-69.13249224722222</td><td>--</td><td>--</td><td>1.8166616043443398</td><td>1.8899999999999997</td><td>1.8899999999999997</td><td>0.0</td><td>2448973.3</td><td>2447627.0</td><td>2449896.1</td><td>10</td><td>36</td><td>6420654642107297664</td><td>295.10636748051223</td><td>0.08687593537342361</td><td>-69.13249211877516</td><td>0.15966356972448847</td><td>0.1598436465207027</td><td>-0.008193106939120398</td><td>0.17783803439563814</td><td>0.2939786823700562</td><td>0.2134026592720037</td><td>0.08541294118395916</td><td>0.2905725236754548</td><td>0.07337212</td><td>-0.06745267</td><td>-0.16259353</td><td>-0.14160727</td><td>-0.37174264</td><td>-0.10074329</td><td>-0.5266892</td><td>-0.2534556</td><td>0.27423504</td><td>0.18455084</td><td>280</td><td>18.247602</td><td>18.622217</td><td>17.695583</td><td>-0.3169696919235936</td><td>-0.4624094003702339</td><td>1.8187376976480027</td><td>1.896732046309432</td><td>0.001017738925603408</td><td>0.5606177299630267</td><td>-0.1742800472731718</td><td>-0.2437926860939411</td><td>0.2996386928198665</td></tr>\n",
       "<tr><td>...</td><td>...</td><td>...</td><td>...</td><td>...</td><td>...</td><td>...</td><td>...</td><td>...</td><td>...</td><td>...</td><td>...</td><td>...</td><td>...</td><td>...</td><td>...</td><td>...</td><td>...</td><td>...</td><td>...</td><td>...</td><td>...</td><td>...</td><td>...</td><td>...</td><td>...</td><td>...</td><td>...</td><td>...</td><td>...</td><td>...</td><td>...</td><td>...</td><td>...</td><td>...</td><td>...</td><td>...</td><td>...</td><td>...</td><td>...</td><td>...</td><td>...</td><td>...</td><td>...</td><td>...</td><td>...</td><td>...</td><td>...</td><td>...</td><td>...</td><td>...</td></tr>\n",
       "<tr><td>J201713.0+744047</td><td>2017+745</td><td>D</td><td>304.30449712916663</td><td>74.679999975</td><td>2</td><td>1</td><td>0.28534650662753636</td><td>0.27999999999999997</td><td>0.2955289454405695</td><td>0.091</td><td>2449460.0</td><td>2447289.2</td><td>2449821.0</td><td>23</td><td>465</td><td>2288533122780209920</td><td>304.30449701819964</td><td>0.10083833058669896</td><td>74.67999998020957</td><td>0.11908825449960161</td><td>0.11968505642780107</td><td>0.07933981807325925</td><td>0.10792121313671378</td><td>0.14061270957530025</td><td>0.2011309878910563</td><td>-0.6706149315857248</td><td>0.27996027925961486</td><td>0.06408534</td><td>0.036507215</td><td>-0.30582392</td><td>-0.13163544</td><td>0.055007454</td><td>-0.121218115</td><td>-0.2855161</td><td>-0.17912163</td><td>-0.08463823</td><td>0.15088809</td><td>286</td><td>18.233313</td><td>18.52937</td><td>17.67468</td><td>0.10554681345448261</td><td>-0.018754457187242224</td><td>0.30264004652400356</td><td>0.3042729241318752</td><td>0.008040208121555753</td><td>0.10720009092712306</td><td>0.34875362552560035</td><td>-0.06163695715203972</td><td>0.36079684098871456</td></tr>\n",
       "<tr><td>J015734.9+744243</td><td>0153+744</td><td>D</td><td>29.39568711666666</td><td>74.71200832777778</td><td>4</td><td>3</td><td>0.3599107614954451</td><td>0.30999999999999994</td><td>0.3616421964689112</td><td>0.059</td><td>2449496.2</td><td>2447020.4</td><td>2449821.0</td><td>11</td><td>400</td><td>558920831719864704</td><td>29.395687567937717</td><td>0.07601359095570061</td><td>74.7120080218681</td><td>0.07378465048970208</td><td>0.07604183783968</td><td>-0.055334637800854056</td><td>0.08974294732038388</td><td>-0.31588222609249783</td><td>0.1460544052672695</td><td>0.5963224777174749</td><td>0.15712430445283143</td><td>0.0067952755</td><td>0.22652538</td><td>-0.3833209</td><td>0.0148602715</td><td>-0.015655339</td><td>-0.05816747</td><td>-0.30071002</td><td>-0.023472026</td><td>0.29459435</td><td>-0.05741675</td><td>235</td><td>17.428078</td><td>17.857227</td><td>16.72487</td><td>-0.4283533435627481</td><td>1.1012748473149259</td><td>0.367850271510314</td><td>0.31865996712465694</td><td>0.00662088005613749</td><td>1.1816483725160793</td><td>-1.164477442966187</td><td>3.4559560689470508</td><td>3.714603448160623</td></tr>\n",
       "<tr><td>J200530.9+775243</td><td>2007+777</td><td>O</td><td>301.37916047083326</td><td>77.87867990555554</td><td>3</td><td>1</td><td>0.459861428057086</td><td>0.38999999999999996</td><td>0.4598614280570861</td><td>0.0</td><td>2449097.6</td><td>2445998.3</td><td>2449695.3</td><td>235</td><td>11430</td><td>2291355710864269824</td><td>301.3791607796157</td><td>0.032551431736342396</td><td>77.87867987431174</td><td>0.03438698321113262</td><td>0.03478206044988333</td><td>0.009959346968329254</td><td>0.034542474123264215</td><td>0.09774599840342794</td><td>0.05956196439838587</td><td>0.14307357681744554</td><td>0.06270768540689903</td><td>0.057235032</td><td>0.1174326</td><td>-0.4055061</td><td>-0.07413188</td><td>0.37582362</td><td>-0.17476349</td><td>-0.3542171</td><td>-0.26377434</td><td>0.10823509</td><td>0.05585425</td><td>219</td><td>16.041922</td><td>16.492828</td><td>15.302505</td><td>-0.2334199403407399</td><td>0.11247768156863458</td><td>0.4610120700402412</td><td>0.3915130452671567</td><td>6.406577796548609e-05</td><td>0.2591063438044884</td><td>-0.506320670346798</td><td>0.2872897414998859</td><td>0.5822364830291514</td></tr>\n",
       "<tr><td>J180045.6+782804</td><td>1803+784</td><td>C</td><td>270.19034962916663</td><td>78.46778292777778</td><td>2</td><td>1</td><td>0.2608941757731256</td><td>0.25999999999999995</td><td>0.2639680089490562</td><td>-0.027</td><td>2447884.5</td><td>2445139.3</td><td>2449918.3</td><td>1620</td><td>68029</td><td>2293842045955346176</td><td>270.1903492670761</td><td>0.026022384366102266</td><td>78.46778286368942</td><td>0.03483481186709036</td><td>0.03489419069856534</td><td>-0.17622042547041034</td><td>0.031799486359345104</td><td>0.13746549458405916</td><td>0.049332200669415786</td><td>0.033351558627171256</td><td>0.06918642147155243</td><td>0.052183807</td><td>0.20881855</td><td>-0.15383679</td><td>-0.09878473</td><td>0.4474741</td><td>-0.118907295</td><td>-0.37930968</td><td>-0.2462983</td><td>-0.17140573</td><td>-0.15697087</td><td>190</td><td>15.68302</td><td>16.096077</td><td>15.018584</td><td>0.2605994781905263</td><td>0.23071807504493336</td><td>0.2621887401099363</td><td>0.26232320545048154</td><td>-0.001784173282844312</td><td>0.34805591244168527</td><td>0.9939384814208894</td><td>0.8795183584644239</td><td>1.3446328384903041</td></tr>\n",
       "<tr><td>J184208.9+794617</td><td>1845+797</td><td>D</td><td>280.5374581374999</td><td>79.77142444722222</td><td>--</td><td>--</td><td>0.36491780357159526</td><td>0.36</td><td>0.4287535357069739</td><td>-0.399</td><td>2448611.0</td><td>2444204.2</td><td>2449660.3</td><td>15</td><td>161</td><td>2294218358105826432</td><td>280.5374577675023</td><td>0.028560321147217523</td><td>79.77142453844802</td><td>0.031192264674038676</td><td>0.03218626022790677</td><td>-0.14535336116538167</td><td>0.03103015553123208</td><td>-0.20417847397486222</td><td>0.056793810598236204</td><td>-0.05624039346256312</td><td>0.058872347751748294</td><td>-0.13222831</td><td>-0.11324646</td><td>-0.35188168</td><td>0.06664475</td><td>0.35314548</td><td>-0.004952464</td><td>-0.21911936</td><td>-0.18722318</td><td>-0.17830864</td><td>0.019849014</td><td>198</td><td>15.126291</td><td>15.455543</td><td>14.302217</td><td>0.23652914365138109</td><td>-0.32841288089002774</td><td>0.3660337352042153</td><td>0.361348802925228</td><td>-0.05253459036658993</td><td>0.4047234316554247</td><td>0.646194929326441</td><td>-0.9088528264973511</td><td>0.9605173788648085</td></tr>\n",
       "<tr><td>J104423.0+805439</td><td>1039+811</td><td>D</td><td>161.09609397499997</td><td>80.91095639722222</td><td>--</td><td>--</td><td>0.2772360266521721</td><td>0.26999999999999996</td><td>0.27743700199757904</td><td>0.009</td><td>2448930.5</td><td>2447289.2</td><td>2449695.3</td><td>34</td><td>266</td><td>1133938475009700864</td><td>161.09609423125667</td><td>0.0925519544096173</td><td>80.9109564703981</td><td>0.09530060500876576</td><td>0.10862002629224315</td><td>0.05508199825734579</td><td>0.10136124168408288</td><td>0.3830108126685066</td><td>0.17887191874559016</td><td>-0.12980652876224202</td><td>0.17500549967285356</td><td>0.33593684</td><td>-0.120534964</td><td>-0.36164308</td><td>-0.18889967</td><td>0.056319803</td><td>-0.21251959</td><td>-0.43189552</td><td>0.23030989</td><td>-0.2786322</td><td>0.23187351</td><td>235</td><td>17.85046</td><td>18.0454</td><td>17.399105</td><td>-0.14573043826985554</td><td>-0.26343317927057797</td><td>0.2922767160396527</td><td>0.2863253487119797</td><td>0.003636732931668711</td><td>0.3010554775766896</td><td>-0.4986043371654844</td><td>-0.9200484010780708</td><td>1.0282126113354915</td></tr>\n",
       "<tr><td>J115312.4+805829</td><td>1150+812</td><td>D</td><td>178.3020797083333</td><td>80.97476514166667</td><td>2</td><td>2</td><td>0.2682467745084121</td><td>0.26999999999999996</td><td>0.2706156937262586</td><td>0.009</td><td>2449157.9</td><td>2446977.3</td><td>2449821.0</td><td>41</td><td>1058</td><td>1130399211502927744</td><td>178.3020800986759</td><td>0.13961255668055284</td><td>80.97476509768677</td><td>0.12588038117395578</td><td>0.1527880074414788</td><td>-0.08092738307191161</td><td>0.1562617411520912</td><td>0.5153346641503452</td><td>0.24498764272696014</td><td>-0.27361737970860517</td><td>0.24643597438046408</td><td>0.3058235</td><td>-0.40068913</td><td>-0.32453278</td><td>0.060247064</td><td>-0.31502607</td><td>-0.17654441</td><td>0.08424018</td><td>0.1985337</td><td>-0.3467651</td><td>-0.0015229941</td><td>233</td><td>18.347729</td><td>18.540804</td><td>17.841858</td><td>-0.22043819213582683</td><td>0.15832762301215553</td><td>0.30240370040237186</td><td>0.29790245108844</td><td>0.006026529299154245</td><td>0.27140492398037097</td><td>-0.7289533555393553</td><td>0.5314747241376403</td><td>0.9325043124836528</td></tr>\n",
       "<tr><td>J105811.5+811432</td><td>1053+815</td><td>D</td><td>164.5480640208333</td><td>81.24240978055556</td><td>1</td><td>1</td><td>0.2694901417519055</td><td>0.26999999999999996</td><td>0.28226983267611616</td><td>0.095</td><td>2449404.3</td><td>2447453.5</td><td>2449910.1</td><td>92</td><td>1916</td><td>1133969841154436224</td><td>164.54806446024622</td><td>0.14695742677896292</td><td>81.242409794163</td><td>0.14108595785682473</td><td>0.16694064306353076</td><td>-0.019595826357489066</td><td>0.15274247583232248</td><td>-0.12314991715467355</td><td>0.4423278214599294</td><td>-0.023437032185432177</td><td>0.28967649691297226</td><td>0.3408909</td><td>-0.013718728</td><td>-0.117494866</td><td>0.017099142</td><td>-0.49440408</td><td>0.03465824</td><td>0.50570226</td><td>0.045344695</td><td>-0.32828322</td><td>0.47367123</td><td>212</td><td>18.313602</td><td>18.337408</td><td>17.559065</td><td>-0.24084905606511353</td><td>-0.048986760248226346</td><td>0.3069550810574022</td><td>0.3046395370013185</td><td>0.013980327989988862</td><td>0.24578032973993955</td><td>-0.7846394177136083</td><td>-0.16080237230669875</td><td>0.785871527084937</td></tr>\n",
       "<tr><td>J001708.4+813508</td><td>0014+813</td><td>D</td><td>4.285312304166666</td><td>81.585593425</td><td>--</td><td>--</td><td>0.26559216022989746</td><td>0.25999999999999995</td><td>0.2660013495052402</td><td>0.012</td><td>2449505.7</td><td>2447024.2</td><td>2449925.3</td><td>78</td><td>1453</td><td>566773097086885888</td><td>4.285312440548926</td><td>0.050040287037443475</td><td>81.58559353614801</td><td>0.04497410638739876</td><td>0.05222863526341198</td><td>0.04178755889367804</td><td>0.06456981229733462</td><td>-0.04152490147858247</td><td>0.0884946640386973</td><td>0.36187774386036964</td><td>0.0824546138258282</td><td>0.17651905</td><td>0.47988275</td><td>-0.3098118</td><td>0.2805213</td><td>0.2802447</td><td>-0.039190717</td><td>-0.06265387</td><td>-0.37087914</td><td>0.4873081</td><td>-0.15586254</td><td>191</td><td>16.335682</td><td>16.817646</td><td>15.715199</td><td>-0.07184540599315682</td><td>-0.4001328420599748</td><td>0.2702651030051295</td><td>0.26386108133892167</td><td>0.0012259066995003105</td><td>0.40653173757692557</td><td>-0.2658330846057962</td><td>-1.5164526728593828</td><td>1.5352956121539443</td></tr>\n",
       "<tr><td>J062603.0+820225</td><td>0615+820</td><td>D</td><td>96.51252578333333</td><td>82.04043545555555</td><td>--</td><td>--</td><td>0.29495005166513627</td><td>0.29999999999999993</td><td>0.3003298720470498</td><td>0.009</td><td>2448607.0</td><td>2447020.4</td><td>2449600.8</td><td>30</td><td>230</td><td>1143262501116088704</td><td>96.51252503852082</td><td>0.08898343369680603</td><td>82.04043535439743</td><td>0.09923847342113332</td><td>0.10170860350186449</td><td>-0.137838616711722</td><td>0.11939593607505655</td><td>-0.13826798317895878</td><td>0.18324235520992194</td><td>0.11269477536490682</td><td>0.21561895497438824</td><td>-0.12428239</td><td>0.027218206</td><td>-0.20363207</td><td>-0.036433414</td><td>-0.30415794</td><td>-0.09651462</td><td>-0.055492863</td><td>0.24898402</td><td>0.2741231</td><td>0.024178596</td><td>284</td><td>18.070356</td><td>18.139307</td><td>17.716572</td><td>0.3712943465979414</td><td>0.36416923876458895</td><td>0.3080804837209596</td><td>0.31598777604039835</td><td>-0.00030112046181804224</td><td>0.5200756928351608</td><td>1.2051861971699482</td><td>1.1524788817084832</td><td>1.6701199348869447</td></tr>\n",
       "</table>"
      ],
      "text/plain": [
       "<Table masked=True length=326>\n",
       "   icrf_name     iers_name type ...       nor_ddec             nor_sep      \n",
       "                                ...         deg                  deg        \n",
       "     str16          str8   str1 ...       float64              float64      \n",
       "---------------- --------- ---- ... -------------------- -------------------\n",
       "J161749.2-771718  1610-771    O ...   0.6070152036519191  0.9397066543202065\n",
       "J031155.2-765150  0312-770    C ...  -0.9327148551419948  1.3473937939253715\n",
       "J020213.6-762003  0202-765    C ...   0.9819109611168885  0.9822169239394251\n",
       "J084127.0-754027  0842-754    C ...   0.3577986547037568   0.368439580316436\n",
       "J214712.7-753613  2142-758    C ...  -0.5370855774731442   2.073105239571965\n",
       "J063546.5-751616  0637-752    D ...      1.1736047040086  1.9082921919684885\n",
       "J183728.7-710843  1831-711    C ...   0.3670357043246428 0.36952434233127995\n",
       "J215705.9-694123  2152-699    C ...   -1.999354614337972   3.017074999867903\n",
       "J194025.5-690756  1935-692    O ...  -0.2437926860939411  0.2996386928198665\n",
       "             ...       ...  ... ...                  ...                 ...\n",
       "J201713.0+744047  2017+745    D ... -0.06163695715203972 0.36079684098871456\n",
       "J015734.9+744243  0153+744    D ...   3.4559560689470508   3.714603448160623\n",
       "J200530.9+775243  2007+777    O ...   0.2872897414998859  0.5822364830291514\n",
       "J180045.6+782804  1803+784    C ...   0.8795183584644239  1.3446328384903041\n",
       "J184208.9+794617  1845+797    D ...  -0.9088528264973511  0.9605173788648085\n",
       "J104423.0+805439  1039+811    D ...  -0.9200484010780708  1.0282126113354915\n",
       "J115312.4+805829  1150+812    D ...   0.5314747241376403  0.9325043124836528\n",
       "J105811.5+811432  1053+815    D ... -0.16080237230669875   0.785871527084937\n",
       "J001708.4+813508  0014+813    D ...  -1.5164526728593828  1.5352956121539443\n",
       "J062603.0+820225  0615+820    D ...   1.1524788817084832  1.6701199348869447"
      ]
     },
     "execution_count": 32,
     "metadata": {},
     "output_type": "execute_result"
    }
   ],
   "source": [
    "common_source"
   ]
  },
  {
   "cell_type": "code",
   "execution_count": 33,
   "metadata": {},
   "outputs": [],
   "source": [
    "# Seperate the sources into the \"defining \",\"Candidates\", and \"Others\".\n",
    "# Defining sources\n",
    "mask_def = (common_source[\"type\"] == \"D\")\n",
    "com_def = common_source[mask_def]\n",
    "\n",
    "# Candidate sources\n",
    "mask_can = (common_source[\"type\"] == \"C\")\n",
    "com_can = common_source[mask_can]\n",
    "\n",
    "# Other sources\n",
    "mask_oth =  (common_source[\"type\"] == \"O\")\n",
    "com_oth = common_source[mask_oth]"
   ]
  },
  {
   "cell_type": "code",
   "execution_count": 34,
   "metadata": {},
   "outputs": [
    {
     "data": {
      "image/png": "[encoded data removed]",
      "text/plain": [
       "<Figure size 576x288 with 2 Axes>"
      ]
     },
     "metadata": {
      "needs_background": "light"
     },
     "output_type": "display_data"
    }
   ],
   "source": [
    "# Difference in RA and decl.\n",
    "bins_array = np.linspace(-5, 5, 100)\n",
    "weights = np.ones_like(dRA) * 100. / dRA.size\n",
    "\n",
    "fig, (ax0, ax1) = plt.subplots(figsize=(8, 4), ncols=2)\n",
    "ax0.hist(dRA, bins_array, weights=weights, facecolor=\"g\", alpha=0.75)\n",
    "ax1.hist(dDC, bins_array, weights=weights, facecolor=\"g\", alpha=0.75)\n",
    "\n",
    "ax0.set_yticks(np.arange(0, 11, 2))\n",
    "ax1.set_yticks(np.arange(0, 11, 2))\n",
    "\n",
    "ax0.set_ylim([0, 11])\n",
    "ax1.set_ylim([0, 11])\n",
    "\n",
    "ax0.set_xlabel(\"$\\Delta\\\\alpha*$ (mas)\")\n",
    "ax1.set_xlabel(\"$\\Delta\\\\delta$ (mas)\")\n",
    "\n",
    "ax0.set_ylabel(\"% in bin\")\n",
    "ax1.set_ylabel(\"% in bin\")\n",
    "\n",
    "fig.tight_layout()\n",
    "plt.show()"
   ]
  },
  {
   "cell_type": "code",
   "execution_count": 35,
   "metadata": {},
   "outputs": [
    {
     "data": {
      "text/plain": [
       "(955.4422165949093, 357.34731346175596, 1.5780042017263565, 0.993665154446932)"
      ]
     },
     "execution_count": 35,
     "metadata": {},
     "output_type": "execute_result"
    }
   ],
   "source": [
    "std_ra = np.std(dRA)\n",
    "std_dec = np.std(dDC)\n",
    "_, wrms_ra, _ = rms_calc(dRA, dRA_err)\n",
    "_, wrms_dec, _ = rms_calc(dDC, dDC_err)\n",
    "\n",
    "std_ra, std_dec, wrms_ra, wrms_dec"
   ]
  },
  {
   "cell_type": "code",
   "execution_count": 36,
   "metadata": {},
   "outputs": [
    {
     "data": {
      "image/png": "[encoded data removed]",
      "text/plain": [
       "<Figure size 576x288 with 2 Axes>"
      ]
     },
     "metadata": {
      "needs_background": "light"
     },
     "output_type": "display_data"
    }
   ],
   "source": [
    "# Normalized difference in RA and decl.\n",
    "from scipy import stats\n",
    "bins_array = np.linspace(-10, 10, 100)\n",
    "weights = np.ones_like(dRA) * 100. / dRA.size\n",
    "\n",
    "# Plot the \n",
    "fig, (ax0, ax1) = plt.subplots(figsize=(8, 4), ncols=2)\n",
    "ax0.hist(X_a, bins_array, weights=weights, facecolor=\"g\", alpha=0.75)\n",
    "ax1.hist(X_d, bins_array, weights=weights, facecolor=\"g\", alpha=0.75)\n",
    "\n",
    "ax0.set_xlabel(\"$X_{\\\\alpha*}$\")\n",
    "ax1.set_xlabel(\"$X_{\\\\delta}$\")\n",
    "\n",
    "ax0.set_ylim([0, 13])\n",
    "ax1.set_ylim([0, 13])\n",
    "\n",
    "ax0.set_ylabel(\"% in bin\")\n",
    "ax1.set_ylabel(\"% in bin\")\n",
    "\n",
    "# add a '(standard) Gaussian distribution' line\n",
    "Gaussian_dist = stats.norm.pdf(bins_array, 0, 1) * 10. / 50\n",
    "ax0.plot(bins_array, Gaussian_dist * 100, \"r--\", linewidth=1)\n",
    "ax1.plot(bins_array, Gaussian_dist * 100, \"r--\", linewidth=1)\n",
    "\n",
    "ax0.set_yticks(np.arange(0, 15, 2))\n",
    "ax1.set_yticks(np.arange(0, 15, 2))\n",
    "\n",
    "fig.tight_layout()\n",
    "plt.show()"
   ]
  },
  {
   "cell_type": "code",
   "execution_count": 37,
   "metadata": {},
   "outputs": [
    {
     "data": {
      "image/png": "[encoded data removed]",
      "text/plain": [
       "<Figure size 288x288 with 1 Axes>"
      ]
     },
     "metadata": {
      "needs_background": "light"
     },
     "output_type": "display_data"
    }
   ],
   "source": [
    "# Distribution of normalized separation\n",
    "from scipy import stats\n",
    "\n",
    "bins_array = np.linspace(0, 10, 50)\n",
    "weights = np.ones_like(X) * 100. / X.size\n",
    "\n",
    "fig, ax = plt.subplots(figsize=(4, 4))\n",
    "ax.hist(X, bins_array, weights=weights, facecolor=\"g\", alpha=0.75)\n",
    "\n",
    "# add a '(standard) Rqyleigh distribution' line\n",
    "rayleigh_dist = stats.rayleigh.pdf(bins_array) * 10. / 50  * 100\n",
    "ax.plot(bins_array, rayleigh_dist, \"r--\", linewidth=1)\n",
    "\n",
    "ax.set_xlabel(\"$X$\")\n",
    "ax.set_ylabel(\"% in bin\")\n",
    "\n",
    "plt.show()"
   ]
  },
  {
   "cell_type": "code",
   "execution_count": 38,
   "metadata": {},
   "outputs": [
    {
     "data": {
      "image/png": "[encoded data removed]",
      "text/plain": [
       "<Figure size 360x360 with 1 Axes>"
      ]
     },
     "metadata": {
      "needs_background": "light"
     },
     "output_type": "display_data"
    }
   ],
   "source": [
    "from matplotlib import colors\n",
    "\n",
    "fig, ax = plt.subplots(figsize=(5, 5))\n",
    "\n",
    "bins = np.linspace(-5, 5, 100)\n",
    "\n",
    "# We can increase the number of bins on each axis\n",
    "ax.hist2d(dRA, dDC, bins, norm=colors.LogNorm())\n",
    "\n",
    "ax.set_xlabel(\"$\\Delta\\\\alpha*$ (mas)\")\n",
    "ax.set_ylabel(\"$\\Delta\\\\delta$ (mas)\")\n",
    "\n",
    "ax.grid(True)\n",
    "\n",
    "plt.show()"
   ]
  },
  {
   "cell_type": "code",
   "execution_count": 39,
   "metadata": {},
   "outputs": [
    {
     "data": {
      "image/png": "[encoded data removed]",
      "text/plain": [
       "<Figure size 288x288 with 1 Axes>"
      ]
     },
     "metadata": {
      "needs_background": "light"
     },
     "output_type": "display_data"
    }
   ],
   "source": [
    "# Distribution of angular separation\n",
    "bins_array = np.linspace(0, 10, 100)\n",
    "\n",
    "fig, ax = plt.subplots(figsize=(4, 4))\n",
    "ax.hist(ang_sep, bins_array, facecolor=\"g\", alpha=0.75)\n",
    "\n",
    "ax.set_xlabel(\"$\\\\rho$ (mas)\")\n",
    "ax.set_ylabel(\"Count in bin\")\n",
    "\n",
    "plt.show()"
   ]
  },
  {
   "cell_type": "code",
   "execution_count": 40,
   "metadata": {},
   "outputs": [
    {
     "data": {
      "image/png": "[encoded data removed]",
      "text/plain": [
       "<Figure size 432x576 with 2 Axes>"
      ]
     },
     "metadata": {
      "needs_background": "light"
     },
     "output_type": "display_data"
    }
   ],
   "source": [
    "# Angular position difference vs. positional uncertainty\n",
    "fig, (ax0, ax1) = plt.subplots(figsize=(6, 8), nrows=2, sharex=True)\n",
    "\n",
    "ax0.plot(com_def[\"pos_err_icrf1\"],\n",
    "         com_def[\"ang_sep\"], \"rx\", ms=2, label=\"Defining\")\n",
    "ax1.plot(com_def[\"pos_err_gaiadr2\"],\n",
    "         com_def[\"ang_sep\"], \"rx\", ms=2, label=\"Defining\")\n",
    "\n",
    "ax0.plot(com_can[\"pos_err_icrf1\"],\n",
    "         com_can[\"ang_sep\"], \"b.\", ms=2, label=\"Candiate\")\n",
    "ax1.plot(com_can[\"pos_err_gaiadr2\"],\n",
    "         com_can[\"ang_sep\"], \"b.\", ms=2, label=\"Candiate\")\n",
    "\n",
    "ax0.plot(com_oth[\"pos_err_icrf1\"],\n",
    "         com_oth[\"ang_sep\"], \"gs\", ms=2, label=\"Others\")\n",
    "ax1.plot(com_oth[\"pos_err_gaiadr2\"],\n",
    "         com_oth[\"ang_sep\"], \"gs\", ms=2, label=\"Others\")\n",
    "\n",
    "ax0.set_xscale(\"log\")\n",
    "ax0.set_yscale(\"log\")\n",
    "ax1.set_xscale(\"log\")\n",
    "ax1.set_yscale(\"log\")\n",
    "\n",
    "ax0.set_xlabel(\"$\\sigma_{pos,max}$ (ICRF1 S/X, mas)\")\n",
    "ax0.set_ylabel(\"$\\\\rho$ (mas)\")\n",
    "ax1.set_xlabel(\"$\\sigma_{pos,max}$ (Gaia DR2, mas)\")\n",
    "ax1.set_ylabel(\"$\\\\rho$ (mas)\")\n",
    "\n",
    "\n",
    "ax0.legend()\n",
    "ax1.legend()\n",
    "\n",
    "fig.tight_layout()\n",
    "plt.show()"
   ]
  },
  {
   "cell_type": "code",
   "execution_count": 53,
   "metadata": {},
   "outputs": [
    {
     "data": {
      "image/png": "[encoded data removed]",
      "text/plain": [
       "<Figure size 432x432 with 2 Axes>"
      ]
     },
     "metadata": {
      "needs_background": "light"
     },
     "output_type": "display_data"
    }
   ],
   "source": [
    "# Positional uncertainty for common sources as a function of declination\n",
    "\n",
    "fig, (ax0, ax1) = plt.subplots(figsize=(6,6), nrows=2, sharey=True)\n",
    "\n",
    "ax0.plot(common_source[\"dec_icrf1\"], common_source[\"ra_err_icrf1\"], \"r.\", ms=3, label=\"ICRF1\")\n",
    "ax0.plot(common_source[\"dec_gaiadr2\"], common_source[\"ra_err_gaiadr2\"], \"b^\", ms=3, label=\"GaiaDR2\")\n",
    "\n",
    "ax0.set_yscale(\"log\")\n",
    "ax0.set_xlabel(\"$\\sigma_{\\\\alpha^*}$ (ICRF1, mas)\")\n",
    "ax0.set_ylabel(\"$\\\\rho$ (mas)\")\n",
    "ax1.set_xlabel(\"$\\sigma_{\\\\alpha^*}$ (Gaia DR2, mas)\")\n",
    "ax1.set_ylabel(\"$\\\\rho$ (mas)\")\n",
    "\n",
    "\n",
    "ax1.plot(common_source[\"dec_icrf1\"], common_source[\"dec_err_icrf1\"], \"r.\", ms=3, label=\"ICRF1\")\n",
    "ax1.plot(common_source[\"dec_gaiadr2\"], common_source[\"dec_err_gaiadr2\"], \"b^\", ms=3, label=\"GaiaDR2\")\n",
    "ax1.set_yscale(\"log\")\n"
   ]
  },
  {
   "cell_type": "code",
   "execution_count": null,
   "metadata": {},
   "outputs": [],
   "source": [
    "binsize = 10\n",
    "\n",
    "comsou_bin = np.trunc(np.arange(len(common_source)) / binsize)\n",
    "comsou_grouped = common_source.group_by(common_source.sort(\"dec\"))\n",
    "com_binned = comsou_grouped.groups.aggregate(np.median)"
   ]
  },
  {
   "cell_type": "markdown",
   "metadata": {},
   "source": [
    "Then I investigate the systematics through the 16-parameters transformation."
   ]
  },
  {
   "cell_type": "code",
   "execution_count": 42,
   "metadata": {},
   "outputs": [
    {
     "name": "stdout",
     "output_type": "stream",
     "text": [
      "Estimates (   326 sources)\n",
      "--------------------------------------------------------------------------------------------\n",
      "               Rotation [uas]                                   Glide [uas]               \n",
      "               x             y             z               x             y             z\n",
      "--------------------------------------------------------------------------------------------\n",
      "l_max=1  +925636 +/- 97663  +573103 +/- 97346  -407037 +/- 89733    -465171 +/- 98935  +901786 +/- 87631  +389009 +/- 99449\n",
      "l_max=2  +681984 +/- 82856  +480136 +/- 79364  -384701 +/- 74688    -263326 +/- 81192  +813243 +/- 70520  +663938 +/- 82284\n",
      "--------------------------------------------------------------------------------------------\n",
      "\n",
      "Quadrupolar term Estimate Error\n",
      "---------------- -------- -----\n",
      "            ER22   -47163 48524\n",
      "            EI22   252097 47107\n",
      "            ER21   -69921 94397\n",
      "            EI21  -557911 96476\n",
      "             E20  -820054 90780\n",
      "            MR22  -361508 50267\n",
      "            MI22    39819 51952\n",
      "            MR21   513601 90656\n",
      "            MI21  -556585 93946\n",
      "             M20   611932 83471\n",
      "Correlation coefficient between parameters in 'l_max=1' fit\n",
      "          R1    R2    R3    D1    D2\n",
      "    R2  +0.0\n",
      "    R3  -0.0  -0.1\n",
      "    D1  +0.1  +0.3  -0.2\n",
      "    D2  -0.4  -0.0  -0.1  -0.1\n",
      "    D3  +0.1  +0.1  -0.1  +0.0  +0.0\n",
      "Correlation coefficient between parameters in 'l_max=2' fit\n",
      "          R1    R2    R3    D1    D2    D3  E22R  E22I  E21R  E21I   E20  M22R  M22I  M21R  M21I\n",
      "    R2  +0.1\n",
      "    R3  -0.0  -0.1\n",
      "    D1  +0.1  +0.3  -0.2\n",
      "    D2  -0.4  -0.0  -0.1  -0.1\n",
      "    D3  +0.1  +0.1  -0.1  +0.1  +0.0\n",
      "  E22R  +0.0  +0.0  -0.1  -0.0  +0.1  -0.0\n",
      "  E22I  +0.1  -0.1  -0.0  -0.0  -0.1  +0.2  +0.0\n",
      "  E21R  +0.3  +0.1  -0.1  +0.1  -0.1  +0.0  -0.1  +0.1\n",
      "  E21I  +0.0  -0.2  -0.1  +0.1  +0.1  +0.0  +0.1  +0.1  +0.0\n",
      "   E20  -0.1  +0.1  -0.3  +0.1  -0.0  +0.0  +0.0  +0.1  +0.1  -0.1\n",
      "  M22R  -0.1  +0.1  +0.0  +0.2  +0.2  -0.1  +0.1  -0.2  +0.1  -0.0  -0.0\n",
      "  M22I  -0.0  -0.0  -0.2  +0.0  -0.0  +0.0  +0.3  +0.1  +0.1  +0.0  +0.1  +0.0\n",
      "  M21R  +0.1  +0.1  -0.1  +0.3  -0.1  +0.0  -0.1  -0.1  -0.0  -0.1  +0.1  -0.1  +0.1\n",
      "  M21I  +0.0  +0.1  +0.0  -0.0  -0.2  -0.1  -0.1  +0.0  +0.1  -0.2  -0.1  +0.0  +0.0  +0.0\n",
      "   M20  +0.0  -0.0  -0.0  -0.1  +0.0  -0.3  -0.0  -0.2  -0.0  +0.1  +0.0  +0.1  -0.0  -0.1  -0.0\n"
     ]
    }
   ],
   "source": [
    "# Try with all the sources\n",
    "# Transform columns into np.array\n",
    "dra = np.array(common_source[\"dra\"])\n",
    "ddec = np.array(common_source[\"ddec\"])\n",
    "dra_err = np.array(common_source[\"dra_err\"])\n",
    "ddec_err = np.array(common_source[\"ddec_err\"])\n",
    "ra_rad = np.array(common_source[\"ra_icrf1\"].to(u.radian))\n",
    "dec_rad = np.array(common_source[\"dec_icrf1\"].to(u.radian))\n",
    "dra_ddec_cov = np.array(common_source[\"dra_ddec_cov\"])\n",
    "\n",
    "# Transformation parameters\n",
    "# l_max = 1\n",
    "w1_all, sig1_all, corrcoef1_all = vsh_deg01_fitting(\n",
    "    dra, ddec, ra_rad, dec_rad, dra_err, ddec_err,\n",
    "    cov=dra_ddec_cov, elim_flag=\"None\")\n",
    "\n",
    "# l_max = 2\n",
    "w2_all, sig2_all, corrcoef2_all = vsh_deg02_fitting(\n",
    "    dra, ddec, ra_rad, dec_rad, dra_err, ddec_err,\n",
    "    cov=dra_ddec_cov, elim_flag=\"None\")\n",
    "\n",
    "# mas -> uas\n",
    "w1 = w1_all * 1.e3\n",
    "sig1 = sig1_all * 1.e3\n",
    "w2 = w2_all * 1.e3\n",
    "sig2 = sig2_all * 1.e3\n",
    "\n",
    "# Print results\n",
    "print(\"Estimates (%6d sources)\\n\"\n",
    "      \"----------------------------------------------\"\n",
    "      \"----------------------------------------------\\n\"\n",
    "      \"               Rotation [uas]                 \"\n",
    "      \"                  Glide [uas]               \\n\"\n",
    "      \"               x             y             z\"\n",
    "      \"               x             y             z\\n\"\n",
    "      \"----------------------------------------------\"\n",
    "      \"----------------------------------------------\\n\"\n",
    "      \"l_max=1  %+4.0f +/- %3.0f  %+4.0f +/- %3.0f  %+4.0f +/- %3.0f  \"\n",
    "      \"  %+4.0f +/- %3.0f  %+4.0f +/- %3.0f  %+4.0f +/- %3.0f\\n\"\n",
    "      \"l_max=2  %+4.0f +/- %3.0f  %+4.0f +/- %3.0f  %+4.0f +/- %3.0f  \"\n",
    "      \"  %+4.0f +/- %3.0f  %+4.0f +/- %3.0f  %+4.0f +/- %3.0f\\n\"\n",
    "      \"----------------------------------------------\"\n",
    "      \"----------------------------------------------\\n\" %\n",
    "      (dra.size, w1[3], sig1[3], w1[4], sig1[4], w1[5], sig1[5],\n",
    "       w1[0], sig1[0], w1[1], sig1[1], w1[2], sig1[2],\n",
    "       w2[3], sig2[3], w2[4], sig2[4], w2[5], sig2[5],\n",
    "       w2[0], sig2[0], w2[1], sig2[1], w2[2], sig2[2]))\n",
    "\n",
    "quad_names = Column([\"ER22\", \"EI22\", \"ER21\", \"EI21\", \"E20\",\n",
    "                     \"MR22\", \"MI22\", \"MR21\", \"MI21\", \"M20\"])\n",
    "t_quad = Table([quad_names, w2[6:], sig2[6:]], names=[\"Quadrupolar term\", \"Estimate\", \"Error\"])\n",
    "t_quad[\"Estimate\"].format = \"%5.0f\"\n",
    "t_quad[\"Error\"].format = \"%5.0f\"\n",
    "print(t_quad)\n",
    "\n",
    "print(\"Correlation coefficient between parameters in 'l_max=1' fit\")\n",
    "print_vsh1_corr(corrcoef1_all, deci_digit=1, included_one=False)\n",
    "\n",
    "print(\"Correlation coefficient between parameters in 'l_max=2' fit\")\n",
    "print_vsh2_corr(corrcoef2_all, deci_digit=1, included_one=False)"
   ]
  },
  {
   "cell_type": "code",
   "execution_count": 43,
   "metadata": {},
   "outputs": [],
   "source": [
    "# The last step is to save the 16 transformation parameters for further use.\n",
    "\n",
    "vsh2_names = Column([\"D1\", \"D2\", \"D3\",\n",
    "                     \"R1\", \"R2\", \"R3\",\n",
    "                     \"ER22\", \"EI22\", \"ER21\", \"EI21\", \"E20\",\n",
    "                     \"MR22\", \"MI22\", \"MR21\", \"MI21\", \"M20\"])\n",
    "t_vsh2 = Table([vsh2_names, w2, sig2], names=[\n",
    "               \"Names\", \"Estimate\", \"Error\"])\n",
    "t_vsh2[\"Estimate\"].format = \"%5.0f\"\n",
    "t_vsh2[\"Error\"].format = \"%5.0f\"\n",
    "t_vsh2[\"Estimate\"].unit = u.uas\n",
    "t_vsh2[\"Error\"].unit = u.uas\n",
    "t_vsh2.write(\"../logs/icrf1_gaiadr2_bgt_vsh02_all.log\",\n",
    "             format=\"ascii\", overwrite=True)"
   ]
  },
  {
   "cell_type": "markdown",
   "metadata": {},
   "source": [
    "For a `clean` sample, I re-estimate the parameters."
   ]
  },
  {
   "cell_type": "code",
   "execution_count": 44,
   "metadata": {},
   "outputs": [
    {
     "name": "stdout",
     "output_type": "stream",
     "text": [
      "There are 326 sources.\n",
      "When X >= 3.40, the number of the outlier is smaller than 1.\n",
      "After elimination, there are 298 sources in the clean sample.\n",
      "The outlier rate is 9%.\n"
     ]
    }
   ],
   "source": [
    "# Remove the outlier (consider the normalized separation)\n",
    "N = len(common_source)\n",
    "X0 = np.sqrt(np.log(N) * 2)\n",
    "# X0 = 3.41\n",
    "\n",
    "print(\"There are %d sources.\\n\"\n",
    "      \"When X >= %.2f, the number of the outlier is smaller than 1.\" % (N, X0))\n",
    "\n",
    "mask = ((common_source[\"nor_sep\"] <= X0)\n",
    "        & (common_source[\"ang_sep\"] < 10))\n",
    "\n",
    "# Table of a clean sample\n",
    "com_clean = common_source[mask]\n",
    "N1 = len(com_clean)\n",
    "print(\"After elimination, there are %d sources in the clean sample.\" % N1)\n",
    "print(\"The outlier rate is %.0f%%.\" % ((N-N1)/N*100))"
   ]
  },
  {
   "cell_type": "code",
   "execution_count": 45,
   "metadata": {},
   "outputs": [],
   "source": [
    "# Transform columns into np.array\n",
    "dra = np.array(com_clean[\"dra\"])\n",
    "ddec = np.array(com_clean[\"ddec\"])\n",
    "dra_err = np.array(com_clean[\"dra_err\"])\n",
    "ddec_err = np.array(com_clean[\"ddec_err\"])\n",
    "ra_rad = np.array(com_clean[\"ra_icrf1\"].to(u.radian))\n",
    "dec_rad = np.array(com_clean[\"dec_icrf1\"].to(u.radian))\n",
    "dra_ddec_cov = np.array(com_clean[\"dra_ddec_cov\"])"
   ]
  },
  {
   "cell_type": "code",
   "execution_count": 46,
   "metadata": {},
   "outputs": [
    {
     "name": "stdout",
     "output_type": "stream",
     "text": [
      "# apriori statistics (weighted)\n",
      "#         mean for RA:     -0.082 \n",
      "#         wrms for RA:      1.035 \n",
      "#          std for RA:      1.030 \n",
      "#        mean for Dec:      0.113 \n",
      "#        wrms for Dec:      0.905 \n",
      "#         std for Dec:      0.896 \n",
      "\n",
      "# apriori reduced Chi-square for:      0.771\n",
      "# posteriori statistics  of vsh01 fit (weighted)\n",
      "#         mean for RA:     -0.095 \n",
      "#          rms for RA:      1.021 \n",
      "#          std for RA:      1.014 \n",
      "#        mean for Dec:     -0.049 \n",
      "#         rms for Dec:      0.905 \n",
      "#         std for Dec:      0.902 \n",
      "\n",
      "# posteriori reduced Chi-square for:      0.671\n",
      "# goodness-of-fit is      1.000\n",
      "Estimates (   298 sources)\n",
      "--------------------------------------------------------------------------------------------\n",
      "               Rotation [uas]                                   Glide [uas]               \n",
      "               x             y             z               x             y             z\n",
      "--------------------------------------------------------------------------------------------\n",
      "l_max=1   +17 +/-  28   -25 +/-  27   +18 +/-  24     -24 +/-  27  +143 +/-  25  +193 +/-  27\n",
      "l_max=2   +34 +/-  30    -2 +/-  28   +15 +/-  26     -38 +/-  28  +143 +/-  27  +225 +/-  30\n",
      "--------------------------------------------------------------------------------------------\n",
      "\n",
      "Quadrupolar term Estimate Error\n",
      "---------------- -------- -----\n",
      "            ER22       -7    17\n",
      "            EI22       13    17\n",
      "            ER21      -58    33\n",
      "            EI21      -15    34\n",
      "             E20      -72    34\n",
      "            MR22       25    18\n",
      "            MI22      -13    18\n",
      "            MR21       17    32\n",
      "            MI21      -31    33\n",
      "             M20        5    31\n",
      "Correlation coefficient between parameters in 'l_max=1' fit\n",
      "          R1    R2    R3    D1    D2\n",
      "    R2  -0.0\n",
      "    R3  -0.1  -0.0\n",
      "    D1  +0.1  +0.4  -0.1\n",
      "    D2  -0.4  +0.1  -0.1  +0.0\n",
      "    D3  +0.1  +0.1  -0.1  -0.0  +0.0\n",
      "Correlation coefficient between parameters in 'l_max=2' fit\n",
      "          R1    R2    R3    D1    D2    D3  E22R  E22I  E21R  E21I   E20  M22R  M22I  M21R  M21I\n",
      "    R2  +0.0\n",
      "    R3  -0.1  +0.0\n",
      "    D1  +0.1  +0.3  -0.1\n",
      "    D2  -0.4  +0.1  -0.0  +0.0\n",
      "    D3  +0.1  +0.0  -0.2  -0.0  -0.0\n",
      "  E22R  +0.1  +0.0  -0.1  -0.0  +0.1  +0.0\n",
      "  E22I  +0.1  -0.0  +0.0  +0.1  -0.0  +0.2  +0.0\n",
      "  E21R  +0.3  +0.1  -0.1  +0.1  -0.1  +0.0  -0.1  +0.1\n",
      "  E21I  +0.1  -0.2  -0.1  +0.1  +0.0  +0.1  +0.1  -0.0  +0.0\n",
      "   E20  -0.0  -0.0  -0.4  -0.0  -0.1  +0.1  +0.0  +0.0  +0.1  -0.0\n",
      "  M22R  -0.0  -0.1  -0.1  +0.1  +0.1  -0.1  +0.1  -0.2  +0.1  +0.1  +0.1\n",
      "  M22I  -0.0  -0.0  -0.2  +0.0  -0.0  +0.0  +0.2  +0.1  +0.1  +0.0  +0.1  +0.0\n",
      "  M21R  +0.0  +0.2  +0.0  +0.3  -0.1  -0.0  -0.1  -0.0  -0.1  -0.1  +0.0  -0.1  +0.1\n",
      "  M21I  +0.1  -0.0  -0.0  -0.1  -0.3  -0.0  -0.1  -0.0  +0.1  -0.1  -0.1  +0.1  -0.0  -0.0\n",
      "   M20  -0.0  +0.1  +0.1  -0.0  +0.1  -0.3  -0.0  -0.1  -0.0  +0.1  -0.1  +0.0  -0.0  +0.0  -0.1\n"
     ]
    }
   ],
   "source": [
    "# Transformation parameters\n",
    "# l_max = 1\n",
    "w1_cln, sig1_cln, corrcoef1_cln = vsh_deg01_fitting(\n",
    "    dra, ddec, ra_rad, dec_rad, dra_err, ddec_err,\n",
    "    cov=dra_ddec_cov, elim_flag=\"None\")\n",
    "\n",
    "# l_max = 2\n",
    "w2_cln, sig2_cln, corrcoef2_cln = vsh_deg02_fitting(\n",
    "    dra, ddec, ra_rad, dec_rad, dra_err, ddec_err,\n",
    "    cov=dra_ddec_cov, elim_flag=\"None\", flog=sys.stdout)\n",
    "\n",
    "# mas -> uas\n",
    "w1 = w1_cln * 1.e3\n",
    "sig1 = sig1_cln * 1.e3\n",
    "w2 = w2_cln * 1.e3\n",
    "sig2 = sig2_cln * 1.e3\n",
    "\n",
    "# Print results\n",
    "print(\"Estimates (%6d sources)\\n\"\n",
    "      \"----------------------------------------------\"\n",
    "      \"----------------------------------------------\\n\"\n",
    "      \"               Rotation [uas]                 \"\n",
    "      \"                  Glide [uas]               \\n\"\n",
    "      \"               x             y             z\"\n",
    "      \"               x             y             z\\n\"\n",
    "      \"----------------------------------------------\"\n",
    "      \"----------------------------------------------\\n\"\n",
    "      \"l_max=1  %+4.0f +/- %3.0f  %+4.0f +/- %3.0f  %+4.0f +/- %3.0f  \"\n",
    "      \"  %+4.0f +/- %3.0f  %+4.0f +/- %3.0f  %+4.0f +/- %3.0f\\n\"\n",
    "      \"l_max=2  %+4.0f +/- %3.0f  %+4.0f +/- %3.0f  %+4.0f +/- %3.0f  \"\n",
    "      \"  %+4.0f +/- %3.0f  %+4.0f +/- %3.0f  %+4.0f +/- %3.0f\\n\"\n",
    "      \"----------------------------------------------\"\n",
    "      \"----------------------------------------------\\n\" %\n",
    "      (dra.size, w1[3], sig1[3], w1[4], sig1[4], w1[5], sig1[5],\n",
    "       w1[0], sig1[0], w1[1], sig1[1], w1[2], sig1[2],\n",
    "       w2[3], sig2[3], w2[4], sig2[4], w2[5], sig2[5],\n",
    "       w2[0], sig2[0], w2[1], sig2[1], w2[2], sig2[2]))\n",
    "\n",
    "quad_names = Column([\"ER22\", \"EI22\", \"ER21\", \"EI21\", \"E20\",\n",
    "                     \"MR22\", \"MI22\", \"MR21\", \"MI21\", \"M20\"])\n",
    "t_quad = Table([quad_names, w2[6:], sig2[6:]], names=[\"Quadrupolar term\", \"Estimate\", \"Error\"])\n",
    "t_quad[\"Estimate\"].format = \"%5.0f\"\n",
    "t_quad[\"Error\"].format = \"%5.0f\"\n",
    "print(t_quad)\n",
    "\n",
    "print(\"Correlation coefficient between parameters in 'l_max=1' fit\")\n",
    "print_vsh1_corr(corrcoef1_cln, deci_digit=1, included_one=False)\n",
    "\n",
    "print(\"Correlation coefficient between parameters in 'l_max=2' fit\")\n",
    "print_vsh2_corr(corrcoef2_cln, deci_digit=1, included_one=False)"
   ]
  },
  {
   "cell_type": "markdown",
   "metadata": {},
   "source": [
    "Save the results for future use."
   ]
  },
  {
   "cell_type": "code",
   "execution_count": 47,
   "metadata": {},
   "outputs": [],
   "source": [
    "# The last step is to save the 16 transformation parameters for further use.\n",
    "\n",
    "vsh2_names = Column([\"D1\", \"D2\", \"D3\",\n",
    "                     \"R1\", \"R2\", \"R3\",\n",
    "                     \"ER22\", \"EI22\", \"ER21\", \"EI21\", \"E20\",\n",
    "                     \"MR22\", \"MI22\", \"MR21\", \"MI21\", \"M20\"])\n",
    "t_vsh2 = Table([vsh2_names, w2, sig2], names=[\n",
    "               \"Names\", \"Estimate\", \"Error\"])\n",
    "t_vsh2[\"Estimate\"].format = \"%5.0f\"\n",
    "t_vsh2[\"Error\"].format = \"%5.0f\"\n",
    "t_vsh2[\"Estimate\"].unit = u.uas\n",
    "t_vsh2[\"Error\"].unit = u.uas\n",
    "t_vsh2.write(\"../logs/icrf1_gaiadr2_bgt_vsh02.log\",\n",
    "             format=\"ascii\", overwrite=True)"
   ]
  },
  {
   "cell_type": "markdown",
   "metadata": {},
   "source": [
    "Then I check the residuals of positional offsets."
   ]
  },
  {
   "cell_type": "code",
   "execution_count": 48,
   "metadata": {},
   "outputs": [],
   "source": [
    "# Remove the systematics\n",
    "RA = np.array(common_source[\"ra_icrf1\"].to(u.radian))\n",
    "DE = np.array(common_source[\"dec_icrf1\"].to(u.radian))\n",
    "\n",
    "dra_ns, ddec_ns = residual_calc02(dRA, dDC, RA, DE, w2_cln)\n",
    "# dra_ns, ddec_ns = residual_calc02(dRA, dDC, RA, DE, w2_all)\n",
    "\n",
    "# Now re-calculate the normalized difference\n",
    "ang_sep_ns, Xa_ns, Xd_ns, X_ns = nor_sep_calc(\n",
    "    dra_ns, dRA_err, ddec_ns, dDC_err, dRA_dDC_cov/dRA_err/dDC_err)"
   ]
  },
  {
   "cell_type": "code",
   "execution_count": 49,
   "metadata": {},
   "outputs": [
    {
     "data": {
      "image/png": "[encoded data removed]",
      "text/plain": [
       "<Figure size 576x288 with 2 Axes>"
      ]
     },
     "metadata": {
      "needs_background": "light"
     },
     "output_type": "display_data"
    }
   ],
   "source": [
    "# Difference in RA and decl.\n",
    "bins_array = np.linspace(-5, 5, 50)\n",
    "weights = np.ones_like(dra_ns) * 100. / dra_ns.size\n",
    "\n",
    "fig, (ax0, ax1) = plt.subplots(figsize=(8, 4), ncols=2)\n",
    "ax0.hist(dra_ns, bins_array, weights=weights, facecolor=\"g\", alpha=0.75)\n",
    "ax1.hist(ddec_ns, bins_array, weights=weights, facecolor=\"g\", alpha=0.75)\n",
    "\n",
    "ax0.set_yticks(np.arange(0, 23, 2))\n",
    "ax1.set_yticks(np.arange(0, 23, 2))\n",
    "\n",
    "ax0.set_ylim([0, 21])\n",
    "ax1.set_ylim([0, 21])\n",
    "\n",
    "ax0.set_xlabel(\"$\\Delta\\\\alpha*$ (mas)\")\n",
    "ax1.set_xlabel(\"$\\Delta\\\\delta$ (mas)\")\n",
    "\n",
    "ax0.set_ylabel(\"% in bin\")\n",
    "ax1.set_ylabel(\"% in bin\")\n",
    "\n",
    "fig.tight_layout()\n",
    "plt.show()"
   ]
  },
  {
   "cell_type": "code",
   "execution_count": 50,
   "metadata": {},
   "outputs": [
    {
     "data": {
      "image/png": "[encoded data removed]",
      "text/plain": [
       "<Figure size 576x288 with 2 Axes>"
      ]
     },
     "metadata": {
      "needs_background": "light"
     },
     "output_type": "display_data"
    }
   ],
   "source": [
    "# Normalized difference in RA and decl.\n",
    "from scipy import stats\n",
    "bins_array = np.linspace(-10, 10, 100)\n",
    "weights = np.ones_like(Xa_ns) * 100. / Xa_ns.size\n",
    "\n",
    "# Plot the \n",
    "fig, (ax0, ax1) = plt.subplots(figsize=(8, 4), ncols=2)\n",
    "ax0.hist(Xa_ns, bins_array, weights=weights, facecolor=\"g\", alpha=0.75)\n",
    "ax1.hist(Xd_ns, bins_array, weights=weights, facecolor=\"g\", alpha=0.75)\n",
    "\n",
    "ax0.set_xlabel(\"$X_{\\\\alpha*}$\")\n",
    "ax1.set_xlabel(\"$X_{\\\\delta}$\")\n",
    "\n",
    "ax0.set_ylabel(\"% in bin\")\n",
    "ax1.set_ylabel(\"% in bin\")\n",
    "\n",
    "# add a '(standard) Gaussian distribution' line\n",
    "Gaussian_dist = stats.norm.pdf(bins_array, 0, 1) * 10. / 50\n",
    "ax0.plot(bins_array, Gaussian_dist * 100, \"r--\", linewidth=1)\n",
    "ax1.plot(bins_array, Gaussian_dist * 100, \"r--\", linewidth=1)\n",
    "\n",
    "ax0.set_yticks(np.arange(0, 15, 2))\n",
    "ax1.set_yticks(np.arange(0, 15, 2))\n",
    "\n",
    "fig.tight_layout()\n",
    "plt.show()"
   ]
  },
  {
   "cell_type": "code",
   "execution_count": 51,
   "metadata": {},
   "outputs": [
    {
     "name": "stderr",
     "output_type": "stream",
     "text": [
      "The PostScript backend does not support transparency; partially transparent artists will be rendered opaque.\n",
      "The PostScript backend does not support transparency; partially transparent artists will be rendered opaque.\n",
      "The PostScript backend does not support transparency; partially transparent artists will be rendered opaque.\n",
      "The PostScript backend does not support transparency; partially transparent artists will be rendered opaque.\n",
      "The PostScript backend does not support transparency; partially transparent artists will be rendered opaque.\n",
      "The PostScript backend does not support transparency; partially transparent artists will be rendered opaque.\n",
      "The PostScript backend does not support transparency; partially transparent artists will be rendered opaque.\n",
      "The PostScript backend does not support transparency; partially transparent artists will be rendered opaque.\n",
      "The PostScript backend does not support transparency; partially transparent artists will be rendered opaque.\n",
      "The PostScript backend does not support transparency; partially transparent artists will be rendered opaque.\n",
      "The PostScript backend does not support transparency; partially transparent artists will be rendered opaque.\n",
      "The PostScript backend does not support transparency; partially transparent artists will be rendered opaque.\n",
      "The PostScript backend does not support transparency; partially transparent artists will be rendered opaque.\n",
      "The PostScript backend does not support transparency; partially transparent artists will be rendered opaque.\n",
      "The PostScript backend does not support transparency; partially transparent artists will be rendered opaque.\n",
      "The PostScript backend does not support transparency; partially transparent artists will be rendered opaque.\n",
      "The PostScript backend does not support transparency; partially transparent artists will be rendered opaque.\n",
      "The PostScript backend does not support transparency; partially transparent artists will be rendered opaque.\n",
      "The PostScript backend does not support transparency; partially transparent artists will be rendered opaque.\n",
      "The PostScript backend does not support transparency; partially transparent artists will be rendered opaque.\n",
      "The PostScript backend does not support transparency; partially transparent artists will be rendered opaque.\n",
      "The PostScript backend does not support transparency; partially transparent artists will be rendered opaque.\n",
      "The PostScript backend does not support transparency; partially transparent artists will be rendered opaque.\n",
      "The PostScript backend does not support transparency; partially transparent artists will be rendered opaque.\n",
      "The PostScript backend does not support transparency; partially transparent artists will be rendered opaque.\n",
      "The PostScript backend does not support transparency; partially transparent artists will be rendered opaque.\n",
      "The PostScript backend does not support transparency; partially transparent artists will be rendered opaque.\n",
      "The PostScript backend does not support transparency; partially transparent artists will be rendered opaque.\n",
      "The PostScript backend does not support transparency; partially transparent artists will be rendered opaque.\n",
      "The PostScript backend does not support transparency; partially transparent artists will be rendered opaque.\n",
      "The PostScript backend does not support transparency; partially transparent artists will be rendered opaque.\n",
      "The PostScript backend does not support transparency; partially transparent artists will be rendered opaque.\n",
      "The PostScript backend does not support transparency; partially transparent artists will be rendered opaque.\n",
      "The PostScript backend does not support transparency; partially transparent artists will be rendered opaque.\n",
      "The PostScript backend does not support transparency; partially transparent artists will be rendered opaque.\n",
      "The PostScript backend does not support transparency; partially transparent artists will be rendered opaque.\n",
      "The PostScript backend does not support transparency; partially transparent artists will be rendered opaque.\n",
      "The PostScript backend does not support transparency; partially transparent artists will be rendered opaque.\n",
      "The PostScript backend does not support transparency; partially transparent artists will be rendered opaque.\n",
      "The PostScript backend does not support transparency; partially transparent artists will be rendered opaque.\n",
      "The PostScript backend does not support transparency; partially transparent artists will be rendered opaque.\n",
      "The PostScript backend does not support transparency; partially transparent artists will be rendered opaque.\n",
      "The PostScript backend does not support transparency; partially transparent artists will be rendered opaque.\n",
      "The PostScript backend does not support transparency; partially transparent artists will be rendered opaque.\n",
      "The PostScript backend does not support transparency; partially transparent artists will be rendered opaque.\n",
      "The PostScript backend does not support transparency; partially transparent artists will be rendered opaque.\n",
      "The PostScript backend does not support transparency; partially transparent artists will be rendered opaque.\n",
      "The PostScript backend does not support transparency; partially transparent artists will be rendered opaque.\n",
      "The PostScript backend does not support transparency; partially transparent artists will be rendered opaque.\n"
     ]
    },
    {
     "data": {
      "image/png": "[encoded data removed]",
      "text/plain": [
       "<Figure size 432x216 with 1 Axes>"
      ]
     },
     "metadata": {
      "needs_background": "light"
     },
     "output_type": "display_data"
    }
   ],
   "source": [
    "# Distribution of normalized separation\n",
    "from scipy import stats\n",
    "\n",
    "bins_array = np.linspace(0, 10, 50)\n",
    "weights = np.ones_like(X_ns) * 100. / X_ns.size\n",
    "\n",
    "fig, ax = plt.subplots(figsize=(6, 3))\n",
    "ax.hist(X_ns, bins_array, weights=weights, facecolor=\"g\", alpha=0.75)\n",
    "\n",
    "# add a '(standard) Rqyleigh distribution' line\n",
    "rayleigh_dist = stats.rayleigh.pdf(bins_array) * 10. / 50  * 100\n",
    "ax.plot(bins_array, rayleigh_dist, \"r--\", linewidth=1)\n",
    "\n",
    "ax.text(6.5, 10.5, \"ICRF1\", fontsize=15)\n",
    "\n",
    "ax.set_xlim([0, 10])\n",
    "ax.set_xlabel(\"Normalized separation $X$\")\n",
    "ax.set_ylabel(\"% in bin\")\n",
    "ax.grid()\n",
    "\n",
    "plt.savefig(\"../plots/x_icrf1_gaiadr2_bgt.eps\")"
   ]
  },
  {
   "cell_type": "code",
   "execution_count": 52,
   "metadata": {},
   "outputs": [
    {
     "name": "stderr",
     "output_type": "stream",
     "text": [
      "The PostScript backend does not support transparency; partially transparent artists will be rendered opaque.\n",
      "The PostScript backend does not support transparency; partially transparent artists will be rendered opaque.\n"
     ]
    },
    {
     "data": {
      "image/png": "[encoded data removed]",
      "text/plain": [
       "<Figure size 432x288 with 1 Axes>"
      ]
     },
     "metadata": {
      "needs_background": "light"
     },
     "output_type": "display_data"
    }
   ],
   "source": [
    "# Angular separation vs. normalized separation\n",
    "fig, ax = plt.subplots()\n",
    "\n",
    "ax.plot(com_can[\"nor_sep\"], com_can[\"ang_sep\"],\n",
    "         \"b*\", ms=3, label=\"Candiate\")\n",
    "ax.plot(com_oth[\"nor_sep\"], com_oth[\"ang_sep\"],\n",
    "         \"g^\", ms=3, label=\"Other\")\n",
    "ax.plot(com_def[\"nor_sep\"], com_def[\"ang_sep\"],\n",
    "         \"rx\", ms=3, label=\"Defining\")\n",
    "\n",
    "ax.vlines(10, 0.01, 500, colors=\"k\", linestyles=\"dashed\", lw=0.1)\n",
    "ax.hlines(X0, 0.02, 150, colors=\"k\", linestyles=\"dashed\", lw=0.1)\n",
    "\n",
    "ax.set_xscale(\"log\")\n",
    "ax.set_yscale(\"log\")\n",
    "\n",
    "ax.set_ylabel(\"Normalized separation $X$\")\n",
    "ax.set_xlabel(\"Angular separation $\\\\rho$ (mas)\")\n",
    "\n",
    "ax.set_xlim([0.02, 150])\n",
    "ax.set_ylim([0.01, 500])\n",
    "ax.xaxis.set_ticks_position(\"both\")\n",
    "ax.yaxis.set_ticks_position(\"both\")\n",
    "\n",
    "ax.legend(loc=\"upper left\")\n",
    "fig.tight_layout()\n",
    "\n",
    "plt.savefig(\"../plots/separation_icrf1_gaiadr2_bgt.eps\")"
   ]
  }
 ],
 "metadata": {
  "hide_input": false,
  "kernel_info": {
   "name": "python3"
  },
  "kernelspec": {
   "display_name": "Python 3",
   "language": "python",
   "name": "python3"
  },
  "language_info": {
   "codemirror_mode": {
    "name": "ipython",
    "version": 3
   },
   "file_extension": ".py",
   "mimetype": "text/x-python",
   "name": "python",
   "nbconvert_exporter": "python",
   "pygments_lexer": "ipython3",
   "version": "3.7.4"
  },
  "latex_envs": {
   "LaTeX_envs_menu_present": true,
   "autoclose": false,
   "autocomplete": true,
   "bibliofile": "biblio.bib",
   "cite_by": "apalike",
   "current_citInitial": 1,
   "eqLabelWithNumbers": true,
   "eqNumInitial": 1,
   "hotkeys": {
    "equation": "Ctrl-E",
    "itemize": "Ctrl-I"
   },
   "labels_anchors": false,
   "latex_user_defs": false,
   "report_style_numbering": false,
   "user_envs_cfg": false
  },
  "nteract": {
   "version": "0.11.9"
  }
 },
 "nbformat": 4,
 "nbformat_minor": 2
}
