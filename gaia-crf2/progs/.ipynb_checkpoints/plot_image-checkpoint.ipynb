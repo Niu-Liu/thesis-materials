{
 "cells": [
  {
   "cell_type": "code",
   "execution_count": 1,
   "metadata": {},
   "outputs": [],
   "source": [
    "from astropy.coordinates import Angle\n",
    "from astropy.io import fits\n",
    "from astropy.table import Table, join, unique, Column\n",
    "import astropy.units as u\n",
    "import matplotlib.pyplot as plt\n",
    "import numpy as np\n",
    "from numpy import sin, cos\n",
    "from PIL import Image\n",
    "%matplotlib inline\n",
    "%config Inlinebackend.figure_format = \"svg\""
   ]
  },
  {
   "cell_type": "code",
   "execution_count": 2,
   "metadata": {},
   "outputs": [
    {
     "ename": "FileNotFoundError",
     "evalue": "[Errno 2] No such file or directory: '/Users/Neo/Astronomy/Data/VLBISolutions/vlbi2_server/GalacticAberration/GaiaDR2-timespan-solutions/gaiadr2-timespan-noGAb.cat'",
     "output_type": "error",
     "traceback": [
      "\u001b[0;31m---------------------------------------------------------------------------\u001b[0m",
      "\u001b[0;31mFileNotFoundError\u001b[0m                         Traceback (most recent call last)",
      "\u001b[0;32m<ipython-input-2-3dac05afb3f1>\u001b[0m in \u001b[0;36m<module>\u001b[0;34m\u001b[0m\n\u001b[1;32m      6\u001b[0m                        \u001b[0;34m\"ra_err\"\u001b[0m\u001b[0;34m,\u001b[0m \u001b[0;34m\"dec_err\"\u001b[0m\u001b[0;34m,\u001b[0m \u001b[0;34m\"ra_dec_corr\"\u001b[0m\u001b[0;34m,\u001b[0m\u001b[0;34m\u001b[0m\u001b[0m\n\u001b[1;32m      7\u001b[0m                        \u001b[0;34m\"epo_mean\"\u001b[0m\u001b[0;34m,\u001b[0m \u001b[0;34m\"epo_beg\"\u001b[0m\u001b[0;34m,\u001b[0m \u001b[0;34m\"epo_end\"\u001b[0m\u001b[0;34m,\u001b[0m\u001b[0;34m\u001b[0m\u001b[0m\n\u001b[0;32m----> 8\u001b[0;31m                        \"num_sess\", \"num_obs\", \"num_obsr\", \"flg\"])\n\u001b[0m\u001b[1;32m      9\u001b[0m \u001b[0mtv\u001b[0m\u001b[0;34m[\u001b[0m\u001b[0;34m\"ra\"\u001b[0m\u001b[0;34m]\u001b[0m\u001b[0;34m.\u001b[0m\u001b[0munit\u001b[0m \u001b[0;34m=\u001b[0m \u001b[0mu\u001b[0m\u001b[0;34m.\u001b[0m\u001b[0mdeg\u001b[0m\u001b[0;34m\u001b[0m\u001b[0m\n\u001b[1;32m     10\u001b[0m \u001b[0mtv\u001b[0m\u001b[0;34m[\u001b[0m\u001b[0;34m\"dec\"\u001b[0m\u001b[0;34m]\u001b[0m\u001b[0;34m.\u001b[0m\u001b[0munit\u001b[0m \u001b[0;34m=\u001b[0m \u001b[0mu\u001b[0m\u001b[0;34m.\u001b[0m\u001b[0mdeg\u001b[0m\u001b[0;34m\u001b[0m\u001b[0m\n",
      "\u001b[0;32m/usr/local/miniconda3/lib/python3.5/site-packages/astropy/table/table.py\u001b[0m in \u001b[0;36mread\u001b[0;34m(cls, *args, **kwargs)\u001b[0m\n\u001b[1;32m   2531\u001b[0m         \u001b[0mpassed\u001b[0m \u001b[0mthrough\u001b[0m \u001b[0mto\u001b[0m \u001b[0mthe\u001b[0m \u001b[0munderlying\u001b[0m \u001b[0mdata\u001b[0m \u001b[0mreader\u001b[0m \u001b[0;34m(\u001b[0m\u001b[0me\u001b[0m\u001b[0;34m.\u001b[0m\u001b[0mg\u001b[0m\u001b[0;34m.\u001b[0m\u001b[0;31m \u001b[0m\u001b[0;31m`\u001b[0m\u001b[0;34m~\u001b[0m\u001b[0mastropy\u001b[0m\u001b[0;34m.\u001b[0m\u001b[0mio\u001b[0m\u001b[0;34m.\u001b[0m\u001b[0mascii\u001b[0m\u001b[0;34m.\u001b[0m\u001b[0mread\u001b[0m\u001b[0;31m`\u001b[0m\u001b[0;34m)\u001b[0m\u001b[0;34m.\u001b[0m\u001b[0;34m\u001b[0m\u001b[0m\n\u001b[1;32m   2532\u001b[0m         \"\"\"\n\u001b[0;32m-> 2533\u001b[0;31m         \u001b[0mout\u001b[0m \u001b[0;34m=\u001b[0m \u001b[0mio_registry\u001b[0m\u001b[0;34m.\u001b[0m\u001b[0mread\u001b[0m\u001b[0;34m(\u001b[0m\u001b[0mcls\u001b[0m\u001b[0;34m,\u001b[0m \u001b[0;34m*\u001b[0m\u001b[0margs\u001b[0m\u001b[0;34m,\u001b[0m \u001b[0;34m**\u001b[0m\u001b[0mkwargs\u001b[0m\u001b[0;34m)\u001b[0m\u001b[0;34m\u001b[0m\u001b[0m\n\u001b[0m\u001b[1;32m   2534\u001b[0m         \u001b[0;31m# For some readers (e.g., ascii.ecsv), the returned `out` class is not\u001b[0m\u001b[0;34m\u001b[0m\u001b[0;34m\u001b[0m\u001b[0m\n\u001b[1;32m   2535\u001b[0m         \u001b[0;31m# guaranteed to be the same as the desired output `cls`.  If so,\u001b[0m\u001b[0;34m\u001b[0m\u001b[0;34m\u001b[0m\u001b[0m\n",
      "\u001b[0;32m/usr/local/miniconda3/lib/python3.5/site-packages/astropy/io/registry.py\u001b[0m in \u001b[0;36mread\u001b[0;34m(cls, format, *args, **kwargs)\u001b[0m\n\u001b[1;32m    515\u001b[0m \u001b[0;34m\u001b[0m\u001b[0m\n\u001b[1;32m    516\u001b[0m         \u001b[0mreader\u001b[0m \u001b[0;34m=\u001b[0m \u001b[0mget_reader\u001b[0m\u001b[0;34m(\u001b[0m\u001b[0mformat\u001b[0m\u001b[0;34m,\u001b[0m \u001b[0mcls\u001b[0m\u001b[0;34m)\u001b[0m\u001b[0;34m\u001b[0m\u001b[0m\n\u001b[0;32m--> 517\u001b[0;31m         \u001b[0mdata\u001b[0m \u001b[0;34m=\u001b[0m \u001b[0mreader\u001b[0m\u001b[0;34m(\u001b[0m\u001b[0;34m*\u001b[0m\u001b[0margs\u001b[0m\u001b[0;34m,\u001b[0m \u001b[0;34m**\u001b[0m\u001b[0mkwargs\u001b[0m\u001b[0;34m)\u001b[0m\u001b[0;34m\u001b[0m\u001b[0m\n\u001b[0m\u001b[1;32m    518\u001b[0m \u001b[0;34m\u001b[0m\u001b[0m\n\u001b[1;32m    519\u001b[0m         \u001b[0;32mif\u001b[0m \u001b[0;32mnot\u001b[0m \u001b[0misinstance\u001b[0m\u001b[0;34m(\u001b[0m\u001b[0mdata\u001b[0m\u001b[0;34m,\u001b[0m \u001b[0mcls\u001b[0m\u001b[0;34m)\u001b[0m\u001b[0;34m:\u001b[0m\u001b[0;34m\u001b[0m\u001b[0m\n",
      "\u001b[0;32m/usr/local/miniconda3/lib/python3.5/site-packages/astropy/io/ascii/connect.py\u001b[0m in \u001b[0;36mread_asciitable\u001b[0;34m(filename, **kwargs)\u001b[0m\n\u001b[1;32m     18\u001b[0m \u001b[0;32mdef\u001b[0m \u001b[0mread_asciitable\u001b[0m\u001b[0;34m(\u001b[0m\u001b[0mfilename\u001b[0m\u001b[0;34m,\u001b[0m \u001b[0;34m**\u001b[0m\u001b[0mkwargs\u001b[0m\u001b[0;34m)\u001b[0m\u001b[0;34m:\u001b[0m\u001b[0;34m\u001b[0m\u001b[0m\n\u001b[1;32m     19\u001b[0m     \u001b[0;32mfrom\u001b[0m \u001b[0;34m.\u001b[0m\u001b[0mui\u001b[0m \u001b[0;32mimport\u001b[0m \u001b[0mread\u001b[0m\u001b[0;34m\u001b[0m\u001b[0m\n\u001b[0;32m---> 20\u001b[0;31m     \u001b[0;32mreturn\u001b[0m \u001b[0mread\u001b[0m\u001b[0;34m(\u001b[0m\u001b[0mfilename\u001b[0m\u001b[0;34m,\u001b[0m \u001b[0;34m**\u001b[0m\u001b[0mkwargs\u001b[0m\u001b[0;34m)\u001b[0m\u001b[0;34m\u001b[0m\u001b[0m\n\u001b[0m\u001b[1;32m     21\u001b[0m \u001b[0;34m\u001b[0m\u001b[0m\n\u001b[1;32m     22\u001b[0m \u001b[0;34m\u001b[0m\u001b[0m\n",
      "\u001b[0;32m/usr/local/miniconda3/lib/python3.5/site-packages/astropy/io/ascii/ui.py\u001b[0m in \u001b[0;36mread\u001b[0;34m(table, guess, **kwargs)\u001b[0m\n\u001b[1;32m    349\u001b[0m         \u001b[0;31m# through below to the non-guess way so that any problems result in a\u001b[0m\u001b[0;34m\u001b[0m\u001b[0;34m\u001b[0m\u001b[0m\n\u001b[1;32m    350\u001b[0m         \u001b[0;31m# more useful traceback.\u001b[0m\u001b[0;34m\u001b[0m\u001b[0;34m\u001b[0m\u001b[0m\n\u001b[0;32m--> 351\u001b[0;31m         \u001b[0mdat\u001b[0m \u001b[0;34m=\u001b[0m \u001b[0m_guess\u001b[0m\u001b[0;34m(\u001b[0m\u001b[0mtable\u001b[0m\u001b[0;34m,\u001b[0m \u001b[0mnew_kwargs\u001b[0m\u001b[0;34m,\u001b[0m \u001b[0mformat\u001b[0m\u001b[0;34m,\u001b[0m \u001b[0mfast_reader\u001b[0m\u001b[0;34m)\u001b[0m\u001b[0;34m\u001b[0m\u001b[0m\n\u001b[0m\u001b[1;32m    352\u001b[0m         \u001b[0;32mif\u001b[0m \u001b[0mdat\u001b[0m \u001b[0;32mis\u001b[0m \u001b[0;32mNone\u001b[0m\u001b[0;34m:\u001b[0m\u001b[0;34m\u001b[0m\u001b[0m\n\u001b[1;32m    353\u001b[0m             \u001b[0mguess\u001b[0m \u001b[0;34m=\u001b[0m \u001b[0;32mFalse\u001b[0m\u001b[0;34m\u001b[0m\u001b[0m\n",
      "\u001b[0;32m/usr/local/miniconda3/lib/python3.5/site-packages/astropy/io/ascii/ui.py\u001b[0m in \u001b[0;36m_guess\u001b[0;34m(table, read_kwargs, format, fast_reader)\u001b[0m\n\u001b[1;32m    495\u001b[0m             \u001b[0mreader\u001b[0m \u001b[0;34m=\u001b[0m \u001b[0mget_reader\u001b[0m\u001b[0;34m(\u001b[0m\u001b[0;34m**\u001b[0m\u001b[0mguess_kwargs\u001b[0m\u001b[0;34m)\u001b[0m\u001b[0;34m\u001b[0m\u001b[0m\n\u001b[1;32m    496\u001b[0m             \u001b[0mreader\u001b[0m\u001b[0;34m.\u001b[0m\u001b[0mguessing\u001b[0m \u001b[0;34m=\u001b[0m \u001b[0;32mTrue\u001b[0m\u001b[0;34m\u001b[0m\u001b[0m\n\u001b[0;32m--> 497\u001b[0;31m             \u001b[0mdat\u001b[0m \u001b[0;34m=\u001b[0m \u001b[0mreader\u001b[0m\u001b[0;34m.\u001b[0m\u001b[0mread\u001b[0m\u001b[0;34m(\u001b[0m\u001b[0mtable\u001b[0m\u001b[0;34m)\u001b[0m\u001b[0;34m\u001b[0m\u001b[0m\n\u001b[0m\u001b[1;32m    498\u001b[0m             _read_trace.append({'kwargs': guess_kwargs,\n\u001b[1;32m    499\u001b[0m                                 \u001b[0;34m'Reader'\u001b[0m\u001b[0;34m:\u001b[0m \u001b[0mreader\u001b[0m\u001b[0;34m.\u001b[0m\u001b[0m__class__\u001b[0m\u001b[0;34m,\u001b[0m\u001b[0;34m\u001b[0m\u001b[0m\n",
      "\u001b[0;32m/usr/local/miniconda3/lib/python3.5/site-packages/astropy/io/ascii/core.py\u001b[0m in \u001b[0;36mread\u001b[0;34m(self, table)\u001b[0m\n\u001b[1;32m   1144\u001b[0m \u001b[0;34m\u001b[0m\u001b[0m\n\u001b[1;32m   1145\u001b[0m         \u001b[0;31m# Get a list of the lines (rows) in the table\u001b[0m\u001b[0;34m\u001b[0m\u001b[0;34m\u001b[0m\u001b[0m\n\u001b[0;32m-> 1146\u001b[0;31m         \u001b[0mself\u001b[0m\u001b[0;34m.\u001b[0m\u001b[0mlines\u001b[0m \u001b[0;34m=\u001b[0m \u001b[0mself\u001b[0m\u001b[0;34m.\u001b[0m\u001b[0minputter\u001b[0m\u001b[0;34m.\u001b[0m\u001b[0mget_lines\u001b[0m\u001b[0;34m(\u001b[0m\u001b[0mtable\u001b[0m\u001b[0;34m)\u001b[0m\u001b[0;34m\u001b[0m\u001b[0m\n\u001b[0m\u001b[1;32m   1147\u001b[0m \u001b[0;34m\u001b[0m\u001b[0m\n\u001b[1;32m   1148\u001b[0m         \u001b[0;31m# Set self.data.data_lines to a slice of lines contain the data rows\u001b[0m\u001b[0;34m\u001b[0m\u001b[0;34m\u001b[0m\u001b[0m\n",
      "\u001b[0;32m/usr/local/miniconda3/lib/python3.5/site-packages/astropy/io/ascii/core.py\u001b[0m in \u001b[0;36mget_lines\u001b[0;34m(self, table)\u001b[0m\n\u001b[1;32m    291\u001b[0m                     ('\\n' not in table + '' and '\\r' not in table + '')):\n\u001b[1;32m    292\u001b[0m                 with get_readable_fileobj(table,\n\u001b[0;32m--> 293\u001b[0;31m                                           encoding=self.encoding) as fileobj:\n\u001b[0m\u001b[1;32m    294\u001b[0m                     \u001b[0mtable\u001b[0m \u001b[0;34m=\u001b[0m \u001b[0mfileobj\u001b[0m\u001b[0;34m.\u001b[0m\u001b[0mread\u001b[0m\u001b[0;34m(\u001b[0m\u001b[0;34m)\u001b[0m\u001b[0;34m\u001b[0m\u001b[0m\n\u001b[1;32m    295\u001b[0m             \u001b[0mlines\u001b[0m \u001b[0;34m=\u001b[0m \u001b[0mtable\u001b[0m\u001b[0;34m.\u001b[0m\u001b[0msplitlines\u001b[0m\u001b[0;34m(\u001b[0m\u001b[0;34m)\u001b[0m\u001b[0;34m\u001b[0m\u001b[0m\n",
      "\u001b[0;32m/usr/local/miniconda3/lib/python3.5/contextlib.py\u001b[0m in \u001b[0;36m__enter__\u001b[0;34m(self)\u001b[0m\n\u001b[1;32m     57\u001b[0m     \u001b[0;32mdef\u001b[0m \u001b[0m__enter__\u001b[0m\u001b[0;34m(\u001b[0m\u001b[0mself\u001b[0m\u001b[0;34m)\u001b[0m\u001b[0;34m:\u001b[0m\u001b[0;34m\u001b[0m\u001b[0m\n\u001b[1;32m     58\u001b[0m         \u001b[0;32mtry\u001b[0m\u001b[0;34m:\u001b[0m\u001b[0;34m\u001b[0m\u001b[0m\n\u001b[0;32m---> 59\u001b[0;31m             \u001b[0;32mreturn\u001b[0m \u001b[0mnext\u001b[0m\u001b[0;34m(\u001b[0m\u001b[0mself\u001b[0m\u001b[0;34m.\u001b[0m\u001b[0mgen\u001b[0m\u001b[0;34m)\u001b[0m\u001b[0;34m\u001b[0m\u001b[0m\n\u001b[0m\u001b[1;32m     60\u001b[0m         \u001b[0;32mexcept\u001b[0m \u001b[0mStopIteration\u001b[0m\u001b[0;34m:\u001b[0m\u001b[0;34m\u001b[0m\u001b[0m\n\u001b[1;32m     61\u001b[0m             \u001b[0;32mraise\u001b[0m \u001b[0mRuntimeError\u001b[0m\u001b[0;34m(\u001b[0m\u001b[0;34m\"generator didn't yield\"\u001b[0m\u001b[0;34m)\u001b[0m \u001b[0;32mfrom\u001b[0m \u001b[0;32mNone\u001b[0m\u001b[0;34m\u001b[0m\u001b[0m\n",
      "\u001b[0;32m/usr/local/miniconda3/lib/python3.5/site-packages/astropy/utils/data.py\u001b[0m in \u001b[0;36mget_readable_fileobj\u001b[0;34m(name_or_obj, encoding, cache, show_progress, remote_timeout)\u001b[0m\n\u001b[1;32m    191\u001b[0m                 \u001b[0mname_or_obj\u001b[0m\u001b[0;34m,\u001b[0m \u001b[0mcache\u001b[0m\u001b[0;34m=\u001b[0m\u001b[0mcache\u001b[0m\u001b[0;34m,\u001b[0m \u001b[0mshow_progress\u001b[0m\u001b[0;34m=\u001b[0m\u001b[0mshow_progress\u001b[0m\u001b[0;34m,\u001b[0m\u001b[0;34m\u001b[0m\u001b[0m\n\u001b[1;32m    192\u001b[0m                 timeout=remote_timeout)\n\u001b[0;32m--> 193\u001b[0;31m         \u001b[0mfileobj\u001b[0m \u001b[0;34m=\u001b[0m \u001b[0mio\u001b[0m\u001b[0;34m.\u001b[0m\u001b[0mFileIO\u001b[0m\u001b[0;34m(\u001b[0m\u001b[0mname_or_obj\u001b[0m\u001b[0;34m,\u001b[0m \u001b[0;34m'r'\u001b[0m\u001b[0;34m)\u001b[0m\u001b[0;34m\u001b[0m\u001b[0m\n\u001b[0m\u001b[1;32m    194\u001b[0m         \u001b[0;32mif\u001b[0m \u001b[0mis_url\u001b[0m \u001b[0;32mand\u001b[0m \u001b[0;32mnot\u001b[0m \u001b[0mcache\u001b[0m\u001b[0;34m:\u001b[0m\u001b[0;34m\u001b[0m\u001b[0m\n\u001b[1;32m    195\u001b[0m             \u001b[0mdelete_fds\u001b[0m\u001b[0;34m.\u001b[0m\u001b[0mappend\u001b[0m\u001b[0;34m(\u001b[0m\u001b[0mfileobj\u001b[0m\u001b[0;34m)\u001b[0m\u001b[0;34m\u001b[0m\u001b[0m\n",
      "\u001b[0;31mFileNotFoundError\u001b[0m: [Errno 2] No such file or directory: '/Users/Neo/Astronomy/Data/VLBISolutions/vlbi2_server/GalacticAberration/GaiaDR2-timespan-solutions/gaiadr2-timespan-noGAb.cat'"
     ]
    }
   ],
   "source": [
    "# read source position from VLBI and Gaia catalogs.\n",
    "tv = Table.read(\"/Users/Neo/Astronomy/Data/vlbi_solutions/\"\n",
    "                \"vlbi2_server/GalacticAberration/GaiaDR2-timespan-solutions/\"\n",
    "                \"gaiadr2-timespan-noGAb.cat\", format=\"ascii\",\n",
    "                names=[\"ivs_name\", \"iers_name\", \"ra\", \"dec\",\n",
    "                       \"ra_err\", \"dec_err\", \"ra_dec_corr\",\n",
    "                       \"epo_mean\", \"epo_beg\", \"epo_end\",\n",
    "                       \"num_sess\", \"num_obs\", \"num_obsr\", \"flg\"])\n",
    "tv[\"ra\"].unit = u.deg\n",
    "tv[\"dec\"].unit = u.deg\n",
    "\n",
    "# Read Gaia DR2 IERS quasar\n",
    "tg = Table.read(\"/Users/Neo/Astronomy/Data/catalogs/Gaia_DR2/\"\n",
    "                \"gaiadr2_iers.fits\")\n",
    "\n",
    "t_com = join(tv, tg, keys=\"iers_name\")"
   ]
  },
  {
   "cell_type": "code",
   "execution_count": null,
   "metadata": {},
   "outputs": [],
   "source": [
    "def ellipse_rotation(M, m, pa):\n",
    "    \"\"\"Calculate the (x, y) position for an ellipse after rotation.\n",
    "    \n",
    "    Parameters\n",
    "    ----------\n",
    "    M : float\n",
    "        major axis\n",
    "    m : floar\n",
    "        minor axis\n",
    "    pa : float\n",
    "        positional angle, degree.\n",
    "        \n",
    "    Returns\n",
    "    -------\n",
    "    x1/y1 : ndarray of float\n",
    "    \"\"\"\n",
    "\n",
    "    t = np.linspace(0, 2 * np.pi, 360)\n",
    "    x = M * np.cos(t)\n",
    "    y = m * sin(t)\n",
    "\n",
    "    alpha = np.deg2rad(pa)\n",
    "\n",
    "    x1 = x * cos(alpha) - y * sin(alpha)\n",
    "    y1 = x * sin(alpha) + y * cos(alpha)\n",
    "\n",
    "    return x1, y1"
   ]
  },
  {
   "cell_type": "code",
   "execution_count": null,
   "metadata": {},
   "outputs": [],
   "source": [
    "# def add_position(sou_name, image_name, px0, rx0, py0, ry0, eema_v, eema_g):\n",
    "def add_position(sou_name, dra, ddec, px0, rx0, py0, ry0, eema_v, eema_g):\n",
    "    \"\"\"Add VLBI and Gaia positions to the VLBA image.\n",
    "    \n",
    "    Parameters\n",
    "    ----------\n",
    "    sou_name : string\n",
    "        source name\n",
    "#    image_name : string\n",
    "#        full path and image name\n",
    "    px0 : array, float\n",
    "        pixel coordinate in X-axis\n",
    "    rx0 : array, float\n",
    "        real coordinate in right ascension\n",
    "    py0 : array, float\n",
    "        pixel coordinate in Y-axis\n",
    "    ry0 : array, float\n",
    "        real coordinate in declination\n",
    "    eema_v/eema_g : array, float\n",
    "    M : float\n",
    "        major axis\n",
    "    m : floar\n",
    "        minor axis\n",
    "    pa : float\n",
    "        positional angle, degree.\n",
    "        \n",
    "    Returns\n",
    "    -------\n",
    "    x1/y1 : ndarray of float\n",
    "    \"\"\"\n",
    "    \n",
    "    px0, px1, px2 = px0  # pixel in X-axis\n",
    "    rx0, rx1, rx2 = rx0 # real scale in X-axis\n",
    "    py0, py1, py2 = py0  # pixel in X-axis\n",
    "    ry0, ry1, ry2 = ry0 # real scale in X-axis\n",
    "    # Read-out values.\n",
    "    print(\"Readout offset\", \n",
    "          (px0 + px2) / 2. - px1, \n",
    "          (py0 + py2) / 2. - py1)\n",
    "\n",
    "    # scale\n",
    "    x_scale = (px0 - px2) / (rx0 - rx2)\n",
    "    y_scale = (py0 - py2) / (ry0 - ry2)\n",
    "\n",
    "    print(\"The pixel scale in x-axis:\", x_scale)\n",
    "    print(\"The pixel scale in y-axis:\", y_scale)\n",
    "\n",
    "    # Determine the final scale and original pixel coordinate\n",
    "    scale = (x_scale + y_scale) / 2.\n",
    "    x0 = px1\n",
    "    y0 = py1\n",
    "    \n",
    "\n",
    "    # Plot the orignal map\n",
    "    image_name = \"../plots/VLBA-images/%s_X0.png\" % souname\n",
    "#     image_name = \"../plots/VLBA-images/%s_X0.jpg\" % souname\n",
    "    im = plt.imread(image_name)\n",
    "\n",
    "    fig, ax = plt.subplots(figsize=(5., 5.))\n",
    "    ax.imshow(im, cmap=\"gray\")\n",
    "    ax.axis(\"off\")\n",
    "    plt.subplots_adjust(left=0.01, right=0.99, top=0.99, bottom=0.01)\n",
    "\n",
    "    # Plot the VLBI and Gaia DR2 position\n",
    "    # VLBI\n",
    "    xv = (0 - rx1) * scale + px1\n",
    "    yv = (0 - ry1) * scale + py1\n",
    "    Mv, mv, pav = eema_v\n",
    "    Mv, mv = Mv * scale, mv * scale\n",
    "    x1v, y1v = ellipse_rotation(Mv, mv, -pav)\n",
    "    ax.plot(xv, yv, \"r.\", ms=2)\n",
    "    ax.plot(x1v + xv, y1v + yv, \"r\", lw=0.5,\n",
    "            label=\"VLBI\")\n",
    "\n",
    "\n",
    "    # Gaia DR2\n",
    "    xg = (dra - rx1) * scale + px1\n",
    "    yg = (ddec - ry1) * scale + py1\n",
    "    Mg, mg, pag = eema_g\n",
    "    Mg, mg= Mg * scale, mg * scale\n",
    "    x1g, y1g = ellipse_rotation(Mg, mg, -pag)\n",
    "    ax.plot(xg, yg, \"b.\", ms=2)\n",
    "    ax.plot(x1g + xg, y1g + yg, \"b\", lw=0.5,\n",
    "            label=\"${\\it Gaia}$ DR2\")\n",
    "    ax.legend(loc=\"upper right\", bbox_to_anchor=(0.35, 0.85), fontsize=5)\n",
    "#     ax.legend(loc=\"upper right\", bbox_to_anchor=(0.35, 0.82), fontsize=5)\n",
    "#     ax.legend(fontsize=5)\n",
    "\n",
    "    plt.savefig(\"../plots/VLBA-images/%s_X1.png\" % sou_name, dpi=480)\n",
    "    plt.savefig(\"../plots/VLBA-images/%s_X1.eps\" % sou_name, dpi=480)"
   ]
  },
  {
   "cell_type": "raw",
   "metadata": {},
   "source": [
    "For radio sources I first calculate the difference between Gaia DR2 and VBLI positions in sense of `GaiaDR2-VLBI'.\n",
    "Then I load the VLBA image and determine the pixel scale.\n",
    "Finally I plot the two ellipse in the VLBA image."
   ]
  },
  {
   "cell_type": "raw",
   "metadata": {},
   "source": [
    "Now I begin to deal with source 1213+350."
   ]
  },
  {
   "cell_type": "code",
   "execution_count": 13,
   "metadata": {
    "deletable": false,
    "editable": false,
    "run_control": {
     "frozen": true
    }
   },
   "outputs": [
    {
     "name": "stdout",
     "output_type": "stream",
     "text": [
      "Gaia DR2 positional offset wrt. VLBI for source 1213+350 is (-27.509, -16.233) mas\n",
      "Readout offset -83.35799999999995 -84.1835000000001\n",
      "The pixel scale in x-axis: -16.78173333333333\n",
      "The pixel scale in y-axis: -16.836766666666666\n"
     ]
    },
    {
     "data": {
      "image/png": "[encoded data removed]",
      "text/plain": [
       "<Figure size 360x360 with 1 Axes>"
      ]
     },
     "metadata": {
      "needs_background": "light"
     },
     "output_type": "display_data"
    }
   ],
   "source": [
    "souname = \"1213+350\"\n",
    "mask = (t_com[\"iers_name\"] == souname)\n",
    "dra = (t_com[mask][\"ra_2\"] - t_com[mask][\"ra_1\"])[0] * 3.e6\n",
    "ddec = (t_com[mask][\"dec_2\"] - t_com[mask][\"dec_1\"])[0] * 3.e6\n",
    "print(\"Gaia DR2 positional offset wrt. VLBI for source %s is (%.3f, %.3f) mas\" %\n",
    "      (souname, dra, ddec))\n",
    "\n",
    "add_position(souname, dra, ddec,\n",
    "             [218.158, 553.242, 721.61], [10, -10, -20],\n",
    "             [783.3, 614.932, 278.197], [-20, -10, 10],\n",
    "             np.array([0.873, 0.458, 120]),\n",
    "             np.array([0.653, 0.653, 179]))"
   ]
  },
  {
   "cell_type": "raw",
   "metadata": {},
   "source": [
    "Then it is the turn of the source 0134+329."
   ]
  },
  {
   "cell_type": "code",
   "execution_count": null,
   "metadata": {},
   "outputs": [],
   "source": [
    "souname = \"0134+329\"\n",
    "mask = (t_com[\"iers_name\"] == souname)\n",
    "dra = (t_com[mask][\"ra_2\"] - t_com[mask][\"ra_1\"])[0] * 3.e6\n",
    "ddec = (t_com[mask][\"dec_2\"] - t_com[mask][\"dec_1\"])[0] * 3.e6\n",
    "print(\"Gaia DR2 positional offset wrt. VLBI for source %s is (%.3f, %.3f) mas\" %\n",
    "      (souname, dra, ddec))\n",
    "\n",
    "add_position(souname, dra, ddec,\n",
    "             #              [218.318, 550.587, 886.428], [100, 0, -100],\n",
    "             #              [947.109, 613.054, 278.999], [-100, 0, 100],\n",
    "             [251.120, 552.308, 851.968], [50, 0, -50],\n",
    "             [311.579, 612.442, 911.762], [50, 0,-50],\n",
    "             np.array([18.123, 11.859, 120]),\n",
    "             np.array([0.065, 0.063, 169]))"
   ]
  },
  {
   "cell_type": "raw",
   "metadata": {},
   "source": [
    "I will try with the source 1156-094."
   ]
  },
  {
   "cell_type": "code",
   "execution_count": 15,
   "metadata": {
    "deletable": false,
    "editable": false,
    "run_control": {
     "frozen": true
    }
   },
   "outputs": [
    {
     "name": "stdout",
     "output_type": "stream",
     "text": [
      "Gaia DR2 positional offset wrt. VLBI for source 1156-094 is (-9.871, -1.855) mas\n",
      "Readout offset 0.004500000000007276 -1.9154999999999518\n",
      "The pixel scale in x-axis: -18.77715\n",
      "The pixel scale in y-axis: -18.585050000000003\n"
     ]
    },
    {
     "data": {
      "image/png": "[encoded data removed]",
      "text/plain": [
       "<Figure size 360x360 with 1 Axes>"
      ]
     },
     "metadata": {
      "needs_background": "light"
     },
     "output_type": "display_data"
    }
   ],
   "source": [
    "souname = \"1156-094\"\n",
    "image_name = \"../plots/VLBA-images/%s_X0.png\" % souname\n",
    "mask = (t_com[\"iers_name\"] == souname)\n",
    "dra = (t_com[mask][\"ra_2\"] - t_com[mask][\"ra_1\"])[0] * 3.e6\n",
    "ddec = (t_com[mask][\"dec_2\"] - t_com[mask][\"dec_1\"])[0] * 3.e6\n",
    "print(\"Gaia DR2 positional offset wrt. VLBI for source %s is (%.3f, %.3f) mas\" %\n",
    "      (souname, dra, ddec))\n",
    "\n",
    "add_position(souname, dra, ddec,\n",
    "             [363.885, 551.652, 739.428], [-10, -20, -30],\n",
    "             [940.192, 756.257, 568.491], [-30, -20, -10],\n",
    "             np.array([0.195, 0.179, 71]),\n",
    "             np.array([1.434, 1.234, 163]))"
   ]
  },
  {
   "cell_type": "code",
   "execution_count": 16,
   "metadata": {
    "deletable": false,
    "editable": false,
    "run_control": {
     "frozen": true
    }
   },
   "outputs": [
    {
     "name": "stdout",
     "output_type": "stream",
     "text": [
      "Gaia DR2 positional offset wrt. VLBI for source 0119+115 is (1.550, 4.950) mas\n",
      "Readout offset 0.8250000000000455 -0.0004999999999881766\n",
      "The pixel scale in x-axis: -72.00999999999999\n",
      "The pixel scale in y-axis: -71.9687\n"
     ]
    },
    {
     "data": {
      "image/png": "[encoded data removed]",
      "text/plain": [
       "<Figure size 360x360 with 1 Axes>"
      ]
     },
     "metadata": {
      "needs_background": "light"
     },
     "output_type": "display_data"
    }
   ],
   "source": [
    "souname = \"0119+115\"\n",
    "image_name = \"../plots/VLBA-images/%s_X0.png\" % souname\n",
    "mask = (t_com[\"iers_name\"] == souname)\n",
    "dra = (t_com[mask][\"ra_2\"] - t_com[mask][\"ra_1\"])[0] * 3.e6\n",
    "ddec = (t_com[mask][\"dec_2\"] - t_com[mask][\"dec_1\"])[0] * 3.e6\n",
    "print(\"Gaia DR2 positional offset wrt. VLBI for source %s is (%.3f, %.3f) mas\" %\n",
    "      (souname, dra, ddec))\n",
    "\n",
    "add_position(souname, dra, ddec,\n",
    "             [264.377, 551.592, 840.457], [4, 0, -4],\n",
    "             [973.125, 613.282, 253.438], [-5, 0, 5],\n",
    "             np.array([0.028, 0.028, 86]),\n",
    "             np.array([0.404, 0.283, 38]))"
   ]
  }
 ],
 "metadata": {
  "hide_input": false,
  "kernelspec": {
   "display_name": "Python 3",
   "language": "python",
   "name": "python3"
  },
  "language_info": {
   "codemirror_mode": {
    "name": "ipython",
    "version": 3
   },
   "file_extension": ".py",
   "mimetype": "text/x-python",
   "name": "python",
   "nbconvert_exporter": "python",
   "pygments_lexer": "ipython3",
   "version": "3.5.5"
  },
  "latex_envs": {
   "LaTeX_envs_menu_present": true,
   "autoclose": false,
   "autocomplete": true,
   "bibliofile": "biblio.bib",
   "cite_by": "apalike",
   "current_citInitial": 1,
   "eqLabelWithNumbers": true,
   "eqNumInitial": 1,
   "hotkeys": {
    "equation": "Ctrl-E",
    "itemize": "Ctrl-I"
   },
   "labels_anchors": false,
   "latex_user_defs": false,
   "report_style_numbering": false,
   "user_envs_cfg": false
  }
 },
 "nbformat": 4,
 "nbformat_minor": 2
}
