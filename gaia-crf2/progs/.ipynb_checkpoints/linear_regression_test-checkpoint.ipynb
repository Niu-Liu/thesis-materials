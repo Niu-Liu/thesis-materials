{
 "cells": [
  {
   "cell_type": "raw",
   "metadata": {},
   "source": [
    "In this notebook, I compare several library functions of the linear least square fitting in order to verify my own code."
   ]
  },
  {
   "cell_type": "code",
   "execution_count": 4,
   "metadata": {},
   "outputs": [],
   "source": [
    "import numpy as np\n",
    "from scipy import stats\n",
    "from scipy.optimize import curve_fit\n",
    "# My modules\n",
    "from linear_regression import linear_regression_fit\n",
    "from linear_fitting import fit"
   ]
  },
  {
   "cell_type": "code",
   "execution_count": 2,
   "metadata": {},
   "outputs": [],
   "source": [
    "def flinear(x, k, b):\n",
    "    '''Linear function'''\n",
    "\n",
    "    return k * x + b"
   ]
  },
  {
   "cell_type": "code",
   "execution_count": 8,
   "metadata": {},
   "outputs": [
    {
     "name": "stdout",
     "output_type": "stream",
     "text": [
      "Unweighted fitting:\n",
      "Using the numpy function (np.polyfit):\n",
      " [0.31004412 6.65525   ]\n",
      "Using the script I wrote: \n",
      "  Estimatation:  [0.31004412 6.65525   ] \n",
      "  Uncertainty:  [0.05423261 0.52440442]\n",
      "Using scipy function (stats.linregress):  0.31004411764705886\n",
      "Using curve_fit: \n",
      "  Parameter [0.31004412 6.65525   ] \n",
      "  Uncertainty:  [0.05423261 0.52440442] \n",
      "  Correlation:\n",
      " [[ 0.00294118 -0.025     ]\n",
      " [-0.025       0.275     ]]\n",
      "Using curve_fit: \n",
      "  Parameter 0.31004411764705875 6.655249999999999 \n",
      "  Uncertainty:  0.05834012321310283 0.5641221435155882 \n",
      "  Goodness-of-fit:  1.0\n"
     ]
    }
   ],
   "source": [
    "# Generate data sample\n",
    "x = np.arange(1, 17, 1)\n",
    "y = np.array([4.00, 6.40, 8.00, 8.80, 9.22, 9.50, 9.70, 9.86,\n",
    "              10.00, 10.20, 10.32, 10.42, 10.50, 10.55, 10.58, 10.60])\n",
    "err = np.random.normal(0, 1, 16)\n",
    "p0 = 1.0, 1.0\n",
    "\n",
    "print(\"Unweighted fitting:\")\n",
    "z1 = np.polyfit(x, y, 1)\n",
    "print(\"Using the numpy function (np.polyfit):\\n\", z1)\n",
    "\n",
    "par, errp, _, _ = linear_regression_fit(x, y)\n",
    "print(\"Using the script I wrote: \\n\"\n",
    "      \"  Estimatation: \", par, \"\\n\"\n",
    "      \"  Uncertainty: \", errp)\n",
    "\n",
    "m, c, r_value, p_value, std_err = stats.linregress(x, y)\n",
    "print(\"Using scipy function (stats.linregress): \", m)\n",
    "\n",
    "par, pcov = curve_fit(flinear, x, y, p0, absolute_sigma=True)\n",
    "# par, pcov = curve_fit(flinear, x, y, p0)\n",
    "errp = np.sqrt(np.diag(pcov))\n",
    "print(\"Using curve_fit: \\n\"\n",
    "      \"  Parameter\", par, \"\\n\"\n",
    "      \"  Uncertainty: \", errp, \"\\n\"\n",
    "      \"  Correlation:\\n\", pcov)\n",
    "\n",
    "a, b, siga, sigb, q = fit(x, y)\n",
    "print(\"Using curve_fit: \\n\"\n",
    "      \"  Parameter\", b, a, \"\\n\"\n",
    "      \"  Uncertainty: \", sigb, siga, \"\\n\"\n",
    "      \"  Goodness-of-fit: \", q)"
   ]
  },
  {
   "cell_type": "code",
   "execution_count": 10,
   "metadata": {},
   "outputs": [
    {
     "name": "stdout",
     "output_type": "stream",
     "text": [
      "Weighted fitting:\n",
      "Using the numpy function (np.polyfit):\n",
      " [0.14772124 8.63991156]\n",
      "Using the script I wrote: \n",
      "  Estimatation:  [0.14772124 8.63991156] \n",
      "  Uncertainty:  [0.0303173  0.35811806]\n",
      "Using curve_fit: \n",
      "  Parameter [0.14772124 8.63991155] \n",
      "  Uncertainty:  [0.0303173  0.35811806] \n",
      "  Correlation:\n",
      " [[ 0.00091914 -0.01080483]\n",
      " [-0.01080483  0.12824855]]\n",
      "Using curve_fit: \n",
      "  Parameter 0.14772124115694416 8.639911564765136 \n",
      "  Uncertainty:  0.030317303216505193 0.3581180606048628 \n",
      "  Goodness-of-fit:  0.9612260431196245\n"
     ]
    }
   ],
   "source": [
    "print('Weighted fitting:')\n",
    "\n",
    "z2 = np.polyfit(x, y, deg=1, w=1.0/err)\n",
    "print(\"Using the numpy function (np.polyfit):\\n\", z2)\n",
    "\n",
    "par, errp, _, _ = linear_regression_fit(x, y, err)\n",
    "print(\"Using the script I wrote: \\n\"\n",
    "      \"  Estimatation: \", par, \"\\n\"\n",
    "      \"  Uncertainty: \", errp)\n",
    "\n",
    "par, pcov = curve_fit(flinear, x, y, p0, sigma=err, absolute_sigma=True)\n",
    "# par, pcov = curve_fit(flinear, x, y, p0)\n",
    "errp = np.sqrt(np.diag(pcov))\n",
    "print(\"Using curve_fit: \\n\"\n",
    "      \"  Parameter\", par, \"\\n\"\n",
    "      \"  Uncertainty: \", errp, \"\\n\"\n",
    "      \"  Correlation:\\n\", pcov)\n",
    "\n",
    "a, b, siga, sigb, q = fit(x, y, err)\n",
    "print(\"Using curve_fit: \\n\"\n",
    "      \"  Parameter\", b, a, \"\\n\"\n",
    "      \"  Uncertainty: \", sigb, siga, \"\\n\"\n",
    "      \"  Goodness-of-fit: \", q)"
   ]
  }
 ],
 "metadata": {
  "kernelspec": {
   "display_name": "Python 3",
   "language": "python",
   "name": "python3"
  },
  "language_info": {
   "codemirror_mode": {
    "name": "ipython",
    "version": 3
   },
   "file_extension": ".py",
   "mimetype": "text/x-python",
   "name": "python",
   "nbconvert_exporter": "python",
   "pygments_lexer": "ipython3",
   "version": "3.5.5"
  }
 },
 "nbformat": 4,
 "nbformat_minor": 2
}
