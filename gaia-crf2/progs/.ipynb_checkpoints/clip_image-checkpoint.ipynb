{
 "cells": [
  {
   "cell_type": "code",
   "execution_count": 1,
   "metadata": {},
   "outputs": [],
   "source": [
    "def clip_image(sou_name):\n",
    "    \"\"\"\n",
    "    \"\"\"\n",
    "\n",
    "    from PIL import Image\n",
    "\n",
    "#     x, y, w, h = 380, 230, 1660, 1950\n",
    "#     output_name = \"../plots/VLBA-images/%s_X_0.png\" % sou_name\n",
    "    \n",
    "    x, y, w, h = 290, 225, 1950, 1950\n",
    "    output_name = \"../plots/VLBA-images/%s_X.png\" % sou_name\n",
    "\n",
    "    image_file = \"../plots/VLBA-images/%s_X1.png\" % sou_name\n",
    "    im = Image.open(image_file)\n",
    "    im = im.crop((x, y, x + w, y + h))\n",
    "    im.save(output_name)"
   ]
  },
  {
   "cell_type": "code",
   "execution_count": 2,
   "metadata": {
    "deletable": false,
    "editable": false,
    "run_control": {
     "frozen": true
    }
   },
   "outputs": [],
   "source": [
    "clip_image(\"1213+350\")"
   ]
  },
  {
   "cell_type": "code",
   "execution_count": 3,
   "metadata": {},
   "outputs": [],
   "source": [
    "clip_image(\"0134+329\")"
   ]
  },
  {
   "cell_type": "code",
   "execution_count": 4,
   "metadata": {
    "deletable": false,
    "editable": false,
    "run_control": {
     "frozen": true
    }
   },
   "outputs": [],
   "source": [
    "clip_image(\"1156-094\")"
   ]
  }
 ],
 "metadata": {
  "hide_input": false,
  "kernelspec": {
   "display_name": "Python 3",
   "language": "python",
   "name": "python3"
  },
  "language_info": {
   "codemirror_mode": {
    "name": "ipython",
    "version": 3
   },
   "file_extension": ".py",
   "mimetype": "text/x-python",
   "name": "python",
   "nbconvert_exporter": "python",
   "pygments_lexer": "ipython3",
   "version": "3.5.5"
  }
 },
 "nbformat": 4,
 "nbformat_minor": 2
}
