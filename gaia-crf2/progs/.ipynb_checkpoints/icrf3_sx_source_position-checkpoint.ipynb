{
 "cells": [
  {
   "cell_type": "code",
   "execution_count": 6,
   "metadata": {},
   "outputs": [],
   "source": [
    "from astropy.table import Table, join, Column\n",
    "from astropy import units as u\n",
    "import astropy.coordinates as coord\n",
    "from astropy.coordinates import SkyCoord\n",
    "import numpy as np\n",
    "\n",
    "import matplotlib.pyplot as plt\n",
    "%matplotlib inline\n",
    "%config InlineBackend.figure_format = \"svg\"\n",
    "# My modules\n",
    "from cross_match import pos_max_calc, postional_difference_calc"
   ]
  },
  {
   "cell_type": "raw",
   "metadata": {},
   "source": [
    "Read the ICRF3 S/X catalog."
   ]
  },
  {
   "cell_type": "code",
   "execution_count": 7,
   "metadata": {},
   "outputs": [],
   "source": [
    "# Read ICRF3 S/X catalog\n",
    "icrf3_sx = Table.read(\"../data/icrf3sx.txt\",\n",
    "                      format=\"ascii.fixed_width\", data_start=16,\n",
    "                      names=[\"icrf_name_sx\", \"iers_name_sx\", \"type_sx\",\n",
    "                             \"ra_err_sx\", \"dec_err_sx\", \"ra_dec_corr_sx\",\n",
    "                             \"mean_obs_sx\", \"beg_obs_sx\", \"end_obs_sx\", \"nb_sess_sx\", \"nb_del_sx\"],\n",
    "                      col_starts=[0, 25, 35, 83, 98,\n",
    "                                  108, 118, 127, 136, 145, 150],\n",
    "                      col_ends=[20, 32, 35, 92, 106, 114, 124, 133, 142, 148, 155])\n",
    "\n",
    "# Position information\n",
    "ra_dec = Table.read(\"../data/icrf3sx.txt\",\n",
    "                    format=\"ascii.fixed_width\", data_start=16,\n",
    "                    names=[\"ra_dec\"], col_starts=[40], col_ends=[77])\n",
    "\n",
    "ra_dec_sx = SkyCoord(ra_dec[\"ra_dec\"], unit=(u.hourangle, u.deg))\n",
    "ra_sx = Column(ra_dec_sx.ra, name=\"ra_sx\")\n",
    "dec_sx = Column(ra_dec_sx.dec, name=\"dec_sx\")\n",
    "\n",
    "# Add source position to the table\n",
    "icrf3_sx.add_columns([ra_sx, dec_sx], indexes=[3, 3])\n",
    "\n",
    "# Add unit information\n",
    "icrf3_sx[\"ra_err_sx\"] = icrf3_sx[\"ra_err_sx\"] * 15e3 * np.cos(ra_dec_sx.dec.rad)\n",
    "icrf3_sx[\"ra_err_sx\"].unit = u.mas\n",
    "icrf3_sx[\"dec_err_sx\"].unit = u.arcsec\n",
    "icrf3_sx[\"dec_err_sx\"] = icrf3_sx[\"dec_err_sx\"].to(u.mas)\n",
    "\n",
    "# Calculate the semi-major axis of error ellipse\n",
    "pos_err_sx = pos_max_calc(icrf3_sx[\"ra_err_sx\"], icrf3_sx[\"dec_err_sx\"], icrf3_sx[\"ra_dec_corr_sx\"])\n",
    "\n",
    "# Add the semi-major axis of error ellipse to the table\n",
    "icrf3_sx.add_column(pos_err_sx, name=\"pos_err_sx\", index=9)\n",
    "icrf3_sx[\"pos_err_sx\"].unit = u.mas"
   ]
  },
  {
   "cell_type": "raw",
   "metadata": {},
   "source": [
    "Have a glance of the catalog."
   ]
  },
  {
   "cell_type": "raw",
   "metadata": {},
   "source": [
    "Seperate the sources into the \"defining sources\" and \"other sources\"."
   ]
  },
  {
   "cell_type": "code",
   "execution_count": 8,
   "metadata": {},
   "outputs": [],
   "source": [
    "# Defining sources\n",
    "mask_def = (icrf3_sx[\"type_sx\"] == \"D\")\n",
    "icrf3_sx_def = icrf3_sx[mask_def]\n",
    "\n",
    "# Other sources\n",
    "mask_oth = (icrf3_sx[\"type_sx\"] != \"D\")\n",
    "icrf3_sx_oth = icrf3_sx[mask_oth]"
   ]
  },
  {
   "cell_type": "code",
   "execution_count": 9,
   "metadata": {},
   "outputs": [
    {
     "data": {
      "text/plain": [
       "array(['2357-326', '2357+028', '2358+406', ..., '2356-069', '2356+385',\n",
       "       '2357-318'], dtype='<U8')"
      ]
     },
     "execution_count": 9,
     "metadata": {},
     "output_type": "execute_result"
    }
   ],
   "source": [
    "np.array(icrf3_sx[\"iers_name_sx\"].filled())"
   ]
  },
  {
   "cell_type": "code",
   "execution_count": 10,
   "metadata": {},
   "outputs": [],
   "source": [
    "# Rewrite the source position into the format used by Calc/Solve\n",
    "from write_solvesrc import write_solvesrc, write_NNRS\n",
    "\n",
    "write_solvesrc(np.array(icrf3_sx[\"iers_name_sx\"].filled()), \n",
    "               np.array(icrf3_sx[\"ra_sx\"].filled()), \n",
    "               np.array(icrf3_sx[\"dec_sx\"].filled()), \n",
    "               np.array(icrf3_sx[\"dec_err_sx\"].filled()), \n",
    "               \"ICRF3 S/X\", \n",
    "              \"../data/icrf3_sx.src\")\n",
    "\n",
    "write_NNRS(np.array(icrf3_sx_def[\"iers_name_sx\"].filled()), \n",
    "          \"../data/icrf3_sx_def.list\")"
   ]
  }
 ],
 "metadata": {
  "hide_input": false,
  "kernelspec": {
   "display_name": "Python 3",
   "language": "python",
   "name": "python3"
  },
  "language_info": {
   "codemirror_mode": {
    "name": "ipython",
    "version": 3
   },
   "file_extension": ".py",
   "mimetype": "text/x-python",
   "name": "python",
   "nbconvert_exporter": "python",
   "pygments_lexer": "ipython3",
   "version": "3.5.5"
  },
  "latex_envs": {
   "LaTeX_envs_menu_present": true,
   "autoclose": false,
   "autocomplete": true,
   "bibliofile": "biblio.bib",
   "cite_by": "apalike",
   "current_citInitial": 1,
   "eqLabelWithNumbers": true,
   "eqNumInitial": 1,
   "hotkeys": {
    "equation": "Ctrl-E",
    "itemize": "Ctrl-I"
   },
   "labels_anchors": false,
   "latex_user_defs": false,
   "report_style_numbering": false,
   "user_envs_cfg": false
  }
 },
 "nbformat": 4,
 "nbformat_minor": 2
}
