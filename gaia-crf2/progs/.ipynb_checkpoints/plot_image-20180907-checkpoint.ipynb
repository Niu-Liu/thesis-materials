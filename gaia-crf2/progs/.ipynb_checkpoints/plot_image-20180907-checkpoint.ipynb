{
 "cells": [
  {
   "cell_type": "code",
   "execution_count": 1,
   "metadata": {},
   "outputs": [],
   "source": [
    "from astropy.coordinates import Angle\n",
    "from astropy.io import fits\n",
    "from astropy.table import Table, join, unique, Column\n",
    "import astropy.units as u\n",
    "import matplotlib.pyplot as plt\n",
    "import numpy as np\n",
    "from numpy import sin, cos\n",
    "from PIL import Image\n",
    "%matplotlib inline\n",
    "%config Inlinebackend.figure_format = \"svg\""
   ]
  },
  {
   "cell_type": "code",
   "execution_count": 2,
   "metadata": {},
   "outputs": [],
   "source": [
    "# read source position from VLBI and Gaia catalogs.\n",
    "tv = Table.read(\"/Users/Neo/Astronomy/Data/VLBISolutions/\"\n",
    "                \"vlbi2_server/GalacticAberration/GaiaDR2-timespan-solutions/\"\n",
    "                \"gaiadr2-timespan-noGAb.cat\", format=\"ascii\",\n",
    "                names=[\"ivs_name\", \"iers_name\", \"ra\", \"dec\",\n",
    "                       \"ra_err\", \"dec_err\", \"ra_dec_corr\",\n",
    "                       \"epo_mean\", \"epo_beg\", \"epo_end\",\n",
    "                       \"num_sess\", \"num_obs\", \"num_obsr\", \"flg\"])\n",
    "tv[\"ra\"].unit = u.deg\n",
    "tv[\"dec\"].unit = u.deg\n",
    "\n",
    "# Read Gaia DR2 IERS quasar\n",
    "tg = Table.read(\"/Users/Neo/Astronomy/Data/catalogs/Gaia_DR2/\"\n",
    "                \"gaiadr2_iers.fits\")\n",
    "\n",
    "t_com = join(tv, tg, keys=\"iers_name\")"
   ]
  },
  {
   "cell_type": "code",
   "execution_count": 3,
   "metadata": {},
   "outputs": [],
   "source": [
    "def ellipse_rotation(M, m, pa):\n",
    "    \"\"\"Calculate the (x, y) position for an ellipse after rotation.\n",
    "    \n",
    "    Parameters\n",
    "    ----------\n",
    "    M : float\n",
    "        major axis\n",
    "    m : floar\n",
    "        minor axis\n",
    "    pa : float\n",
    "        positional angle, degree.\n",
    "        \n",
    "    Returns\n",
    "    -------\n",
    "    x1/y1 : ndarray of float\n",
    "    \"\"\"\n",
    "\n",
    "    t = np.linspace(0, 2 * np.pi, 360)\n",
    "    x = M * np.cos(t)\n",
    "    y = m * sin(t)\n",
    "\n",
    "    alpha = np.deg2rad(pa)\n",
    "\n",
    "    x1 = x * cos(alpha) - y * sin(alpha)\n",
    "    y1 = x * sin(alpha) + y * cos(alpha)\n",
    "\n",
    "    return x1, y1"
   ]
  },
  {
   "cell_type": "code",
   "execution_count": 4,
   "metadata": {},
   "outputs": [],
   "source": [
    "# def add_position(sou_name, image_name, px0, rx0, py0, ry0, eema_v, eema_g):\n",
    "def add_position(sou_name, px0, rx0, py0, ry0, eema_v, eema_g):\n",
    "    \"\"\"Add VLBI and Gaia positions to the VLBA image.\n",
    "    \n",
    "    Parameters\n",
    "    ----------\n",
    "    sou_name : string\n",
    "        source name\n",
    "#    image_name : string\n",
    "#        full path and image name\n",
    "    px0 : array, float\n",
    "        pixel coordinate in X-axis\n",
    "    rx0 : array, float\n",
    "        real coordinate in right ascension\n",
    "    py0 : array, float\n",
    "        pixel coordinate in Y-axis\n",
    "    ry0 : array, float\n",
    "        real coordinate in declination\n",
    "    eema_v/eema_g : array, float\n",
    "    M : float\n",
    "        major axis\n",
    "    m : floar\n",
    "        minor axis\n",
    "    pa : float\n",
    "        positional angle, degree.\n",
    "        \n",
    "    Returns\n",
    "    -------\n",
    "    x1/y1 : ndarray of float\n",
    "    \"\"\"\n",
    "    \n",
    "    px0, px1, px2 = px0  # pixel in X-axis\n",
    "    rx0, rx1, rx2 = rx0 # real scale in X-axis\n",
    "    py0, py1, py2 = py0  # pixel in X-axis\n",
    "    ry0, ry1, ry2 = ry0 # real scale in X-axis\n",
    "    # Read-out values.\n",
    "    print(\"Readout offset\", \n",
    "          (px0 + px2) / 2. - px1, \n",
    "          (py0 + py2) / 2. - py1)\n",
    "\n",
    "    # scale\n",
    "    x_scale = (px0 - px2) / (rx0 - rx2)\n",
    "    y_scale = (py0 - py2) / (ry0 - ry2)\n",
    "\n",
    "    print(\"The pixel scale in x-axis:\", x_scale)\n",
    "    print(\"The pixel scale in y-axis:\", y_scale)\n",
    "\n",
    "    # Determine the final scale and original pixel coordinate\n",
    "    scale = (x_scale + y_scale) / 2.\n",
    "    x0 = px1\n",
    "    y0 = py1\n",
    "    \n",
    "\n",
    "    # Plot the orignal map\n",
    "    image_name = \"../plots/VLBA-images-20180907/%s_X0.png\" % souname\n",
    "#     image_name = \"../plots/VLBA-images/%s_X0.jpg\" % souname\n",
    "    im = plt.imread(image_name)\n",
    "\n",
    "    fig, ax = plt.subplots(figsize=(5., 5.))\n",
    "    ax.imshow(im, cmap=\"gray\")\n",
    "    ax.axis(\"off\")\n",
    "    plt.subplots_adjust(left=0.01, right=0.99, top=0.99, bottom=0.01)\n",
    "\n",
    "    # Plot the VLBI and Gaia DR2 position\n",
    "    # VLBI\n",
    "    xv = (0 - rx1) * scale + px1\n",
    "    yv = (0 - ry1) * scale + py1\n",
    "#     Mv, mv = eema_v * scale\n",
    "#     x1v, y1v = ellipse_rotation(Mv, mv, -120)\n",
    "    Mv, mv, pav = eema_v\n",
    "    Mv, mv = Mv * scale, mv * scale\n",
    "    x1v, y1v = ellipse_rotation(Mv, mv, -pav)\n",
    "    ax.plot(xv, yv, \"r.\", ms=2)\n",
    "    ax.plot(x1v + xv, y1v + yv, \"r\", lw=0.5,\n",
    "            label=\"VLBI\")\n",
    "\n",
    "\n",
    "    # Gaia DR2\n",
    "    xg = (dra - rx1) * scale + px1\n",
    "    yg = (ddec - ry1) * scale + py1\n",
    "#     Mg, mg = eema_g * scale\n",
    "#     x1g, y1g = ellipse_rotation(Mg, mg, -179)\n",
    "    Mg, mg, pag = eema_g\n",
    "    Mg, mg= Mg * scale, mg * scale\n",
    "    x1g, y1g = ellipse_rotation(Mg, mg, -pag)\n",
    "    ax.plot(xg, yg, \"b.\", ms=2)\n",
    "    ax.plot(x1g + xg, y1g + yg, \"b\", lw=0.5,\n",
    "            label=\"${\\it Gaia}$ DR2\")\n",
    "    ax.legend(loc=\"upper right\", bbox_to_anchor=(0.35, 0.85), fontsize=5)\n",
    "#     ax.legend(fontsize=5)\n",
    "\n",
    "    plt.savefig(\"../plots/VLBA-images-20180907/%s_X1.png\" % sou_name, dpi=480)\n",
    "    plt.savefig(\"../plots/VLBA-images-20180907/%s_X1.eps\" % sou_name, dpi=480)"
   ]
  },
  {
   "cell_type": "raw",
   "metadata": {},
   "source": [
    "For radio sources I first calculate the difference between Gaia DR2 and VBLI positions in sense of `GaiaDR2-VLBI'.\n",
    "Then I load the VLBA image and determine the pixel scale.\n",
    "Finally I plot the two ellipse in the VLBA image."
   ]
  },
  {
   "cell_type": "raw",
   "metadata": {},
   "source": [
    "Now I begin to deal with source 1213+350."
   ]
  },
  {
   "cell_type": "code",
   "execution_count": 5,
   "metadata": {},
   "outputs": [
    {
     "name": "stdout",
     "output_type": "stream",
     "text": [
      "Gaia DR2 positional offset wrt. VLBI for source 1213+350 is (-27.509, -16.233) mas\n"
     ]
    }
   ],
   "source": [
    "souname = \"1213+350\"\n",
    "mask = (t_com[\"iers_name\"] == souname)\n",
    "dra = (t_com[mask][\"ra_2\"] - t_com[mask][\"ra_1\"])[0] * 3.e6\n",
    "ddec = (t_com[mask][\"dec_2\"] - t_com[mask][\"dec_1\"])[0] * 3.e6\n",
    "print(\"Gaia DR2 positional offset wrt. VLBI for source %s is (%.3f, %.3f) mas\" %\n",
    "      (souname, dra, ddec))"
   ]
  },
  {
   "cell_type": "raw",
   "metadata": {},
   "source": [
    "Read the corresponding pixel coordinates of x-axis and y-axis\n",
    "The coordinate of ra=(10, 0, -10) mas on the horizonal line of the image for radio source 1213+350 are:\n",
    "    ra(mas)                      x-pixel\n",
    " (10, 0, -10)         (257.45, 356.73, 455.064)\n",
    "The coordinate of dec=(20, 0, -20) mas on the vetical line of the image for radio source 1213+350 are:\n",
    "    dec(mas)                     y-pixel\n",
    " (10, 0, -10)         (108.159, 207.439, 306.719)\n",
    "NOTE: the positive direction of the coordinate is left-up."
   ]
  },
  {
   "cell_type": "code",
   "execution_count": 6,
   "metadata": {},
   "outputs": [
    {
     "name": "stdout",
     "output_type": "stream",
     "text": [
      "Readout offset 0.8774999999999977 -5.684341886080802e-14\n",
      "The pixel scale in x-axis: -13.952249999999998\n",
      "The pixel scale in y-axis: -13.920300000000001\n"
     ]
    },
    {
     "data": {
      "image/png": "[encoded data removed]",
      "text/plain": [
       "<Figure size 360x360 with 1 Axes>"
      ]
     },
     "metadata": {
      "needs_background": "light"
     },
     "output_type": "display_data"
    }
   ],
   "source": [
    "add_position(souname,\n",
    "             [181.586, 320.231, 460.631], [10, 0, -10],\n",
    "             [231.76, 370.963, 510.166], [10, 0, -10],\n",
    "             np.array([0.873, 0.458, 120]),\n",
    "             np.array([0.653, 0.653, 179]))"
   ]
  },
  {
   "cell_type": "raw",
   "metadata": {},
   "source": [
    "Then is the source 0119+115."
   ]
  },
  {
   "cell_type": "code",
   "execution_count": 7,
   "metadata": {},
   "outputs": [
    {
     "name": "stdout",
     "output_type": "stream",
     "text": [
      "Gaia DR2 positional offset wrt. VLBI for source 0119+115 is (1.550, 4.950) mas\n"
     ]
    }
   ],
   "source": [
    "souname = \"0119+115\"\n",
    "mask = (t_com[\"iers_name\"] == souname)\n",
    "dra = (t_com[mask][\"ra_2\"] - t_com[mask][\"ra_1\"])[0] * 3.e6\n",
    "ddec = (t_com[mask][\"dec_2\"] - t_com[mask][\"dec_1\"])[0] * 3.e6\n",
    "print(\"Gaia DR2 positional offset wrt. VLBI for source %s is (%.3f, %.3f) mas\" %\n",
    "      (souname, dra, ddec))"
   ]
  },
  {
   "cell_type": "raw",
   "metadata": {},
   "source": [
    "Read the corresponding pixel coordinates of x-axis and y-axis\n",
    "The coordinate of ra=(10, 0, -10) mas on the horizonal line of the image for radio source 0119+115 are:\n",
    "    ra(mas)                      x-pixel\n",
    " (10, 0, -10)         (252.563, 454.241, 655.918)\n",
    "The coordinate of dec=(10, 0, -10) mas on the vetical line of the image for radio source 0119+115 are:\n",
    "    dec(mas)                     y-pixel\n",
    " (10, 0, -10)         (95.2036, 296.881, 498.559)\n",
    "NOTE: the positive direction of the coordinate is left-up."
   ]
  },
  {
   "cell_type": "code",
   "execution_count": 8,
   "metadata": {},
   "outputs": [
    {
     "name": "stdout",
     "output_type": "stream",
     "text": [
      "Readout offset -0.0004999999999881766 -3.480000000000018\n",
      "The pixel scale in x-axis: -58.29125\n",
      "The pixel scale in y-axis: -58.29133333333334\n"
     ]
    },
    {
     "ename": "FileNotFoundError",
     "evalue": "[Errno 2] No such file or directory: '../plots/VLBA-images/0119+115_X0.png'",
     "output_type": "error",
     "traceback": [
      "\u001b[0;31m---------------------------------------------------------------------------\u001b[0m",
      "\u001b[0;31mFileNotFoundError\u001b[0m                         Traceback (most recent call last)",
      "\u001b[0;32m<ipython-input-8-e95ab0dae521>\u001b[0m in \u001b[0;36m<module>\u001b[0;34m()\u001b[0m\n\u001b[1;32m      3\u001b[0m              \u001b[0;34m[\u001b[0m\u001b[0;36m148.238\u001b[0m\u001b[0;34m,\u001b[0m \u001b[0;36m501.466\u001b[0m\u001b[0;34m,\u001b[0m \u001b[0;36m847.734\u001b[0m\u001b[0;34m]\u001b[0m\u001b[0;34m,\u001b[0m \u001b[0;34m[\u001b[0m\u001b[0;36m6\u001b[0m\u001b[0;34m,\u001b[0m \u001b[0;36m0\u001b[0m\u001b[0;34m,\u001b[0m \u001b[0;34m-\u001b[0m\u001b[0;36m6\u001b[0m\u001b[0;34m]\u001b[0m\u001b[0;34m,\u001b[0m\u001b[0;34m\u001b[0m\u001b[0m\n\u001b[1;32m      4\u001b[0m              \u001b[0mnp\u001b[0m\u001b[0;34m.\u001b[0m\u001b[0marray\u001b[0m\u001b[0;34m(\u001b[0m\u001b[0;34m[\u001b[0m\u001b[0;36m0.028\u001b[0m\u001b[0;34m,\u001b[0m \u001b[0;36m0.028\u001b[0m\u001b[0;34m,\u001b[0m \u001b[0;36m86\u001b[0m\u001b[0;34m]\u001b[0m\u001b[0;34m)\u001b[0m\u001b[0;34m,\u001b[0m\u001b[0;34m\u001b[0m\u001b[0m\n\u001b[0;32m----> 5\u001b[0;31m              np.array([0.404, 0.283, 38]))\n\u001b[0m",
      "\u001b[0;32m<ipython-input-4-0bfd8d0aff5f>\u001b[0m in \u001b[0;36madd_position\u001b[0;34m(sou_name, px0, rx0, py0, ry0, eema_v, eema_g)\u001b[0m\n\u001b[1;32m     55\u001b[0m     \u001b[0mimage_name\u001b[0m \u001b[0;34m=\u001b[0m \u001b[0;34m\"../plots/VLBA-images/%s_X0.png\"\u001b[0m \u001b[0;34m%\u001b[0m \u001b[0msouname\u001b[0m\u001b[0;34m\u001b[0m\u001b[0m\n\u001b[1;32m     56\u001b[0m \u001b[0;31m#     image_name = \"../plots/VLBA-images/%s_X0.jpg\" % souname\u001b[0m\u001b[0;34m\u001b[0m\u001b[0;34m\u001b[0m\u001b[0m\n\u001b[0;32m---> 57\u001b[0;31m     \u001b[0mim\u001b[0m \u001b[0;34m=\u001b[0m \u001b[0mplt\u001b[0m\u001b[0;34m.\u001b[0m\u001b[0mimread\u001b[0m\u001b[0;34m(\u001b[0m\u001b[0mimage_name\u001b[0m\u001b[0;34m)\u001b[0m\u001b[0;34m\u001b[0m\u001b[0m\n\u001b[0m\u001b[1;32m     58\u001b[0m \u001b[0;34m\u001b[0m\u001b[0m\n\u001b[1;32m     59\u001b[0m     \u001b[0mfig\u001b[0m\u001b[0;34m,\u001b[0m \u001b[0max\u001b[0m \u001b[0;34m=\u001b[0m \u001b[0mplt\u001b[0m\u001b[0;34m.\u001b[0m\u001b[0msubplots\u001b[0m\u001b[0;34m(\u001b[0m\u001b[0mfigsize\u001b[0m\u001b[0;34m=\u001b[0m\u001b[0;34m(\u001b[0m\u001b[0;36m5.\u001b[0m\u001b[0;34m,\u001b[0m \u001b[0;36m5.\u001b[0m\u001b[0;34m)\u001b[0m\u001b[0;34m)\u001b[0m\u001b[0;34m\u001b[0m\u001b[0m\n",
      "\u001b[0;32m/usr/local/miniconda3/lib/python3.5/site-packages/matplotlib/pyplot.py\u001b[0m in \u001b[0;36mimread\u001b[0;34m(*args, **kwargs)\u001b[0m\n\u001b[1;32m   2379\u001b[0m \u001b[0;34m@\u001b[0m\u001b[0mdocstring\u001b[0m\u001b[0;34m.\u001b[0m\u001b[0mcopy_dedent\u001b[0m\u001b[0;34m(\u001b[0m\u001b[0m_imread\u001b[0m\u001b[0;34m)\u001b[0m\u001b[0;34m\u001b[0m\u001b[0m\n\u001b[1;32m   2380\u001b[0m \u001b[0;32mdef\u001b[0m \u001b[0mimread\u001b[0m\u001b[0;34m(\u001b[0m\u001b[0;34m*\u001b[0m\u001b[0margs\u001b[0m\u001b[0;34m,\u001b[0m \u001b[0;34m**\u001b[0m\u001b[0mkwargs\u001b[0m\u001b[0;34m)\u001b[0m\u001b[0;34m:\u001b[0m\u001b[0;34m\u001b[0m\u001b[0m\n\u001b[0;32m-> 2381\u001b[0;31m     \u001b[0;32mreturn\u001b[0m \u001b[0m_imread\u001b[0m\u001b[0;34m(\u001b[0m\u001b[0;34m*\u001b[0m\u001b[0margs\u001b[0m\u001b[0;34m,\u001b[0m \u001b[0;34m**\u001b[0m\u001b[0mkwargs\u001b[0m\u001b[0;34m)\u001b[0m\u001b[0;34m\u001b[0m\u001b[0m\n\u001b[0m\u001b[1;32m   2382\u001b[0m \u001b[0;34m\u001b[0m\u001b[0m\n\u001b[1;32m   2383\u001b[0m \u001b[0;34m\u001b[0m\u001b[0m\n",
      "\u001b[0;32m/usr/local/miniconda3/lib/python3.5/site-packages/matplotlib/image.py\u001b[0m in \u001b[0;36mimread\u001b[0;34m(fname, format)\u001b[0m\n\u001b[1;32m   1373\u001b[0m             \u001b[0;32mreturn\u001b[0m \u001b[0mhandler\u001b[0m\u001b[0;34m(\u001b[0m\u001b[0mfd\u001b[0m\u001b[0;34m)\u001b[0m\u001b[0;34m\u001b[0m\u001b[0m\n\u001b[1;32m   1374\u001b[0m         \u001b[0;32melse\u001b[0m\u001b[0;34m:\u001b[0m\u001b[0;34m\u001b[0m\u001b[0m\n\u001b[0;32m-> 1375\u001b[0;31m             \u001b[0;32mwith\u001b[0m \u001b[0mopen\u001b[0m\u001b[0;34m(\u001b[0m\u001b[0mfname\u001b[0m\u001b[0;34m,\u001b[0m \u001b[0;34m'rb'\u001b[0m\u001b[0;34m)\u001b[0m \u001b[0;32mas\u001b[0m \u001b[0mfd\u001b[0m\u001b[0;34m:\u001b[0m\u001b[0;34m\u001b[0m\u001b[0m\n\u001b[0m\u001b[1;32m   1376\u001b[0m                 \u001b[0;32mreturn\u001b[0m \u001b[0mhandler\u001b[0m\u001b[0;34m(\u001b[0m\u001b[0mfd\u001b[0m\u001b[0;34m)\u001b[0m\u001b[0;34m\u001b[0m\u001b[0m\n\u001b[1;32m   1377\u001b[0m     \u001b[0;32melse\u001b[0m\u001b[0;34m:\u001b[0m\u001b[0;34m\u001b[0m\u001b[0m\n",
      "\u001b[0;31mFileNotFoundError\u001b[0m: [Errno 2] No such file or directory: '../plots/VLBA-images/0119+115_X0.png'"
     ]
    }
   ],
   "source": [
    "add_position(souname, \n",
    "             [108.879, 458.627, 808.374], [6, 0, -6],\n",
    "             [148.238, 501.466, 847.734], [6, 0, -6],\n",
    "             np.array([0.028, 0.028, 86]),\n",
    "             np.array([0.404, 0.283, 38]))"
   ]
  },
  {
   "cell_type": "raw",
   "metadata": {},
   "source": [
    "Then it is the turn of the source 0923+392."
   ]
  },
  {
   "cell_type": "code",
   "execution_count": null,
   "metadata": {},
   "outputs": [],
   "source": [
    "souname = \"0923+392\"\n",
    "mask = (t_com[\"iers_name\"] == souname)\n",
    "dra = (t_com[mask][\"ra_2\"] - t_com[mask][\"ra_1\"])[0] * 3.e6\n",
    "ddec = (t_com[mask][\"dec_2\"] - t_com[mask][\"dec_1\"])[0] * 3.e6\n",
    "print(\"Gaia DR2 positional offset wrt. VLBI for source %s is (%.3f, %.3f) mas\" %\n",
    "      (souname, dra, ddec))"
   ]
  },
  {
   "cell_type": "raw",
   "metadata": {},
   "source": [
    "Read the corresponding pixel coordinates of x-axis and y-axis\n",
    "The coordinate of ra=(10, 0, -10) mas on the horizonal line of the image for radio source 0923+392 are:\n",
    "    ra(mas)                      x-pixel\n",
    " (5, 0, -5)         (207.167, 454.837, 700.7)\n",
    "The coordinate of dec=(10, 0, -10) mas on the vetical line of the image for radio source 0923+392 are:\n",
    "    dec(mas)                     y-pixel\n",
    " (5, 0, -5)         (58.9409, 306.611, 552.474)\n",
    "NOTE: the positive direction of the coordinate is left-up."
   ]
  },
  {
   "cell_type": "code",
   "execution_count": null,
   "metadata": {},
   "outputs": [],
   "source": [
    "add_position(souname, \n",
    "             [109.827, 459.314, 806.999], [5, 0, -5],\n",
    "             [163.369, 510.937, 860.318], [5, 0, -5],\n",
    "             np.array([0.050, 0.049, 84]),\n",
    "             np.array([0.099, 0.062, 143]))"
   ]
  },
  {
   "cell_type": "raw",
   "metadata": {},
   "source": [
    "I will try with the source 1156-094."
   ]
  },
  {
   "cell_type": "code",
   "execution_count": null,
   "metadata": {},
   "outputs": [],
   "source": [
    "souname = \"1156-094\"\n",
    "image_name = \"VLBA-images/RRFID_%s.png\" % souname\n",
    "mask = (t_com[\"iers_name\"] == souname)\n",
    "dra = (t_com[mask][\"ra_2\"] - t_com[mask][\"ra_1\"])[0] * 3.e6\n",
    "ddec = (t_com[mask][\"dec_2\"] - t_com[mask][\"dec_1\"])[0] * 3.e6\n",
    "print(\"Gaia DR2 positional offset wrt. VLBI for source %s is (%.3f, %.3f) mas\" %\n",
    "      (souname, dra, ddec))"
   ]
  },
  {
   "cell_type": "raw",
   "metadata": {},
   "source": [
    "Read the corresponding pixel coordinates of x-axis and y-axis\n",
    "The coordinate of ra=(10, 0, -10) mas on the horizonal line of the image for radio source 1156-094 are:\n",
    "    ra(mas)                      x-pixel\n",
    " (-10, -30, -40)      (380.71, 577.867, 676.703)\n",
    "The coordinate of dec=(10, 0, -10) mas on the vetical line of the image for radio source 1156-094 are:\n",
    "    dec(mas)                     y-pixel\n",
    " (10, 0, -10)         (158.03, 255.924, 354.76)\n",
    "NOTE: the positive direction of the coordinate is left-up."
   ]
  },
  {
   "cell_type": "code",
   "execution_count": null,
   "metadata": {},
   "outputs": [],
   "source": [
    "add_position(souname,\n",
    "             [303.977, 615.633, 771.461], [-10, -30, -40],\n",
    "             [162.365, 319.193, 474.021], [10, 0, -10],\n",
    "             np.array([0.195, 0.179, 71]),\n",
    "             np.array([1.434, 1.234, 163]))"
   ]
  },
  {
   "cell_type": "raw",
   "metadata": {},
   "source": [
    "Next one is the source 1652+398."
   ]
  },
  {
   "cell_type": "code",
   "execution_count": null,
   "metadata": {},
   "outputs": [],
   "source": [
    "souname = \"1652+398\"\n",
    "mask = (t_com[\"iers_name\"] == souname)\n",
    "dra = (t_com[mask][\"ra_2\"] - t_com[mask][\"ra_1\"])[0] * 3.e6\n",
    "ddec = (t_com[mask][\"dec_2\"] - t_com[mask][\"dec_1\"])[0] * 3.e6\n",
    "print(\"Gaia DR2 positional offset wrt. VLBI for source %s is (%.3f, %.3f) mas\" %\n",
    "      (souname, dra, ddec))"
   ]
  },
  {
   "cell_type": "raw",
   "metadata": {},
   "source": [
    "Read the corresponding pixel coordinates of x-axis and y-axis\n",
    "The coordinate of ra=(10, 0, -10) mas on the horizonal line of the image for radio source 1652+398 are:\n",
    "    ra(mas)                      x-pixel\n",
    " (10, 5, 0)           (298.548, 455.3, 619.269)\n",
    "The coordinate of dec=(10, 0, -10) mas on the vetical line of the image for radio source 1652+398 are:\n",
    "    dec(mas)                     y-pixel\n",
    " (5, 0, -5)           (55.3863, 224.138, 388.998)\n",
    "NOTE: the positive direction of the coordinate is left-up."
   ]
  },
  {
   "cell_type": "code",
   "execution_count": null,
   "metadata": {},
   "outputs": [],
   "source": [
    "add_position(souname,\n",
    "             [224.988, 458.788, 696.269], [10, 5, 0],\n",
    "             [159.441, 393.241, 628.881], [5, 0, -5],\n",
    "             np.array([0.037, 0.037, 89]),\n",
    "             np.array([0.080, 0.079, 93]))"
   ]
  },
  {
   "cell_type": "raw",
   "metadata": {},
   "source": [
    "Next one is the source 2223-052."
   ]
  },
  {
   "cell_type": "code",
   "execution_count": null,
   "metadata": {},
   "outputs": [],
   "source": [
    "souname = \"2223-052\"\n",
    "image_name = \"VLBA-images/RRFID_%s.png\" % souname\n",
    "mask = (t_com[\"iers_name\"] == souname)\n",
    "dra = (t_com[mask][\"ra_2\"] - t_com[mask][\"ra_1\"])[0] * 3.e6\n",
    "ddec = (t_com[mask][\"dec_2\"] - t_com[mask][\"dec_1\"])[0] * 3.e6\n",
    "print(\"Gaia DR2 positional offset wrt. VLBI for source %s is (%.3f, %.3f) mas\" %\n",
    "      (souname, dra, ddec))"
   ]
  },
  {
   "cell_type": "raw",
   "metadata": {},
   "source": [
    "Read the corresponding pixel coordinates of x-axis and y-axis\n",
    "The coordinate of ra=(10, 0, -10) mas on the horizonal line of the image for radio source 2223-052 are:\n",
    "    ra(mas)                      x-pixel\n",
    " (6, 2, -2)           (264.623, 454.369, 654.889)\n",
    "The coordinate of dec=(10, 0, -10) mas on the vetical line of the image for radio source 2223-052 are:\n",
    "    dec(mas)                     y-pixel\n",
    " (5, 0, -5)           (59.3321, 296.958, 535.47)\n",
    "NOTE: the positive direction of the coordinate is left-up."
   ]
  },
  {
   "cell_type": "code",
   "execution_count": null,
   "metadata": {},
   "outputs": [],
   "source": [
    "add_position(souname, \n",
    "             [177.033, 461.158, 743.296], [6, 2, -2],\n",
    "             [143.986, 501.626, 857.279], [5, 0, -5],\n",
    "             np.array([0.014, 0.014, 79]),\n",
    "             np.array([0.289, 0.205, 55]))"
   ]
  }
 ],
 "metadata": {
  "hide_input": false,
  "kernelspec": {
   "display_name": "Python 3",
   "language": "python",
   "name": "python3"
  },
  "language_info": {
   "codemirror_mode": {
    "name": "ipython",
    "version": 3
   },
   "file_extension": ".py",
   "mimetype": "text/x-python",
   "name": "python",
   "nbconvert_exporter": "python",
   "pygments_lexer": "ipython3",
   "version": "3.5.5"
  },
  "latex_envs": {
   "LaTeX_envs_menu_present": true,
   "autoclose": false,
   "autocomplete": true,
   "bibliofile": "biblio.bib",
   "cite_by": "apalike",
   "current_citInitial": 1,
   "eqLabelWithNumbers": true,
   "eqNumInitial": 1,
   "hotkeys": {
    "equation": "Ctrl-E",
    "itemize": "Ctrl-I"
   },
   "labels_anchors": false,
   "latex_user_defs": false,
   "report_style_numbering": false,
   "user_envs_cfg": false
  }
 },
 "nbformat": 4,
 "nbformat_minor": 2
}
