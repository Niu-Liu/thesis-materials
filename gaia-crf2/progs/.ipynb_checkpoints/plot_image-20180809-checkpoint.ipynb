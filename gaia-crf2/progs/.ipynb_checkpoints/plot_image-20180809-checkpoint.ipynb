{
 "cells": [
  {
   "cell_type": "code",
   "execution_count": 84,
   "metadata": {},
   "outputs": [],
   "source": [
    "from astropy.coordinates import Angle\n",
    "from astropy.io import fits\n",
    "from astropy.table import Table, join, unique, Column\n",
    "import astropy.units as u\n",
    "import matplotlib.pyplot as plt\n",
    "import numpy as np\n",
    "from numpy import sin, cos\n",
    "from PIL import Image\n",
    "%matplotlib inline\n",
    "%config Inlinebackend.figure_format = \"svg\""
   ]
  },
  {
   "cell_type": "code",
   "execution_count": 85,
   "metadata": {},
   "outputs": [],
   "source": [
    "# read source position from VLBI and Gaia catalogs.\n",
    "tv = Table.read(\"/Users/Neo/Astronomy/Data/VLBISolutions/\"\n",
    "                \"vlbi2_server/GalacticAberration/GaiaDR2-timespan-solutions/\"\n",
    "                \"gaiadr2-timespan-noGAb.cat\", format=\"ascii\",\n",
    "                names=[\"ivs_name\", \"iers_name\", \"ra\", \"dec\",\n",
    "                       \"ra_err\", \"dec_err\", \"ra_dec_corr\",\n",
    "                       \"epo_mean\", \"epo_beg\", \"epo_end\",\n",
    "                       \"num_sess\", \"num_obs\", \"num_obsr\", \"flg\"])\n",
    "tv[\"ra\"].unit = u.deg\n",
    "tv[\"dec\"].unit = u.deg\n",
    "\n",
    "# Read Gaia DR2 IERS quasar\n",
    "tg = Table.read(\"/Users/Neo/Astronomy/Data/catalogs/Gaia_DR2/\"\n",
    "                \"gaiadr2_iers.fits\")\n",
    "\n",
    "t_com = join(tv, tg, keys=\"iers_name\")"
   ]
  },
  {
   "cell_type": "code",
   "execution_count": 86,
   "metadata": {},
   "outputs": [],
   "source": [
    "def ellipse_rotation(M, m, pa):\n",
    "    \"\"\"Calculate the (x, y) position for an ellipse after rotation.\n",
    "    \n",
    "    Parameters\n",
    "    ----------\n",
    "    M : float\n",
    "        major axis\n",
    "    m : floar\n",
    "        minor axis\n",
    "    pa : float\n",
    "        positional angle, degree.\n",
    "        \n",
    "    Returns\n",
    "    -------\n",
    "    x1/y1 : ndarray of float\n",
    "    \"\"\"\n",
    "\n",
    "    t = np.linspace(0, 2 * np.pi, 360)\n",
    "    x = M * np.cos(t)\n",
    "    y = m * sin(t)\n",
    "\n",
    "    alpha = np.deg2rad(pa)\n",
    "\n",
    "    x1 = x * cos(alpha) - y * sin(alpha)\n",
    "    y1 = x * sin(alpha) + y * cos(alpha)\n",
    "\n",
    "    return x1, y1"
   ]
  },
  {
   "cell_type": "code",
   "execution_count": 87,
   "metadata": {},
   "outputs": [],
   "source": [
    "# def add_position(sou_name, image_name, px0, rx0, py0, ry0, eema_v, eema_g):\n",
    "def add_position(sou_name, px0, rx0, py0, ry0, eema_v, eema_g):\n",
    "    \"\"\"Add VLBI and Gaia positions to the VLBA image.\n",
    "    \n",
    "    Parameters\n",
    "    ----------\n",
    "    sou_name : string\n",
    "        source name\n",
    "#    image_name : string\n",
    "#        full path and image name\n",
    "    px0 : array, float\n",
    "        pixel coordinate in X-axis\n",
    "    rx0 : array, float\n",
    "        real coordinate in right ascension\n",
    "    py0 : array, float\n",
    "        pixel coordinate in Y-axis\n",
    "    ry0 : array, float\n",
    "        real coordinate in declination\n",
    "    eema_v/eema_g : array, float\n",
    "    M : float\n",
    "        major axis\n",
    "    m : floar\n",
    "        minor axis\n",
    "    pa : float\n",
    "        positional angle, degree.\n",
    "        \n",
    "    Returns\n",
    "    -------\n",
    "    x1/y1 : ndarray of float\n",
    "    \"\"\"\n",
    "    \n",
    "    px0, px1, px2 = px0  # pixel in X-axis\n",
    "    rx0, rx1, rx2 = rx0 # real scale in X-axis\n",
    "    py0, py1, py2 = py0  # pixel in X-axis\n",
    "    ry0, ry1, ry2 = ry0 # real scale in X-axis\n",
    "    # Read-out values.\n",
    "    print(\"Readout offset\", \n",
    "          (px0 + px2) / 2. - px1, \n",
    "          (py0 + py2) / 2. - py1)\n",
    "\n",
    "    # scale\n",
    "    x_scale = (px0 - px2) / (rx0 - rx2)\n",
    "    y_scale = (py0 - py2) / (ry0 - ry2)\n",
    "\n",
    "    print(\"The pixel scale in x-axis:\", x_scale)\n",
    "    print(\"The pixel scale in y-axis:\", y_scale)\n",
    "\n",
    "    # Determine the final scale and original pixel coordinate\n",
    "    scale = (x_scale + y_scale) / 2.\n",
    "    x0 = px1\n",
    "    y0 = py1\n",
    "    \n",
    "\n",
    "    # Plot the orignal map\n",
    "    image_name = \"../plots/VLBA-images/%s_X0.png\" % souname\n",
    "    im = plt.imread(image_name)\n",
    "\n",
    "    fig, ax = plt.subplots(figsize=(5., 5.))\n",
    "    ax.imshow(im, cmap=\"gray\")\n",
    "    ax.axis(\"off\")\n",
    "\n",
    "    # Plot the VLBI and Gaia DR2 position\n",
    "    # VLBI\n",
    "    xv = (0 - rx1) * scale + px1\n",
    "    yv = (0 - ry1) * scale + py1\n",
    "    Mv, mv = eema_v * scale\n",
    "    x1v, y1v = ellipse_rotation(Mv, mv, -120)\n",
    "    ax.plot(xv, yv, \"r.\", ms=2)\n",
    "    ax.plot(x1v + xv, y1v + yv, \"r\", lw=0.5,\n",
    "            label=\"VLBI\")\n",
    "\n",
    "\n",
    "    # Gaia DR2\n",
    "    xg = (dra - rx1) * scale + px1\n",
    "    yg = (ddec - ry1) * scale + py1\n",
    "    Mg, mg = eema_g * scale\n",
    "    x1g, y1g = ellipse_rotation(Mg, mg, -179)\n",
    "    ax.plot(xg, yg, \"c.\", ms=2)\n",
    "    ax.plot(x1g + xg, y1g + yg, \"c\", lw=0.5,\n",
    "            label=\"${\\it Gaia}$ DR2\")\n",
    "    # ax.legend(loc=\"upper right\", fontsize=5)\n",
    "\n",
    "    plt.savefig(\"../plots/VLBA-images/%s_X.png\" % sou_name, dpi=480)\n",
    "    plt.savefig(\"../plots/VLBA-images/%s_X.eps\" % sou_name, dpi=720)"
   ]
  },
  {
   "cell_type": "raw",
   "metadata": {},
   "source": [
    "For radio sources I first calculate the difference between Gaia DR2 and VBLI positions in sense of `GaiaDR2-VLBI'.\n",
    "Then I load the VLBA image and determine the pixel scale.\n",
    "Finally I plot the two ellipse in the VLBA image."
   ]
  },
  {
   "cell_type": "raw",
   "metadata": {},
   "source": [
    "Now I begin to deal with source 1213+350."
   ]
  },
  {
   "cell_type": "code",
   "execution_count": 88,
   "metadata": {},
   "outputs": [
    {
     "name": "stdout",
     "output_type": "stream",
     "text": [
      "Gaia DR2 positional offset wrt. VLBI for source 1213+350 is (-27.509, -16.233) mas\n"
     ]
    }
   ],
   "source": [
    "souname = \"1213+350\"\n",
    "mask = (t_com[\"iers_name\"] == souname)\n",
    "dra = (t_com[mask][\"ra_2\"] - t_com[mask][\"ra_1\"])[0] * 3.e6\n",
    "ddec = (t_com[mask][\"dec_2\"] - t_com[mask][\"dec_1\"])[0] * 3.e6\n",
    "print(\"Gaia DR2 positional offset wrt. VLBI for source %s is (%.3f, %.3f) mas\" %\n",
    "      (souname, dra, ddec))"
   ]
  },
  {
   "cell_type": "raw",
   "metadata": {},
   "source": [
    "Read the corresponding pixel coordinates of x-axis and y-axis\n",
    "The coordinate of ra=(10, 0, -10) mas on the horizonal line of the image for radio source 1213+350 are:\n",
    "    ra(mas)                      x-pixel\n",
    " (10, 0, -10)         (257.45, 356.73, 455.064)\n",
    "The coordinate of dec=(20, 0, -20) mas on the vetical line of the image for radio source 1213+350 are:\n",
    "    dec(mas)                     y-pixel\n",
    " (10, 0, -10)         (108.159, 207.439, 306.719)\n",
    "NOTE: the positive direction of the coordinate is left-up."
   ]
  },
  {
   "cell_type": "code",
   "execution_count": 89,
   "metadata": {},
   "outputs": [
    {
     "name": "stdout",
     "output_type": "stream",
     "text": [
      "Readout offset -0.4730000000000132 0.0\n",
      "The pixel scale in x-axis: -9.880700000000001\n",
      "The pixel scale in y-axis: -9.928\n"
     ]
    },
    {
     "data": {
      "image/png": "[encoded data removed]",
      "text/plain": [
       "<Figure size 360x360 with 1 Axes>"
      ]
     },
     "metadata": {},
     "output_type": "display_data"
    }
   ],
   "source": [
    "add_position(souname,\n",
    "             [257.45, 356.73, 455.064], [10, 0, -10],\n",
    "             [108.159, 207.439, 306.719], [10, 0, -10],\n",
    "             np.array([0.873, 0.458]),\n",
    "             np.array([0.653, 0.653]))"
   ]
  },
  {
   "cell_type": "raw",
   "metadata": {},
   "source": [
    "Then is the source 0119+115."
   ]
  },
  {
   "cell_type": "code",
   "execution_count": 90,
   "metadata": {},
   "outputs": [
    {
     "name": "stdout",
     "output_type": "stream",
     "text": [
      "Gaia DR2 positional offset wrt. VLBI for source 0119+115 is (1.550, 4.950) mas\n"
     ]
    }
   ],
   "source": [
    "souname = \"0119+115\"\n",
    "mask = (t_com[\"iers_name\"] == souname)\n",
    "dra = (t_com[mask][\"ra_2\"] - t_com[mask][\"ra_1\"])[0] * 3.e6\n",
    "ddec = (t_com[mask][\"dec_2\"] - t_com[mask][\"dec_1\"])[0] * 3.e6\n",
    "print(\"Gaia DR2 positional offset wrt. VLBI for source %s is (%.3f, %.3f) mas\" %\n",
    "      (souname, dra, ddec))"
   ]
  },
  {
   "cell_type": "raw",
   "metadata": {},
   "source": [
    "Read the corresponding pixel coordinates of x-axis and y-axis\n",
    "The coordinate of ra=(10, 0, -10) mas on the horizonal line of the image for radio source 0119+115 are:\n",
    "    ra(mas)                      x-pixel\n",
    " (10, 0, -10)         (252.563, 454.241, 655.918)\n",
    "The coordinate of dec=(10, 0, -10) mas on the vetical line of the image for radio source 0119+115 are:\n",
    "    dec(mas)                     y-pixel\n",
    " (10, 0, -10)         (95.2036, 296.881, 498.559)\n",
    "NOTE: the positive direction of the coordinate is left-up."
   ]
  },
  {
   "cell_type": "code",
   "execution_count": 91,
   "metadata": {},
   "outputs": [
    {
     "name": "stdout",
     "output_type": "stream",
     "text": [
      "Readout offset -0.0004999999999881766 0.0003000000000383807\n",
      "The pixel scale in x-axis: -40.3355\n",
      "The pixel scale in y-axis: -40.33554\n"
     ]
    },
    {
     "data": {
      "image/png": "[encoded data removed]",
      "text/plain": [
       "<Figure size 360x360 with 1 Axes>"
      ]
     },
     "metadata": {},
     "output_type": "display_data"
    }
   ],
   "source": [
    "add_position(souname, \n",
    "             [252.563, 454.241, 655.918], [5, 0, -5],\n",
    "             [95.2036, 296.881, 498.559], [5, 0, -5],\n",
    "             np.array([0.028, 0.028]),\n",
    "             np.array([0.404, 0.283]))"
   ]
  },
  {
   "cell_type": "raw",
   "metadata": {},
   "source": [
    "Then it is the turn of the source 0923+392."
   ]
  },
  {
   "cell_type": "code",
   "execution_count": 92,
   "metadata": {},
   "outputs": [
    {
     "name": "stdout",
     "output_type": "stream",
     "text": [
      "Gaia DR2 positional offset wrt. VLBI for source 0923+392 is (-3.256, 0.295) mas\n"
     ]
    }
   ],
   "source": [
    "souname = \"0923+392\"\n",
    "mask = (t_com[\"iers_name\"] == souname)\n",
    "dra = (t_com[mask][\"ra_2\"] - t_com[mask][\"ra_1\"])[0] * 3.e6\n",
    "ddec = (t_com[mask][\"dec_2\"] - t_com[mask][\"dec_1\"])[0] * 3.e6\n",
    "print(\"Gaia DR2 positional offset wrt. VLBI for source %s is (%.3f, %.3f) mas\" %\n",
    "      (souname, dra, ddec))"
   ]
  },
  {
   "cell_type": "raw",
   "metadata": {},
   "source": [
    "Read the corresponding pixel coordinates of x-axis and y-axis\n",
    "The coordinate of ra=(10, 0, -10) mas on the horizonal line of the image for radio source 0923+392 are:\n",
    "    ra(mas)                      x-pixel\n",
    " (5, 0, -5)         (207.167, 454.837, 700.7)\n",
    "The coordinate of dec=(10, 0, -10) mas on the vetical line of the image for radio source 0923+392 are:\n",
    "    dec(mas)                     y-pixel\n",
    " (5, 0, -5)         (58.9409, 306.611, 552.474)\n",
    "NOTE: the positive direction of the coordinate is left-up."
   ]
  },
  {
   "cell_type": "code",
   "execution_count": 93,
   "metadata": {},
   "outputs": [
    {
     "name": "stdout",
     "output_type": "stream",
     "text": [
      "Readout offset -0.9034999999999513 -0.9035499999999956\n",
      "The pixel scale in x-axis: -49.353300000000004\n",
      "The pixel scale in y-axis: -49.35331000000001\n"
     ]
    },
    {
     "data": {
      "image/png": "[encoded data removed]",
      "text/plain": [
       "<Figure size 360x360 with 1 Axes>"
      ]
     },
     "metadata": {},
     "output_type": "display_data"
    }
   ],
   "source": [
    "add_position(souname, \n",
    "             [207.167, 454.837, 700.7], [5, 0, -5],\n",
    "             [58.9409, 306.611, 552.474], [5, 0, -5],\n",
    "             np.array([0.050, 0.049]),\n",
    "             np.array([0.099, 0.062]))"
   ]
  },
  {
   "cell_type": "raw",
   "metadata": {},
   "source": [
    "I will try with the source 1156-094."
   ]
  },
  {
   "cell_type": "code",
   "execution_count": 94,
   "metadata": {},
   "outputs": [
    {
     "name": "stdout",
     "output_type": "stream",
     "text": [
      "Gaia DR2 positional offset wrt. VLBI for source 1156-094 is (-9.871, -1.855) mas\n"
     ]
    }
   ],
   "source": [
    "souname = \"1156-094\"\n",
    "image_name = \"VLBA-images/RRFID_%s.png\" % souname\n",
    "mask = (t_com[\"iers_name\"] == souname)\n",
    "dra = (t_com[mask][\"ra_2\"] - t_com[mask][\"ra_1\"])[0] * 3.e6\n",
    "ddec = (t_com[mask][\"dec_2\"] - t_com[mask][\"dec_1\"])[0] * 3.e6\n",
    "print(\"Gaia DR2 positional offset wrt. VLBI for source %s is (%.3f, %.3f) mas\" %\n",
    "      (souname, dra, ddec))"
   ]
  },
  {
   "cell_type": "raw",
   "metadata": {},
   "source": [
    "Read the corresponding pixel coordinates of x-axis and y-axis\n",
    "The coordinate of ra=(10, 0, -10) mas on the horizonal line of the image for radio source 1156-094 are:\n",
    "    ra(mas)                      x-pixel\n",
    " (-10, -30, -40)      (380.71, 577.867, 676.703)\n",
    "The coordinate of dec=(10, 0, -10) mas on the vetical line of the image for radio source 1156-094 are:\n",
    "    dec(mas)                     y-pixel\n",
    " (10, 0, -10)         (158.03, 255.924, 354.76)\n",
    "NOTE: the positive direction of the coordinate is left-up."
   ]
  },
  {
   "cell_type": "code",
   "execution_count": 95,
   "metadata": {},
   "outputs": [
    {
     "name": "stdout",
     "output_type": "stream",
     "text": [
      "Readout offset -49.160499999999956 0.4709999999999752\n",
      "The pixel scale in x-axis: -9.866433333333333\n",
      "The pixel scale in y-axis: -9.8365\n"
     ]
    },
    {
     "data": {
      "image/png": "[encoded data removed]",
      "text/plain": [
       "<Figure size 360x360 with 1 Axes>"
      ]
     },
     "metadata": {},
     "output_type": "display_data"
    }
   ],
   "source": [
    "add_position(souname,\n",
    "             [380.71, 577.867, 676.703], [-10, -30, -40],\n",
    "             [158.03, 255.924, 354.76], [10, 0, -10],\n",
    "             np.array([0.195, 0.179]),\n",
    "             np.array([1.434, 1.234]))"
   ]
  },
  {
   "cell_type": "raw",
   "metadata": {},
   "source": [
    "Next one is the source 1652+398."
   ]
  },
  {
   "cell_type": "code",
   "execution_count": 96,
   "metadata": {},
   "outputs": [
    {
     "name": "stdout",
     "output_type": "stream",
     "text": [
      "Gaia DR2 positional offset wrt. VLBI for source 1652+398 is (5.984, -1.771) mas\n"
     ]
    }
   ],
   "source": [
    "souname = \"1652+398\"\n",
    "mask = (t_com[\"iers_name\"] == souname)\n",
    "dra = (t_com[mask][\"ra_2\"] - t_com[mask][\"ra_1\"])[0] * 3.e6\n",
    "ddec = (t_com[mask][\"dec_2\"] - t_com[mask][\"dec_1\"])[0] * 3.e6\n",
    "print(\"Gaia DR2 positional offset wrt. VLBI for source %s is (%.3f, %.3f) mas\" %\n",
    "      (souname, dra, ddec))"
   ]
  },
  {
   "cell_type": "raw",
   "metadata": {},
   "source": [
    "Read the corresponding pixel coordinates of x-axis and y-axis\n",
    "The coordinate of ra=(10, 0, -10) mas on the horizonal line of the image for radio source 1652+398 are:\n",
    "    ra(mas)                      x-pixel\n",
    " (10, 5, 0)           (298.548, 455.3, 619.269)\n",
    "The coordinate of dec=(10, 0, -10) mas on the vetical line of the image for radio source 1652+398 are:\n",
    "    dec(mas)                     y-pixel\n",
    " (5, 0, -5)           (55.3863, 224.138, 388.998)\n",
    "NOTE: the positive direction of the coordinate is left-up."
   ]
  },
  {
   "cell_type": "code",
   "execution_count": 97,
   "metadata": {},
   "outputs": [
    {
     "name": "stdout",
     "output_type": "stream",
     "text": [
      "Readout offset 3.6084999999999923 -1.9458500000000072\n",
      "The pixel scale in x-axis: -32.0721\n",
      "The pixel scale in y-axis: -33.36117\n"
     ]
    },
    {
     "data": {
      "image/png": "[encoded data removed]",
      "text/plain": [
       "<Figure size 360x360 with 1 Axes>"
      ]
     },
     "metadata": {},
     "output_type": "display_data"
    }
   ],
   "source": [
    "add_position(souname,\n",
    "             [298.548, 455.3, 619.269], [10, 5, 0],\n",
    "             [55.3863, 224.138, 388.998], [5, 0, -5],\n",
    "             np.array([0.037, 0.037]),\n",
    "             np.array([0.080, 0.079]))"
   ]
  },
  {
   "cell_type": "raw",
   "metadata": {},
   "source": [
    "Next one is the source 2223-052."
   ]
  },
  {
   "cell_type": "code",
   "execution_count": 98,
   "metadata": {},
   "outputs": [
    {
     "name": "stdout",
     "output_type": "stream",
     "text": [
      "Gaia DR2 positional offset wrt. VLBI for source 2223-052 is (3.279, -0.747) mas\n"
     ]
    }
   ],
   "source": [
    "souname = \"2223-052\"\n",
    "image_name = \"VLBA-images/RRFID_%s.png\" % souname\n",
    "mask = (t_com[\"iers_name\"] == souname)\n",
    "dra = (t_com[mask][\"ra_2\"] - t_com[mask][\"ra_1\"])[0] * 3.e6\n",
    "ddec = (t_com[mask][\"dec_2\"] - t_com[mask][\"dec_1\"])[0] * 3.e6\n",
    "print(\"Gaia DR2 positional offset wrt. VLBI for source %s is (%.3f, %.3f) mas\" %\n",
    "      (souname, dra, ddec))"
   ]
  },
  {
   "cell_type": "raw",
   "metadata": {},
   "source": [
    "Read the corresponding pixel coordinates of x-axis and y-axis\n",
    "The coordinate of ra=(10, 0, -10) mas on the horizonal line of the image for radio source 2223-052 are:\n",
    "    ra(mas)                      x-pixel\n",
    " (6, 2, -2)           (264.623, 454.369, 654.889)\n",
    "The coordinate of dec=(10, 0, -10) mas on the vetical line of the image for radio source 2223-052 are:\n",
    "    dec(mas)                     y-pixel\n",
    " (5, 0, -5)           (59.3321, 296.958, 535.47)\n",
    "NOTE: the positive direction of the coordinate is left-up."
   ]
  },
  {
   "cell_type": "code",
   "execution_count": 99,
   "metadata": {},
   "outputs": [
    {
     "name": "stdout",
     "output_type": "stream",
     "text": [
      "Readout offset 5.386999999999944 0.4430499999999711\n",
      "The pixel scale in x-axis: -48.78325\n",
      "The pixel scale in y-axis: -47.61379000000001\n"
     ]
    },
    {
     "data": {
      "image/png": "[encoded data removed]",
      "text/plain": [
       "<Figure size 360x360 with 1 Axes>"
      ]
     },
     "metadata": {},
     "output_type": "display_data"
    }
   ],
   "source": [
    "add_position(souname, \n",
    "             [264.623, 454.369, 654.889], [6, 2, -2],\n",
    "             [59.3321, 296.958, 535.47], [5, 0, -5],\n",
    "             np.array([0.014, 0.014]),\n",
    "             np.array([0.289, 0.205]))"
   ]
  },
  {
   "cell_type": "code",
   "execution_count": 100,
   "metadata": {},
   "outputs": [
    {
     "name": "stdout",
     "output_type": "stream",
     "text": [
      "['#1f77b4', '#ff7f0e', '#2ca02c', '#d62728', '#9467bd', '#8c564b', '#e377c2', '#7f7f7f', '#bcbd22', '#17becf']\n"
     ]
    }
   ],
   "source": [
    "import numpy as np\n",
    "import matplotlib.pyplot as plt\n",
    "prop_cycle = plt.rcParams['axes.prop_cycle']\n",
    "colors = prop_cycle.by_key()['color']\n",
    "print(colors)"
   ]
  }
 ],
 "metadata": {
  "kernelspec": {
   "display_name": "Python 3",
   "language": "python",
   "name": "python3"
  },
  "language_info": {
   "codemirror_mode": {
    "name": "ipython",
    "version": 3
   },
   "file_extension": ".py",
   "mimetype": "text/x-python",
   "name": "python",
   "nbconvert_exporter": "python",
   "pygments_lexer": "ipython3",
   "version": "3.5.5"
  }
 },
 "nbformat": 4,
 "nbformat_minor": 2
}
