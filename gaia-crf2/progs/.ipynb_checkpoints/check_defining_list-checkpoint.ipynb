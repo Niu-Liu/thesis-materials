{
 "cells": [
  {
   "cell_type": "markdown",
   "metadata": {},
   "source": [
    "In this notebook, I check the defining source list proposed in my previous (also first) published work."
   ]
  },
  {
   "cell_type": "code",
   "execution_count": 2,
   "metadata": {},
   "outputs": [],
   "source": [
    "from astropy.table import Table, join"
   ]
  },
  {
   "cell_type": "markdown",
   "metadata": {},
   "source": [
    "First read the source list from ICRF3 SX catalog and extract the defining subset."
   ]
  },
  {
   "cell_type": "code",
   "execution_count": 4,
   "metadata": {},
   "outputs": [],
   "source": [
    "# Read ICRF3 S/X catalog\n",
    "icrf3sx = Table.read(\"../data/icrf3sx.txt\",\n",
    "                      format=\"ascii.fixed_width\", data_start=16,\n",
    "                      names=[\"icrf_name\", \"iers_name\", \"type\",\n",
    "                             \"mean_obs\", \"beg_obs\", \"end_obs\", \"nb_sess\", \"nb_del\"],\n",
    "                      col_starts=[0, 25, 35, 118, 127, 136, 145, 150],\n",
    "                      col_ends=[20, 32, 35, 124, 133, 142, 148, 155])\n",
    "\n",
    "mask = icrf3sx[\"type\"] == \"D\"\n",
    "\n",
    "icrf3sx_def = icrf3sx[mask]"
   ]
  },
  {
   "cell_type": "markdown",
   "metadata": {},
   "source": [
    "Then I load the two source lists."
   ]
  },
  {
   "cell_type": "code",
   "execution_count": 9,
   "metadata": {},
   "outputs": [],
   "source": [
    "sou294 = Table.read(\"/Users/Neo/Astronomy/Works/201509_SourceSelection/results/Sou294.dat\",\n",
    "                    format=\"ascii.fixed_width_no_header\", names=[\"iers_name\"],\n",
    "                    col_starts=[23], col_ends=[32])\n",
    "\n",
    "sou323 = Table.read(\"/Users/Neo/Astronomy/Works/201509_SourceSelection/results/Sou323.dat\",\n",
    "                    format=\"ascii.fixed_width_no_header\", names=[\"iers_name\"],\n",
    "                    col_starts=[23], col_ends=[32])\n"
   ]
  },
  {
   "cell_type": "markdown",
   "metadata": {},
   "source": [
    "A crossmatch is performed."
   ]
  },
  {
   "cell_type": "code",
   "execution_count": 11,
   "metadata": {},
   "outputs": [
    {
     "name": "stdout",
     "output_type": "stream",
     "text": [
      "126 135\n"
     ]
    }
   ],
   "source": [
    "com_sou1 = join(icrf3sx_def, sou294, keys=\"iers_name\")\n",
    "com_sou2 = join(icrf3sx_def, sou323, keys=\"iers_name\")\n",
    "print(len(com_sou1), len(com_sou2))"
   ]
  }
 ],
 "metadata": {
  "hide_input": false,
  "kernelspec": {
   "display_name": "Python 3",
   "language": "python",
   "name": "python3"
  },
  "language_info": {
   "codemirror_mode": {
    "name": "ipython",
    "version": 3
   },
   "file_extension": ".py",
   "mimetype": "text/x-python",
   "name": "python",
   "nbconvert_exporter": "python",
   "pygments_lexer": "ipython3",
   "version": "3.5.5"
  }
 },
 "nbformat": 4,
 "nbformat_minor": 2
}
