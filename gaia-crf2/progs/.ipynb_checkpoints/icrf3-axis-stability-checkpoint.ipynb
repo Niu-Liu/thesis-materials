{
 "cells": [
  {
   "cell_type": "markdown",
   "metadata": {},
   "source": [
    "In this notebook, I estimated the stability of the ICRF axes in the frame of ICRF3."
   ]
  },
  {
   "cell_type": "code",
   "execution_count": 12,
   "metadata": {},
   "outputs": [],
   "source": [
    "from astropy.table import Table, join, Column\n",
    "from astropy import units as u\n",
    "\n",
    "# My modules\n",
    "from my_progs.catalog.vsh_deg1_cor import vsh_deg01_fitting\n",
    "from my_progs.catalog.vsh_deg2_cor import vsh_deg02_fitting, residual_calc02\n",
    "from my_progs.catalog.write_output import print_vsh1_corr, print_vsh2_corr\n",
    "from my_progs.catalog.read_icrfn import read_icrf2, read_icrf3\n",
    "from my_progs.catalog.pos_diff import radio_cat_diff_calc"
   ]
  },
  {
   "cell_type": "code",
   "execution_count": 17,
   "metadata": {},
   "outputs": [],
   "source": [
    "# Read ICRF2 data\n",
    "icrf2 = read_icrf2()\n",
    "\n",
    "# Read ICRF3 S/X catalog\n",
    "icrf3sx = read_icrf3(wv=\"sx\")\n",
    "\n",
    "# Read ICRF3 K catalog\n",
    "icrf3k = read_icrf3(wv=\"k\")\n",
    "\n",
    "# Read ICRF3 X/Ka catalog\n",
    "icrf3xka = read_icrf3(wv=\"xka\")\n",
    "\n",
    "# ICRF3 defining source list\n",
    "alllist = Table(icrf3sx)\n",
    "alllist.keep_columns([\"iers_name\", \"type\"])\n",
    "deflist = alllist[alllist[\"type\"] == \"D\"]"
   ]
  },
  {
   "cell_type": "code",
   "execution_count": 20,
   "metadata": {},
   "outputs": [],
   "source": [
    "icrf23sx = radio_cat_diff_calc(icrf2, icrf3sx, \"iers_name\", label=[\"2\", \"3sx\"])\n",
    "icrf3k3sx = radio_cat_diff_calc(icrf3k, icrf3sx, \"iers_name\", label=[\"3k\", \"3sx\"])\n",
    "icrf3xka3sx = radio_cat_diff_calc(icrf3xka, icrf3sx, \"iers_name\", label=[\"3xka\", \"3sx\"])"
   ]
  },
  {
   "cell_type": "code",
   "execution_count": 22,
   "metadata": {},
   "outputs": [],
   "source": [
    "# Use only defining sources\n",
    "icrf23sxdef = join(icrf23sx, deflist, keys=\"iers_name\")\n",
    "icrf3k3sxdef = join(icrf3k3sx, deflist, keys=\"iers_name\")\n",
    "icrf3xka3sxdef = join(icrf3xka3sx, deflist, keys=\"iers_name\")"
   ]
  },
  {
   "cell_type": "code",
   "execution_count": null,
   "metadata": {},
   "outputs": [],
   "source": [
    "# ICRF2 - ICRF3 SX\n",
    "# Transform columns into np.array\n",
    "dra = np.array(icrf23sxdef[\"dra\"])\n",
    "ddec = np.array(icrf23sxdef[\"ddec\"])\n",
    "dra_err = np.array(icrf23sxdef[\"dra_err\"])\n",
    "ddec_err = np.array(icrf23sxdef[\"ddec_err\"])\n",
    "ra_rad = np.array(icrf23sxdef[\"ra_3sx\"].to(u.radian))\n",
    "dec_rad = np.array(icrf23sxdef[\"dec_3sx\"].to(u.radian))\n",
    "dra_ddec_cov = np.array(icrf23sxdef[\"dra_ddec_cov\"])\n",
    "\n",
    "# Transformation parameters\n",
    "# l_max = 1\n",
    "w1_all, sig1_all, corrcoef1_all, _, _, _ = vsh_deg01_fitting(\n",
    "    dra, ddec, ra_rad, dec_rad, dra_err, ddec_err,\n",
    "    cov=dra_ddec_cov, elim_flag=\"None\")\n",
    "\n",
    "# l_max = 2\n",
    "w2_all, sig2_all, corrcoef2_all, _, _, _ = vsh_deg02_fitting(\n",
    "    dra, ddec, ra_rad, dec_rad, dra_err, ddec_err,\n",
    "    cov=dra_ddec_cov, elim_flag=\"None\")\n",
    "\n",
    "# mas -> uas\n",
    "w1 = w1_all * 1.e3\n",
    "sig1 = sig1_all * 1.e3\n",
    "w2 = w2_all * 1.e3\n",
    "sig2 = sig2_all * 1.e3\n",
    "\n",
    "\n",
    "# Print results\n",
    "print(\"Estimates (%6d sources)\\n\"\n",
    "      \"----------------------------------------------\"\n",
    "      \"----------------------------------------------\\n\"\n",
    "      \"               Rotation [uas]                 \"\n",
    "      \"                  Glide [uas]               \\n\"\n",
    "      \"               x             y             z\"\n",
    "      \"               x             y             z\\n\"\n",
    "      \"----------------------------------------------\"\n",
    "      \"----------------------------------------------\\n\"\n",
    "      \"l_max=1  %+4.0f +/- %3.0f  %+4.0f +/- %3.0f  %+4.0f +/- %3.0f  \"\n",
    "      \"  %+4.0f +/- %3.0f  %+4.0f +/- %3.0f  %+4.0f +/- %3.0f\\n\"\n",
    "      \"l_max=2  %+4.0f +/- %3.0f  %+4.0f +/- %3.0f  %+4.0f +/- %3.0f  \"\n",
    "      \"  %+4.0f +/- %3.0f  %+4.0f +/- %3.0f  %+4.0f +/- %3.0f\\n\"\n",
    "      \"----------------------------------------------\"\n",
    "      \"----------------------------------------------\\n\" %\n",
    "      (dra.size, w1[3], sig1[3], w1[4], sig1[4], w1[5], sig1[5],\n",
    "       w1[0], sig1[0], w1[1], sig1[1], w1[2], sig1[2],\n",
    "       w2[3], sig2[3], w2[4], sig2[4], w2[5], sig2[5],\n",
    "       w2[0], sig2[0], w2[1], sig2[1], w2[2], sig2[2]))\n",
    "\n",
    "quad_names = Column([\"ER22\", \"EI22\", \"ER21\", \"EI21\", \"E20\",\n",
    "                     \"MR22\", \"MI22\", \"MR21\", \"MI21\", \"M20\"])\n",
    "t_quad = Table([quad_names, w2[6:], sig2[6:]], names=[\"Quadrupolar term\", \"Estimate\", \"Error\"])\n",
    "t_quad[\"Estimate\"].format = \"%5.0f\"\n",
    "t_quad[\"Error\"].format = \"%5.0f\"\n",
    "print(t_quad)\n",
    "\n",
    "print(\"Correlation coefficient between parameters in 'l_max=1' fit\")\n",
    "print_vsh1_corr(corrcoef1_all, deci_digit=1, included_one=False)\n",
    "\n",
    "print(\"Correlation coefficient between parameters in 'l_max=2' fit\")\n",
    "print_vsh2_corr(corrcoef2_all, deci_digit=1, included_one=False)"
   ]
  }
 ],
 "metadata": {
  "hide_input": false,
  "kernelspec": {
   "display_name": "Python 3",
   "language": "python",
   "name": "python3"
  },
  "language_info": {
   "codemirror_mode": {
    "name": "ipython",
    "version": 3
   },
   "file_extension": ".py",
   "mimetype": "text/x-python",
   "name": "python",
   "nbconvert_exporter": "python",
   "pygments_lexer": "ipython3",
   "version": "3.7.3"
  },
  "latex_envs": {
   "LaTeX_envs_menu_present": true,
   "autoclose": false,
   "autocomplete": true,
   "bibliofile": "biblio.bib",
   "cite_by": "apalike",
   "current_citInitial": 1,
   "eqLabelWithNumbers": true,
   "eqNumInitial": 1,
   "hotkeys": {
    "equation": "Ctrl-E",
    "itemize": "Ctrl-I"
   },
   "labels_anchors": false,
   "latex_user_defs": false,
   "report_style_numbering": false,
   "user_envs_cfg": false
  }
 },
 "nbformat": 4,
 "nbformat_minor": 2
}
